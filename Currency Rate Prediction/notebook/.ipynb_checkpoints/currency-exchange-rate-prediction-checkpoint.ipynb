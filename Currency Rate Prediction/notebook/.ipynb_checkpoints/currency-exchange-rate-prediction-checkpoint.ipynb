{
 "cells": [
  {
   "cell_type": "markdown",
   "id": "ac4a9a46",
   "metadata": {
    "id": "ac4a9a46"
   },
   "source": [
    "# Build a model to predict/prognosis that predicts the currency exchange rates."
   ]
  },
  {
   "cell_type": "markdown",
   "id": "cf2442c0",
   "metadata": {
    "id": "cf2442c0"
   },
   "source": [
    "# Objective: -\n",
    "\n",
    "An exchange rate is a relative price of one currency expressed in terms of another currency (or group of currencies). For economies like Australia that actively engage in international trade, the exchange rate is an important economic variable."
   ]
  },
  {
   "cell_type": "markdown",
   "id": "58e2345d",
   "metadata": {
    "id": "58e2345d"
   },
   "source": [
    "Currency exchange is one of the biggest financial markets. Currently, 1 United States dollar is equivalent to 73.02 Indian rupees. Many factors affect exchange rates such as economic, political and even psychological factors. "
   ]
  },
  {
   "cell_type": "markdown",
   "id": "bb269461",
   "metadata": {
    "id": "bb269461"
   },
   "source": [
    "The goal of this challenge is to build a machine learning model that predicts the currency exchange rate. Predicting the currency exchange rates is the regression problem in machine learning. There are changes in exchange rates every day that affect the income of a person, a business and can even affect the economy of a country. Thus, predicting the currency exchange rates can help an individual as well as a country in many ways."
   ]
  },
  {
   "cell_type": "markdown",
   "id": "996ba73a",
   "metadata": {
    "id": "996ba73a"
   },
   "source": [
    "# Dataset: -\n",
    "\n",
    "The dataset used in this model is publicly available on Yahoo Finance."
   ]
  },
  {
   "cell_type": "markdown",
   "id": "300eda4c",
   "metadata": {
    "id": "300eda4c"
   },
   "source": [
    "Attribute Information:\n",
    "\n",
    "1. Date      \n",
    "2. Open       \n",
    "3. High        \n",
    "4. Low      \n",
    "5. Close \n",
    "6. Adj Close  \n",
    "7. Volume"
   ]
  },
  {
   "cell_type": "markdown",
   "id": "e3b60038",
   "metadata": {
    "id": "e3b60038"
   },
   "source": [
    "# Step 1: Import all the required libraries\n",
    "\n",
    "- __Pandas__ : In computer programming, pandas is a software library written for the Python programming language for data manipulation and analysis and storing in a proper way. In particular, it offers data structures and operations for manipulating numerical tables and time series\n",
    "- __Sklearn__ : Scikit-learn (formerly scikits.learn) is a free software machine learning library for the Python programming language. It features various classification, regression and clustering algorithms including support vector machines, random forests, gradient boosting, k-means and DBSCAN, and is designed to interoperate with the Python numerical and scientific libraries NumPy and SciPy. The library is built upon the SciPy (Scientific Python) that must be installed before you can use scikit-learn.\n",
    "- __Pickle__ : Python pickle module is used for serializing and de-serializing a Python object structure. Pickling is a way to convert a python object (list, dict, etc.) into a character stream. The idea is that this character stream contains all the information necessary to reconstruct the object in another python script.\n",
    "- __Seaborn__ : Seaborn is a Python data visualization library based on matplotlib. It provides a high-level interface for drawing attractive and informative statistical graphics.\n",
    "- __Matplotlib__ : Matplotlib is a plotting library for the Python programming language and its numerical mathematics extension NumPy. It provides an object-oriented API for embedding plots into applications using general-purpose GUI toolkits like Tkinter, wxPython, Qt, or GTK."
   ]
  },
  {
   "cell_type": "code",
   "execution_count": 1,
   "id": "fc957303",
   "metadata": {
    "id": "fc957303"
   },
   "outputs": [],
   "source": [
    "#Loading libraries \n",
    "import pandas as pd\n",
    "import seaborn as sns\n",
    "import pickle\n",
    "import numpy as np\n",
    "import matplotlib.pyplot as plt\n",
    "from sklearn.linear_model import LinearRegression, Ridge, RidgeCV, Lasso, LassoCV\n",
    "from sklearn.model_selection import KFold, cross_val_score, train_test_split\n",
    "import warnings\n",
    "\n",
    "warnings.filterwarnings('ignore')"
   ]
  },
  {
   "cell_type": "markdown",
   "id": "1d0d47d5",
   "metadata": {
    "id": "1d0d47d5"
   },
   "source": [
    "# Step 2 : Read dataset and basic details of dataset\n",
    "Goal:- In this step we are going to read the dataset, view the dataset and analysis the basic details like total number of rows and columns, what are the column data types and see to need to create new column or not.\n"
   ]
  },
  {
   "cell_type": "markdown",
   "id": "9d9e6568",
   "metadata": {
    "id": "9d9e6568"
   },
   "source": [
    "In this stage we are going to read our problem dataset and have a look on it."
   ]
  },
  {
   "cell_type": "code",
   "execution_count": 4,
   "id": "da81da2c",
   "metadata": {
    "id": "da81da2c",
    "outputId": "26afa39a-ecf0-4f27-9328-b6c506059525"
   },
   "outputs": [
    {
     "name": "stdout",
     "output_type": "stream",
     "text": [
      "Data read done successfully...\n"
     ]
    }
   ],
   "source": [
    "#loading the dataset\n",
    "try:\n",
    "    df = pd.read_csv('C:/Users/Sakshi Rohida/Desktop/deepak sir ML projects/currency_rate_prediction/data/INR.csv') #Path for the file\n",
    "    print('Data read done successfully...')\n",
    "except (FileNotFoundError, IOError):\n",
    "    print(\"Wrong file or file path\")   "
   ]
  },
  {
   "cell_type": "code",
   "execution_count": 5,
   "id": "fdca2fc4",
   "metadata": {
    "id": "fdca2fc4",
    "outputId": "7b935e45-86da-4348-d1b7-b227e1f54241"
   },
   "outputs": [
    {
     "data": {
      "text/html": [
       "<div>\n",
       "<style scoped>\n",
       "    .dataframe tbody tr th:only-of-type {\n",
       "        vertical-align: middle;\n",
       "    }\n",
       "\n",
       "    .dataframe tbody tr th {\n",
       "        vertical-align: top;\n",
       "    }\n",
       "\n",
       "    .dataframe thead th {\n",
       "        text-align: right;\n",
       "    }\n",
       "</style>\n",
       "<table border=\"1\" class=\"dataframe\">\n",
       "  <thead>\n",
       "    <tr style=\"text-align: right;\">\n",
       "      <th></th>\n",
       "      <th>Date</th>\n",
       "      <th>Open</th>\n",
       "      <th>High</th>\n",
       "      <th>Low</th>\n",
       "      <th>Close</th>\n",
       "      <th>Adj Close</th>\n",
       "      <th>Volume</th>\n",
       "    </tr>\n",
       "  </thead>\n",
       "  <tbody>\n",
       "    <tr>\n",
       "      <th>0</th>\n",
       "      <td>2022-02-17</td>\n",
       "      <td>75.049500</td>\n",
       "      <td>75.303001</td>\n",
       "      <td>74.946297</td>\n",
       "      <td>75.042000</td>\n",
       "      <td>75.042000</td>\n",
       "      <td>0</td>\n",
       "    </tr>\n",
       "    <tr>\n",
       "      <th>1</th>\n",
       "      <td>2022-02-18</td>\n",
       "      <td>75.069801</td>\n",
       "      <td>75.269501</td>\n",
       "      <td>74.481003</td>\n",
       "      <td>75.063004</td>\n",
       "      <td>75.063004</td>\n",
       "      <td>0</td>\n",
       "    </tr>\n",
       "    <tr>\n",
       "      <th>2</th>\n",
       "      <td>2022-02-21</td>\n",
       "      <td>74.686897</td>\n",
       "      <td>74.726501</td>\n",
       "      <td>74.352997</td>\n",
       "      <td>74.682404</td>\n",
       "      <td>74.682404</td>\n",
       "      <td>0</td>\n",
       "    </tr>\n",
       "    <tr>\n",
       "      <th>3</th>\n",
       "      <td>2022-02-22</td>\n",
       "      <td>74.523804</td>\n",
       "      <td>74.992401</td>\n",
       "      <td>74.523804</td>\n",
       "      <td>74.516998</td>\n",
       "      <td>74.516998</td>\n",
       "      <td>0</td>\n",
       "    </tr>\n",
       "    <tr>\n",
       "      <th>4</th>\n",
       "      <td>2022-02-23</td>\n",
       "      <td>74.623001</td>\n",
       "      <td>74.859001</td>\n",
       "      <td>74.500000</td>\n",
       "      <td>74.623001</td>\n",
       "      <td>74.623001</td>\n",
       "      <td>0</td>\n",
       "    </tr>\n",
       "  </tbody>\n",
       "</table>\n",
       "</div>"
      ],
      "text/plain": [
       "         Date       Open       High        Low      Close  Adj Close  Volume\n",
       "0  2022-02-17  75.049500  75.303001  74.946297  75.042000  75.042000       0\n",
       "1  2022-02-18  75.069801  75.269501  74.481003  75.063004  75.063004       0\n",
       "2  2022-02-21  74.686897  74.726501  74.352997  74.682404  74.682404       0\n",
       "3  2022-02-22  74.523804  74.992401  74.523804  74.516998  74.516998       0\n",
       "4  2022-02-23  74.623001  74.859001  74.500000  74.623001  74.623001       0"
      ]
     },
     "execution_count": 5,
     "metadata": {},
     "output_type": "execute_result"
    }
   ],
   "source": [
    "# To view the content inside the dataset we can use the head() method that returns a specified number of rows, string from the top. \n",
    "# The head() method returns the first 5 rows if a number is not specified.\n",
    "df.head()"
   ]
  },
  {
   "cell_type": "markdown",
   "id": "1f5eef51",
   "metadata": {
    "id": "1f5eef51"
   },
   "source": [
    "# Step3: Data Preprocessing"
   ]
  },
  {
   "cell_type": "markdown",
   "id": "y_Dey6TlihNc",
   "metadata": {
    "id": "y_Dey6TlihNc"
   },
   "source": [
    "**Why need of Data Preprocessing?**"
   ]
  },
  {
   "cell_type": "markdown",
   "id": "784d8c07",
   "metadata": {},
   "source": [
    "Preprocessing data is an important step for data analysis. The following are some benefits of preprocessing data:\n",
    "\n",
    " - It improves accuracy and reliability. Preprocessing data removes missing or inconsistent data values resulting from human or computer error, which can improve the accuracy and quality of a dataset, making it more reliable.\n",
    " - It makes data consistent. When collecting data, it's possible to have data duplicates, and discarding them during preprocessing can ensure the data values for analysis are consistent, which helps produce accurate results.\n",
    " - It increases the data's algorithm readability. Preprocessing enhances the data's quality and makes it easier for machine learning algorithms to read, use, and interpret it."
   ]
  },
  {
   "cell_type": "markdown",
   "id": "3fcee9db",
   "metadata": {},
   "source": [
    "**Why we drop column?**"
   ]
  },
  {
   "cell_type": "markdown",
   "id": "bf1fa92a",
   "metadata": {
    "id": "bf1fa92a"
   },
   "source": [
    "By analysing the first five rows we found that there is a column named ['Unnamed: 32'], it has  only NAN(Not A Number) values which isn't good for our model, se we gonna drop it using the below method:"
   ]
  },
  {
   "cell_type": "code",
   "execution_count": null,
   "id": "2d208e79",
   "metadata": {
    "id": "2d208e79"
   },
   "outputs": [],
   "source": [
    "df = df.drop(['Date','Volume'], axis = 1)"
   ]
  },
  {
   "cell_type": "markdown",
   "id": "4230c163",
   "metadata": {
    "id": "4230c163"
   },
   "source": [
    "Axis are defined for arrays with more than one dimension. A 2-dimensional array has two corresponding axes: the first running vertically downwards across rows (axis 0) \n",
    "and the second running horizontally across columns (axis 1)."
   ]
  },
  {
   "cell_type": "markdown",
   "id": "8abd3e9b",
   "metadata": {
    "id": "8abd3e9b"
   },
   "source": [
    "#### (axis=1) defines that the column named ('Unnamed: 32') should be dropped from the dataset."
   ]
  },
  {
   "cell_type": "markdown",
   "id": "530c0778",
   "metadata": {
    "id": "530c0778"
   },
   "source": [
    "After we read the data, we can look at the data using:"
   ]
  },
  {
   "cell_type": "code",
   "execution_count": 6,
   "id": "1b66e1e0",
   "metadata": {
    "id": "1b66e1e0",
    "outputId": "8cacd3e4-8f8b-4548-e625-ac1912713e01"
   },
   "outputs": [
    {
     "name": "stdout",
     "output_type": "stream",
     "text": [
      "The train data has 262 rows and 5 columns\n"
     ]
    }
   ],
   "source": [
    "# count the total number of rows and columns.\n",
    "print ('The train data has {0} rows and {1} columns'.format(df.shape[0],df.shape[1]))"
   ]
  },
  {
   "cell_type": "markdown",
   "id": "dd5dcadd",
   "metadata": {
    "id": "dd5dcadd"
   },
   "source": [
    "#### By analysing the problem statement and the dataset, we get to know that the target variable is \"Close\" column."
   ]
  },
  {
   "cell_type": "code",
   "execution_count": 7,
   "id": "62fa12ce",
   "metadata": {
    "id": "62fa12ce",
    "outputId": "7ca5e9c5-20ed-49fe-eaab-f9e30b6a81bf"
   },
   "outputs": [
    {
     "data": {
      "text/plain": [
       "75.042000    1\n",
       "81.465500    1\n",
       "82.348999    1\n",
       "82.832298    1\n",
       "82.420700    1\n",
       "            ..\n",
       "78.252296    1\n",
       "78.441101    1\n",
       "79.073196    1\n",
       "78.898300    1\n",
       "82.760002    1\n",
       "Name: Close, Length: 262, dtype: int64"
      ]
     },
     "execution_count": 7,
     "metadata": {},
     "output_type": "execute_result"
    }
   ],
   "source": [
    "df['Close'].value_counts()"
   ]
  },
  {
   "cell_type": "markdown",
   "id": "a12ae2c4",
   "metadata": {
    "id": "a12ae2c4"
   },
   "source": [
    "#### The df.value_counts() method counts the number of types of values a particular column contains. "
   ]
  },
  {
   "cell_type": "code",
   "execution_count": 8,
   "id": "93672063",
   "metadata": {
    "id": "93672063",
    "outputId": "bff3b15b-a43e-4b42-dfa5-677557433a13"
   },
   "outputs": [
    {
     "data": {
      "text/plain": [
       "(262, 5)"
      ]
     },
     "execution_count": 8,
     "metadata": {},
     "output_type": "execute_result"
    }
   ],
   "source": [
    "df.shape"
   ]
  },
  {
   "cell_type": "markdown",
   "id": "2646b822",
   "metadata": {
    "id": "2646b822"
   },
   "source": [
    "#### The df.shape method shows the shape of the dataset. "
   ]
  },
  {
   "cell_type": "code",
   "execution_count": 9,
   "id": "98f3c269",
   "metadata": {
    "id": "98f3c269",
    "outputId": "e8d59f3a-1028-4916-d917-913ca8398b50"
   },
   "outputs": [
    {
     "name": "stdout",
     "output_type": "stream",
     "text": [
      "<class 'pandas.core.frame.DataFrame'>\n",
      "RangeIndex: 262 entries, 0 to 261\n",
      "Data columns (total 5 columns):\n",
      " #   Column     Non-Null Count  Dtype  \n",
      "---  ------     --------------  -----  \n",
      " 0   Open       262 non-null    float64\n",
      " 1   High       262 non-null    float64\n",
      " 2   Low        262 non-null    float64\n",
      " 3   Close      262 non-null    float64\n",
      " 4   Adj Close  262 non-null    float64\n",
      "dtypes: float64(5)\n",
      "memory usage: 10.4 KB\n"
     ]
    }
   ],
   "source": [
    "df.info()"
   ]
  },
  {
   "cell_type": "markdown",
   "id": "f4e190fe",
   "metadata": {
    "id": "f4e190fe"
   },
   "source": [
    "#### The df.info() method prints information about a DataFrame including the index dtype and columns, non-null values and memory usage. "
   ]
  },
  {
   "cell_type": "code",
   "execution_count": 10,
   "id": "c821b2c9",
   "metadata": {
    "id": "c821b2c9",
    "outputId": "60411ed1-e59e-4781-9c9d-91b671fa9555"
   },
   "outputs": [
    {
     "data": {
      "text/plain": [
       "Open         75.069801\n",
       "High         75.269501\n",
       "Low          74.481003\n",
       "Close        75.063004\n",
       "Adj Close    75.063004\n",
       "Name: 1, dtype: float64"
      ]
     },
     "execution_count": 10,
     "metadata": {},
     "output_type": "execute_result"
    }
   ],
   "source": [
    "df.iloc[1]"
   ]
  },
  {
   "cell_type": "markdown",
   "id": "a3bc946f",
   "metadata": {
    "id": "a3bc946f"
   },
   "source": [
    "####  df.iloc[ ] is primarily integer position based (from 0 to length-1 of the axis), but may also be used with a boolean array. The iloc property gets, or sets, the value(s) of the specified indexes."
   ]
  },
  {
   "cell_type": "markdown",
   "id": "950d90b8",
   "metadata": {
    "id": "950d90b8"
   },
   "source": [
    "### Data Type Check for every column"
   ]
  },
  {
   "cell_type": "markdown",
   "id": "QVXWeI2qjFGS",
   "metadata": {
    "id": "QVXWeI2qjFGS"
   },
   "source": [
    "**Why data type check is required?**"
   ]
  },
  {
   "cell_type": "markdown",
   "id": "abea9419",
   "metadata": {},
   "source": [
    "Data type check helps us with understanding what type of variables our dataset contains. It helps us with identifying whether to keep that variable or not. If the dataset contains contiguous data, then only float and integer type variables will be beneficial and if we have to classify any value then categorical variables will be beneficial."
   ]
  },
  {
   "cell_type": "code",
   "execution_count": 11,
   "id": "b0687ddf",
   "metadata": {
    "id": "b0687ddf"
   },
   "outputs": [],
   "source": [
    "objects_cols = ['object']\n",
    "objects_lst = list(df.select_dtypes(include=objects_cols).columns)"
   ]
  },
  {
   "cell_type": "code",
   "execution_count": 12,
   "id": "15f53da9",
   "metadata": {
    "id": "15f53da9",
    "outputId": "c027554e-14b5-491d-8fa5-7532146ef6f6"
   },
   "outputs": [
    {
     "name": "stdout",
     "output_type": "stream",
     "text": [
      "Total number of categorical columns are  0\n",
      "There names are as follows:  []\n"
     ]
    }
   ],
   "source": [
    "print(\"Total number of categorical columns are \", len(objects_lst))\n",
    "print(\"There names are as follows: \", objects_lst)"
   ]
  },
  {
   "cell_type": "code",
   "execution_count": 13,
   "id": "3d75e307",
   "metadata": {
    "id": "3d75e307"
   },
   "outputs": [],
   "source": [
    "int64_cols = ['int64']\n",
    "int64_lst = list(df.select_dtypes(include=int64_cols).columns)"
   ]
  },
  {
   "cell_type": "code",
   "execution_count": 14,
   "id": "4ef4e489",
   "metadata": {
    "id": "4ef4e489",
    "outputId": "a889b76d-9b63-47ae-abfc-a0f77b7aa022"
   },
   "outputs": [
    {
     "name": "stdout",
     "output_type": "stream",
     "text": [
      "Total number of numerical columns are  0\n",
      "There names are as follows:  []\n"
     ]
    }
   ],
   "source": [
    "print(\"Total number of numerical columns are \", len(int64_lst))\n",
    "print(\"There names are as follows: \", int64_lst)"
   ]
  },
  {
   "cell_type": "code",
   "execution_count": 15,
   "id": "ed686600",
   "metadata": {
    "id": "ed686600"
   },
   "outputs": [],
   "source": [
    "float64_cols = ['float64']\n",
    "float64_lst = list(df.select_dtypes(include=float64_cols).columns)"
   ]
  },
  {
   "cell_type": "code",
   "execution_count": 16,
   "id": "5cc8245d",
   "metadata": {
    "id": "5cc8245d",
    "outputId": "642d7e52-4e24-423d-de42-e18b06e34e13"
   },
   "outputs": [
    {
     "name": "stdout",
     "output_type": "stream",
     "text": [
      "Total number of float64 columns are  5\n",
      "There name are as follow:  ['Open', 'High', 'Low', 'Close', 'Adj Close']\n"
     ]
    }
   ],
   "source": [
    "print(\"Total number of float64 columns are \", len(float64_lst))\n",
    "print(\"There name are as follow: \", float64_lst)"
   ]
  },
  {
   "cell_type": "code",
   "execution_count": 17,
   "id": "c22d8d2f",
   "metadata": {
    "id": "c22d8d2f",
    "outputId": "8585d965-504e-49c6-cebc-60e1d6e84973"
   },
   "outputs": [
    {
     "name": "stdout",
     "output_type": "stream",
     "text": [
      "The new dataset has 262 rows and 5 columns\n"
     ]
    }
   ],
   "source": [
    "#count the total number of rows and columns.\n",
    "print ('The new dataset has {0} rows and {1} columns'.format(df.shape[0],df.shape[1]))"
   ]
  },
  {
   "cell_type": "markdown",
   "id": "4eefdf2b",
   "metadata": {
    "id": "4eefdf2b"
   },
   "source": [
    "## Step 2 Insights: -"
   ]
  },
  {
   "cell_type": "markdown",
   "id": "9b15507a",
   "metadata": {
    "id": "9b15507a"
   },
   "source": [
    "The above dataset we will observe that\n",
    "1) There are 0 columns of integer type while 5 are of float type.\n",
    "2) There are 0 categorical columns.\n",
    "\n",
    "After this step we have to calculate various evaluation parameters which will help us in cleaning and analysing the data more accurately."
   ]
  },
  {
   "cell_type": "markdown",
   "id": "d495f85e",
   "metadata": {
    "id": "d495f85e"
   },
   "source": [
    "# Step 3: Descriptive Analysis\n",
    "\n",
    "**Goal/Purpose:**  Finding the data distribution of the features. Visualization helps to understand data and also to explain the data to another person."
   ]
  },
  {
   "cell_type": "code",
   "execution_count": 18,
   "id": "fd7ca4cc",
   "metadata": {
    "id": "fd7ca4cc",
    "outputId": "9f285562-06e3-4981-a7d1-7dcf5bf7a531"
   },
   "outputs": [
    {
     "data": {
      "text/html": [
       "<div>\n",
       "<style scoped>\n",
       "    .dataframe tbody tr th:only-of-type {\n",
       "        vertical-align: middle;\n",
       "    }\n",
       "\n",
       "    .dataframe tbody tr th {\n",
       "        vertical-align: top;\n",
       "    }\n",
       "\n",
       "    .dataframe thead th {\n",
       "        text-align: right;\n",
       "    }\n",
       "</style>\n",
       "<table border=\"1\" class=\"dataframe\">\n",
       "  <thead>\n",
       "    <tr style=\"text-align: right;\">\n",
       "      <th></th>\n",
       "      <th>Open</th>\n",
       "      <th>High</th>\n",
       "      <th>Low</th>\n",
       "      <th>Close</th>\n",
       "      <th>Adj Close</th>\n",
       "    </tr>\n",
       "  </thead>\n",
       "  <tbody>\n",
       "    <tr>\n",
       "      <th>count</th>\n",
       "      <td>262.000000</td>\n",
       "      <td>262.000000</td>\n",
       "      <td>262.000000</td>\n",
       "      <td>262.000000</td>\n",
       "      <td>262.000000</td>\n",
       "    </tr>\n",
       "    <tr>\n",
       "      <th>mean</th>\n",
       "      <td>79.537611</td>\n",
       "      <td>79.841380</td>\n",
       "      <td>79.351207</td>\n",
       "      <td>79.537827</td>\n",
       "      <td>79.537827</td>\n",
       "    </tr>\n",
       "    <tr>\n",
       "      <th>std</th>\n",
       "      <td>2.452956</td>\n",
       "      <td>2.453322</td>\n",
       "      <td>2.446092</td>\n",
       "      <td>2.453691</td>\n",
       "      <td>2.453691</td>\n",
       "    </tr>\n",
       "    <tr>\n",
       "      <th>min</th>\n",
       "      <td>74.523804</td>\n",
       "      <td>74.726501</td>\n",
       "      <td>74.352997</td>\n",
       "      <td>74.516998</td>\n",
       "      <td>74.516998</td>\n",
       "    </tr>\n",
       "    <tr>\n",
       "      <th>25%</th>\n",
       "      <td>77.480673</td>\n",
       "      <td>77.737724</td>\n",
       "      <td>77.373302</td>\n",
       "      <td>77.480673</td>\n",
       "      <td>77.480673</td>\n",
       "    </tr>\n",
       "    <tr>\n",
       "      <th>50%</th>\n",
       "      <td>79.718647</td>\n",
       "      <td>80.014797</td>\n",
       "      <td>79.580898</td>\n",
       "      <td>79.718647</td>\n",
       "      <td>79.718647</td>\n",
       "    </tr>\n",
       "    <tr>\n",
       "      <th>75%</th>\n",
       "      <td>81.666127</td>\n",
       "      <td>82.043623</td>\n",
       "      <td>81.538949</td>\n",
       "      <td>81.666127</td>\n",
       "      <td>81.666127</td>\n",
       "    </tr>\n",
       "    <tr>\n",
       "      <th>max</th>\n",
       "      <td>82.997002</td>\n",
       "      <td>83.386002</td>\n",
       "      <td>82.759499</td>\n",
       "      <td>82.997002</td>\n",
       "      <td>82.997002</td>\n",
       "    </tr>\n",
       "  </tbody>\n",
       "</table>\n",
       "</div>"
      ],
      "text/plain": [
       "             Open        High         Low       Close   Adj Close\n",
       "count  262.000000  262.000000  262.000000  262.000000  262.000000\n",
       "mean    79.537611   79.841380   79.351207   79.537827   79.537827\n",
       "std      2.452956    2.453322    2.446092    2.453691    2.453691\n",
       "min     74.523804   74.726501   74.352997   74.516998   74.516998\n",
       "25%     77.480673   77.737724   77.373302   77.480673   77.480673\n",
       "50%     79.718647   80.014797   79.580898   79.718647   79.718647\n",
       "75%     81.666127   82.043623   81.538949   81.666127   81.666127\n",
       "max     82.997002   83.386002   82.759499   82.997002   82.997002"
      ]
     },
     "execution_count": 18,
     "metadata": {},
     "output_type": "execute_result"
    }
   ],
   "source": [
    "df.describe()"
   ]
  },
  {
   "cell_type": "markdown",
   "id": "b2978d60",
   "metadata": {
    "id": "b2978d60"
   },
   "source": [
    "#### The df.describe() method returns description of the data in the DataFrame. If the DataFrame contains numerical data, the description contains these information for each column: count - The number of not-empty values. mean - The average (mean) value. "
   ]
  },
  {
   "cell_type": "markdown",
   "id": "59b815d9",
   "metadata": {
    "id": "59b815d9"
   },
   "source": [
    "# Measure the variability of data of the dataset\n",
    "\n",
    "Variability describes how far apart data points lie from each other and from the center of a distribution."
   ]
  },
  {
   "cell_type": "markdown",
   "id": "010f1c93",
   "metadata": {
    "id": "010f1c93"
   },
   "source": [
    "# Standard Deviation"
   ]
  },
  {
   "cell_type": "markdown",
   "id": "cedc33a3",
   "metadata": {
    "id": "cedc33a3"
   },
   "source": [
    "The standard deviation is the average amount of variability in your dataset.\n",
    "\n",
    "It tells you, on average, how far each data point lies from the mean. The larger the standard deviation, the more variable the data set is and if zero variance then there is no variability in the dataset that means there no use of that dataset.\n"
   ]
  },
  {
   "cell_type": "markdown",
   "id": "82d3ac2c",
   "metadata": {
    "id": "82d3ac2c"
   },
   "source": [
    "So, it helps in understanding the measurements when the data is distributed. The more the data is distributed, the greater will be the standard deviation of that data.Here, you as an individual can determine which company is beneficial in long term. But, if you didn't know the SD you would have choosen a wrong compnay for you."
   ]
  },
  {
   "cell_type": "code",
   "execution_count": 19,
   "id": "3a5077cc",
   "metadata": {
    "id": "3a5077cc",
    "outputId": "8765013d-e06b-44f2-bc4e-fc0376e7cc69"
   },
   "outputs": [
    {
     "data": {
      "text/plain": [
       "Open         2.452956\n",
       "High         2.453322\n",
       "Low          2.446092\n",
       "Close        2.453691\n",
       "Adj Close    2.453691\n",
       "dtype: float64"
      ]
     },
     "execution_count": 19,
     "metadata": {},
     "output_type": "execute_result"
    }
   ],
   "source": [
    "df.std()"
   ]
  },
  {
   "cell_type": "markdown",
   "id": "5b39f153",
   "metadata": {
    "id": "5b39f153"
   },
   "source": [
    "#### We can also understand the standard deviation using the below function. "
   ]
  },
  {
   "cell_type": "code",
   "execution_count": 20,
   "id": "945d2981",
   "metadata": {
    "id": "945d2981"
   },
   "outputs": [],
   "source": [
    "def std_cal(df,float64_lst):\n",
    "    \n",
    "    cols = ['normal_value', 'zero_value']\n",
    "    zero_value = 0\n",
    "    normal_value = 0\n",
    "    \n",
    "    for value in float64_lst:\n",
    "    \n",
    "        rs = round(df[value].std(),6)\n",
    "\n",
    "        if rs > 0:\n",
    "            normal_value = normal_value + 1\n",
    "\n",
    "        elif rs == 0:\n",
    "            zero_value = zero_value + 1\n",
    "    \n",
    "    std_total_df =  pd.DataFrame([[normal_value, zero_value]], columns=cols) \n",
    "    \n",
    "    return std_total_df"
   ]
  },
  {
   "cell_type": "code",
   "execution_count": 21,
   "id": "44a38e44",
   "metadata": {
    "id": "44a38e44",
    "outputId": "bc8ffe8f-94c9-4c70-cc14-d5666fd4ebe7"
   },
   "outputs": [
    {
     "data": {
      "text/html": [
       "<div>\n",
       "<style scoped>\n",
       "    .dataframe tbody tr th:only-of-type {\n",
       "        vertical-align: middle;\n",
       "    }\n",
       "\n",
       "    .dataframe tbody tr th {\n",
       "        vertical-align: top;\n",
       "    }\n",
       "\n",
       "    .dataframe thead th {\n",
       "        text-align: right;\n",
       "    }\n",
       "</style>\n",
       "<table border=\"1\" class=\"dataframe\">\n",
       "  <thead>\n",
       "    <tr style=\"text-align: right;\">\n",
       "      <th></th>\n",
       "      <th>normal_value</th>\n",
       "      <th>zero_value</th>\n",
       "    </tr>\n",
       "  </thead>\n",
       "  <tbody>\n",
       "    <tr>\n",
       "      <th>0</th>\n",
       "      <td>5</td>\n",
       "      <td>0</td>\n",
       "    </tr>\n",
       "  </tbody>\n",
       "</table>\n",
       "</div>"
      ],
      "text/plain": [
       "   normal_value  zero_value\n",
       "0             5           0"
      ]
     },
     "execution_count": 21,
     "metadata": {},
     "output_type": "execute_result"
    }
   ],
   "source": [
    "std_cal(df, float64_lst)"
   ]
  },
  {
   "cell_type": "code",
   "execution_count": 22,
   "id": "a1c7d50a",
   "metadata": {
    "id": "a1c7d50a",
    "outputId": "b3c450ec-4f5b-4a14-f928-dd016e46b377"
   },
   "outputs": [
    {
     "data": {
      "text/html": [
       "<div>\n",
       "<style scoped>\n",
       "    .dataframe tbody tr th:only-of-type {\n",
       "        vertical-align: middle;\n",
       "    }\n",
       "\n",
       "    .dataframe tbody tr th {\n",
       "        vertical-align: top;\n",
       "    }\n",
       "\n",
       "    .dataframe thead th {\n",
       "        text-align: right;\n",
       "    }\n",
       "</style>\n",
       "<table border=\"1\" class=\"dataframe\">\n",
       "  <thead>\n",
       "    <tr style=\"text-align: right;\">\n",
       "      <th></th>\n",
       "      <th>normal_value</th>\n",
       "      <th>zero_value</th>\n",
       "    </tr>\n",
       "  </thead>\n",
       "  <tbody>\n",
       "    <tr>\n",
       "      <th>0</th>\n",
       "      <td>0</td>\n",
       "      <td>0</td>\n",
       "    </tr>\n",
       "  </tbody>\n",
       "</table>\n",
       "</div>"
      ],
      "text/plain": [
       "   normal_value  zero_value\n",
       "0             0           0"
      ]
     },
     "execution_count": 22,
     "metadata": {},
     "output_type": "execute_result"
    }
   ],
   "source": [
    "int64_cols = ['int64']\n",
    "int64_lst = list(df.select_dtypes(include=int64_cols).columns)\n",
    "std_cal(df,int64_lst)"
   ]
  },
  {
   "cell_type": "markdown",
   "id": "0c3b73b0",
   "metadata": {
    "id": "0c3b73b0"
   },
   "source": [
    "zero_value -> is the zero variance and when then there is no variability in the dataset that means there no use of that dataset.\n",
    "\n"
   ]
  },
  {
   "cell_type": "markdown",
   "id": "65c9ccfb",
   "metadata": {
    "id": "65c9ccfb"
   },
   "source": [
    "# Measure central tendency\n",
    "\n",
    "A measure of central tendency is a single value that attempts to describe a set of data by identifying the central position within that set of data. As such, measures of central tendency are sometimes called measures of central location. They are also classed as summary statistics.\n",
    "\n"
   ]
  },
  {
   "cell_type": "markdown",
   "id": "2398c341",
   "metadata": {
    "id": "2398c341"
   },
   "source": [
    "Mean - The average value. Median - The mid point value. Mode - The most common value."
   ]
  },
  {
   "cell_type": "markdown",
   "id": "7715c75f",
   "metadata": {
    "id": "7715c75f"
   },
   "source": [
    "# Mean"
   ]
  },
  {
   "cell_type": "markdown",
   "id": "0892e6a7",
   "metadata": {
    "id": "0892e6a7"
   },
   "source": [
    "The mean is the arithmetic average, and it is probably the measure of central tendency that you are most familiar."
   ]
  },
  {
   "cell_type": "markdown",
   "id": "dd246120",
   "metadata": {
    "id": "dd246120"
   },
   "source": [
    "#### Why do we calculate mean?\n"
   ]
  },
  {
   "cell_type": "markdown",
   "id": "e8fbf457",
   "metadata": {
    "id": "e8fbf457"
   },
   "source": [
    "\n",
    "\n",
    "The mean is used to summarize a data set. It is a measure of the center of a data set.\n"
   ]
  },
  {
   "cell_type": "code",
   "execution_count": 27,
   "id": "efecaf0c",
   "metadata": {
    "id": "efecaf0c",
    "outputId": "b2609cbb-39a8-4cd2-dda1-d9f9188704cb"
   },
   "outputs": [
    {
     "data": {
      "text/plain": [
       "Open         79.537611\n",
       "High         79.841380\n",
       "Low          79.351207\n",
       "Close        79.537827\n",
       "Adj Close    79.537827\n",
       "dtype: float64"
      ]
     },
     "execution_count": 27,
     "metadata": {},
     "output_type": "execute_result"
    }
   ],
   "source": [
    "df.mean()"
   ]
  },
  {
   "cell_type": "markdown",
   "id": "f5026286",
   "metadata": {
    "id": "f5026286"
   },
   "source": [
    "#### We can also understand the mean using the below function. "
   ]
  },
  {
   "cell_type": "code",
   "execution_count": 28,
   "id": "fee92512",
   "metadata": {
    "id": "fee92512"
   },
   "outputs": [],
   "source": [
    "def mean_cal(df,int64_lst):\n",
    "    \n",
    "    cols = ['normal_value', 'zero_value']\n",
    "    zero_value = 0\n",
    "    normal_value = 0\n",
    "    \n",
    "    for value in int64_lst:\n",
    "    \n",
    "        rs = round(df[value].mean(),6)\n",
    "\n",
    "        if rs > 0:\n",
    "            normal_value = normal_value + 1\n",
    "\n",
    "        elif rs == 0:\n",
    "            zero_value = zero_value + 1\n",
    "    \n",
    "    mean_total_df =  pd.DataFrame([[normal_value, zero_value]], columns=cols) \n",
    "    \n",
    "    return mean_total_df"
   ]
  },
  {
   "cell_type": "code",
   "execution_count": 29,
   "id": "1bd00e4a",
   "metadata": {
    "id": "1bd00e4a",
    "outputId": "4b12987e-4405-4437-fc7e-b8441257baaa"
   },
   "outputs": [
    {
     "data": {
      "text/html": [
       "<div>\n",
       "<style scoped>\n",
       "    .dataframe tbody tr th:only-of-type {\n",
       "        vertical-align: middle;\n",
       "    }\n",
       "\n",
       "    .dataframe tbody tr th {\n",
       "        vertical-align: top;\n",
       "    }\n",
       "\n",
       "    .dataframe thead th {\n",
       "        text-align: right;\n",
       "    }\n",
       "</style>\n",
       "<table border=\"1\" class=\"dataframe\">\n",
       "  <thead>\n",
       "    <tr style=\"text-align: right;\">\n",
       "      <th></th>\n",
       "      <th>normal_value</th>\n",
       "      <th>zero_value</th>\n",
       "    </tr>\n",
       "  </thead>\n",
       "  <tbody>\n",
       "    <tr>\n",
       "      <th>0</th>\n",
       "      <td>0</td>\n",
       "      <td>0</td>\n",
       "    </tr>\n",
       "  </tbody>\n",
       "</table>\n",
       "</div>"
      ],
      "text/plain": [
       "   normal_value  zero_value\n",
       "0             0           0"
      ]
     },
     "execution_count": 29,
     "metadata": {},
     "output_type": "execute_result"
    }
   ],
   "source": [
    "mean_cal(df, int64_lst)"
   ]
  },
  {
   "cell_type": "code",
   "execution_count": 30,
   "id": "ea832ee5",
   "metadata": {
    "id": "ea832ee5",
    "outputId": "c9cbe565-ae52-47d3-ea88-61d9d131cf77"
   },
   "outputs": [
    {
     "data": {
      "text/html": [
       "<div>\n",
       "<style scoped>\n",
       "    .dataframe tbody tr th:only-of-type {\n",
       "        vertical-align: middle;\n",
       "    }\n",
       "\n",
       "    .dataframe tbody tr th {\n",
       "        vertical-align: top;\n",
       "    }\n",
       "\n",
       "    .dataframe thead th {\n",
       "        text-align: right;\n",
       "    }\n",
       "</style>\n",
       "<table border=\"1\" class=\"dataframe\">\n",
       "  <thead>\n",
       "    <tr style=\"text-align: right;\">\n",
       "      <th></th>\n",
       "      <th>normal_value</th>\n",
       "      <th>zero_value</th>\n",
       "    </tr>\n",
       "  </thead>\n",
       "  <tbody>\n",
       "    <tr>\n",
       "      <th>0</th>\n",
       "      <td>5</td>\n",
       "      <td>0</td>\n",
       "    </tr>\n",
       "  </tbody>\n",
       "</table>\n",
       "</div>"
      ],
      "text/plain": [
       "   normal_value  zero_value\n",
       "0             5           0"
      ]
     },
     "execution_count": 30,
     "metadata": {},
     "output_type": "execute_result"
    }
   ],
   "source": [
    "mean_cal(df,float64_lst)"
   ]
  },
  {
   "cell_type": "markdown",
   "id": "85ac39fa",
   "metadata": {
    "id": "85ac39fa"
   },
   "source": [
    "zero_value -> that the mean of a paticular column is zero, which isn't usefull in anyway and need to be drop."
   ]
  },
  {
   "cell_type": "markdown",
   "id": "b30ea342",
   "metadata": {
    "id": "b30ea342"
   },
   "source": [
    "# Null and Nan values"
   ]
  },
  {
   "cell_type": "markdown",
   "id": "9a54fc9b",
   "metadata": {
    "id": "9a54fc9b"
   },
   "source": [
    "1. **Null Values**\n"
   ]
  },
  {
   "cell_type": "markdown",
   "id": "e4e42282",
   "metadata": {
    "id": "e4e42282"
   },
   "source": [
    "A null value in a relational database is used when the value in a column is unknown or missing. A null is neither an empty string (for character or datetime data types) nor a zero value (for numeric data types)."
   ]
  },
  {
   "cell_type": "code",
   "execution_count": 37,
   "id": "44699c6b",
   "metadata": {
    "id": "44699c6b",
    "outputId": "4b8c8c89-aafa-49ba-8e6c-5cc90dbf01c2"
   },
   "outputs": [
    {
     "data": {
      "text/plain": [
       "Open         0\n",
       "High         0\n",
       "Low          0\n",
       "Close        0\n",
       "Adj Close    0\n",
       "dtype: int64"
      ]
     },
     "execution_count": 37,
     "metadata": {},
     "output_type": "execute_result"
    }
   ],
   "source": [
    "df.isnull().sum()"
   ]
  },
  {
   "cell_type": "markdown",
   "id": "ae58482d",
   "metadata": {
    "id": "ae58482d"
   },
   "source": [
    "As we notice that there are no null values in our dataset."
   ]
  },
  {
   "cell_type": "markdown",
   "id": "c6dd136e",
   "metadata": {
    "id": "c6dd136e"
   },
   "source": [
    "2. **Nan Values**"
   ]
  },
  {
   "cell_type": "markdown",
   "id": "b069c2ac",
   "metadata": {
    "id": "b069c2ac"
   },
   "source": [
    "NaN, standing for Not a Number, is a member of a numeric data type that can be interpreted as a value that is undefined or unrepresentable, especially in floating-point arithmetic."
   ]
  },
  {
   "cell_type": "code",
   "execution_count": 38,
   "id": "931bb432",
   "metadata": {
    "id": "931bb432",
    "outputId": "2b82f181-76b6-4c89-e10c-c348d809f374"
   },
   "outputs": [
    {
     "data": {
      "text/plain": [
       "Open         0\n",
       "High         0\n",
       "Low          0\n",
       "Close        0\n",
       "Adj Close    0\n",
       "dtype: int64"
      ]
     },
     "execution_count": 38,
     "metadata": {},
     "output_type": "execute_result"
    }
   ],
   "source": [
    "df.isna().sum()"
   ]
  },
  {
   "cell_type": "markdown",
   "id": "bdcf3aff",
   "metadata": {
    "id": "bdcf3aff"
   },
   "source": [
    "As we notice that there are no nan values in our dataset."
   ]
  },
  {
   "cell_type": "markdown",
   "id": "d8c22e57",
   "metadata": {
    "id": "d8c22e57"
   },
   "source": [
    "#### Another way to remove null and nan values is to use the method \"df.dropna(inplace=True)\". "
   ]
  },
  {
   "cell_type": "markdown",
   "id": "1f0eadfc",
   "metadata": {
    "id": "1f0eadfc"
   },
   "source": [
    "# Count of unique occurences of every value in all categorical value\n",
    "\n"
   ]
  },
  {
   "cell_type": "code",
   "execution_count": 39,
   "id": "bd9a4c17",
   "metadata": {
    "id": "bd9a4c17",
    "outputId": "1720d4e2-cce1-419a-9a36-941ffaa8e2a5"
   },
   "outputs": [],
   "source": [
    "for value in objects_lst:\n",
    "    \n",
    "    print(f\"{value:{10}} {df[value].value_counts()}\")"
   ]
  },
  {
   "cell_type": "markdown",
   "id": "c57ac0cc",
   "metadata": {
    "id": "c57ac0cc"
   },
   "source": [
    "- Categorical data are variables that contain label values rather than numeric values.The number of possible values is often limited to a fixed set.\n",
    "- Use Label Encoder to label the categorical data. Label Encoder is the part of SciKit Learn library in Python and used to convert categorical data, or text data, into numbers, which our predictive models can better understand.\n",
    "\n",
    "It should should be noted that there is no categorial data in dataset."
   ]
  },
  {
   "cell_type": "markdown",
   "id": "fc546382",
   "metadata": {
    "id": "fc546382"
   },
   "source": [
    "__Label Encoding__ refers to converting the labels into a numeric form so as to convert them into the machine-readable form. Machine learning algorithms can then decide in a better way how those labels must be operated. It is an important pre-processing step for the structured dataset in supervised learning."
   ]
  },
  {
   "cell_type": "markdown",
   "id": "b620367f",
   "metadata": {
    "id": "b620367f"
   },
   "source": [
    "# Skewness "
   ]
  },
  {
   "cell_type": "markdown",
   "id": "2d9f56e3",
   "metadata": {
    "id": "2d9f56e3"
   },
   "source": [
    "Skewness is a measure of the asymmetry of a distribution. A distribution is asymmetrical when its left and right side are not mirror images. A distribution can have right (or positive), left (or negative), or zero skewness"
   ]
  },
  {
   "cell_type": "markdown",
   "id": "0ad9c82f",
   "metadata": {
    "id": "0ad9c82f"
   },
   "source": [
    "#### Why do we calculate Skewness ?"
   ]
  },
  {
   "cell_type": "markdown",
   "id": "6839ca87",
   "metadata": {
    "id": "6839ca87"
   },
   "source": [
    "Skewness gives the direction of the outliers if it is right-skewed, most of the outliers are present on the right side of the distribution while if it is left-skewed, most of the outliers will present on the left side of the distribution"
   ]
  },
  {
   "cell_type": "markdown",
   "id": "4bd5f5e2",
   "metadata": {
    "id": "4bd5f5e2"
   },
   "source": [
    "#### Below is the function to calculate skewness. "
   ]
  },
  {
   "cell_type": "code",
   "execution_count": 40,
   "id": "cbdf0dc8",
   "metadata": {
    "id": "cbdf0dc8"
   },
   "outputs": [],
   "source": [
    "def right_nor_left(df, int64_lst):\n",
    "    \n",
    "    temp_skewness = ['column', 'skewness_value', 'skewness (+ve or -ve)']\n",
    "    temp_skewness_values  = []\n",
    "    \n",
    "    temp_total = [\"positive (+ve) skewed\", \"normal distrbution\" , \"negative (-ve) skewed\"]\n",
    "    positive = 0\n",
    "    negative = 0\n",
    "    normal = 0\n",
    "    \n",
    "    for value in float64_lst:\n",
    "    \n",
    "        rs = round(df[value].skew(),4)\n",
    "\n",
    "        if rs > 0:\n",
    "            temp_skewness_values.append([value,rs , \"positive (+ve) skewed\"])   \n",
    "            positive = positive + 1\n",
    "\n",
    "        elif rs == 0:\n",
    "            temp_skewness_values.append([value,rs,\"normal distrbution\"])\n",
    "            normal = normal + 1\n",
    "\n",
    "        elif rs < 0:\n",
    "            temp_skewness_values.append([value,rs, \"negative (-ve) skewed\"])\n",
    "            negative = negative + 1\n",
    "    \n",
    "    skewness_df =  pd.DataFrame(temp_skewness_values, columns=temp_skewness) \n",
    "    skewness_total_df =  pd.DataFrame([[positive, normal, negative]], columns=temp_total) \n",
    "    \n",
    "    return skewness_df, skewness_total_df"
   ]
  },
  {
   "cell_type": "code",
   "execution_count": 41,
   "id": "640a739f",
   "metadata": {
    "id": "640a739f"
   },
   "outputs": [],
   "source": [
    "float64_cols = ['float64']\n",
    "float64_lst_col = list(df.select_dtypes(include=float64_cols).columns)\n",
    "\n",
    "skew_df,skew_total_df = right_nor_left(df, float64_lst_col)"
   ]
  },
  {
   "cell_type": "code",
   "execution_count": 42,
   "id": "3eb3d772",
   "metadata": {
    "id": "3eb3d772",
    "outputId": "616b3280-fef1-4c20-ebe2-4f540d6a8a0e"
   },
   "outputs": [
    {
     "data": {
      "text/html": [
       "<div>\n",
       "<style scoped>\n",
       "    .dataframe tbody tr th:only-of-type {\n",
       "        vertical-align: middle;\n",
       "    }\n",
       "\n",
       "    .dataframe tbody tr th {\n",
       "        vertical-align: top;\n",
       "    }\n",
       "\n",
       "    .dataframe thead th {\n",
       "        text-align: right;\n",
       "    }\n",
       "</style>\n",
       "<table border=\"1\" class=\"dataframe\">\n",
       "  <thead>\n",
       "    <tr style=\"text-align: right;\">\n",
       "      <th></th>\n",
       "      <th>column</th>\n",
       "      <th>skewness_value</th>\n",
       "      <th>skewness (+ve or -ve)</th>\n",
       "    </tr>\n",
       "  </thead>\n",
       "  <tbody>\n",
       "    <tr>\n",
       "      <th>0</th>\n",
       "      <td>Open</td>\n",
       "      <td>-0.2542</td>\n",
       "      <td>negative (-ve) skewed</td>\n",
       "    </tr>\n",
       "    <tr>\n",
       "      <th>1</th>\n",
       "      <td>High</td>\n",
       "      <td>-0.2464</td>\n",
       "      <td>negative (-ve) skewed</td>\n",
       "    </tr>\n",
       "    <tr>\n",
       "      <th>2</th>\n",
       "      <td>Low</td>\n",
       "      <td>-0.2602</td>\n",
       "      <td>negative (-ve) skewed</td>\n",
       "    </tr>\n",
       "    <tr>\n",
       "      <th>3</th>\n",
       "      <td>Close</td>\n",
       "      <td>-0.2540</td>\n",
       "      <td>negative (-ve) skewed</td>\n",
       "    </tr>\n",
       "    <tr>\n",
       "      <th>4</th>\n",
       "      <td>Adj Close</td>\n",
       "      <td>-0.2540</td>\n",
       "      <td>negative (-ve) skewed</td>\n",
       "    </tr>\n",
       "  </tbody>\n",
       "</table>\n",
       "</div>"
      ],
      "text/plain": [
       "      column  skewness_value  skewness (+ve or -ve)\n",
       "0       Open         -0.2542  negative (-ve) skewed\n",
       "1       High         -0.2464  negative (-ve) skewed\n",
       "2        Low         -0.2602  negative (-ve) skewed\n",
       "3      Close         -0.2540  negative (-ve) skewed\n",
       "4  Adj Close         -0.2540  negative (-ve) skewed"
      ]
     },
     "execution_count": 42,
     "metadata": {},
     "output_type": "execute_result"
    }
   ],
   "source": [
    "skew_df"
   ]
  },
  {
   "cell_type": "code",
   "execution_count": 43,
   "id": "aa80a183",
   "metadata": {
    "id": "aa80a183",
    "outputId": "31417f27-503a-4830-d013-16ffd08bd0fc"
   },
   "outputs": [
    {
     "data": {
      "text/html": [
       "<div>\n",
       "<style scoped>\n",
       "    .dataframe tbody tr th:only-of-type {\n",
       "        vertical-align: middle;\n",
       "    }\n",
       "\n",
       "    .dataframe tbody tr th {\n",
       "        vertical-align: top;\n",
       "    }\n",
       "\n",
       "    .dataframe thead th {\n",
       "        text-align: right;\n",
       "    }\n",
       "</style>\n",
       "<table border=\"1\" class=\"dataframe\">\n",
       "  <thead>\n",
       "    <tr style=\"text-align: right;\">\n",
       "      <th></th>\n",
       "      <th>positive (+ve) skewed</th>\n",
       "      <th>normal distrbution</th>\n",
       "      <th>negative (-ve) skewed</th>\n",
       "    </tr>\n",
       "  </thead>\n",
       "  <tbody>\n",
       "    <tr>\n",
       "      <th>0</th>\n",
       "      <td>0</td>\n",
       "      <td>0</td>\n",
       "      <td>5</td>\n",
       "    </tr>\n",
       "  </tbody>\n",
       "</table>\n",
       "</div>"
      ],
      "text/plain": [
       "   positive (+ve) skewed  normal distrbution  negative (-ve) skewed\n",
       "0                      0                   0                      5"
      ]
     },
     "execution_count": 43,
     "metadata": {},
     "output_type": "execute_result"
    }
   ],
   "source": [
    "skew_total_df"
   ]
  },
  {
   "cell_type": "markdown",
   "id": "f5f369a9",
   "metadata": {
    "id": "f5f369a9"
   },
   "source": [
    "We notice with the above results that we have following details:\n",
    "Here, 5 columns are negative skewed, but are very close to 0."
   ]
  },
  {
   "cell_type": "markdown",
   "id": "8c23f537",
   "metadata": {
    "id": "8c23f537"
   },
   "source": [
    "### Step 3 Insights: - "
   ]
  },
  {
   "cell_type": "markdown",
   "id": "7dfcb915",
   "metadata": {
    "id": "7dfcb915"
   },
   "source": [
    "With the statistical analysis we have found that the data have a lot of skewness in them all the columns are positively skewed with mostly zero variance.\n",
    "\n",
    "Statistical analysis is little difficult to understand at one glance so to make it more understandable we will perform visulatization on the data which will help us to understand the process easily."
   ]
  },
  {
   "cell_type": "markdown",
   "id": "9196e45e",
   "metadata": {
    "id": "9196e45e"
   },
   "source": [
    "### Why we are calculating all these metrics? "
   ]
  },
  {
   "cell_type": "markdown",
   "id": "105d9049",
   "metadata": {
    "id": "105d9049"
   },
   "source": [
    "Mean / Median /Mode/ Variance /Standard Deviation are all very basic but very important concept of statistics used in data science. Almost all the machine learning algorithm uses these concepts in data preprocessing steps. These concepts are part of descriptive statistics where we basically used to describe and understand the data for features in Machine learning"
   ]
  },
  {
   "cell_type": "markdown",
   "id": "ec65483b",
   "metadata": {
    "id": "ec65483b"
   },
   "source": [
    "# Step 4: Data Exploration\n",
    "Graphs we are going to develop in this step."
   ]
  },
  {
   "cell_type": "markdown",
   "id": "83b9e3ca",
   "metadata": {
    "id": "83b9e3ca"
   },
   "source": [
    "# Histogram"
   ]
  },
  {
   "cell_type": "markdown",
   "id": "359022cf",
   "metadata": {
    "id": "359022cf"
   },
   "source": [
    "A histogram is a bar graph-like representation of data that buckets a range of classes into columns along the horizontal x-axis.The vertical y-axis represents the number count or percentage of occurrences in the data for each column"
   ]
  },
  {
   "cell_type": "code",
   "execution_count": 44,
   "id": "c97eef85",
   "metadata": {
    "id": "c97eef85",
    "outputId": "53bda633-001e-4c97-cf39-6dd7b362a748"
   },
   "outputs": [
    {
     "data": {
      "image/png": "[encoded data removed]",
      "text/plain": [
       "<Figure size 1080x1080 with 6 Axes>"
      ]
     },
     "metadata": {
      "needs_background": "light"
     },
     "output_type": "display_data"
    }
   ],
   "source": [
    "# Distribution in attributes\n",
    "%matplotlib inline\n",
    "import matplotlib.pyplot as plt\n",
    "df.hist(bins=50, figsize=(15,15))\n",
    "plt.show()"
   ]
  },
  {
   "cell_type": "markdown",
   "id": "06511b72",
   "metadata": {
    "id": "06511b72"
   },
   "source": [
    "\n",
    "### Histogram Insight: -"
   ]
  },
  {
   "cell_type": "markdown",
   "id": "546e95e1",
   "metadata": {
    "id": "546e95e1"
   },
   "source": [
    "Histogram helps in identifying the following:\n",
    "- View the shape of your data set’s distribution to look for outliers or other significant data points.\n",
    "\n",
    "- Determine whether something significant has occurred from one time period to another."
   ]
  },
  {
   "cell_type": "markdown",
   "id": "53e66f80",
   "metadata": {
    "id": "53e66f80"
   },
   "source": [
    "### Why Histogram? "
   ]
  },
  {
   "cell_type": "markdown",
   "id": "c92c6e2a",
   "metadata": {
    "id": "c92c6e2a"
   },
   "source": [
    "It is used to illustrate the major features of the distribution of the data in a convenient form. It is also useful when dealing with large data sets (greater than 100 observations). It can help detect any unusual observations (outliers) or any gaps in the data.\n",
    "\n",
    "From the above graphical representation we can identify that the highest bar represents the outliers which is above the maximum range.\n",
    "\n",
    "We can also identify that the values are moving on the right side, which determines positive and the centered values determines normal skewness."
   ]
  },
  {
   "cell_type": "code",
   "execution_count": 7,
   "id": "a9f040b8",
   "metadata": {},
   "outputs": [
    {
     "data": {
      "image/png": "[encoded data removed]",
      "text/plain": [
       "<Figure size 720x288 with 1 Axes>"
      ]
     },
     "metadata": {
      "needs_background": "light"
     },
     "output_type": "display_data"
    }
   ],
   "source": [
    "plt.figure(figsize=(10, 4))\n",
    "plt.title(\"INR - USD Exchange Rate\")\n",
    "plt.xlabel(\"Date\")\n",
    "plt.ylabel(\"Close\")\n",
    "plt.plot(df[\"Close\"])\n",
    "plt.show()"
   ]
  },
  {
   "cell_type": "markdown",
   "id": "89284279",
   "metadata": {},
   "source": [
    "#### The values in the “Close” column are the target values that we need to predict. So let’s take a closer look at these values:"
   ]
  },
  {
   "cell_type": "code",
   "execution_count": 10,
   "id": "1b3c7b9b",
   "metadata": {},
   "outputs": [
    {
     "data": {
      "image/png": "[encoded data removed]",
      "text/plain": [
       "<Figure size 432x288 with 1 Axes>"
      ]
     },
     "metadata": {
      "needs_background": "light"
     },
     "output_type": "display_data"
    }
   ],
   "source": [
    "plt.plot(df['High'])\n",
    "plt.plot(df['Low'])\n",
    "plt.title('Close Value')\n",
    "plt.xlabel('High Parameter')\n",
    "plt.ylabel('Low Parameter')\n",
    "plt.show()"
   ]
  },
  {
   "cell_type": "markdown",
   "id": "e5dacfe6",
   "metadata": {},
   "source": [
    "#### Checking out the close values to Low and High values."
   ]
  },
  {
   "cell_type": "markdown",
   "id": "301cf45e",
   "metadata": {
    "id": "301cf45e"
   },
   "source": [
    "# 2. Distplot"
   ]
  },
  {
   "cell_type": "markdown",
   "id": "115cc5f4",
   "metadata": {
    "id": "115cc5f4"
   },
   "source": [
    "A Distplot or distribution plot, depicts the variation in the data distribution. Seaborn Distplot represents the overall distribution of continuous data variables. The Seaborn module along with the Matplotlib module is used to depict the distplot with different variations in it "
   ]
  },
  {
   "cell_type": "code",
   "execution_count": 45,
   "id": "48e0718d",
   "metadata": {
    "id": "48e0718d",
    "outputId": "10e5db54-a51a-440a-94d4-9000d270636a"
   },
   "outputs": [
    {
     "data": {
      "text/plain": [
       "<seaborn.axisgrid.FacetGrid at 0x21a7ae51ee0>"
      ]
     },
     "execution_count": 45,
     "metadata": {},
     "output_type": "execute_result"
    },
    {
     "data": {
      "image/png": "[encoded data removed]",
      "text/plain": [
       "<Figure size 864x432 with 5 Axes>"
      ]
     },
     "metadata": {
      "needs_background": "light"
     },
     "output_type": "display_data"
    }
   ],
   "source": [
    "num = [f for f in df.columns if df.dtypes[f] != 'object']\n",
    "nd = pd.melt(df, value_vars = num)\n",
    "n1 = sns.FacetGrid (nd, col='variable', col_wrap=4, sharex=False, sharey = False)\n",
    "n1 = n1.map(sns.distplot, 'value')\n",
    "n1"
   ]
  },
  {
   "cell_type": "markdown",
   "id": "481b5eab",
   "metadata": {
    "id": "481b5eab"
   },
   "source": [
    "### Distplot:\n",
    "\n",
    "Above is the distrution bar graphs to confirm about the statistics of the data about the skewness.\n",
    "### Why Distplot?\n",
    "Skewness is demonstrated on a bell curve when data points are not distributed symmetrically to the left and right sides of the median on a bell curve. If the bell curve is shifted to the left or the right, it is said to be skewed."
   ]
  },
  {
   "cell_type": "markdown",
   "id": "c973af40",
   "metadata": {
    "id": "c973af40"
   },
   "source": [
    "Let's proceed and check the distribution of the target variable.\n"
   ]
  },
  {
   "cell_type": "code",
   "execution_count": 46,
   "id": "971faec1",
   "metadata": {
    "id": "971faec1",
    "outputId": "1d807074-548a-42e9-94f4-558997ef90a4"
   },
   "outputs": [
    {
     "data": {
      "text/plain": [
       "-0.25398314204225897"
      ]
     },
     "execution_count": 46,
     "metadata": {},
     "output_type": "execute_result"
    }
   ],
   "source": [
    "#-ve skewed \n",
    "df['Close'].skew()"
   ]
  },
  {
   "cell_type": "markdown",
   "id": "54b4262f",
   "metadata": {
    "id": "54b4262f"
   },
   "source": [
    "#### The target variable is positively skewed.A normally distributed (or close to normal) target variable helps in better modeling the relationship between target and independent variables. "
   ]
  },
  {
   "cell_type": "markdown",
   "id": "73d498c8",
   "metadata": {
    "id": "73d498c8"
   },
   "source": [
    "# 3. Heatmap\n",
    "\n",
    "\n"
   ]
  },
  {
   "cell_type": "markdown",
   "id": "5ac58979",
   "metadata": {
    "id": "5ac58979"
   },
   "source": [
    "A heatmap (or heat map) is a graphical representation of data where values are depicted by color.Heatmaps make it easy to visualize complex data and understand it at a glance "
   ]
  },
  {
   "cell_type": "markdown",
   "id": "15197e30",
   "metadata": {
    "id": "15197e30"
   },
   "source": [
    "__Correlation__ - A positive correlation is a relationship between two variables in which both variables move in the same direction. Therefore, when one variable increases as the other variable increases, or one variable decreases while the other decreases."
   ]
  },
  {
   "cell_type": "markdown",
   "id": "4f7f26b9",
   "metadata": {
    "id": "4f7f26b9"
   },
   "source": [
    "Correlation can have a value:\n",
    "\n",
    "- 1 is a perfect positive correlation\n",
    "- 0 is no correlation (the values don't seem linked at all)\n",
    "- -1 is a perfect negative correlation\n",
    "\n"
   ]
  },
  {
   "cell_type": "code",
   "execution_count": 47,
   "id": "5273132b",
   "metadata": {
    "id": "5273132b",
    "outputId": "1bfd17fc-e1a0-43ba-f9f1-a9deb1bfef17"
   },
   "outputs": [
    {
     "data": {
      "image/png": "[encoded data removed]",
      "text/plain": [
       "<Figure size 1080x1080 with 2 Axes>"
      ]
     },
     "metadata": {},
     "output_type": "display_data"
    }
   ],
   "source": [
    "#correlation plot\n",
    "sns.set(rc = {'figure.figsize':(15,15)})\n",
    "corr = df.corr().abs()\n",
    "sns.heatmap(corr,annot=True) \n",
    "plt.show()"
   ]
  },
  {
   "cell_type": "code",
   "execution_count": 48,
   "id": "ad4ce17e",
   "metadata": {
    "id": "ad4ce17e",
    "outputId": "719bd34f-9c34-4006-d93c-eed8853b99e7"
   },
   "outputs": [
    {
     "data": {
      "text/html": [
       "<div>\n",
       "<style scoped>\n",
       "    .dataframe tbody tr th:only-of-type {\n",
       "        vertical-align: middle;\n",
       "    }\n",
       "\n",
       "    .dataframe tbody tr th {\n",
       "        vertical-align: top;\n",
       "    }\n",
       "\n",
       "    .dataframe thead th {\n",
       "        text-align: right;\n",
       "    }\n",
       "</style>\n",
       "<table border=\"1\" class=\"dataframe\">\n",
       "  <thead>\n",
       "    <tr style=\"text-align: right;\">\n",
       "      <th></th>\n",
       "      <th>Open</th>\n",
       "      <th>High</th>\n",
       "      <th>Low</th>\n",
       "      <th>Close</th>\n",
       "      <th>Adj Close</th>\n",
       "    </tr>\n",
       "  </thead>\n",
       "  <tbody>\n",
       "    <tr>\n",
       "      <th>Open</th>\n",
       "      <td>1.000000</td>\n",
       "      <td>0.997150</td>\n",
       "      <td>0.997593</td>\n",
       "      <td>0.999997</td>\n",
       "      <td>0.999997</td>\n",
       "    </tr>\n",
       "    <tr>\n",
       "      <th>High</th>\n",
       "      <td>0.997150</td>\n",
       "      <td>1.000000</td>\n",
       "      <td>0.996345</td>\n",
       "      <td>0.997141</td>\n",
       "      <td>0.997141</td>\n",
       "    </tr>\n",
       "    <tr>\n",
       "      <th>Low</th>\n",
       "      <td>0.997593</td>\n",
       "      <td>0.996345</td>\n",
       "      <td>1.000000</td>\n",
       "      <td>0.997604</td>\n",
       "      <td>0.997604</td>\n",
       "    </tr>\n",
       "    <tr>\n",
       "      <th>Close</th>\n",
       "      <td>0.999997</td>\n",
       "      <td>0.997141</td>\n",
       "      <td>0.997604</td>\n",
       "      <td>1.000000</td>\n",
       "      <td>1.000000</td>\n",
       "    </tr>\n",
       "    <tr>\n",
       "      <th>Adj Close</th>\n",
       "      <td>0.999997</td>\n",
       "      <td>0.997141</td>\n",
       "      <td>0.997604</td>\n",
       "      <td>1.000000</td>\n",
       "      <td>1.000000</td>\n",
       "    </tr>\n",
       "  </tbody>\n",
       "</table>\n",
       "</div>"
      ],
      "text/plain": [
       "               Open      High       Low     Close  Adj Close\n",
       "Open       1.000000  0.997150  0.997593  0.999997   0.999997\n",
       "High       0.997150  1.000000  0.996345  0.997141   0.997141\n",
       "Low        0.997593  0.996345  1.000000  0.997604   0.997604\n",
       "Close      0.999997  0.997141  0.997604  1.000000   1.000000\n",
       "Adj Close  0.999997  0.997141  0.997604  1.000000   1.000000"
      ]
     },
     "execution_count": 48,
     "metadata": {},
     "output_type": "execute_result"
    }
   ],
   "source": [
    "corr"
   ]
  },
  {
   "cell_type": "markdown",
   "id": "7ae977de",
   "metadata": {
    "id": "7ae977de"
   },
   "source": [
    "### Heatmap insights: -\n",
    "\n",
    "As we know, it is recommended to avoid correlated features in your dataset. Indeed, a group of highly correlated features will not bring additional information (or just very few), but will increase the complexity of the algorithm, hence increasing the risk of errors.\n",
    "\n",
    "\n"
   ]
  },
  {
   "cell_type": "markdown",
   "id": "31e88953",
   "metadata": {
    "id": "31e88953"
   },
   "source": [
    "### Why Heatmap?"
   ]
  },
  {
   "cell_type": "markdown",
   "id": "d6253490",
   "metadata": {
    "id": "d6253490"
   },
   "source": [
    "Heatmaps are used to show relationships between two variables, one plotted on each axis. By observing how cell colors change across each axis, you can observe if there are any patterns in value for one or both variables."
   ]
  },
  {
   "cell_type": "markdown",
   "id": "a5efc649",
   "metadata": {
    "id": "a5efc649"
   },
   "source": [
    "# 4. Boxplot"
   ]
  },
  {
   "cell_type": "markdown",
   "id": "72609d18",
   "metadata": {
    "id": "72609d18"
   },
   "source": [
    "A boxplot is a standardized way of displaying the distribution of data based on a five number summary (“minimum”, first quartile [Q1], median, third quartile [Q3] and “maximum”)."
   ]
  },
  {
   "cell_type": "markdown",
   "id": "a8b41d0f",
   "metadata": {
    "id": "a8b41d0f"
   },
   "source": [
    "Basically, to find the outlier in a dataset/column."
   ]
  },
  {
   "cell_type": "code",
   "execution_count": 49,
   "id": "a9a73eb5",
   "metadata": {
    "id": "a9a73eb5"
   },
   "outputs": [],
   "source": [
    "features = ['High', 'Low', 'Close', 'Adj Close']"
   ]
  },
  {
   "cell_type": "code",
   "execution_count": 50,
   "id": "9fda4fe0",
   "metadata": {
    "id": "9fda4fe0",
    "outputId": "b6af65b2-fc56-4a2e-8a61-268cb7c75d1f"
   },
   "outputs": [
    {
     "data": {
      "image/png": "[encoded data removed]",
      "text/plain": [
       "<Figure size 360x360 with 1 Axes>"
      ]
     },
     "metadata": {},
     "output_type": "display_data"
    },
    {
     "data": {
      "image/png": "[encoded data removed]",
      "text/plain": [
       "<Figure size 360x360 with 1 Axes>"
      ]
     },
     "metadata": {},
     "output_type": "display_data"
    },
    {
     "data": {
      "image/png": "[encoded data removed]",
      "text/plain": [
       "<Figure size 360x360 with 1 Axes>"
      ]
     },
     "metadata": {},
     "output_type": "display_data"
    },
    {
     "data": {
      "image/png": "[encoded data removed]",
      "text/plain": [
       "<Figure size 360x360 with 1 Axes>"
      ]
     },
     "metadata": {},
     "output_type": "display_data"
    }
   ],
   "source": [
    "for value in features:\n",
    "    sns.catplot(data=df, x=value,  kind=\"box\")"
   ]
  },
  {
   "cell_type": "code",
   "execution_count": 51,
   "id": "4503cb94",
   "metadata": {
    "id": "4503cb94",
    "outputId": "19318b6f-214a-4c3e-c57f-d47b3bf82dac"
   },
   "outputs": [
    {
     "data": {
      "text/plain": [
       "<seaborn.axisgrid.FacetGrid at 0x21a7a0783a0>"
      ]
     },
     "execution_count": 51,
     "metadata": {},
     "output_type": "execute_result"
    },
    {
     "data": {
      "image/png": "[encoded data removed]",
      "text/plain": [
       "<Figure size 360x360 with 1 Axes>"
      ]
     },
     "metadata": {},
     "output_type": "display_data"
    }
   ],
   "source": [
    "#for target variable\n",
    "sns.catplot(data=df, x='Close', kind='box')"
   ]
  },
  {
   "cell_type": "markdown",
   "id": "6d419fb3",
   "metadata": {
    "id": "6d419fb3"
   },
   "source": [
    "#### The dark points are known as Outliers. Outliers are those data points that are significantly different from the rest of the dataset. They are often abnormal observations that skew the data distribution, and arise due to inconsistent data entry, or erroneous observations."
   ]
  },
  {
   "cell_type": "markdown",
   "id": "368b3dee",
   "metadata": {
    "id": "368b3dee"
   },
   "source": [
    "### Boxplot Insights: - \n",
    "- Sometimes outliers may be an error in the data and should be removed. In this case these points are correct readings yet they are different from the other points that they appear to be incorrect.\n",
    "\n",
    "- The best way to decide wether to remove them or not is to train models with and without these data points and compare their validation accuracy.\n",
    "\n",
    "- So we will keep it unchanged as it won't affect our model.\n",
    "\n",
    "Here, we can see that most of the variables possess outlier values. It would take us days if we start treating these outlier values one by one. Hence, for now we'll leave them as is and let our algorithm deal with them. As we know, tree-based algorithms are usually robust to outliers.\n",
    "\n",
    "### Why Boxplot?\n",
    "Box plots are used to show distributions of numeric data values, especially when you want to compare them between multiple groups. They are built to provide high-level information at a glance, offering general information about a group of data's symmetry, skew, variance, and outliers.\n",
    "\n"
   ]
  },
  {
   "cell_type": "markdown",
   "id": "8d13db53",
   "metadata": {
    "id": "8d13db53"
   },
   "source": [
    "In the next step we will divide our cleaned data into training data and testing data."
   ]
  },
  {
   "cell_type": "markdown",
   "id": "e7844542",
   "metadata": {
    "id": "e7844542"
   },
   "source": [
    "# Step 2: Data Preparation\n",
    "**Goal:-**"
   ]
  },
  {
   "cell_type": "markdown",
   "id": "c78aba38",
   "metadata": {
    "id": "c78aba38"
   },
   "source": [
    "Tasks we are going to in this step:"
   ]
  },
  {
   "cell_type": "code",
   "execution_count": 52,
   "id": "15c9d65a",
   "metadata": {},
   "outputs": [
    {
     "data": {
      "text/html": [
       "<div>\n",
       "<style scoped>\n",
       "    .dataframe tbody tr th:only-of-type {\n",
       "        vertical-align: middle;\n",
       "    }\n",
       "\n",
       "    .dataframe tbody tr th {\n",
       "        vertical-align: top;\n",
       "    }\n",
       "\n",
       "    .dataframe thead th {\n",
       "        text-align: right;\n",
       "    }\n",
       "</style>\n",
       "<table border=\"1\" class=\"dataframe\">\n",
       "  <thead>\n",
       "    <tr style=\"text-align: right;\">\n",
       "      <th></th>\n",
       "      <th>Open</th>\n",
       "      <th>High</th>\n",
       "      <th>Low</th>\n",
       "      <th>Close</th>\n",
       "      <th>Adj Close</th>\n",
       "    </tr>\n",
       "  </thead>\n",
       "  <tbody>\n",
       "    <tr>\n",
       "      <th>0</th>\n",
       "      <td>75.049500</td>\n",
       "      <td>75.303001</td>\n",
       "      <td>74.946297</td>\n",
       "      <td>75.042000</td>\n",
       "      <td>75.042000</td>\n",
       "    </tr>\n",
       "    <tr>\n",
       "      <th>1</th>\n",
       "      <td>75.069801</td>\n",
       "      <td>75.269501</td>\n",
       "      <td>74.481003</td>\n",
       "      <td>75.063004</td>\n",
       "      <td>75.063004</td>\n",
       "    </tr>\n",
       "    <tr>\n",
       "      <th>2</th>\n",
       "      <td>74.686897</td>\n",
       "      <td>74.726501</td>\n",
       "      <td>74.352997</td>\n",
       "      <td>74.682404</td>\n",
       "      <td>74.682404</td>\n",
       "    </tr>\n",
       "    <tr>\n",
       "      <th>3</th>\n",
       "      <td>74.523804</td>\n",
       "      <td>74.992401</td>\n",
       "      <td>74.523804</td>\n",
       "      <td>74.516998</td>\n",
       "      <td>74.516998</td>\n",
       "    </tr>\n",
       "    <tr>\n",
       "      <th>4</th>\n",
       "      <td>74.623001</td>\n",
       "      <td>74.859001</td>\n",
       "      <td>74.500000</td>\n",
       "      <td>74.623001</td>\n",
       "      <td>74.623001</td>\n",
       "    </tr>\n",
       "  </tbody>\n",
       "</table>\n",
       "</div>"
      ],
      "text/plain": [
       "        Open       High        Low      Close  Adj Close\n",
       "0  75.049500  75.303001  74.946297  75.042000  75.042000\n",
       "1  75.069801  75.269501  74.481003  75.063004  75.063004\n",
       "2  74.686897  74.726501  74.352997  74.682404  74.682404\n",
       "3  74.523804  74.992401  74.523804  74.516998  74.516998\n",
       "4  74.623001  74.859001  74.500000  74.623001  74.623001"
      ]
     },
     "execution_count": 52,
     "metadata": {},
     "output_type": "execute_result"
    }
   ],
   "source": [
    "df.head()"
   ]
  },
  {
   "cell_type": "code",
   "execution_count": 53,
   "id": "971fd1cc",
   "metadata": {},
   "outputs": [],
   "source": [
    "df = df.drop(['Adj Close'],axis = 1)"
   ]
  },
  {
   "cell_type": "markdown",
   "id": "3b4f8b7b",
   "metadata": {
    "id": "3b4f8b7b"
   },
   "source": [
    "1. Now we will spearate the target variable and feature columns in two different dataframe and will check the shape of the dataset for validation purpose.\n",
    "2. Split dataset into train and test dataset.\n",
    "3. Scaling on train dataset."
   ]
  },
  {
   "cell_type": "markdown",
   "id": "655dd38c",
   "metadata": {
    "id": "655dd38c"
   },
   "source": [
    "**1. Now we spearate the target variable and feature columns in two different dataframe and will check the shape of the dataset for validation purpose.**"
   ]
  },
  {
   "cell_type": "code",
   "execution_count": 54,
   "id": "7c63d22b",
   "metadata": {
    "id": "7c63d22b"
   },
   "outputs": [],
   "source": [
    "# Separate target and feature column in X and y variable\n",
    "\n",
    "target = 'Close'\n",
    "\n",
    "# X will be the features\n",
    "X = df[[\"Open\", \"High\", \"Low\"]]\n",
    "#y will be the target variable\n",
    "y = df[target]"
   ]
  },
  {
   "cell_type": "code",
   "execution_count": 55,
   "id": "8f923034",
   "metadata": {
    "id": "8f923034",
    "outputId": "907b44e1-bbaa-4849-cc4f-dbb3b40e28be"
   },
   "outputs": [
    {
     "name": "stdout",
     "output_type": "stream",
     "text": [
      "<class 'pandas.core.frame.DataFrame'>\n",
      "RangeIndex: 262 entries, 0 to 261\n",
      "Data columns (total 3 columns):\n",
      " #   Column  Non-Null Count  Dtype  \n",
      "---  ------  --------------  -----  \n",
      " 0   Open    262 non-null    float64\n",
      " 1   High    262 non-null    float64\n",
      " 2   Low     262 non-null    float64\n",
      "dtypes: float64(3)\n",
      "memory usage: 6.3 KB\n"
     ]
    }
   ],
   "source": [
    "X.info()"
   ]
  },
  {
   "cell_type": "code",
   "execution_count": 56,
   "id": "04510e17",
   "metadata": {
    "id": "04510e17",
    "outputId": "390ad9e4-1608-4c33-8b61-90213c8ab123"
   },
   "outputs": [
    {
     "data": {
      "text/plain": [
       "0      75.042000\n",
       "1      75.063004\n",
       "2      74.682404\n",
       "3      74.516998\n",
       "4      74.623001\n",
       "         ...    \n",
       "257    82.513000\n",
       "258    82.597397\n",
       "259    82.867599\n",
       "260    82.737701\n",
       "261    82.760002\n",
       "Name: Close, Length: 262, dtype: float64"
      ]
     },
     "execution_count": 56,
     "metadata": {},
     "output_type": "execute_result"
    }
   ],
   "source": [
    "y"
   ]
  },
  {
   "cell_type": "code",
   "execution_count": 57,
   "id": "f27caefb",
   "metadata": {
    "id": "f27caefb",
    "outputId": "967e3420-0b07-4d0b-ce2f-a32132c0ec86"
   },
   "outputs": [
    {
     "data": {
      "text/plain": [
       "((262, 3), (262,))"
      ]
     },
     "execution_count": 57,
     "metadata": {},
     "output_type": "execute_result"
    }
   ],
   "source": [
    "# Check the shape of X and y variable\n",
    "X.shape, y.shape"
   ]
  },
  {
   "cell_type": "code",
   "execution_count": 58,
   "id": "4152bf02",
   "metadata": {
    "id": "4152bf02"
   },
   "outputs": [],
   "source": [
    "# Reshape the y variable \n",
    "y = y.values.reshape(-1,1)"
   ]
  },
  {
   "cell_type": "code",
   "execution_count": 59,
   "id": "57c983bf",
   "metadata": {
    "id": "57c983bf",
    "outputId": "b97383cc-67cb-4f87-f633-cb044016c87b"
   },
   "outputs": [
    {
     "data": {
      "text/plain": [
       "((262, 3), (262, 1))"
      ]
     },
     "execution_count": 59,
     "metadata": {},
     "output_type": "execute_result"
    }
   ],
   "source": [
    "# Again check the shape of X and y variable\n",
    "X.shape, y.shape"
   ]
  },
  {
   "cell_type": "markdown",
   "id": "da8e35a9",
   "metadata": {
    "id": "da8e35a9"
   },
   "source": [
    "#### 2. Spliting the dataset in training and testing data. "
   ]
  },
  {
   "cell_type": "markdown",
   "id": "a7d06793",
   "metadata": {
    "id": "a7d06793"
   },
   "source": [
    "*Here we are spliting our dataset into 80/20 percentage where 80% dataset goes into the training part and 20% goes into testing  part.*"
   ]
  },
  {
   "cell_type": "code",
   "execution_count": 60,
   "id": "c7227946",
   "metadata": {
    "id": "c7227946"
   },
   "outputs": [],
   "source": [
    "# Split the X and y into X_train, X_test, y_train, y_test variables with 80-20% split.\n",
    "X_train, X_test, y_train, y_test = train_test_split(X, y, test_size=0.2, random_state=42)"
   ]
  },
  {
   "cell_type": "code",
   "execution_count": 61,
   "id": "cdf4bb69",
   "metadata": {
    "id": "cdf4bb69",
    "outputId": "90135a0a-5ebf-4594-feaa-bf7665cdcd0e"
   },
   "outputs": [
    {
     "data": {
      "text/plain": [
       "((209, 3), (53, 3), (209, 1), (53, 1))"
      ]
     },
     "execution_count": 61,
     "metadata": {},
     "output_type": "execute_result"
    }
   ],
   "source": [
    "# Check shape of the splitted variables\n",
    "X_train.shape, X_test.shape, y_train.shape, y_test.shape"
   ]
  },
  {
   "cell_type": "markdown",
   "id": "9f842d96",
   "metadata": {
    "id": "9f842d96"
   },
   "source": [
    "### Insights: -\n",
    "\n",
    "Train test split technique is used to estimate the performance of machine learning algorithms which are used to make predictions on data not used to train the model.It is a fast and easy procedure to perform, the results of which allow you to compare the performance of machine learning algorithms for your predictive modeling problem. Although simple to use and interpret, there are times when the procedure should not be used, such as when you have a small dataset and situations where additional configuration is required, such as when it is used for classification and the dataset is not balanced.\n",
    "\n",
    "In the next step we will train our model on the basis of our training and testing data."
   ]
  },
  {
   "cell_type": "markdown",
   "id": "4bea705d",
   "metadata": {
    "id": "4bea705d"
   },
   "source": [
    "# Step 3: Model Training"
   ]
  },
  {
   "cell_type": "markdown",
   "id": "b302c8f6",
   "metadata": {
    "id": "b302c8f6"
   },
   "source": [
    "#### Goal:\n",
    "In this step we are going to train our dataset on different classification algorithms. As we know that our target variable is in discrete format so we have to apply classification algorithm. Target variable is a category like filtering.In our dataset we have the outcome variable or Dependent variable i.e Y having only two set of values, either M (Malign) or B(Benign). So we will use Classification algorithm**\n",
    "\n",
    "__Algorithms we are going to use in this step__\n",
    "\n",
    "1. Linear Regression\n",
    "2. Decision Tree Regressor\n",
    "3. Lasso Regression"
   ]
  },
  {
   "cell_type": "markdown",
   "id": "bb77ac56",
   "metadata": {
    "id": "bb77ac56"
   },
   "source": [
    "K-fold cross validation is a procedure used to estimate the skill of the model on new data. There are common tactics that you can use to select the value of k for your dataset. There are commonly used variations on cross-validation, such as stratified and repeated, that are available in scikit-learn"
   ]
  },
  {
   "cell_type": "code",
   "execution_count": 62,
   "id": "59d55dc9",
   "metadata": {
    "id": "59d55dc9"
   },
   "outputs": [],
   "source": [
    "# Define kfold with 10 split\n",
    "cv = KFold(n_splits=10, shuffle=True, random_state=42)"
   ]
  },
  {
   "cell_type": "markdown",
   "id": "f33779e3",
   "metadata": {
    "id": "f33779e3"
   },
   "source": [
    "The goal of cross-validation is to test the model's ability to predict new data that was not used in estimating it, in order to flag problems like overfitting or selection bias and to give an insight on how the model will generalize to an independent dataset (i.e., an unknown dataset, for instance from a real problem)."
   ]
  },
  {
   "cell_type": "markdown",
   "id": "29fd0b08",
   "metadata": {
    "id": "29fd0b08"
   },
   "source": [
    "# 1. Linear Regression"
   ]
  },
  {
   "cell_type": "markdown",
   "id": "eea03568",
   "metadata": {
    "id": "eea03568"
   },
   "source": [
    "Linear regression is an algorithm that provides a linear relationship between an independent variable and a dependent variable to predict the outcome of future events. It is a statistical method used in data science and machine learning for predictive analysis."
   ]
  },
  {
   "cell_type": "markdown",
   "id": "08b7c59e",
   "metadata": {
    "id": "08b7c59e"
   },
   "source": [
    "#### Train set cross-validation "
   ]
  },
  {
   "cell_type": "code",
   "execution_count": 63,
   "id": "4111e09b",
   "metadata": {
    "id": "4111e09b",
    "outputId": "3219c3a2-512a-4855-fb48-e8a17f88b770"
   },
   "outputs": [
    {
     "data": {
      "text/plain": [
       "0.9999975581016342"
      ]
     },
     "execution_count": 63,
     "metadata": {},
     "output_type": "execute_result"
    }
   ],
   "source": [
    "from sklearn.linear_model import LinearRegression\n",
    "\n",
    "model = LinearRegression()\n",
    "model.fit(X_train, y_train)\n",
    "model.score(X_test, y_test)"
   ]
  },
  {
   "cell_type": "code",
   "execution_count": 64,
   "id": "92485565",
   "metadata": {
    "id": "92485565",
    "outputId": "a384df51-a3e4-4cf5-8f1c-c2f6361fce77"
   },
   "outputs": [
    {
     "data": {
      "text/plain": [
       "0.9999920179856804"
      ]
     },
     "execution_count": 64,
     "metadata": {},
     "output_type": "execute_result"
    }
   ],
   "source": [
    "#Accuracy check of trainig data\n",
    "from sklearn.metrics import r2_score\n",
    "#Get R2 score\n",
    "model.score(X_train, y_train)"
   ]
  },
  {
   "cell_type": "code",
   "execution_count": 65,
   "id": "e1c4454c",
   "metadata": {
    "id": "e1c4454c",
    "outputId": "a7a73b5b-d092-43c3-fbeb-10011a0844ad"
   },
   "outputs": [
    {
     "data": {
      "text/plain": [
       "0.9999975581016342"
      ]
     },
     "execution_count": 65,
     "metadata": {},
     "output_type": "execute_result"
    }
   ],
   "source": [
    "#Accuracy of test data\n",
    "model.score(X_test, y_test) "
   ]
  },
  {
   "cell_type": "code",
   "execution_count": 66,
   "id": "5dd77229",
   "metadata": {
    "id": "5dd77229",
    "outputId": "dfd49892-602d-4012-f409-18d06fc110a8"
   },
   "outputs": [
    {
     "data": {
      "text/plain": [
       "array([0.00112061, 0.00112246, 0.00352172, 0.00217188, 0.02122988,\n",
       "       0.00431239, 0.00116978, 0.00205509, 0.00104435, 0.00099837])"
      ]
     },
     "execution_count": 66,
     "metadata": {},
     "output_type": "execute_result"
    }
   ],
   "source": [
    "# Getting kfold values\n",
    "lg_scores = -1 * cross_val_score(model, \n",
    "                                 X_train, \n",
    "                                 y_train, \n",
    "                                 cv=cv, \n",
    "                                 scoring='neg_root_mean_squared_error')\n",
    "lg_scores"
   ]
  },
  {
   "cell_type": "code",
   "execution_count": 67,
   "id": "b0ce79ff",
   "metadata": {
    "id": "b0ce79ff",
    "outputId": "949c4ee7-77d1-4bbb-85b4-eee089e5225a"
   },
   "outputs": [
    {
     "data": {
      "text/plain": [
       "0.0038746551366550122"
      ]
     },
     "execution_count": 67,
     "metadata": {},
     "output_type": "execute_result"
    }
   ],
   "source": [
    "# Mean of the train kfold scores\n",
    "lg_score_train = np.mean(lg_scores)\n",
    "lg_score_train"
   ]
  },
  {
   "cell_type": "markdown",
   "id": "a5f98328",
   "metadata": {
    "id": "a5f98328"
   },
   "source": [
    "### Prediction "
   ]
  },
  {
   "cell_type": "markdown",
   "id": "e1430b99",
   "metadata": {
    "id": "e1430b99"
   },
   "source": [
    "Now we will perform prediction on the dataset using DecisionTree Regressor."
   ]
  },
  {
   "cell_type": "code",
   "execution_count": 68,
   "id": "cc4d8981",
   "metadata": {
    "id": "cc4d8981"
   },
   "outputs": [],
   "source": [
    "y_predicted = model.predict(X_test)"
   ]
  },
  {
   "cell_type": "markdown",
   "id": "20ddb772",
   "metadata": {
    "id": "20ddb772"
   },
   "source": [
    "## Calculation for analysing the predictions.\n"
   ]
  },
  {
   "cell_type": "code",
   "execution_count": 69,
   "id": "bdd25f97",
   "metadata": {
    "id": "bdd25f97",
    "outputId": "a2979870-9b4a-4482-e5c0-06d66618e805"
   },
   "outputs": [
    {
     "name": "stdout",
     "output_type": "stream",
     "text": [
      "The model used is DecisionTree Regressior\n",
      "\n",
      "The accuracy is: 99.99975581016342\n"
     ]
    }
   ],
   "source": [
    "# printing score \n",
    "from sklearn.metrics import classification_report \n",
    "from sklearn.metrics import f1_score, accuracy_score, precision_score,recall_score\n",
    " \n",
    "print(\"The model used is DecisionTree Regressior\")\n",
    "rg = r2_score(y_test,y_predicted)*100\n",
    "print(\"\\nThe accuracy is: {}\".format(rg))"
   ]
  },
  {
   "cell_type": "markdown",
   "id": "a3b79937",
   "metadata": {
    "id": "a3b79937"
   },
   "source": [
    "# 2. DecisionTree Regressor"
   ]
  },
  {
   "cell_type": "markdown",
   "id": "0028008f",
   "metadata": {
    "id": "0028008f"
   },
   "source": [
    "Regression trees are used for dependent variable with continuous values and classification trees are used for dependent variable with discrete values. Basic Theory : Decision tree is derived from the independent variables, with each node having a condition over a feature.\n",
    "\n",
    "Decision Tree is one of the most commonly used, practical approaches for supervised learning. It can be used to solve both Regression and Classification tasks with the latter being put more into practical application. It is a tree-structured classifier with three types of nodes."
   ]
  },
  {
   "cell_type": "markdown",
   "id": "dcec2ff5",
   "metadata": {},
   "source": [
    "#### What does it do?\n",
    "Decision tree builds regression or classification models in the form of a tree structure. It breaks down a dataset into smaller and smaller subsets while at the same time an associated decision tree is incrementally developed. The final result is a tree with decision nodes and leaf nodes."
   ]
  },
  {
   "cell_type": "code",
   "execution_count": 70,
   "id": "cde10428",
   "metadata": {
    "id": "cde10428",
    "outputId": "560d35f5-470e-48d4-eb86-89b7a50a92d7"
   },
   "outputs": [
    {
     "data": {
      "text/plain": [
       "DecisionTreeRegressor()"
      ]
     },
     "execution_count": 70,
     "metadata": {},
     "output_type": "execute_result"
    }
   ],
   "source": [
    "from sklearn.tree import DecisionTreeRegressor\n",
    "DTR = DecisionTreeRegressor()\n",
    "DTR.fit(X_train, y_train)"
   ]
  },
  {
   "cell_type": "code",
   "execution_count": 71,
   "id": "da25a1fa",
   "metadata": {
    "id": "da25a1fa",
    "outputId": "5d6db635-402f-457b-d237-d855eabc3b1f"
   },
   "outputs": [
    {
     "data": {
      "text/plain": [
       "1.0"
      ]
     },
     "execution_count": 71,
     "metadata": {},
     "output_type": "execute_result"
    }
   ],
   "source": [
    "#Accuracy check of trainig data\n",
    "\n",
    "#Get R2 score\n",
    "DTR.score(X_train, y_train)"
   ]
  },
  {
   "cell_type": "code",
   "execution_count": 72,
   "id": "0d68e564",
   "metadata": {},
   "outputs": [
    {
     "data": {
      "text/plain": [
       "0.9993522262479448"
      ]
     },
     "execution_count": 72,
     "metadata": {},
     "output_type": "execute_result"
    }
   ],
   "source": [
    "#Accuracy check of test data\n",
    "\n",
    "#Get R2 score\n",
    "DTR.score(X_test, y_test) "
   ]
  },
  {
   "cell_type": "code",
   "execution_count": 73,
   "id": "259798ad",
   "metadata": {
    "id": "259798ad",
    "outputId": "ceab4654-2372-42ac-d2ec-5cd3796434de"
   },
   "outputs": [
    {
     "data": {
      "text/plain": [
       "array([0.02539905, 0.02405156, 0.12523019, 0.12304253, 0.12300159,\n",
       "       0.11591443, 0.06475748, 0.17631274, 0.06896097, 0.03851396])"
      ]
     },
     "execution_count": 73,
     "metadata": {},
     "output_type": "execute_result"
    }
   ],
   "source": [
    "# Getting kfold values\n",
    "DTR_scores = -1 * cross_val_score(DTR, \n",
    "                                 X_train, \n",
    "                                 y_train, \n",
    "                                 cv=cv, \n",
    "                                 scoring='neg_root_mean_squared_error')\n",
    "DTR_scores"
   ]
  },
  {
   "cell_type": "code",
   "execution_count": 74,
   "id": "a837ba6a",
   "metadata": {},
   "outputs": [
    {
     "data": {
      "text/plain": [
       "0.08851845129372168"
      ]
     },
     "execution_count": 74,
     "metadata": {},
     "output_type": "execute_result"
    }
   ],
   "source": [
    "DTR_score_train = np.mean(DTR_scores)\n",
    "DTR_score_train"
   ]
  },
  {
   "cell_type": "markdown",
   "id": "0afac9bf",
   "metadata": {
    "id": "0afac9bf"
   },
   "source": [
    "### Prediction"
   ]
  },
  {
   "cell_type": "code",
   "execution_count": 75,
   "id": "6d0099fb",
   "metadata": {},
   "outputs": [],
   "source": [
    "y_predicted = DTR.predict(X_test)"
   ]
  },
  {
   "cell_type": "code",
   "execution_count": 76,
   "id": "ec4de5e1",
   "metadata": {},
   "outputs": [
    {
     "name": "stdout",
     "output_type": "stream",
     "text": [
      "The model used is DecisionTree Regressor\n",
      "\n",
      "The accuracy is: 99.93522262479448\n"
     ]
    }
   ],
   "source": [
    "# printing score \n",
    "from sklearn.metrics import classification_report \n",
    "from sklearn.metrics import f1_score, accuracy_score, precision_score,recall_score\n",
    " \n",
    "print(\"The model used is DecisionTree Regressor\")\n",
    "rg1 = r2_score(y_test,y_predicted)*100\n",
    "print(\"\\nThe accuracy is: {}\".format(rg1))"
   ]
  },
  {
   "cell_type": "markdown",
   "id": "4921cfa7",
   "metadata": {
    "id": "4921cfa7"
   },
   "source": [
    "# 3. Lasso Regression"
   ]
  },
  {
   "cell_type": "markdown",
   "id": "5fa3fdfd",
   "metadata": {
    "id": "5fa3fdfd"
   },
   "source": [
    "Lasso regression performs L1 regularization, which adds a penalty equal to the absolute value of the magnitude of coefficients. This type of regularization can result in sparse models with few coefficients; Some coefficients can become zero and eliminated from the model. Larger penalties result in coefficient values closer to zero, which is the ideal for producing simpler models. On the other hand, L2 regularization (e.g. Ridge regression) doesn’t result in elimination of coefficients or sparse models. This makes the Lasso far easier to interpret than the Ridge."
   ]
  },
  {
   "cell_type": "code",
   "execution_count": 77,
   "id": "afa830ae",
   "metadata": {
    "id": "afa830ae",
    "outputId": "2b12daf7-b7cc-44b4-b2f7-39c227ebffa7"
   },
   "outputs": [],
   "source": [
    "#Using Lasso Regression Method to the Training dataset\n",
    "ls_reg = LassoCV()\n",
    "ls_reg = ls_reg.fit(X_train, y_train)\n"
   ]
  },
  {
   "cell_type": "code",
   "execution_count": 78,
   "id": "ad7b1ba2",
   "metadata": {
    "id": "ad7b1ba2",
    "outputId": "0e6f9899-be14-4c20-cf83-ff5ff0cf424e"
   },
   "outputs": [
    {
     "data": {
      "text/plain": [
       "0.9999909608489055"
      ]
     },
     "execution_count": 78,
     "metadata": {},
     "output_type": "execute_result"
    }
   ],
   "source": [
    "#Accuracy check of trainig data\n",
    "#Get R2 score\n",
    "ls_reg.score(X_train, y_train)"
   ]
  },
  {
   "cell_type": "code",
   "execution_count": 79,
   "id": "cc4e16bc",
   "metadata": {
    "id": "cc4e16bc",
    "outputId": "3f92acbe-9425-4d91-c849-1bf9130da335"
   },
   "outputs": [
    {
     "data": {
      "text/plain": [
       "0.9999964480867503"
      ]
     },
     "execution_count": 79,
     "metadata": {},
     "output_type": "execute_result"
    }
   ],
   "source": [
    "#Accuracy check of test data\n",
    "#Get R2 score\n",
    "ls_reg.score(X_test, y_test)  "
   ]
  },
  {
   "cell_type": "code",
   "execution_count": 80,
   "id": "bbeee049",
   "metadata": {
    "id": "bbeee049",
    "outputId": "b11358fe-1a6e-44a7-97cb-05666a817c4e"
   },
   "outputs": [
    {
     "data": {
      "text/plain": [
       "array([0.00150912, 0.00127935, 0.00313551, 0.00402472, 0.02213135,\n",
       "       0.00385749, 0.00216087, 0.00264327, 0.00172168, 0.00139652])"
      ]
     },
     "execution_count": 80,
     "metadata": {},
     "output_type": "execute_result"
    }
   ],
   "source": [
    "#Get kfold values\n",
    "lasso_scores = -1 * cross_val_score(ls_reg, \n",
    "                                    X_train, \n",
    "                                    y_train, \n",
    "                                    cv=cv, \n",
    "                                    scoring='neg_root_mean_squared_error')\n",
    "lasso_scores\n"
   ]
  },
  {
   "cell_type": "code",
   "execution_count": 81,
   "id": "c31be3e6",
   "metadata": {
    "id": "c31be3e6",
    "outputId": "95e19dfb-b8ab-4591-dda4-f88fa6180312"
   },
   "outputs": [
    {
     "data": {
      "text/plain": [
       "0.004385988357486041"
      ]
     },
     "execution_count": 81,
     "metadata": {},
     "output_type": "execute_result"
    }
   ],
   "source": [
    "# Mean of the train kfold scores\n",
    "lasso_score_train = np.mean(lasso_scores)\n",
    "lasso_score_train"
   ]
  },
  {
   "cell_type": "markdown",
   "id": "5f289821",
   "metadata": {
    "id": "5f289821"
   },
   "source": [
    "### Prediction "
   ]
  },
  {
   "cell_type": "code",
   "execution_count": 82,
   "id": "1b18c12d",
   "metadata": {
    "id": "1b18c12d"
   },
   "outputs": [],
   "source": [
    "# Predict the values on X_test_scaled dataset \n",
    "y_predicted = ls_reg.predict(X_test)"
   ]
  },
  {
   "cell_type": "markdown",
   "id": "36655331",
   "metadata": {
    "id": "36655331"
   },
   "source": [
    "### Evaluating all kinds of evaluating parameters. "
   ]
  },
  {
   "cell_type": "code",
   "execution_count": 83,
   "id": "26adbb11",
   "metadata": {
    "id": "26adbb11"
   },
   "outputs": [
    {
     "name": "stdout",
     "output_type": "stream",
     "text": [
      "The model used is DecisionTree Regressior\n",
      "\n",
      "The accuracy is: 99.99964480867503\n"
     ]
    }
   ],
   "source": [
    "from sklearn.metrics import f1_score, accuracy_score, precision_score,recall_score\n",
    "  \n",
    "print(\"The model used is DecisionTree Regressior\")\n",
    "rg3 = r2_score(y_test,y_predicted)*100\n",
    "print(\"\\nThe accuracy is: {}\".format(rg3))"
   ]
  },
  {
   "cell_type": "markdown",
   "id": "c56678be",
   "metadata": {
    "id": "c56678be"
   },
   "source": [
    "# Insight: -"
   ]
  },
  {
   "cell_type": "code",
   "execution_count": 84,
   "id": "605cc7b8",
   "metadata": {
    "id": "605cc7b8",
    "outputId": "128b12b9-7751-42f2-ee64-c3ee6342f018"
   },
   "outputs": [
    {
     "data": {
      "text/html": [
       "<div>\n",
       "<style scoped>\n",
       "    .dataframe tbody tr th:only-of-type {\n",
       "        vertical-align: middle;\n",
       "    }\n",
       "\n",
       "    .dataframe tbody tr th {\n",
       "        vertical-align: top;\n",
       "    }\n",
       "\n",
       "    .dataframe thead th {\n",
       "        text-align: right;\n",
       "    }\n",
       "</style>\n",
       "<table border=\"1\" class=\"dataframe\">\n",
       "  <thead>\n",
       "    <tr style=\"text-align: right;\">\n",
       "      <th></th>\n",
       "      <th>Accuracy</th>\n",
       "    </tr>\n",
       "  </thead>\n",
       "  <tbody>\n",
       "    <tr>\n",
       "      <th>Linear Regression</th>\n",
       "      <td>99.999756</td>\n",
       "    </tr>\n",
       "    <tr>\n",
       "      <th>DecisionTree Regressor</th>\n",
       "      <td>99.935223</td>\n",
       "    </tr>\n",
       "    <tr>\n",
       "      <th>Lasso Regression</th>\n",
       "      <td>99.999645</td>\n",
       "    </tr>\n",
       "  </tbody>\n",
       "</table>\n",
       "</div>"
      ],
      "text/plain": [
       "                         Accuracy\n",
       "Linear Regression       99.999756\n",
       "DecisionTree Regressor  99.935223\n",
       "Lasso Regression        99.999645"
      ]
     },
     "execution_count": 84,
     "metadata": {},
     "output_type": "execute_result"
    }
   ],
   "source": [
    "cal_metric=pd.DataFrame([rg,rg1,rg3],columns=[\"Accuracy\"])\n",
    "cal_metric.index=['Linear Regression',\n",
    "                  'DecisionTree Regressor',\n",
    "                  'Lasso Regression']\n",
    "cal_metric"
   ]
  },
  {
   "cell_type": "markdown",
   "id": "dd1fc793",
   "metadata": {
    "id": "dd1fc793"
   },
   "source": [
    "\n",
    "- As you can see with our Decesion Tree Regressor(99.93%) we are getting a better result.\n",
    "- So we gonna save our model now."
   ]
  },
  {
   "cell_type": "markdown",
   "id": "15c53205",
   "metadata": {
    "id": "15c53205"
   },
   "source": [
    "# Step 4: Save Model\n",
    "**Goal:- In this step we are going to save our model in pickel format file.**"
   ]
  },
  {
   "cell_type": "code",
   "execution_count": 92,
   "id": "86b5ce82",
   "metadata": {
    "id": "86b5ce82"
   },
   "outputs": [],
   "source": [
    "import pickle\n",
    "pickle.dump(model , open('currency-exchange-rate-prediction_linear.pkl', 'wb'))\n",
    "pickle.dump(DTR , open('currency-exchange-rate-prediction_DTR.pkl', 'wb'))\n",
    "pickle.dump(ls_reg , open('currency-exchange-rate-prediction_lasso.pkl', 'wb'))"
   ]
  },
  {
   "cell_type": "code",
   "execution_count": 93,
   "id": "cd45e83c",
   "metadata": {
    "id": "cd45e83c"
   },
   "outputs": [],
   "source": [
    "import pickle\n",
    "\n",
    "def model_prediction(features):\n",
    "    \n",
    "    pickled_model = pickle.load(open('currency-exchange-rate-prediction_DTR.pkl', 'rb'))\n",
    "    Close = str(list(pickled_model.predict(features)))\n",
    "    \n",
    "    return str(f'The Close amount is {Close}')"
   ]
  },
  {
   "cell_type": "code",
   "execution_count": 94,
   "id": "80416224",
   "metadata": {},
   "outputs": [
    {
     "data": {
      "text/html": [
       "<div>\n",
       "<style scoped>\n",
       "    .dataframe tbody tr th:only-of-type {\n",
       "        vertical-align: middle;\n",
       "    }\n",
       "\n",
       "    .dataframe tbody tr th {\n",
       "        vertical-align: top;\n",
       "    }\n",
       "\n",
       "    .dataframe thead th {\n",
       "        text-align: right;\n",
       "    }\n",
       "</style>\n",
       "<table border=\"1\" class=\"dataframe\">\n",
       "  <thead>\n",
       "    <tr style=\"text-align: right;\">\n",
       "      <th></th>\n",
       "      <th>Open</th>\n",
       "      <th>High</th>\n",
       "      <th>Low</th>\n",
       "      <th>Close</th>\n",
       "    </tr>\n",
       "  </thead>\n",
       "  <tbody>\n",
       "    <tr>\n",
       "      <th>0</th>\n",
       "      <td>75.049500</td>\n",
       "      <td>75.303001</td>\n",
       "      <td>74.946297</td>\n",
       "      <td>75.042000</td>\n",
       "    </tr>\n",
       "    <tr>\n",
       "      <th>1</th>\n",
       "      <td>75.069801</td>\n",
       "      <td>75.269501</td>\n",
       "      <td>74.481003</td>\n",
       "      <td>75.063004</td>\n",
       "    </tr>\n",
       "    <tr>\n",
       "      <th>2</th>\n",
       "      <td>74.686897</td>\n",
       "      <td>74.726501</td>\n",
       "      <td>74.352997</td>\n",
       "      <td>74.682404</td>\n",
       "    </tr>\n",
       "    <tr>\n",
       "      <th>3</th>\n",
       "      <td>74.523804</td>\n",
       "      <td>74.992401</td>\n",
       "      <td>74.523804</td>\n",
       "      <td>74.516998</td>\n",
       "    </tr>\n",
       "    <tr>\n",
       "      <th>4</th>\n",
       "      <td>74.623001</td>\n",
       "      <td>74.859001</td>\n",
       "      <td>74.500000</td>\n",
       "      <td>74.623001</td>\n",
       "    </tr>\n",
       "  </tbody>\n",
       "</table>\n",
       "</div>"
      ],
      "text/plain": [
       "        Open       High        Low      Close\n",
       "0  75.049500  75.303001  74.946297  75.042000\n",
       "1  75.069801  75.269501  74.481003  75.063004\n",
       "2  74.686897  74.726501  74.352997  74.682404\n",
       "3  74.523804  74.992401  74.523804  74.516998\n",
       "4  74.623001  74.859001  74.500000  74.623001"
      ]
     },
     "execution_count": 94,
     "metadata": {},
     "output_type": "execute_result"
    }
   ],
   "source": [
    "df.head()"
   ]
  },
  {
   "cell_type": "markdown",
   "id": "291ec5e4",
   "metadata": {
    "id": "291ec5e4"
   },
   "source": [
    "#### We can test our model by giving our own parameters or features to predict. "
   ]
  },
  {
   "cell_type": "code",
   "execution_count": 95,
   "id": "0d468f6b",
   "metadata": {
    "id": "0d468f6b"
   },
   "outputs": [],
   "source": [
    "Open = 74.52\n",
    "High = 75.85\n",
    "Low = 74.00"
   ]
  },
  {
   "cell_type": "code",
   "execution_count": 96,
   "id": "380e138c",
   "metadata": {
    "id": "380e138c",
    "outputId": "b64abd67-fa23-4611-930a-ac90dbeaa529"
   },
   "outputs": [
    {
     "data": {
      "text/plain": [
       "'The Close amount is [74.516998]'"
      ]
     },
     "execution_count": 96,
     "metadata": {},
     "output_type": "execute_result"
    }
   ],
   "source": [
    "model_prediction([[Open,High,Low]])"
   ]
  },
  {
   "cell_type": "markdown",
   "id": "a46d931d",
   "metadata": {
    "id": "a46d931d"
   },
   "source": [
    "# Step 5: After making model and checking its accuracy, we are going to deploy it in API/ Web App. "
   ]
  },
  {
   "cell_type": "markdown",
   "id": "e1d76588",
   "metadata": {
    "id": "e1d76588"
   },
   "source": [
    "This step holds a great importance as in this step we make a Web API which integrates our model and let it interacts with user.\n",
    "The user simply put data he is asked to fill and our API will help in predicting."
   ]
  },
  {
   "cell_type": "markdown",
   "id": "d64a42a0",
   "metadata": {
    "id": "d64a42a0"
   },
   "source": [
    "### There are many methods to create Web Application like Flask, Streamlit, etc. We going to use streamlit to create API. Below is an API refrence. "
   ]
  },
  {
   "cell_type": "markdown",
   "id": "ceceb746",
   "metadata": {
    "id": "ceceb746"
   },
   "source": [
    "https://tinyurl.com/bdexnk6v"
   ]
  },
  {
   "cell_type": "markdown",
   "id": "5c1aae78",
   "metadata": {
    "id": "5c1aae78"
   },
   "source": [
    "# Conclusion"
   ]
  },
  {
   "cell_type": "markdown",
   "id": "1ab4e800",
   "metadata": {
    "id": "1ab4e800"
   },
   "source": [
    "After observing the problem statement we have build an efficient model to overcome it. The above model helps in predicting currency exchange rate. The accuracy of the model is 99.99%."
   ]
  }
 ],
 "metadata": {
  "colab": {
   "provenance": []
  },
  "kernelspec": {
   "display_name": "Python 3 (ipykernel)",
   "language": "python",
   "name": "python3"
  },
  "language_info": {
   "codemirror_mode": {
    "name": "ipython",
    "version": 3
   },
   "file_extension": ".py",
   "mimetype": "text/x-python",
   "name": "python",
   "nbconvert_exporter": "python",
   "pygments_lexer": "ipython3",
   "version": "3.9.12"
  },
  "vscode": {
   "interpreter": {
    "hash": "26de051ba29f2982a8de78e945f0abaf191376122a1563185a90213a26c5da77"
   }
  }
 },
 "nbformat": 4,
 "nbformat_minor": 5
}
