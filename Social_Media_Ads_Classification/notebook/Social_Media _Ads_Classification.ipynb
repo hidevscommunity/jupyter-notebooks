{
 "cells": [
  {
   "cell_type": "markdown",
   "id": "ac4a9a46",
   "metadata": {
    "id": "ac4a9a46"
   },
   "source": [
    "# Build a model to predict the ads for classifying whether your target audience will buy the product or not."
   ]
  },
  {
   "cell_type": "markdown",
   "id": "cf2442c0",
   "metadata": {
    "id": "cf2442c0"
   },
   "source": [
    "# Objective: -\n",
    "Classifying social media ads means analyzing your social media ads for finding the most profitable customers for your product who are more likely to buy the product. Sometimes the product you are offering is not suitable for all people when it comes to age and income. For example, a person between the ages of 20 and 25 may like to spend more on smartphone covers than a person between the ages of 40 and 45.\n",
    "\n",
    "Likewise, a high-income person can afford to spend more on luxury goods than a low-income person. So this is how a business can determine whether a person will buy their product or not by classifying their social media ads. "
   ]
  },
  {
   "cell_type": "markdown",
   "id": "58e2345d",
   "metadata": {
    "id": "58e2345d"
   },
   "source": [
    "This task is important for every advertising agency because the commercial value of promotions on the Internet depends only on how the user responds to them. "
   ]
  },
  {
   "cell_type": "markdown",
   "id": "bb269461",
   "metadata": {
    "id": "bb269461"
   },
   "source": [
    "The goal of this challenge is to build a machine learning model that predicts and classify social media ads. Classifying social media ads means analyzing your social media ads for finding the most profitable customers for your product who are more likely to buy the product. "
   ]
  },
  {
   "cell_type": "markdown",
   "id": "996ba73a",
   "metadata": {
    "id": "996ba73a"
   },
   "source": [
    "# Dataset: -\n",
    "\n",
    "The dataset is openly available on Kaggle."
   ]
  },
  {
   "cell_type": "markdown",
   "id": "300eda4c",
   "metadata": {
    "id": "300eda4c"
   },
   "source": [
    "Attribute Information:\n",
    "1. the age of the target audience\n",
    "2. the estimated salary of the target audience\n",
    "3. and whether the target audience has purchased the product or not"
   ]
  },
  {
   "cell_type": "markdown",
   "id": "e3b60038",
   "metadata": {
    "id": "e3b60038"
   },
   "source": [
    "# Step 1: Import all the required libraries\n",
    "\n",
    "- __Pandas__ : In computer programming, pandas is a software library written for the Python programming language for data manipulation and analysis and storing in a proper way. In particular, it offers data structures and operations for manipulating numerical tables and time series\n",
    "- __Sklearn__ : Scikit-learn (formerly scikits.learn) is a free software machine learning library for the Python programming language. It features various classification, regression and clustering algorithms including support vector machines, random forests, gradient boosting, k-means and DBSCAN, and is designed to interoperate with the Python numerical and scientific libraries NumPy and SciPy. The library is built upon the SciPy (Scientific Python) that must be installed before you can use scikit-learn.\n",
    "- __Pickle__ : Python pickle module is used for serializing and de-serializing a Python object structure. Pickling is a way to convert a python object (list, dict, etc.) into a character stream. The idea is that this character stream contains all the information necessary to reconstruct the object in another python script.\n",
    "- __Seaborn__ : Seaborn is a Python data visualization library based on matplotlib. It provides a high-level interface for drawing attractive and informative statistical graphics.\n",
    "- __Matplotlib__ : Matplotlib is a plotting library for the Python programming language and its numerical mathematics extension NumPy. It provides an object-oriented API for embedding plots into applications using general-purpose GUI toolkits like Tkinter, wxPython, Qt, or GTK."
   ]
  },
  {
   "cell_type": "code",
   "execution_count": 3,
   "id": "fc957303",
   "metadata": {
    "id": "fc957303"
   },
   "outputs": [],
   "source": [
    "#Loading libraries \n",
    "import pandas as pd\n",
    "import seaborn as sns\n",
    "import pickle\n",
    "import numpy as np\n",
    "import matplotlib.pyplot as plt\n",
    "from sklearn.metrics import r2_score\n",
    "from sklearn.preprocessing import scale \n",
    "from sklearn.linear_model import LinearRegression, Ridge, RidgeCV, Lasso, LassoCV\n",
    "from sklearn.model_selection import KFold, cross_val_score, train_test_split\n",
    "import warnings\n",
    "\n",
    "warnings.filterwarnings('ignore')"
   ]
  },
  {
   "cell_type": "markdown",
   "id": "1d0d47d5",
   "metadata": {
    "id": "1d0d47d5"
   },
   "source": [
    "# Step 2 : Read dataset and basic details of dataset\n",
    "Goal:- In this step we are going to read the dataset, view the dataset and analysis the basic details like total number of rows and columns, what are the column data types and see to need to create new column or not.\n"
   ]
  },
  {
   "cell_type": "markdown",
   "id": "9d9e6568",
   "metadata": {
    "id": "9d9e6568"
   },
   "source": [
    "In this stage we are going to read our problem dataset and have a look on it."
   ]
  },
  {
   "cell_type": "code",
   "execution_count": 5,
   "id": "da81da2c",
   "metadata": {
    "id": "da81da2c",
    "outputId": "26afa39a-ecf0-4f27-9328-b6c506059525"
   },
   "outputs": [
    {
     "name": "stdout",
     "output_type": "stream",
     "text": [
      "Data read done successfully...\n"
     ]
    }
   ],
   "source": [
    "#loading the dataset\n",
    "try:\n",
    "    df = pd.read_csv('C:/Users/Sakshi Rohida/Desktop/deepak sir ML projects/Social_Media_Ads_Classification/data/social.csv') #Path for the file\n",
    "    print('Data read done successfully...')\n",
    "except (FileNotFoundError, IOError):\n",
    "    print(\"Wrong file or file path\")   "
   ]
  },
  {
   "cell_type": "code",
   "execution_count": 6,
   "id": "fdca2fc4",
   "metadata": {
    "id": "fdca2fc4",
    "outputId": "7b935e45-86da-4348-d1b7-b227e1f54241"
   },
   "outputs": [
    {
     "data": {
      "text/html": [
       "<div>\n",
       "<style scoped>\n",
       "    .dataframe tbody tr th:only-of-type {\n",
       "        vertical-align: middle;\n",
       "    }\n",
       "\n",
       "    .dataframe tbody tr th {\n",
       "        vertical-align: top;\n",
       "    }\n",
       "\n",
       "    .dataframe thead th {\n",
       "        text-align: right;\n",
       "    }\n",
       "</style>\n",
       "<table border=\"1\" class=\"dataframe\">\n",
       "  <thead>\n",
       "    <tr style=\"text-align: right;\">\n",
       "      <th></th>\n",
       "      <th>Age</th>\n",
       "      <th>EstimatedSalary</th>\n",
       "      <th>Purchased</th>\n",
       "    </tr>\n",
       "  </thead>\n",
       "  <tbody>\n",
       "    <tr>\n",
       "      <th>0</th>\n",
       "      <td>19</td>\n",
       "      <td>19000</td>\n",
       "      <td>0</td>\n",
       "    </tr>\n",
       "    <tr>\n",
       "      <th>1</th>\n",
       "      <td>35</td>\n",
       "      <td>20000</td>\n",
       "      <td>0</td>\n",
       "    </tr>\n",
       "    <tr>\n",
       "      <th>2</th>\n",
       "      <td>26</td>\n",
       "      <td>43000</td>\n",
       "      <td>0</td>\n",
       "    </tr>\n",
       "    <tr>\n",
       "      <th>3</th>\n",
       "      <td>27</td>\n",
       "      <td>57000</td>\n",
       "      <td>0</td>\n",
       "    </tr>\n",
       "    <tr>\n",
       "      <th>4</th>\n",
       "      <td>19</td>\n",
       "      <td>76000</td>\n",
       "      <td>0</td>\n",
       "    </tr>\n",
       "  </tbody>\n",
       "</table>\n",
       "</div>"
      ],
      "text/plain": [
       "   Age  EstimatedSalary  Purchased\n",
       "0   19            19000          0\n",
       "1   35            20000          0\n",
       "2   26            43000          0\n",
       "3   27            57000          0\n",
       "4   19            76000          0"
      ]
     },
     "execution_count": 6,
     "metadata": {},
     "output_type": "execute_result"
    }
   ],
   "source": [
    "# To view the content inside the dataset we can use the head() method that returns a specified number of rows, string from the top. \n",
    "# The head() method returns the first 5 rows if a number is not specified.\n",
    "df.head()"
   ]
  },
  {
   "cell_type": "markdown",
   "id": "1f5eef51",
   "metadata": {
    "id": "1f5eef51"
   },
   "source": [
    "# Step3: Data Preprocessing"
   ]
  },
  {
   "cell_type": "markdown",
   "id": "y_Dey6TlihNc",
   "metadata": {
    "id": "y_Dey6TlihNc"
   },
   "source": [
    "**Why need of Data Preprocessing?**"
   ]
  },
  {
   "cell_type": "markdown",
   "id": "784d8c07",
   "metadata": {
    "id": "784d8c07"
   },
   "source": [
    "Preprocessing data is an important step for data analysis. The following are some benefits of preprocessing data:\n",
    "\n",
    " - It improves accuracy and reliability. Preprocessing data removes missing or inconsistent data values resulting from human or computer error, which can improve the accuracy and quality of a dataset, making it more reliable.\n",
    " - It makes data consistent. When collecting data, it's possible to have data duplicates, and discarding them during preprocessing can ensure the data values for analysis are consistent, which helps produce accurate results.\n",
    " - It increases the data's algorithm readability. Preprocessing enhances the data's quality and makes it easier for machine learning algorithms to read, use, and interpret it."
   ]
  },
  {
   "cell_type": "markdown",
   "id": "530c0778",
   "metadata": {
    "id": "530c0778"
   },
   "source": [
    "After we read the data, we can look at the data using:"
   ]
  },
  {
   "cell_type": "code",
   "execution_count": 7,
   "id": "1b66e1e0",
   "metadata": {
    "id": "1b66e1e0",
    "outputId": "8cacd3e4-8f8b-4548-e625-ac1912713e01"
   },
   "outputs": [
    {
     "name": "stdout",
     "output_type": "stream",
     "text": [
      "The train data has 400 rows and 3 columns\n"
     ]
    }
   ],
   "source": [
    "# count the total number of rows and columns.\n",
    "print ('The train data has {0} rows and {1} columns'.format(df.shape[0],df.shape[1]))"
   ]
  },
  {
   "cell_type": "markdown",
   "id": "dd5dcadd",
   "metadata": {
    "id": "dd5dcadd"
   },
   "source": [
    "#### By analysing the problem statement and the dataset, we get to know that the target variable is \"Clicked on Ad\" column which says if the ad is clicked then it is 1 or if it is not clicked its 0."
   ]
  },
  {
   "cell_type": "code",
   "execution_count": 8,
   "id": "62fa12ce",
   "metadata": {
    "id": "62fa12ce",
    "outputId": "7ca5e9c5-20ed-49fe-eaab-f9e30b6a81bf"
   },
   "outputs": [
    {
     "data": {
      "text/plain": [
       "0    257\n",
       "1    143\n",
       "Name: Purchased, dtype: int64"
      ]
     },
     "execution_count": 8,
     "metadata": {},
     "output_type": "execute_result"
    }
   ],
   "source": [
    "df['Purchased'].value_counts()"
   ]
  },
  {
   "cell_type": "markdown",
   "id": "a12ae2c4",
   "metadata": {
    "id": "a12ae2c4"
   },
   "source": [
    "#### The df.value_counts() method counts the number of types of values a particular column contains. "
   ]
  },
  {
   "cell_type": "code",
   "execution_count": 9,
   "id": "93672063",
   "metadata": {
    "id": "93672063",
    "outputId": "bff3b15b-a43e-4b42-dfa5-677557433a13"
   },
   "outputs": [
    {
     "data": {
      "text/plain": [
       "(400, 3)"
      ]
     },
     "execution_count": 9,
     "metadata": {},
     "output_type": "execute_result"
    }
   ],
   "source": [
    "df.shape"
   ]
  },
  {
   "cell_type": "markdown",
   "id": "2646b822",
   "metadata": {
    "id": "2646b822"
   },
   "source": [
    "#### The df.shape method shows the shape of the dataset. "
   ]
  },
  {
   "cell_type": "markdown",
   "id": "8a02797c",
   "metadata": {
    "id": "8a02797c"
   },
   "source": [
    "We can identify that out of the 1000 rows, 5083 are valued as 0 and 4917 are valued as 1."
   ]
  },
  {
   "cell_type": "code",
   "execution_count": 10,
   "id": "98f3c269",
   "metadata": {
    "id": "98f3c269",
    "outputId": "e8d59f3a-1028-4916-d917-913ca8398b50"
   },
   "outputs": [
    {
     "name": "stdout",
     "output_type": "stream",
     "text": [
      "<class 'pandas.core.frame.DataFrame'>\n",
      "RangeIndex: 400 entries, 0 to 399\n",
      "Data columns (total 3 columns):\n",
      " #   Column           Non-Null Count  Dtype\n",
      "---  ------           --------------  -----\n",
      " 0   Age              400 non-null    int64\n",
      " 1   EstimatedSalary  400 non-null    int64\n",
      " 2   Purchased        400 non-null    int64\n",
      "dtypes: int64(3)\n",
      "memory usage: 9.5 KB\n"
     ]
    }
   ],
   "source": [
    "df.info()"
   ]
  },
  {
   "cell_type": "markdown",
   "id": "f4e190fe",
   "metadata": {
    "id": "f4e190fe"
   },
   "source": [
    "#### The df.info() method prints information about a DataFrame including the index dtype and columns, non-null values and memory usage. "
   ]
  },
  {
   "cell_type": "code",
   "execution_count": 11,
   "id": "c821b2c9",
   "metadata": {
    "id": "c821b2c9",
    "outputId": "60411ed1-e59e-4781-9c9d-91b671fa9555"
   },
   "outputs": [
    {
     "data": {
      "text/plain": [
       "Age                   35\n",
       "EstimatedSalary    20000\n",
       "Purchased              0\n",
       "Name: 1, dtype: int64"
      ]
     },
     "execution_count": 11,
     "metadata": {},
     "output_type": "execute_result"
    }
   ],
   "source": [
    "df.iloc[1]"
   ]
  },
  {
   "cell_type": "markdown",
   "id": "a3bc946f",
   "metadata": {
    "id": "a3bc946f"
   },
   "source": [
    "####  df.iloc[ ] is primarily integer position based (from 0 to length-1 of the axis), but may also be used with a boolean array. The iloc property gets, or sets, the value(s) of the specified indexes."
   ]
  },
  {
   "cell_type": "markdown",
   "id": "950d90b8",
   "metadata": {
    "id": "950d90b8"
   },
   "source": [
    "### Data Type Check for every column"
   ]
  },
  {
   "cell_type": "markdown",
   "id": "QVXWeI2qjFGS",
   "metadata": {
    "id": "QVXWeI2qjFGS"
   },
   "source": [
    "**Why data type check is required?**"
   ]
  },
  {
   "cell_type": "markdown",
   "id": "abea9419",
   "metadata": {
    "id": "abea9419"
   },
   "source": [
    "Data type check helps us with understanding what type of variables our dataset contains. It helps us with identifying whether to keep that variable or not. If the dataset contains contiguous data, then only float and integer type variables will be beneficial and if we have to classify any value then categorical variables will be beneficial."
   ]
  },
  {
   "cell_type": "code",
   "execution_count": 12,
   "id": "b0687ddf",
   "metadata": {
    "id": "b0687ddf"
   },
   "outputs": [],
   "source": [
    "objects_cols = ['object']\n",
    "objects_lst = list(df.select_dtypes(include=objects_cols).columns)"
   ]
  },
  {
   "cell_type": "code",
   "execution_count": 13,
   "id": "15f53da9",
   "metadata": {
    "id": "15f53da9",
    "outputId": "c027554e-14b5-491d-8fa5-7532146ef6f6"
   },
   "outputs": [
    {
     "name": "stdout",
     "output_type": "stream",
     "text": [
      "Total number of categorical columns are  0\n",
      "There names are as follows:  []\n"
     ]
    }
   ],
   "source": [
    "print(\"Total number of categorical columns are \", len(objects_lst))\n",
    "print(\"There names are as follows: \", objects_lst)"
   ]
  },
  {
   "cell_type": "code",
   "execution_count": 14,
   "id": "3d75e307",
   "metadata": {
    "id": "3d75e307"
   },
   "outputs": [],
   "source": [
    "int64_cols = ['int64']\n",
    "int64_lst = list(df.select_dtypes(include=int64_cols).columns)"
   ]
  },
  {
   "cell_type": "code",
   "execution_count": 15,
   "id": "4ef4e489",
   "metadata": {
    "id": "4ef4e489",
    "outputId": "a889b76d-9b63-47ae-abfc-a0f77b7aa022"
   },
   "outputs": [
    {
     "name": "stdout",
     "output_type": "stream",
     "text": [
      "Total number of numerical columns are  3\n",
      "There names are as follows:  ['Age', 'EstimatedSalary', 'Purchased']\n"
     ]
    }
   ],
   "source": [
    "print(\"Total number of numerical columns are \", len(int64_lst))\n",
    "print(\"There names are as follows: \", int64_lst)"
   ]
  },
  {
   "cell_type": "code",
   "execution_count": 16,
   "id": "ed686600",
   "metadata": {
    "id": "ed686600"
   },
   "outputs": [],
   "source": [
    "float64_cols = ['float64']\n",
    "float64_lst = list(df.select_dtypes(include=float64_cols).columns)"
   ]
  },
  {
   "cell_type": "code",
   "execution_count": 17,
   "id": "5cc8245d",
   "metadata": {
    "id": "5cc8245d",
    "outputId": "642d7e52-4e24-423d-de42-e18b06e34e13"
   },
   "outputs": [
    {
     "name": "stdout",
     "output_type": "stream",
     "text": [
      "Total number of float64 columns are  0\n",
      "There name are as follow:  []\n"
     ]
    }
   ],
   "source": [
    "print(\"Total number of float64 columns are \", len(float64_lst))\n",
    "print(\"There name are as follow: \", float64_lst)"
   ]
  },
  {
   "cell_type": "markdown",
   "id": "6b9b1b55",
   "metadata": {
    "id": "6b9b1b55"
   },
   "source": [
    "#### After analysing the dataset we found that there is no categorical values and 3 columns are numerical. "
   ]
  },
  {
   "cell_type": "markdown",
   "id": "0890678f",
   "metadata": {
    "id": "a55ed4c5"
   },
   "source": [
    "Hence, no column is required to drop."
   ]
  },
  {
   "cell_type": "markdown",
   "id": "9bb9c060",
   "metadata": {
    "id": "9bb9c060"
   },
   "source": [
    "Axis are defined for arrays with more than one dimension. A 2-dimensional array has two corresponding axes: the first running vertically downwards across rows (axis 0) \n",
    "and the second running horizontally across columns (axis 1). "
   ]
  },
  {
   "cell_type": "markdown",
   "id": "2244a8f3",
   "metadata": {
    "id": "2244a8f3"
   },
   "source": [
    "#### Why drop column? "
   ]
  },
  {
   "cell_type": "markdown",
   "id": "e1838641",
   "metadata": {
    "id": "e1838641"
   },
   "source": [
    "As we observe that the categroical values doesnot help in increasing the accuracy in a model where the values are numerical and label to predict is also numerical. "
   ]
  },
  {
   "cell_type": "markdown",
   "id": "4eefdf2b",
   "metadata": {
    "id": "4eefdf2b"
   },
   "source": [
    "## Step 2 Insights: -"
   ]
  },
  {
   "cell_type": "markdown",
   "id": "9b15507a",
   "metadata": {
    "id": "9b15507a"
   },
   "source": [
    "1) We have total 3 features where 3 of them is integer type.\n",
    "\n",
    "After this step we have to calculate various evaluation parameters which will help us in cleaning and analysing the data more accurately."
   ]
  },
  {
   "cell_type": "markdown",
   "id": "d495f85e",
   "metadata": {
    "id": "d495f85e"
   },
   "source": [
    "# Step 3: Descriptive Analysis\n",
    "\n",
    "**Goal/Purpose:**  Finding the data distribution of the features. Visualization helps to understand data and also to explain the data to another person."
   ]
  },
  {
   "cell_type": "code",
   "execution_count": 18,
   "id": "fd7ca4cc",
   "metadata": {
    "id": "fd7ca4cc",
    "outputId": "9f285562-06e3-4981-a7d1-7dcf5bf7a531"
   },
   "outputs": [
    {
     "data": {
      "text/html": [
       "<div>\n",
       "<style scoped>\n",
       "    .dataframe tbody tr th:only-of-type {\n",
       "        vertical-align: middle;\n",
       "    }\n",
       "\n",
       "    .dataframe tbody tr th {\n",
       "        vertical-align: top;\n",
       "    }\n",
       "\n",
       "    .dataframe thead th {\n",
       "        text-align: right;\n",
       "    }\n",
       "</style>\n",
       "<table border=\"1\" class=\"dataframe\">\n",
       "  <thead>\n",
       "    <tr style=\"text-align: right;\">\n",
       "      <th></th>\n",
       "      <th>Age</th>\n",
       "      <th>EstimatedSalary</th>\n",
       "      <th>Purchased</th>\n",
       "    </tr>\n",
       "  </thead>\n",
       "  <tbody>\n",
       "    <tr>\n",
       "      <th>count</th>\n",
       "      <td>400.000000</td>\n",
       "      <td>400.000000</td>\n",
       "      <td>400.000000</td>\n",
       "    </tr>\n",
       "    <tr>\n",
       "      <th>mean</th>\n",
       "      <td>37.655000</td>\n",
       "      <td>69742.500000</td>\n",
       "      <td>0.357500</td>\n",
       "    </tr>\n",
       "    <tr>\n",
       "      <th>std</th>\n",
       "      <td>10.482877</td>\n",
       "      <td>34096.960282</td>\n",
       "      <td>0.479864</td>\n",
       "    </tr>\n",
       "    <tr>\n",
       "      <th>min</th>\n",
       "      <td>18.000000</td>\n",
       "      <td>15000.000000</td>\n",
       "      <td>0.000000</td>\n",
       "    </tr>\n",
       "    <tr>\n",
       "      <th>25%</th>\n",
       "      <td>29.750000</td>\n",
       "      <td>43000.000000</td>\n",
       "      <td>0.000000</td>\n",
       "    </tr>\n",
       "    <tr>\n",
       "      <th>50%</th>\n",
       "      <td>37.000000</td>\n",
       "      <td>70000.000000</td>\n",
       "      <td>0.000000</td>\n",
       "    </tr>\n",
       "    <tr>\n",
       "      <th>75%</th>\n",
       "      <td>46.000000</td>\n",
       "      <td>88000.000000</td>\n",
       "      <td>1.000000</td>\n",
       "    </tr>\n",
       "    <tr>\n",
       "      <th>max</th>\n",
       "      <td>60.000000</td>\n",
       "      <td>150000.000000</td>\n",
       "      <td>1.000000</td>\n",
       "    </tr>\n",
       "  </tbody>\n",
       "</table>\n",
       "</div>"
      ],
      "text/plain": [
       "              Age  EstimatedSalary   Purchased\n",
       "count  400.000000       400.000000  400.000000\n",
       "mean    37.655000     69742.500000    0.357500\n",
       "std     10.482877     34096.960282    0.479864\n",
       "min     18.000000     15000.000000    0.000000\n",
       "25%     29.750000     43000.000000    0.000000\n",
       "50%     37.000000     70000.000000    0.000000\n",
       "75%     46.000000     88000.000000    1.000000\n",
       "max     60.000000    150000.000000    1.000000"
      ]
     },
     "execution_count": 18,
     "metadata": {},
     "output_type": "execute_result"
    }
   ],
   "source": [
    "df.describe()"
   ]
  },
  {
   "cell_type": "markdown",
   "id": "b2978d60",
   "metadata": {
    "id": "b2978d60"
   },
   "source": [
    "#### The df.describe() method returns description of the data in the DataFrame. If the DataFrame contains numerical data, the description contains these information for each column: count - The number of not-empty values. mean - The average (mean) value. "
   ]
  },
  {
   "cell_type": "markdown",
   "id": "59b815d9",
   "metadata": {
    "id": "59b815d9"
   },
   "source": [
    "# Measure the variability of data of the dataset\n",
    "\n",
    "Variability describes how far apart data points lie from each other and from the center of a distribution."
   ]
  },
  {
   "cell_type": "markdown",
   "id": "010f1c93",
   "metadata": {
    "id": "010f1c93"
   },
   "source": [
    "# 1. Standard Deviation"
   ]
  },
  {
   "cell_type": "markdown",
   "id": "cedc33a3",
   "metadata": {
    "id": "cedc33a3"
   },
   "source": [
    "The standard deviation is the average amount of variability in your dataset.\n",
    "\n",
    "It tells you, on average, how far each data point lies from the mean. The larger the standard deviation, the more variable the data set is and if zero variance then there is no variability in the dataset that means there no use of that dataset.\n"
   ]
  },
  {
   "cell_type": "markdown",
   "id": "82d3ac2c",
   "metadata": {
    "id": "82d3ac2c"
   },
   "source": [
    "So, it helps in understanding the measurements when the data is distributed. The more the data is distributed, the greater will be the standard deviation of that data.Here, you as an individual can determine which company is beneficial in long term. But, if you didn't know the SD you would have choosen a wrong compnay for you."
   ]
  },
  {
   "cell_type": "code",
   "execution_count": 19,
   "id": "3a5077cc",
   "metadata": {
    "id": "3a5077cc",
    "outputId": "8765013d-e06b-44f2-bc4e-fc0376e7cc69"
   },
   "outputs": [
    {
     "data": {
      "text/plain": [
       "Age                   10.482877\n",
       "EstimatedSalary    34096.960282\n",
       "Purchased              0.479864\n",
       "dtype: float64"
      ]
     },
     "execution_count": 19,
     "metadata": {},
     "output_type": "execute_result"
    }
   ],
   "source": [
    "df.std()"
   ]
  },
  {
   "cell_type": "markdown",
   "id": "5b39f153",
   "metadata": {
    "id": "5b39f153"
   },
   "source": [
    "#### We can also understand the standard deviation using the below function. "
   ]
  },
  {
   "cell_type": "code",
   "execution_count": 20,
   "id": "945d2981",
   "metadata": {
    "id": "945d2981"
   },
   "outputs": [],
   "source": [
    "def std_cal(df,float64_lst):\n",
    "    \n",
    "    cols = ['normal_value', 'zero_value']\n",
    "    zero_value = 0\n",
    "    normal_value = 0\n",
    "    \n",
    "    for value in float64_lst:\n",
    "    \n",
    "        rs = round(df[value].std(),6)\n",
    "\n",
    "        if rs > 0:\n",
    "            normal_value = normal_value + 1\n",
    "\n",
    "        elif rs == 0:\n",
    "            zero_value = zero_value + 1\n",
    "    \n",
    "    std_total_df =  pd.DataFrame([[normal_value, zero_value]], columns=cols) \n",
    "    \n",
    "    return std_total_df"
   ]
  },
  {
   "cell_type": "code",
   "execution_count": 21,
   "id": "44a38e44",
   "metadata": {
    "id": "44a38e44",
    "outputId": "bc8ffe8f-94c9-4c70-cc14-d5666fd4ebe7"
   },
   "outputs": [
    {
     "data": {
      "text/html": [
       "<div>\n",
       "<style scoped>\n",
       "    .dataframe tbody tr th:only-of-type {\n",
       "        vertical-align: middle;\n",
       "    }\n",
       "\n",
       "    .dataframe tbody tr th {\n",
       "        vertical-align: top;\n",
       "    }\n",
       "\n",
       "    .dataframe thead th {\n",
       "        text-align: right;\n",
       "    }\n",
       "</style>\n",
       "<table border=\"1\" class=\"dataframe\">\n",
       "  <thead>\n",
       "    <tr style=\"text-align: right;\">\n",
       "      <th></th>\n",
       "      <th>normal_value</th>\n",
       "      <th>zero_value</th>\n",
       "    </tr>\n",
       "  </thead>\n",
       "  <tbody>\n",
       "    <tr>\n",
       "      <th>0</th>\n",
       "      <td>0</td>\n",
       "      <td>0</td>\n",
       "    </tr>\n",
       "  </tbody>\n",
       "</table>\n",
       "</div>"
      ],
      "text/plain": [
       "   normal_value  zero_value\n",
       "0             0           0"
      ]
     },
     "execution_count": 21,
     "metadata": {},
     "output_type": "execute_result"
    }
   ],
   "source": [
    "std_cal(df, float64_lst)"
   ]
  },
  {
   "cell_type": "code",
   "execution_count": 22,
   "id": "a1c7d50a",
   "metadata": {
    "id": "a1c7d50a",
    "outputId": "b3c450ec-4f5b-4a14-f928-dd016e46b377"
   },
   "outputs": [
    {
     "data": {
      "text/html": [
       "<div>\n",
       "<style scoped>\n",
       "    .dataframe tbody tr th:only-of-type {\n",
       "        vertical-align: middle;\n",
       "    }\n",
       "\n",
       "    .dataframe tbody tr th {\n",
       "        vertical-align: top;\n",
       "    }\n",
       "\n",
       "    .dataframe thead th {\n",
       "        text-align: right;\n",
       "    }\n",
       "</style>\n",
       "<table border=\"1\" class=\"dataframe\">\n",
       "  <thead>\n",
       "    <tr style=\"text-align: right;\">\n",
       "      <th></th>\n",
       "      <th>normal_value</th>\n",
       "      <th>zero_value</th>\n",
       "    </tr>\n",
       "  </thead>\n",
       "  <tbody>\n",
       "    <tr>\n",
       "      <th>0</th>\n",
       "      <td>3</td>\n",
       "      <td>0</td>\n",
       "    </tr>\n",
       "  </tbody>\n",
       "</table>\n",
       "</div>"
      ],
      "text/plain": [
       "   normal_value  zero_value\n",
       "0             3           0"
      ]
     },
     "execution_count": 22,
     "metadata": {},
     "output_type": "execute_result"
    }
   ],
   "source": [
    "int64_cols = ['int64']\n",
    "int64_lst = list(df.select_dtypes(include=int64_cols).columns)\n",
    "std_cal(df,int64_lst)"
   ]
  },
  {
   "cell_type": "markdown",
   "id": "0c3b73b0",
   "metadata": {
    "id": "0c3b73b0"
   },
   "source": [
    "zero_value -> is the zero variance and when then there is no variability in the dataset that means there no use of that dataset.\n",
    "\n"
   ]
  },
  {
   "cell_type": "markdown",
   "id": "176486b7",
   "metadata": {
    "id": "176486b7"
   },
   "source": [
    "# 2. Variance\n",
    "\n",
    "The variance is the average of squared deviations from the mean. A deviation from the mean is how far a score lies from the mean.\n",
    "\n",
    "Variance is the square of the standard deviation. This means that the units of variance are much larger than those of a typical value of a data set."
   ]
  },
  {
   "cell_type": "markdown",
   "id": "9e179d3f",
   "metadata": {
    "id": "9e179d3f"
   },
   "source": [
    "#### Why do we used Variance ?"
   ]
  },
  {
   "cell_type": "markdown",
   "id": "0a2ef954",
   "metadata": {
    "id": "0a2ef954"
   },
   "source": [
    "By Squairng the number we get non-negative computation i.e. Disperson cannot be negative.\n",
    "The presence of variance is very important in your dataset because this will allow the model to learn about the different patterns hidden in the data"
   ]
  },
  {
   "cell_type": "markdown",
   "id": "9d4a3b82",
   "metadata": {
    "id": "9d4a3b82"
   },
   "source": []
  },
  {
   "cell_type": "code",
   "execution_count": 23,
   "id": "a0f645a9",
   "metadata": {
    "id": "a0f645a9",
    "outputId": "8f542983-4849-413e-8140-defa2f254151"
   },
   "outputs": [
    {
     "data": {
      "text/plain": [
       "Age                1.098907e+02\n",
       "EstimatedSalary    1.162603e+09\n",
       "Purchased          2.302694e-01\n",
       "dtype: float64"
      ]
     },
     "execution_count": 23,
     "metadata": {},
     "output_type": "execute_result"
    }
   ],
   "source": [
    "df.var()"
   ]
  },
  {
   "cell_type": "markdown",
   "id": "bcdabe0a",
   "metadata": {
    "id": "bcdabe0a"
   },
   "source": [
    "#### We can also understand the Variance using the below function."
   ]
  },
  {
   "cell_type": "code",
   "execution_count": 24,
   "id": "823e916b",
   "metadata": {
    "id": "823e916b"
   },
   "outputs": [],
   "source": [
    "zero_cols = []\n",
    "\n",
    "def var_cal(df,float64_lst):\n",
    "    \n",
    "    cols = ['normal_value', 'zero_value']\n",
    "    zero_value = 0\n",
    "    normal_value = 0\n",
    "    \n",
    "    for value in float64_lst:\n",
    "    \n",
    "        rs = round(df[value].var(),6)\n",
    "\n",
    "        if rs > 0:\n",
    "            normal_value = normal_value + 1\n",
    "\n",
    "        elif rs == 0:\n",
    "            zero_value = zero_value + 1\n",
    "            zero_cols.append(value)\n",
    "    \n",
    "    var_total_df =  pd.DataFrame([[normal_value, zero_value]], columns=cols) \n",
    "    \n",
    "    return var_total_df"
   ]
  },
  {
   "cell_type": "code",
   "execution_count": 25,
   "id": "f71870a8",
   "metadata": {
    "id": "f71870a8",
    "outputId": "a13b5bb5-b126-4204-ea6a-7bddd01584b0"
   },
   "outputs": [
    {
     "data": {
      "text/html": [
       "<div>\n",
       "<style scoped>\n",
       "    .dataframe tbody tr th:only-of-type {\n",
       "        vertical-align: middle;\n",
       "    }\n",
       "\n",
       "    .dataframe tbody tr th {\n",
       "        vertical-align: top;\n",
       "    }\n",
       "\n",
       "    .dataframe thead th {\n",
       "        text-align: right;\n",
       "    }\n",
       "</style>\n",
       "<table border=\"1\" class=\"dataframe\">\n",
       "  <thead>\n",
       "    <tr style=\"text-align: right;\">\n",
       "      <th></th>\n",
       "      <th>normal_value</th>\n",
       "      <th>zero_value</th>\n",
       "    </tr>\n",
       "  </thead>\n",
       "  <tbody>\n",
       "    <tr>\n",
       "      <th>0</th>\n",
       "      <td>0</td>\n",
       "      <td>0</td>\n",
       "    </tr>\n",
       "  </tbody>\n",
       "</table>\n",
       "</div>"
      ],
      "text/plain": [
       "   normal_value  zero_value\n",
       "0             0           0"
      ]
     },
     "execution_count": 25,
     "metadata": {},
     "output_type": "execute_result"
    }
   ],
   "source": [
    "var_cal(df, float64_lst)"
   ]
  },
  {
   "cell_type": "code",
   "execution_count": 26,
   "id": "5c22d0e9",
   "metadata": {
    "id": "5c22d0e9",
    "outputId": "a38e2a3c-d3f6-4c3d-8bc5-21ddec6ce368"
   },
   "outputs": [
    {
     "data": {
      "text/html": [
       "<div>\n",
       "<style scoped>\n",
       "    .dataframe tbody tr th:only-of-type {\n",
       "        vertical-align: middle;\n",
       "    }\n",
       "\n",
       "    .dataframe tbody tr th {\n",
       "        vertical-align: top;\n",
       "    }\n",
       "\n",
       "    .dataframe thead th {\n",
       "        text-align: right;\n",
       "    }\n",
       "</style>\n",
       "<table border=\"1\" class=\"dataframe\">\n",
       "  <thead>\n",
       "    <tr style=\"text-align: right;\">\n",
       "      <th></th>\n",
       "      <th>normal_value</th>\n",
       "      <th>zero_value</th>\n",
       "    </tr>\n",
       "  </thead>\n",
       "  <tbody>\n",
       "    <tr>\n",
       "      <th>0</th>\n",
       "      <td>3</td>\n",
       "      <td>0</td>\n",
       "    </tr>\n",
       "  </tbody>\n",
       "</table>\n",
       "</div>"
      ],
      "text/plain": [
       "   normal_value  zero_value\n",
       "0             3           0"
      ]
     },
     "execution_count": 26,
     "metadata": {},
     "output_type": "execute_result"
    }
   ],
   "source": [
    "var_cal(df, int64_lst)"
   ]
  },
  {
   "cell_type": "markdown",
   "id": "5f59972e",
   "metadata": {
    "id": "5f59972e"
   },
   "source": [
    "zero_value -> Zero variance means that there is no difference in the data values, which means that they are all the same."
   ]
  },
  {
   "cell_type": "markdown",
   "id": "65c9ccfb",
   "metadata": {
    "id": "65c9ccfb"
   },
   "source": [
    "# Measure central tendency\n",
    "\n",
    "A measure of central tendency is a single value that attempts to describe a set of data by identifying the central position within that set of data. As such, measures of central tendency are sometimes called measures of central location. They are also classed as summary statistics.\n",
    "\n"
   ]
  },
  {
   "cell_type": "markdown",
   "id": "2398c341",
   "metadata": {
    "id": "2398c341"
   },
   "source": [
    "Mean - The average value. Median - The mid point value. Mode - The most common value."
   ]
  },
  {
   "cell_type": "markdown",
   "id": "7715c75f",
   "metadata": {
    "id": "7715c75f"
   },
   "source": [
    "# 1. Mean"
   ]
  },
  {
   "cell_type": "markdown",
   "id": "0892e6a7",
   "metadata": {
    "id": "0892e6a7"
   },
   "source": [
    "The mean is the arithmetic average, and it is probably the measure of central tendency that you are most familiar."
   ]
  },
  {
   "cell_type": "markdown",
   "id": "dd246120",
   "metadata": {
    "id": "dd246120"
   },
   "source": [
    "#### Why do we calculate mean?\n"
   ]
  },
  {
   "cell_type": "markdown",
   "id": "e8fbf457",
   "metadata": {
    "id": "e8fbf457"
   },
   "source": [
    "\n",
    "\n",
    "The mean is used to summarize a data set. It is a measure of the center of a data set.\n"
   ]
  },
  {
   "cell_type": "code",
   "execution_count": 27,
   "id": "efecaf0c",
   "metadata": {
    "id": "efecaf0c",
    "outputId": "b2609cbb-39a8-4cd2-dda1-d9f9188704cb"
   },
   "outputs": [
    {
     "data": {
      "text/plain": [
       "Age                   37.6550\n",
       "EstimatedSalary    69742.5000\n",
       "Purchased              0.3575\n",
       "dtype: float64"
      ]
     },
     "execution_count": 27,
     "metadata": {},
     "output_type": "execute_result"
    }
   ],
   "source": [
    "df.mean()"
   ]
  },
  {
   "cell_type": "markdown",
   "id": "f5026286",
   "metadata": {
    "id": "f5026286"
   },
   "source": [
    "#### We can also understand the mean using the below function. "
   ]
  },
  {
   "cell_type": "code",
   "execution_count": 28,
   "id": "fee92512",
   "metadata": {
    "id": "fee92512"
   },
   "outputs": [],
   "source": [
    "def mean_cal(df,int64_lst):\n",
    "    \n",
    "    cols = ['normal_value', 'zero_value']\n",
    "    zero_value = 0\n",
    "    normal_value = 0\n",
    "    \n",
    "    for value in int64_lst:\n",
    "    \n",
    "        rs = round(df[value].mean(),6)\n",
    "\n",
    "        if rs > 0:\n",
    "            normal_value = normal_value + 1\n",
    "\n",
    "        elif rs == 0:\n",
    "            zero_value = zero_value + 1\n",
    "    \n",
    "    mean_total_df =  pd.DataFrame([[normal_value, zero_value]], columns=cols) \n",
    "    \n",
    "    return mean_total_df"
   ]
  },
  {
   "cell_type": "code",
   "execution_count": 29,
   "id": "1bd00e4a",
   "metadata": {
    "id": "1bd00e4a",
    "outputId": "4b12987e-4405-4437-fc7e-b8441257baaa"
   },
   "outputs": [
    {
     "data": {
      "text/html": [
       "<div>\n",
       "<style scoped>\n",
       "    .dataframe tbody tr th:only-of-type {\n",
       "        vertical-align: middle;\n",
       "    }\n",
       "\n",
       "    .dataframe tbody tr th {\n",
       "        vertical-align: top;\n",
       "    }\n",
       "\n",
       "    .dataframe thead th {\n",
       "        text-align: right;\n",
       "    }\n",
       "</style>\n",
       "<table border=\"1\" class=\"dataframe\">\n",
       "  <thead>\n",
       "    <tr style=\"text-align: right;\">\n",
       "      <th></th>\n",
       "      <th>normal_value</th>\n",
       "      <th>zero_value</th>\n",
       "    </tr>\n",
       "  </thead>\n",
       "  <tbody>\n",
       "    <tr>\n",
       "      <th>0</th>\n",
       "      <td>3</td>\n",
       "      <td>0</td>\n",
       "    </tr>\n",
       "  </tbody>\n",
       "</table>\n",
       "</div>"
      ],
      "text/plain": [
       "   normal_value  zero_value\n",
       "0             3           0"
      ]
     },
     "execution_count": 29,
     "metadata": {},
     "output_type": "execute_result"
    }
   ],
   "source": [
    "mean_cal(df, int64_lst)"
   ]
  },
  {
   "cell_type": "code",
   "execution_count": 30,
   "id": "ea832ee5",
   "metadata": {
    "id": "ea832ee5",
    "outputId": "c9cbe565-ae52-47d3-ea88-61d9d131cf77"
   },
   "outputs": [
    {
     "data": {
      "text/html": [
       "<div>\n",
       "<style scoped>\n",
       "    .dataframe tbody tr th:only-of-type {\n",
       "        vertical-align: middle;\n",
       "    }\n",
       "\n",
       "    .dataframe tbody tr th {\n",
       "        vertical-align: top;\n",
       "    }\n",
       "\n",
       "    .dataframe thead th {\n",
       "        text-align: right;\n",
       "    }\n",
       "</style>\n",
       "<table border=\"1\" class=\"dataframe\">\n",
       "  <thead>\n",
       "    <tr style=\"text-align: right;\">\n",
       "      <th></th>\n",
       "      <th>normal_value</th>\n",
       "      <th>zero_value</th>\n",
       "    </tr>\n",
       "  </thead>\n",
       "  <tbody>\n",
       "    <tr>\n",
       "      <th>0</th>\n",
       "      <td>0</td>\n",
       "      <td>0</td>\n",
       "    </tr>\n",
       "  </tbody>\n",
       "</table>\n",
       "</div>"
      ],
      "text/plain": [
       "   normal_value  zero_value\n",
       "0             0           0"
      ]
     },
     "execution_count": 30,
     "metadata": {},
     "output_type": "execute_result"
    }
   ],
   "source": [
    "mean_cal(df,float64_lst)"
   ]
  },
  {
   "cell_type": "markdown",
   "id": "85ac39fa",
   "metadata": {
    "id": "85ac39fa"
   },
   "source": [
    "zero_value -> that the mean of a paticular column is zero, which isn't usefull in anyway and need to be drop."
   ]
  },
  {
   "cell_type": "markdown",
   "id": "9715ba18",
   "metadata": {
    "id": "9715ba18"
   },
   "source": [
    "# 2.Median"
   ]
  },
  {
   "cell_type": "markdown",
   "id": "84bf0531",
   "metadata": {
    "id": "84bf0531"
   },
   "source": [
    "The median is the middle value. It is the value that splits the dataset in half.The median of a dataset is the value that, assuming the dataset is ordered from smallest to largest, falls in the middle. If there are an even number of values in a dataset, the middle two values are the median."
   ]
  },
  {
   "cell_type": "markdown",
   "id": "4d6b527a",
   "metadata": {
    "id": "4d6b527a"
   },
   "source": [
    "#### Why do we calculate median ?"
   ]
  },
  {
   "cell_type": "markdown",
   "id": "df0cf89c",
   "metadata": {
    "id": "df0cf89c"
   },
   "source": [
    "By comparing the median to the mean, you can get an idea of the distribution of a dataset. When the mean and the median are the same, the dataset is more or less evenly distributed from the lowest to highest values.The median will depict that the patient below median is Malignent and above that are Benign."
   ]
  },
  {
   "cell_type": "code",
   "execution_count": 31,
   "id": "33a45bc8",
   "metadata": {
    "id": "33a45bc8",
    "outputId": "33d56fd5-1263-46f2-aa9e-3f7c189f599a"
   },
   "outputs": [
    {
     "data": {
      "text/plain": [
       "Age                   37.0\n",
       "EstimatedSalary    70000.0\n",
       "Purchased              0.0\n",
       "dtype: float64"
      ]
     },
     "execution_count": 31,
     "metadata": {},
     "output_type": "execute_result"
    }
   ],
   "source": [
    "df.median()"
   ]
  },
  {
   "cell_type": "markdown",
   "id": "cf40efad",
   "metadata": {
    "id": "cf40efad"
   },
   "source": [
    "####  We can also understand the median using the below function. "
   ]
  },
  {
   "cell_type": "code",
   "execution_count": 32,
   "id": "e918bb97",
   "metadata": {
    "id": "e918bb97"
   },
   "outputs": [],
   "source": [
    "def median_cal(df,int64_lst):\n",
    "    \n",
    "    cols = ['normal_value', 'zero_value']\n",
    "    zero_value = 0\n",
    "    normal_value = 0\n",
    "    \n",
    "    for value in float64_lst:\n",
    "    \n",
    "        rs = round(df[value].mean(),6)\n",
    "\n",
    "        if rs > 0:\n",
    "            normal_value = normal_value + 1\n",
    "\n",
    "        elif rs == 0:\n",
    "            zero_value = zero_value + 1\n",
    "    \n",
    "    median_total_df =  pd.DataFrame([[normal_value, zero_value]], columns=cols) \n",
    "    \n",
    "    return median_total_df"
   ]
  },
  {
   "cell_type": "code",
   "execution_count": 33,
   "id": "9167453f",
   "metadata": {
    "id": "9167453f",
    "outputId": "bc525e31-65f4-4057-be0e-0721baba046c"
   },
   "outputs": [
    {
     "data": {
      "text/html": [
       "<div>\n",
       "<style scoped>\n",
       "    .dataframe tbody tr th:only-of-type {\n",
       "        vertical-align: middle;\n",
       "    }\n",
       "\n",
       "    .dataframe tbody tr th {\n",
       "        vertical-align: top;\n",
       "    }\n",
       "\n",
       "    .dataframe thead th {\n",
       "        text-align: right;\n",
       "    }\n",
       "</style>\n",
       "<table border=\"1\" class=\"dataframe\">\n",
       "  <thead>\n",
       "    <tr style=\"text-align: right;\">\n",
       "      <th></th>\n",
       "      <th>normal_value</th>\n",
       "      <th>zero_value</th>\n",
       "    </tr>\n",
       "  </thead>\n",
       "  <tbody>\n",
       "    <tr>\n",
       "      <th>0</th>\n",
       "      <td>0</td>\n",
       "      <td>0</td>\n",
       "    </tr>\n",
       "  </tbody>\n",
       "</table>\n",
       "</div>"
      ],
      "text/plain": [
       "   normal_value  zero_value\n",
       "0             0           0"
      ]
     },
     "execution_count": 33,
     "metadata": {},
     "output_type": "execute_result"
    }
   ],
   "source": [
    "median_cal(df, float64_lst)"
   ]
  },
  {
   "cell_type": "markdown",
   "id": "df475ccc",
   "metadata": {
    "id": "df475ccc"
   },
   "source": [
    "zero_value -> that the median of a paticular column is zero which isn't usefull in anyway and need to be drop."
   ]
  },
  {
   "cell_type": "markdown",
   "id": "5af7e19f",
   "metadata": {
    "id": "5af7e19f"
   },
   "source": [
    "# 3. Mode\n",
    "The mode is the value that occurs the most frequently in your data set. On a bar chart, the mode is the highest bar. If the data have multiple values that are tied for occurring the most frequently, you have a multimodal distribution. If no value repeats, the data do not have a mode."
   ]
  },
  {
   "cell_type": "markdown",
   "id": "7e5f0672",
   "metadata": {
    "id": "7e5f0672"
   },
   "source": [
    "#### Why do we calculate mode ?"
   ]
  },
  {
   "cell_type": "markdown",
   "id": "dace4029",
   "metadata": {
    "id": "dace4029"
   },
   "source": [
    "The mode can be used to summarize categorical variables, while the mean and median can be calculated only for numeric variables. This is the main advantage of the mode as a measure of central tendency. It's also useful for discrete variables and for continuous variables when they are expressed as intervals."
   ]
  },
  {
   "cell_type": "code",
   "execution_count": 34,
   "id": "3777aa2f",
   "metadata": {
    "id": "3777aa2f",
    "outputId": "0dc44246-d571-4322-bd76-c1efae467268"
   },
   "outputs": [
    {
     "data": {
      "text/html": [
       "<div>\n",
       "<style scoped>\n",
       "    .dataframe tbody tr th:only-of-type {\n",
       "        vertical-align: middle;\n",
       "    }\n",
       "\n",
       "    .dataframe tbody tr th {\n",
       "        vertical-align: top;\n",
       "    }\n",
       "\n",
       "    .dataframe thead th {\n",
       "        text-align: right;\n",
       "    }\n",
       "</style>\n",
       "<table border=\"1\" class=\"dataframe\">\n",
       "  <thead>\n",
       "    <tr style=\"text-align: right;\">\n",
       "      <th></th>\n",
       "      <th>Age</th>\n",
       "      <th>EstimatedSalary</th>\n",
       "      <th>Purchased</th>\n",
       "    </tr>\n",
       "  </thead>\n",
       "  <tbody>\n",
       "    <tr>\n",
       "      <th>0</th>\n",
       "      <td>35</td>\n",
       "      <td>72000</td>\n",
       "      <td>0</td>\n",
       "    </tr>\n",
       "  </tbody>\n",
       "</table>\n",
       "</div>"
      ],
      "text/plain": [
       "   Age  EstimatedSalary  Purchased\n",
       "0   35            72000          0"
      ]
     },
     "execution_count": 34,
     "metadata": {},
     "output_type": "execute_result"
    }
   ],
   "source": [
    "df.mode()"
   ]
  },
  {
   "cell_type": "code",
   "execution_count": 35,
   "id": "e3d43111",
   "metadata": {
    "id": "e3d43111"
   },
   "outputs": [],
   "source": [
    "def mode_cal(df,int64_lst):\n",
    "    \n",
    "    cols = ['normal_value', 'zero_value', 'string_value']\n",
    "    zero_value = 0\n",
    "    normal_value = 0\n",
    "    string_value = 0\n",
    "    \n",
    "    for value in float64_lst:\n",
    "                \n",
    "        rs = df[value].mode()[0]\n",
    "        \n",
    "        if isinstance(rs, str):\n",
    "            string_value = string_value + 1\n",
    "        else:\n",
    "\n",
    "            if rs > 0:\n",
    "                normal_value = normal_value + 1\n",
    "\n",
    "            elif rs == 0:\n",
    "                zero_value = zero_value + 1\n",
    "    \n",
    "    mode_total_df =  pd.DataFrame([[normal_value, zero_value, string_value]], columns=cols) \n",
    "    \n",
    "    return mode_total_df"
   ]
  },
  {
   "cell_type": "code",
   "execution_count": 36,
   "id": "0a035c89",
   "metadata": {
    "id": "0a035c89",
    "outputId": "c375fc7b-5eeb-4db1-b609-2e6e5abcea46"
   },
   "outputs": [
    {
     "data": {
      "text/html": [
       "<div>\n",
       "<style scoped>\n",
       "    .dataframe tbody tr th:only-of-type {\n",
       "        vertical-align: middle;\n",
       "    }\n",
       "\n",
       "    .dataframe tbody tr th {\n",
       "        vertical-align: top;\n",
       "    }\n",
       "\n",
       "    .dataframe thead th {\n",
       "        text-align: right;\n",
       "    }\n",
       "</style>\n",
       "<table border=\"1\" class=\"dataframe\">\n",
       "  <thead>\n",
       "    <tr style=\"text-align: right;\">\n",
       "      <th></th>\n",
       "      <th>normal_value</th>\n",
       "      <th>zero_value</th>\n",
       "      <th>string_value</th>\n",
       "    </tr>\n",
       "  </thead>\n",
       "  <tbody>\n",
       "    <tr>\n",
       "      <th>0</th>\n",
       "      <td>0</td>\n",
       "      <td>0</td>\n",
       "      <td>0</td>\n",
       "    </tr>\n",
       "  </tbody>\n",
       "</table>\n",
       "</div>"
      ],
      "text/plain": [
       "   normal_value  zero_value  string_value\n",
       "0             0           0             0"
      ]
     },
     "execution_count": 36,
     "metadata": {},
     "output_type": "execute_result"
    }
   ],
   "source": [
    "mode_cal(df, list(df.columns))"
   ]
  },
  {
   "cell_type": "markdown",
   "id": "78575ddf",
   "metadata": {
    "id": "78575ddf"
   },
   "source": [
    "zero_value -> that the mode of a paticular column is zero which isn't usefull in anyway and need to be drop."
   ]
  },
  {
   "cell_type": "markdown",
   "id": "b30ea342",
   "metadata": {
    "id": "b30ea342"
   },
   "source": [
    "# Null and Nan values"
   ]
  },
  {
   "cell_type": "markdown",
   "id": "9a54fc9b",
   "metadata": {
    "id": "9a54fc9b"
   },
   "source": [
    "1. **Null Values**\n"
   ]
  },
  {
   "cell_type": "markdown",
   "id": "e4e42282",
   "metadata": {
    "id": "e4e42282"
   },
   "source": [
    "A null value in a relational database is used when the value in a column is unknown or missing. A null is neither an empty string (for character or datetime data types) nor a zero value (for numeric data types)."
   ]
  },
  {
   "cell_type": "code",
   "execution_count": 37,
   "id": "44699c6b",
   "metadata": {
    "id": "44699c6b",
    "outputId": "4b8c8c89-aafa-49ba-8e6c-5cc90dbf01c2"
   },
   "outputs": [
    {
     "data": {
      "text/plain": [
       "Age                0\n",
       "EstimatedSalary    0\n",
       "Purchased          0\n",
       "dtype: int64"
      ]
     },
     "execution_count": 37,
     "metadata": {},
     "output_type": "execute_result"
    }
   ],
   "source": [
    "df.isnull().sum()"
   ]
  },
  {
   "cell_type": "markdown",
   "id": "ae58482d",
   "metadata": {
    "id": "ae58482d"
   },
   "source": [
    "As we notice that there are no null values in our dataset."
   ]
  },
  {
   "cell_type": "markdown",
   "id": "c6dd136e",
   "metadata": {
    "id": "c6dd136e"
   },
   "source": [
    "2. **Nan Values**"
   ]
  },
  {
   "cell_type": "markdown",
   "id": "b069c2ac",
   "metadata": {
    "id": "b069c2ac"
   },
   "source": [
    "NaN, standing for Not a Number, is a member of a numeric data type that can be interpreted as a value that is undefined or unrepresentable, especially in floating-point arithmetic."
   ]
  },
  {
   "cell_type": "code",
   "execution_count": 38,
   "id": "931bb432",
   "metadata": {
    "id": "931bb432",
    "outputId": "2b82f181-76b6-4c89-e10c-c348d809f374"
   },
   "outputs": [
    {
     "data": {
      "text/plain": [
       "Age                0\n",
       "EstimatedSalary    0\n",
       "Purchased          0\n",
       "dtype: int64"
      ]
     },
     "execution_count": 38,
     "metadata": {},
     "output_type": "execute_result"
    }
   ],
   "source": [
    "df.isna().sum()"
   ]
  },
  {
   "cell_type": "markdown",
   "id": "bdcf3aff",
   "metadata": {
    "id": "bdcf3aff"
   },
   "source": [
    "As we notice that there are no nan values in our dataset."
   ]
  },
  {
   "cell_type": "markdown",
   "id": "d8c22e57",
   "metadata": {
    "id": "d8c22e57"
   },
   "source": [
    "#### Another way to remove null and nan values is to use the method \"df.dropna(inplace=True)\". "
   ]
  },
  {
   "cell_type": "markdown",
   "id": "1f0eadfc",
   "metadata": {
    "id": "1f0eadfc"
   },
   "source": [
    "# Count of unique occurences of every value in all categorical value\n",
    "\n"
   ]
  },
  {
   "cell_type": "code",
   "execution_count": 39,
   "id": "bd9a4c17",
   "metadata": {
    "id": "bd9a4c17",
    "outputId": "1720d4e2-cce1-419a-9a36-941ffaa8e2a5"
   },
   "outputs": [
    {
     "name": "stdout",
     "output_type": "stream",
     "text": [
      "Age        35    32\n",
      "37    20\n",
      "26    16\n",
      "41    16\n",
      "42    16\n",
      "39    15\n",
      "40    15\n",
      "48    14\n",
      "47    14\n",
      "27    13\n",
      "38    13\n",
      "28    12\n",
      "36    12\n",
      "46    12\n",
      "31    11\n",
      "30    11\n",
      "49    10\n",
      "29    10\n",
      "33     9\n",
      "32     9\n",
      "24     9\n",
      "59     7\n",
      "19     7\n",
      "45     7\n",
      "20     7\n",
      "60     7\n",
      "34     6\n",
      "23     6\n",
      "52     6\n",
      "25     6\n",
      "58     6\n",
      "53     5\n",
      "57     5\n",
      "22     5\n",
      "18     5\n",
      "21     4\n",
      "50     4\n",
      "54     4\n",
      "55     3\n",
      "56     3\n",
      "51     3\n",
      "43     3\n",
      "44     2\n",
      "Name: Age, dtype: int64\n"
     ]
    }
   ],
   "source": [
    "print(f\"{'Age':{10}} {df['Age'].value_counts()}\")"
   ]
  },
  {
   "cell_type": "markdown",
   "id": "b620367f",
   "metadata": {
    "id": "b620367f"
   },
   "source": [
    "# Skewness "
   ]
  },
  {
   "cell_type": "markdown",
   "id": "2d9f56e3",
   "metadata": {
    "id": "2d9f56e3"
   },
   "source": [
    "Skewness is a measure of the asymmetry of a distribution. A distribution is asymmetrical when its left and right side are not mirror images. A distribution can have right (or positive), left (or negative), or zero skewness"
   ]
  },
  {
   "cell_type": "markdown",
   "id": "0ad9c82f",
   "metadata": {
    "id": "0ad9c82f"
   },
   "source": [
    "#### Why do we calculate Skewness ?"
   ]
  },
  {
   "cell_type": "markdown",
   "id": "6839ca87",
   "metadata": {
    "id": "6839ca87"
   },
   "source": [
    "Skewness gives the direction of the outliers if it is right-skewed, most of the outliers are present on the right side of the distribution while if it is left-skewed, most of the outliers will present on the left side of the distribution"
   ]
  },
  {
   "cell_type": "markdown",
   "id": "4bd5f5e2",
   "metadata": {
    "id": "4bd5f5e2"
   },
   "source": [
    "#### Below is the function to calculate skewness. "
   ]
  },
  {
   "cell_type": "code",
   "execution_count": 40,
   "id": "cbdf0dc8",
   "metadata": {
    "id": "cbdf0dc8"
   },
   "outputs": [],
   "source": [
    "def right_nor_left(df, int64_lst):\n",
    "    \n",
    "    temp_skewness = ['column', 'skewness_value', 'skewness (+ve or -ve)']\n",
    "    temp_skewness_values  = []\n",
    "    \n",
    "    temp_total = [\"positive (+ve) skewed\", \"normal distrbution\" , \"negative (-ve) skewed\"]\n",
    "    positive = 0\n",
    "    negative = 0\n",
    "    normal = 0\n",
    "    \n",
    "    for value in float64_lst:\n",
    "    \n",
    "        rs = round(df[value].skew(),4)\n",
    "\n",
    "        if rs > 0:\n",
    "            temp_skewness_values.append([value,rs , \"positive (+ve) skewed\"])   \n",
    "            positive = positive + 1\n",
    "\n",
    "        elif rs == 0:\n",
    "            temp_skewness_values.append([value,rs,\"normal distrbution\"])\n",
    "            normal = normal + 1\n",
    "\n",
    "        elif rs < 0:\n",
    "            temp_skewness_values.append([value,rs, \"negative (-ve) skewed\"])\n",
    "            negative = negative + 1\n",
    "    \n",
    "    skewness_df =  pd.DataFrame(temp_skewness_values, columns=temp_skewness) \n",
    "    skewness_total_df =  pd.DataFrame([[positive, normal, negative]], columns=temp_total) \n",
    "    \n",
    "    return skewness_df, skewness_total_df"
   ]
  },
  {
   "cell_type": "code",
   "execution_count": 41,
   "id": "640a739f",
   "metadata": {
    "id": "640a739f"
   },
   "outputs": [],
   "source": [
    "columns= df.columns.tolist()\n",
    "skew_df,skew_total_df = right_nor_left(df, columns)"
   ]
  },
  {
   "cell_type": "code",
   "execution_count": 42,
   "id": "3eb3d772",
   "metadata": {
    "id": "3eb3d772",
    "outputId": "616b3280-fef1-4c20-ebe2-4f540d6a8a0e"
   },
   "outputs": [
    {
     "data": {
      "text/html": [
       "<div>\n",
       "<style scoped>\n",
       "    .dataframe tbody tr th:only-of-type {\n",
       "        vertical-align: middle;\n",
       "    }\n",
       "\n",
       "    .dataframe tbody tr th {\n",
       "        vertical-align: top;\n",
       "    }\n",
       "\n",
       "    .dataframe thead th {\n",
       "        text-align: right;\n",
       "    }\n",
       "</style>\n",
       "<table border=\"1\" class=\"dataframe\">\n",
       "  <thead>\n",
       "    <tr style=\"text-align: right;\">\n",
       "      <th></th>\n",
       "      <th>column</th>\n",
       "      <th>skewness_value</th>\n",
       "      <th>skewness (+ve or -ve)</th>\n",
       "    </tr>\n",
       "  </thead>\n",
       "  <tbody>\n",
       "  </tbody>\n",
       "</table>\n",
       "</div>"
      ],
      "text/plain": [
       "Empty DataFrame\n",
       "Columns: [column, skewness_value, skewness (+ve or -ve)]\n",
       "Index: []"
      ]
     },
     "execution_count": 42,
     "metadata": {},
     "output_type": "execute_result"
    }
   ],
   "source": [
    "skew_df"
   ]
  },
  {
   "cell_type": "code",
   "execution_count": 43,
   "id": "aa80a183",
   "metadata": {
    "id": "aa80a183",
    "outputId": "31417f27-503a-4830-d013-16ffd08bd0fc"
   },
   "outputs": [
    {
     "data": {
      "text/html": [
       "<div>\n",
       "<style scoped>\n",
       "    .dataframe tbody tr th:only-of-type {\n",
       "        vertical-align: middle;\n",
       "    }\n",
       "\n",
       "    .dataframe tbody tr th {\n",
       "        vertical-align: top;\n",
       "    }\n",
       "\n",
       "    .dataframe thead th {\n",
       "        text-align: right;\n",
       "    }\n",
       "</style>\n",
       "<table border=\"1\" class=\"dataframe\">\n",
       "  <thead>\n",
       "    <tr style=\"text-align: right;\">\n",
       "      <th></th>\n",
       "      <th>positive (+ve) skewed</th>\n",
       "      <th>normal distrbution</th>\n",
       "      <th>negative (-ve) skewed</th>\n",
       "    </tr>\n",
       "  </thead>\n",
       "  <tbody>\n",
       "    <tr>\n",
       "      <th>0</th>\n",
       "      <td>0</td>\n",
       "      <td>0</td>\n",
       "      <td>0</td>\n",
       "    </tr>\n",
       "  </tbody>\n",
       "</table>\n",
       "</div>"
      ],
      "text/plain": [
       "   positive (+ve) skewed  normal distrbution  negative (-ve) skewed\n",
       "0                      0                   0                      0"
      ]
     },
     "execution_count": 43,
     "metadata": {},
     "output_type": "execute_result"
    }
   ],
   "source": [
    "skew_total_df"
   ]
  },
  {
   "cell_type": "markdown",
   "id": "8c23f537",
   "metadata": {
    "id": "8c23f537"
   },
   "source": [
    "### Step 3 Insights: - "
   ]
  },
  {
   "cell_type": "markdown",
   "id": "7dfcb915",
   "metadata": {
    "id": "7dfcb915"
   },
   "source": [
    "With the statistical analysis we have found that the data have a lot of skewness in them 3 columns are postive skewed and 1 is negative skewed.\n",
    "\n",
    "Statistical analysis is little difficult to understand at one glance so to make it more understandable we will perform visulatization on the data which will help us to understand the process easily."
   ]
  },
  {
   "cell_type": "markdown",
   "id": "9196e45e",
   "metadata": {
    "id": "9196e45e"
   },
   "source": [
    "### Why we are calculating all these metrics? "
   ]
  },
  {
   "cell_type": "markdown",
   "id": "105d9049",
   "metadata": {
    "id": "105d9049"
   },
   "source": [
    "Mean / Median /Mode/ Variance /Standard Deviation are all very basic but very important concept of statistics used in data science. Almost all the machine learning algorithm uses these concepts in data preprocessing steps. These concepts are part of descriptive statistics where we basically used to describe and understand the data for features in Machine learning"
   ]
  },
  {
   "cell_type": "markdown",
   "id": "ec65483b",
   "metadata": {
    "id": "ec65483b"
   },
   "source": [
    "# Step 4: Data Exploration\n",
    "**Goal/Purpose:**\n",
    "\n",
    "Graphs we are going to develop in this step\n",
    "\n",
    "1. Histogram of all columns to check the distrubution of the columns\n",
    "2. Distplot or distribution plot of all columns to check the variation in the data distribution\n",
    "3. Heatmap to calculate correlation within feature variables\n",
    "4. Boxplot to find out outlier in the feature columns"
   ]
  },
  {
   "cell_type": "markdown",
   "id": "83b9e3ca",
   "metadata": {
    "id": "83b9e3ca"
   },
   "source": [
    "# 1. Histogram"
   ]
  },
  {
   "cell_type": "markdown",
   "id": "359022cf",
   "metadata": {
    "id": "359022cf"
   },
   "source": [
    "A histogram is a bar graph-like representation of data that buckets a range of classes into columns along the horizontal x-axis.The vertical y-axis represents the number count or percentage of occurrences in the data for each column"
   ]
  },
  {
   "cell_type": "code",
   "execution_count": 46,
   "id": "c97eef85",
   "metadata": {
    "id": "c97eef85",
    "outputId": "53bda633-001e-4c97-cf39-6dd7b362a748"
   },
   "outputs": [
    {
     "data": {
      "image/png": "[encoded data removed]",
      "text/plain": [
       "<Figure size 720x720 with 4 Axes>"
      ]
     },
     "metadata": {
      "needs_background": "light"
     },
     "output_type": "display_data"
    }
   ],
   "source": [
    "# Distribution in attributes\n",
    "%matplotlib inline\n",
    "import matplotlib.pyplot as plt\n",
    "df.hist(bins=50, figsize=(10,10))\n",
    "plt.show()"
   ]
  },
  {
   "cell_type": "markdown",
   "id": "621370df",
   "metadata": {},
   "source": [
    "Explore the ages of the people who responded to the social media ads and bought the product"
   ]
  },
  {
   "cell_type": "code",
   "execution_count": 117,
   "id": "4b17c56d",
   "metadata": {},
   "outputs": [
    {
     "data": {
      "image/png": "[encoded data removed]",
      "text/plain": [
       "<Figure size 1080x720 with 1 Axes>"
      ]
     },
     "metadata": {},
     "output_type": "display_data"
    }
   ],
   "source": [
    "import matplotlib.pyplot as plt\n",
    "plt.figure(figsize=(15, 10))\n",
    "plt.title(\"Product Purchased By People Through Social Media Marketing\")\n",
    "sns.histplot(x=\"Age\", hue=\"Purchased\", data=df)\n",
    "plt.show()"
   ]
  },
  {
   "cell_type": "markdown",
   "id": "dbd05018",
   "metadata": {},
   "source": [
    "The visualization above shows that people over 45 among the target audience are more interested in purchasing the product. Now let’s take a look at the income group of people who responded to social media ads and purchased the product:"
   ]
  },
  {
   "cell_type": "code",
   "execution_count": 44,
   "id": "7bd91fa1",
   "metadata": {},
   "outputs": [
    {
     "data": {
      "image/png": "[encoded data removed]",
      "text/plain": [
       "<Figure size 432x288 with 1 Axes>"
      ]
     },
     "metadata": {
      "needs_background": "light"
     },
     "output_type": "display_data"
    }
   ],
   "source": [
    "plt.title(\"Product Purchased By People According to Their Income\")\n",
    "sns.histplot(x=\"EstimatedSalary\", hue=\"Purchased\", data=df)\n",
    "plt.show()"
   ]
  },
  {
   "cell_type": "code",
   "execution_count": 45,
   "id": "cdbd9af0",
   "metadata": {},
   "outputs": [
    {
     "data": {
      "text/html": [
       "<div>\n",
       "<style scoped>\n",
       "    .dataframe tbody tr th:only-of-type {\n",
       "        vertical-align: middle;\n",
       "    }\n",
       "\n",
       "    .dataframe tbody tr th {\n",
       "        vertical-align: top;\n",
       "    }\n",
       "\n",
       "    .dataframe thead th {\n",
       "        text-align: right;\n",
       "    }\n",
       "</style>\n",
       "<table border=\"1\" class=\"dataframe\">\n",
       "  <thead>\n",
       "    <tr style=\"text-align: right;\">\n",
       "      <th></th>\n",
       "      <th>Age</th>\n",
       "      <th>EstimatedSalary</th>\n",
       "      <th>Purchased</th>\n",
       "    </tr>\n",
       "  </thead>\n",
       "  <tbody>\n",
       "    <tr>\n",
       "      <th>0</th>\n",
       "      <td>19</td>\n",
       "      <td>19000</td>\n",
       "      <td>0</td>\n",
       "    </tr>\n",
       "    <tr>\n",
       "      <th>1</th>\n",
       "      <td>35</td>\n",
       "      <td>20000</td>\n",
       "      <td>0</td>\n",
       "    </tr>\n",
       "    <tr>\n",
       "      <th>2</th>\n",
       "      <td>26</td>\n",
       "      <td>43000</td>\n",
       "      <td>0</td>\n",
       "    </tr>\n",
       "    <tr>\n",
       "      <th>3</th>\n",
       "      <td>27</td>\n",
       "      <td>57000</td>\n",
       "      <td>0</td>\n",
       "    </tr>\n",
       "    <tr>\n",
       "      <th>4</th>\n",
       "      <td>19</td>\n",
       "      <td>76000</td>\n",
       "      <td>0</td>\n",
       "    </tr>\n",
       "  </tbody>\n",
       "</table>\n",
       "</div>"
      ],
      "text/plain": [
       "   Age  EstimatedSalary  Purchased\n",
       "0   19            19000          0\n",
       "1   35            20000          0\n",
       "2   26            43000          0\n",
       "3   27            57000          0\n",
       "4   19            76000          0"
      ]
     },
     "execution_count": 45,
     "metadata": {},
     "output_type": "execute_result"
    }
   ],
   "source": [
    "df.head()"
   ]
  },
  {
   "cell_type": "markdown",
   "id": "bb3d30a1",
   "metadata": {},
   "source": [
    "The visualization above shows that people with a monthly income of over 90,000 among the target audience are more interested in purchasing the product."
   ]
  },
  {
   "cell_type": "code",
   "execution_count": 48,
   "id": "c2d930d5",
   "metadata": {},
   "outputs": [
    {
     "data": {
      "image/png": "[encoded data removed]",
      "text/plain": [
       "<Figure size 432x288 with 1 Axes>"
      ]
     },
     "metadata": {
      "needs_background": "light"
     },
     "output_type": "display_data"
    }
   ],
   "source": [
    "sns.lineplot(x='Age', y='Purchased', data=df)\n",
    "plt.show()"
   ]
  },
  {
   "cell_type": "markdown",
   "id": "06511b72",
   "metadata": {
    "id": "06511b72"
   },
   "source": [
    "\n",
    "### Histogram Insight: -"
   ]
  },
  {
   "cell_type": "markdown",
   "id": "546e95e1",
   "metadata": {
    "id": "546e95e1"
   },
   "source": [
    "Histogram helps in identifying the following:\n",
    "- View the shape of your data set’s distribution to look for outliers or other significant data points.\n",
    "\n",
    "- Determine whether something significant has boccurred from one time period to another."
   ]
  },
  {
   "cell_type": "markdown",
   "id": "53e66f80",
   "metadata": {
    "id": "53e66f80"
   },
   "source": [
    "### Why Histogram? "
   ]
  },
  {
   "cell_type": "markdown",
   "id": "c92c6e2a",
   "metadata": {
    "id": "c92c6e2a"
   },
   "source": [
    "It is used to illustrate the major features of the distribution of the data in a convenient form. It is also useful when dealing with large data sets (greater than 100 observations). It can help detect any unusual observations (outliers) or any gaps in the data.\n",
    "\n",
    "From the above graphical representation we can identify that the highest bar represents the outliers which is above the maximum range.\n",
    "\n",
    "We can also identify that the values are moving on the right side, which determines positive and the centered values determines normal skewness."
   ]
  },
  {
   "cell_type": "markdown",
   "id": "301cf45e",
   "metadata": {
    "id": "301cf45e"
   },
   "source": [
    "# 2. Distplot"
   ]
  },
  {
   "cell_type": "markdown",
   "id": "115cc5f4",
   "metadata": {
    "id": "115cc5f4"
   },
   "source": [
    "A Distplot or distribution plot, depicts the variation in the data distribution. Seaborn Distplot represents the overall distribution of continuous data variables. The Seaborn module along with the Matplotlib module is used to depict the distplot with different variations in it "
   ]
  },
  {
   "cell_type": "code",
   "execution_count": 47,
   "id": "48e0718d",
   "metadata": {
    "id": "48e0718d",
    "outputId": "10e5db54-a51a-440a-94d4-9000d270636a"
   },
   "outputs": [
    {
     "data": {
      "text/plain": [
       "<seaborn.axisgrid.FacetGrid at 0x25558c31640>"
      ]
     },
     "execution_count": 47,
     "metadata": {},
     "output_type": "execute_result"
    },
    {
     "data": {
      "image/png": "[encoded data removed]",
      "text/plain": [
       "<Figure size 864x216 with 3 Axes>"
      ]
     },
     "metadata": {
      "needs_background": "light"
     },
     "output_type": "display_data"
    }
   ],
   "source": [
    "num = [f for f in df.columns if df.dtypes[f] != 'object']\n",
    "nd = pd.melt(df, value_vars = num)\n",
    "n1 = sns.FacetGrid (nd, col='variable', col_wrap=4, sharex=False, sharey = False)\n",
    "n1 = n1.map(sns.distplot, 'value')\n",
    "n1"
   ]
  },
  {
   "cell_type": "code",
   "execution_count": 48,
   "id": "4370b3fc",
   "metadata": {
    "id": "4370b3fc",
    "outputId": "4bb6dd3c-5928-47eb-b832-a5e7b2bef346"
   },
   "outputs": [
    {
     "name": "stdout",
     "output_type": "stream",
     "text": [
      "0.23133746309642822\n",
      "0.49502362888993623\n",
      "0.596902836080957\n"
     ]
    }
   ],
   "source": [
    "columns1 = df.columns.tolist()\n",
    "for i in columns1:\n",
    "    print(df[i].skew())"
   ]
  },
  {
   "cell_type": "markdown",
   "id": "481b5eab",
   "metadata": {
    "id": "481b5eab"
   },
   "source": [
    "### Distplot Insights: -\n",
    "\n",
    "Above is the distrution bar graphs to confirm about the statistics of the data about the skewness, the above results are:\n",
    "3 columns are positive skewed\n",
    "In some cases we'll need to log transform this variable so that it becomes normally distributed. A normally distributed (or close to normal) target variable helps in better modeling the relationship between target and independent variables\n",
    "\n",
    "### Why Distplot?\n",
    "Skewness is demonstrated on a bell curve when data points are not distributed symmetrically to the left and right sides of the median on a bell curve. If the bell curve is shifted to the left or the right, it is said to be skewed.\n",
    "\n",
    "We can observe that the bell curve is shifted to left we indicates positive skewness.As all the column are positively skewed we don't need to do scaling."
   ]
  },
  {
   "cell_type": "markdown",
   "id": "c973af40",
   "metadata": {
    "id": "c973af40"
   },
   "source": [
    "Let's proceed and check the distribution of the target variable.\n"
   ]
  },
  {
   "cell_type": "markdown",
   "id": "54b4262f",
   "metadata": {
    "id": "54b4262f"
   },
   "source": [
    "#### The target variable is positively skewed and its value is very close to 0 so no need to transform it.A normally distributed (or close to normal) target variable helps in better modeling the relationship between target and independent variables. "
   ]
  },
  {
   "cell_type": "markdown",
   "id": "73d498c8",
   "metadata": {
    "id": "73d498c8"
   },
   "source": [
    "# 3. Heatmap\n",
    "\n",
    "\n"
   ]
  },
  {
   "cell_type": "markdown",
   "id": "5ac58979",
   "metadata": {
    "id": "5ac58979"
   },
   "source": [
    "A heatmap (or heat map) is a graphical representation of data where values are depicted by color.Heatmaps make it easy to visualize complex data and understand it at a glance "
   ]
  },
  {
   "cell_type": "markdown",
   "id": "15197e30",
   "metadata": {
    "id": "15197e30"
   },
   "source": [
    "__Correlation__ - A positive correlation is a relationship between two variables in which both variables move in the same direction. Therefore, when one variable increases as the other variable increases, or one variable decreases while the other decreases."
   ]
  },
  {
   "cell_type": "markdown",
   "id": "4f7f26b9",
   "metadata": {
    "id": "4f7f26b9"
   },
   "source": [
    "Correlation can have a value:\n",
    "\n",
    "- 1 is a perfect positive correlation\n",
    "- 0 is no correlation (the values don't seem linked at all)\n",
    "- -1 is a perfect negative correlation\n",
    "\n"
   ]
  },
  {
   "cell_type": "code",
   "execution_count": 51,
   "id": "5273132b",
   "metadata": {
    "id": "5273132b",
    "outputId": "1bfd17fc-e1a0-43ba-f9f1-a9deb1bfef17"
   },
   "outputs": [
    {
     "data": {
      "image/png": "[encoded data removed]",
      "text/plain": [
       "<Figure size 720x720 with 2 Axes>"
      ]
     },
     "metadata": {},
     "output_type": "display_data"
    }
   ],
   "source": [
    "#correlation plot\n",
    "sns.set(rc = {'figure.figsize':(10,10)})\n",
    "corr = df.corr().abs()\n",
    "sns.heatmap(corr,annot=True) \n",
    "plt.show()"
   ]
  },
  {
   "cell_type": "markdown",
   "id": "ecb21289",
   "metadata": {
    "id": "ecb21289"
   },
   "source": [
    "### Notice the last column from right side of this map. We can see the correlation of all variables against diagnosis. As you can see, some variables seem to be strongly correlated with the target variable. Here, a numeric correlation score will help us understand the graph better."
   ]
  },
  {
   "cell_type": "code",
   "execution_count": 52,
   "id": "ad4ce17e",
   "metadata": {
    "id": "ad4ce17e",
    "outputId": "719bd34f-9c34-4006-d93c-eed8853b99e7"
   },
   "outputs": [
    {
     "data": {
      "text/html": [
       "<div>\n",
       "<style scoped>\n",
       "    .dataframe tbody tr th:only-of-type {\n",
       "        vertical-align: middle;\n",
       "    }\n",
       "\n",
       "    .dataframe tbody tr th {\n",
       "        vertical-align: top;\n",
       "    }\n",
       "\n",
       "    .dataframe thead th {\n",
       "        text-align: right;\n",
       "    }\n",
       "</style>\n",
       "<table border=\"1\" class=\"dataframe\">\n",
       "  <thead>\n",
       "    <tr style=\"text-align: right;\">\n",
       "      <th></th>\n",
       "      <th>Age</th>\n",
       "      <th>EstimatedSalary</th>\n",
       "      <th>Purchased</th>\n",
       "    </tr>\n",
       "  </thead>\n",
       "  <tbody>\n",
       "    <tr>\n",
       "      <th>Age</th>\n",
       "      <td>1.000000</td>\n",
       "      <td>0.155238</td>\n",
       "      <td>0.622454</td>\n",
       "    </tr>\n",
       "    <tr>\n",
       "      <th>EstimatedSalary</th>\n",
       "      <td>0.155238</td>\n",
       "      <td>1.000000</td>\n",
       "      <td>0.362083</td>\n",
       "    </tr>\n",
       "    <tr>\n",
       "      <th>Purchased</th>\n",
       "      <td>0.622454</td>\n",
       "      <td>0.362083</td>\n",
       "      <td>1.000000</td>\n",
       "    </tr>\n",
       "  </tbody>\n",
       "</table>\n",
       "</div>"
      ],
      "text/plain": [
       "                      Age  EstimatedSalary  Purchased\n",
       "Age              1.000000         0.155238   0.622454\n",
       "EstimatedSalary  0.155238         1.000000   0.362083\n",
       "Purchased        0.622454         0.362083   1.000000"
      ]
     },
     "execution_count": 52,
     "metadata": {},
     "output_type": "execute_result"
    }
   ],
   "source": [
    "corr"
   ]
  },
  {
   "cell_type": "markdown",
   "id": "7ae977de",
   "metadata": {
    "id": "7ae977de"
   },
   "source": [
    "### Heatmap insights: -\n",
    "\n",
    "As we know, it is recommended to avoid correlated features in your dataset. Indeed, a group of highly correlated features will not bring additional information (or just very few), but will increase the complexity of the algorithm, hence increasing the risk of errors.\n",
    "\n",
    "\n"
   ]
  },
  {
   "cell_type": "markdown",
   "id": "31e88953",
   "metadata": {
    "id": "31e88953"
   },
   "source": [
    "### Why Heatmap?"
   ]
  },
  {
   "cell_type": "markdown",
   "id": "d6253490",
   "metadata": {
    "id": "d6253490"
   },
   "source": [
    "Heatmaps are used to show relationships between two variables, one plotted on each axis. By observing how cell colors change across each axis, you can observe if there are any patterns in value for one or both variables."
   ]
  },
  {
   "cell_type": "markdown",
   "id": "a5efc649",
   "metadata": {
    "id": "a5efc649"
   },
   "source": [
    "# 4. Boxplot"
   ]
  },
  {
   "cell_type": "markdown",
   "id": "72609d18",
   "metadata": {
    "id": "72609d18"
   },
   "source": [
    "A boxplot is a standardized way of displaying the distribution of data based on a five number summary (“minimum”, first quartile [Q1], median, third quartile [Q3] and “maximum”)."
   ]
  },
  {
   "cell_type": "markdown",
   "id": "a8b41d0f",
   "metadata": {
    "id": "a8b41d0f"
   },
   "source": [
    "Basically, to find the outlier in a dataset/column."
   ]
  },
  {
   "cell_type": "code",
   "execution_count": 53,
   "id": "9fda4fe0",
   "metadata": {
    "id": "9fda4fe0",
    "outputId": "b6af65b2-fc56-4a2e-8a61-268cb7c75d1f"
   },
   "outputs": [
    {
     "data": {
      "image/png": "[encoded data removed]",
      "text/plain": [
       "<Figure size 360x360 with 1 Axes>"
      ]
     },
     "metadata": {},
     "output_type": "display_data"
    },
    {
     "data": {
      "image/png": "[encoded data removed]",
      "text/plain": [
       "<Figure size 360x360 with 1 Axes>"
      ]
     },
     "metadata": {},
     "output_type": "display_data"
    }
   ],
   "source": [
    "\n",
    "features = ['Age', 'EstimatedSalary']\n",
    "for value in features:\n",
    "    sns.catplot(data=df, x=value,  kind=\"box\")"
   ]
  },
  {
   "cell_type": "code",
   "execution_count": 54,
   "id": "4503cb94",
   "metadata": {
    "id": "4503cb94",
    "outputId": "19318b6f-214a-4c3e-c57f-d47b3bf82dac"
   },
   "outputs": [
    {
     "data": {
      "text/plain": [
       "<seaborn.axisgrid.FacetGrid at 0x255591b2a90>"
      ]
     },
     "execution_count": 54,
     "metadata": {},
     "output_type": "execute_result"
    },
    {
     "data": {
      "image/png": "[encoded data removed]",
      "text/plain": [
       "<Figure size 360x360 with 1 Axes>"
      ]
     },
     "metadata": {},
     "output_type": "display_data"
    }
   ],
   "source": [
    "#for target variable\n",
    "sns.catplot(data=df, x='Purchased', kind='box')"
   ]
  },
  {
   "cell_type": "markdown",
   "id": "6d419fb3",
   "metadata": {
    "id": "6d419fb3"
   },
   "source": [
    "#### The dark points are known as Outliers. Outliers are those data points that are significantly different from the rest of the dataset. They are often abnormal observations that skew the data distribution, and arise due to inconsistent data entry, or erroneous observations."
   ]
  },
  {
   "cell_type": "markdown",
   "id": "368b3dee",
   "metadata": {
    "id": "368b3dee"
   },
   "source": [
    "### Boxplot Insights: - \n",
    "- Sometimes outliers may be an error in the data and should be removed. In this case these points are correct readings yet they are different from the other points that they appear to be incorrect.\n",
    "\n",
    "- The best way to decide wether to remove them or not is to train models with and without these data points and compare their validation accuracy.\n",
    "\n",
    "- So we will keep it unchanged as it won't affect our model.\n",
    "\n",
    "**Here, we can see that there are no outliers.**\n",
    "### Why Boxplot?\n",
    "Box plots are used to show distributions of numeric data values, especially when you want to compare them between multiple groups. They are built to provide high-level information at a glance, offering general information about a group of data's symmetry, skew, variance, and outliers.\n",
    "\n"
   ]
  },
  {
   "cell_type": "markdown",
   "id": "8d13db53",
   "metadata": {
    "id": "8d13db53"
   },
   "source": [
    "In the next step we will divide our cleaned data into training data and testing data."
   ]
  },
  {
   "cell_type": "markdown",
   "id": "e7844542",
   "metadata": {
    "id": "e7844542"
   },
   "source": [
    "# Step 2: Data Preparation\n",
    "**Goal:-**"
   ]
  },
  {
   "cell_type": "markdown",
   "id": "c78aba38",
   "metadata": {
    "id": "c78aba38"
   },
   "source": [
    "Tasks we are going to in this step:"
   ]
  },
  {
   "cell_type": "markdown",
   "id": "3b4f8b7b",
   "metadata": {
    "id": "3b4f8b7b"
   },
   "source": [
    "1. Now we will spearate the target variable and feature columns in two different dataframe and will check the shape of the dataset for validation purpose.\n",
    "2. Split dataset into train and test dataset.\n",
    "3. Scaling on train dataset."
   ]
  },
  {
   "cell_type": "markdown",
   "id": "655dd38c",
   "metadata": {
    "id": "655dd38c"
   },
   "source": [
    "**1. Now we spearate the target variable and feature columns in two different dataframe and will check the shape of the dataset for validation purpose.**"
   ]
  },
  {
   "cell_type": "code",
   "execution_count": 55,
   "id": "7c63d22b",
   "metadata": {
    "id": "7c63d22b"
   },
   "outputs": [],
   "source": [
    "# Separate target and feature column in X and y variable\n",
    "\n",
    "target = 'Purchased'\n",
    "\n",
    "# X will be the features\n",
    "X = df.drop(target,axis=1) \n",
    "#y will be the target variable\n",
    "y = df[target]"
   ]
  },
  {
   "cell_type": "code",
   "execution_count": 56,
   "id": "8f923034",
   "metadata": {
    "id": "8f923034",
    "outputId": "907b44e1-bbaa-4849-cc4f-dbb3b40e28be"
   },
   "outputs": [
    {
     "name": "stdout",
     "output_type": "stream",
     "text": [
      "<class 'pandas.core.frame.DataFrame'>\n",
      "RangeIndex: 400 entries, 0 to 399\n",
      "Data columns (total 2 columns):\n",
      " #   Column           Non-Null Count  Dtype\n",
      "---  ------           --------------  -----\n",
      " 0   Age              400 non-null    int64\n",
      " 1   EstimatedSalary  400 non-null    int64\n",
      "dtypes: int64(2)\n",
      "memory usage: 6.4 KB\n"
     ]
    }
   ],
   "source": [
    "X.info()"
   ]
  },
  {
   "cell_type": "code",
   "execution_count": 57,
   "id": "04510e17",
   "metadata": {
    "id": "04510e17",
    "outputId": "390ad9e4-1608-4c33-8b61-90213c8ab123"
   },
   "outputs": [
    {
     "data": {
      "text/plain": [
       "0      0\n",
       "1      0\n",
       "2      0\n",
       "3      0\n",
       "4      0\n",
       "      ..\n",
       "395    1\n",
       "396    1\n",
       "397    1\n",
       "398    0\n",
       "399    1\n",
       "Name: Purchased, Length: 400, dtype: int64"
      ]
     },
     "execution_count": 57,
     "metadata": {},
     "output_type": "execute_result"
    }
   ],
   "source": [
    "y"
   ]
  },
  {
   "cell_type": "code",
   "execution_count": 58,
   "id": "f27caefb",
   "metadata": {
    "id": "f27caefb",
    "outputId": "967e3420-0b07-4d0b-ce2f-a32132c0ec86"
   },
   "outputs": [
    {
     "data": {
      "text/plain": [
       "((400, 2), (400,))"
      ]
     },
     "execution_count": 58,
     "metadata": {},
     "output_type": "execute_result"
    }
   ],
   "source": [
    "# Check the shape of X and y variable\n",
    "X.shape, y.shape"
   ]
  },
  {
   "cell_type": "code",
   "execution_count": 59,
   "id": "4152bf02",
   "metadata": {
    "id": "4152bf02"
   },
   "outputs": [],
   "source": [
    "# Reshape the y variable \n",
    "y = y.values.reshape(-1,1)"
   ]
  },
  {
   "cell_type": "code",
   "execution_count": 60,
   "id": "57c983bf",
   "metadata": {
    "id": "57c983bf",
    "outputId": "b97383cc-67cb-4f87-f633-cb044016c87b"
   },
   "outputs": [
    {
     "data": {
      "text/plain": [
       "((400, 2), (400, 1))"
      ]
     },
     "execution_count": 60,
     "metadata": {},
     "output_type": "execute_result"
    }
   ],
   "source": [
    "# Again check the shape of X and y variable\n",
    "X.shape, y.shape"
   ]
  },
  {
   "cell_type": "markdown",
   "id": "da8e35a9",
   "metadata": {
    "id": "da8e35a9"
   },
   "source": [
    "#### 2. Spliting the dataset in training and testing data. "
   ]
  },
  {
   "cell_type": "markdown",
   "id": "a7d06793",
   "metadata": {
    "id": "a7d06793"
   },
   "source": [
    "*Here we are spliting our dataset into 80/20 percentage where 80% dataset goes into the training part and 20% goes into testing  part.*"
   ]
  },
  {
   "cell_type": "code",
   "execution_count": 61,
   "id": "c7227946",
   "metadata": {
    "id": "c7227946"
   },
   "outputs": [],
   "source": [
    "# Split the X and y into X_train, X_test, y_train, y_test variables with 80-20% split.\n",
    "X_train, X_test, y_train, y_test = train_test_split(X, y, test_size=0.2, random_state=42)"
   ]
  },
  {
   "cell_type": "code",
   "execution_count": 62,
   "id": "cdf4bb69",
   "metadata": {
    "id": "cdf4bb69",
    "outputId": "90135a0a-5ebf-4594-feaa-bf7665cdcd0e"
   },
   "outputs": [
    {
     "data": {
      "text/plain": [
       "((320, 2), (80, 2), (320, 1), (80, 1))"
      ]
     },
     "execution_count": 62,
     "metadata": {},
     "output_type": "execute_result"
    }
   ],
   "source": [
    "# Check shape of the splitted variables\n",
    "X_train.shape, X_test.shape, y_train.shape, y_test.shape"
   ]
  },
  {
   "cell_type": "markdown",
   "id": "9f842d96",
   "metadata": {
    "id": "9f842d96"
   },
   "source": [
    "### Insights: -\n",
    "\n",
    "Train test split technique is used to estimate the performance of machine learning algorithms which are used to make predictions on data not used to train the model.It is a fast and easy procedure to perform, the results of which allow you to compare the performance of machine learning algorithms for your predictive modeling problem. Although simple to use and interpret, there are times when the procedure should not be used, such as when you have a small dataset and situations where additional configuration is required, such as when it is used for classification and the dataset is not balanced.\n",
    "\n",
    "In the next step we will train our model on the basis of our training and testing data."
   ]
  },
  {
   "cell_type": "markdown",
   "id": "4bea705d",
   "metadata": {
    "id": "4bea705d"
   },
   "source": [
    "# Step 3: Model Training"
   ]
  },
  {
   "cell_type": "markdown",
   "id": "b302c8f6",
   "metadata": {
    "id": "b302c8f6"
   },
   "source": [
    "#### Goal:\n",
    "In this step we are going to train our dataset on different classification algorithms. As we know that our target variable is in discrete format so we have to apply classification algorithm. Target variable is a category like filtering.In our dataset we have the outcome variable or Dependent variable i.e Y having only two set of values, either M (Malign) or B(Benign). So we will use Classification algorithm**\n",
    "\n",
    "__Algorithms we are going to use in this step__\n",
    "\n",
    "1. Logistic Regression\n",
    "2. K Nearest Neighbor\n",
    "3. Random Forest Classification"
   ]
  },
  {
   "cell_type": "markdown",
   "id": "bb77ac56",
   "metadata": {
    "id": "bb77ac56"
   },
   "source": [
    "K-fold cross validation is a procedure used to estimate the skill of the model on new data. There are common tactics that you can use to select the value of k for your dataset. There are commonly used variations on cross-validation, such as stratified and repeated, that are available in scikit-learn"
   ]
  },
  {
   "cell_type": "code",
   "execution_count": 63,
   "id": "59d55dc9",
   "metadata": {
    "id": "59d55dc9"
   },
   "outputs": [],
   "source": [
    "# Define kfold with 10 split\n",
    "cv = KFold(n_splits=10, shuffle=True, random_state=42)"
   ]
  },
  {
   "cell_type": "markdown",
   "id": "f33779e3",
   "metadata": {
    "id": "f33779e3"
   },
   "source": [
    "The goal of cross-validation is to test the model's ability to predict new data that was not used in estimating it, in order to flag problems like overfitting or selection bias and to give an insight on how the model will generalize to an independent dataset (i.e., an unknown dataset, for instance from a real problem)."
   ]
  },
  {
   "cell_type": "markdown",
   "id": "29fd0b08",
   "metadata": {
    "id": "29fd0b08"
   },
   "source": [
    "# 1. Logistic Regression"
   ]
  },
  {
   "cell_type": "markdown",
   "id": "eea03568",
   "metadata": {
    "id": "eea03568"
   },
   "source": [
    "Logistic regression is one of the most popular Machine Learning algorithms, which comes under the Supervised Learning technique. It is used for predicting the categorical dependent variable using a given set of independent variables."
   ]
  },
  {
   "cell_type": "markdown",
   "id": "5b590115",
   "metadata": {
    "id": "5b590115"
   },
   "source": [
    "Logistic regression predicts the output of a categorical dependent variable. Therefore the outcome must be a categorical or discrete value. It can be either Yes or No, 0 or 1, true or False, etc. but instead of giving the exact value as 0 and 1, it gives the probabilistic values which lie between 0 and 1."
   ]
  },
  {
   "cell_type": "markdown",
   "id": "08b7c59e",
   "metadata": {
    "id": "08b7c59e"
   },
   "source": [
    "#### Train set cross-validation "
   ]
  },
  {
   "cell_type": "code",
   "execution_count": 64,
   "id": "4111e09b",
   "metadata": {
    "id": "4111e09b",
    "outputId": "3219c3a2-512a-4855-fb48-e8a17f88b770"
   },
   "outputs": [
    {
     "data": {
      "text/plain": [
       "LogisticRegression()"
      ]
     },
     "execution_count": 64,
     "metadata": {},
     "output_type": "execute_result"
    }
   ],
   "source": [
    "#Using Logistic Regression Algorithm to the Training Set\n",
    "from sklearn.linear_model import LogisticRegression\n",
    "\n",
    "log_R = LogisticRegression() #Object Creation\n",
    "\n",
    "log_R.fit(X_train, y_train)"
   ]
  },
  {
   "cell_type": "code",
   "execution_count": 65,
   "id": "92485565",
   "metadata": {
    "id": "92485565",
    "outputId": "a384df51-a3e4-4cf5-8f1c-c2f6361fce77"
   },
   "outputs": [
    {
     "data": {
      "text/plain": [
       "0.640625"
      ]
     },
     "execution_count": 65,
     "metadata": {},
     "output_type": "execute_result"
    }
   ],
   "source": [
    "#Accuracy check of trainig data\n",
    "\n",
    "#Get R2 score\n",
    "log_R.score(X_train, y_train)\n"
   ]
  },
  {
   "cell_type": "code",
   "execution_count": 66,
   "id": "e1c4454c",
   "metadata": {
    "id": "e1c4454c",
    "outputId": "a7a73b5b-d092-43c3-fbeb-10011a0844ad"
   },
   "outputs": [
    {
     "data": {
      "text/plain": [
       "0.65"
      ]
     },
     "execution_count": 66,
     "metadata": {},
     "output_type": "execute_result"
    }
   ],
   "source": [
    "#Accuracy of test data\n",
    "log_R.score(X_test, y_test) "
   ]
  },
  {
   "cell_type": "code",
   "execution_count": 67,
   "id": "5dd77229",
   "metadata": {
    "id": "5dd77229",
    "outputId": "dfd49892-602d-4012-f409-18d06fc110a8"
   },
   "outputs": [
    {
     "data": {
      "text/plain": [
       "array([0.55901699, 0.55901699, 0.39528471, 0.61237244, 0.55901699,\n",
       "       0.58630197, 0.55901699, 0.63737744, 0.61237244, 0.63737744])"
      ]
     },
     "execution_count": 67,
     "metadata": {},
     "output_type": "execute_result"
    }
   ],
   "source": [
    "# Getting kfold values\n",
    "lg_scores = -1 * cross_val_score(log_R, \n",
    "                                 X_train, \n",
    "                                 y_train, \n",
    "                                 cv=cv, \n",
    "                                 scoring='neg_root_mean_squared_error')\n",
    "lg_scores"
   ]
  },
  {
   "cell_type": "code",
   "execution_count": 68,
   "id": "b0ce79ff",
   "metadata": {
    "id": "b0ce79ff",
    "outputId": "949c4ee7-77d1-4bbb-85b4-eee089e5225a"
   },
   "outputs": [
    {
     "data": {
      "text/plain": [
       "0.5717154404788551"
      ]
     },
     "execution_count": 68,
     "metadata": {},
     "output_type": "execute_result"
    }
   ],
   "source": [
    "# Mean of the train kfold scores\n",
    "lg_score_train = np.mean(lg_scores)\n",
    "lg_score_train"
   ]
  },
  {
   "cell_type": "markdown",
   "id": "a5f98328",
   "metadata": {
    "id": "a5f98328"
   },
   "source": [
    "### Prediction "
   ]
  },
  {
   "cell_type": "markdown",
   "id": "e1430b99",
   "metadata": {
    "id": "e1430b99"
   },
   "source": [
    "Now we will perform prediction on the dataset using Logistic Regression."
   ]
  },
  {
   "cell_type": "code",
   "execution_count": 69,
   "id": "cc4d8981",
   "metadata": {
    "id": "cc4d8981"
   },
   "outputs": [],
   "source": [
    "# Predict the values on X_test_scaled dataset \n",
    "y_predicted = log_R.predict(X_test)"
   ]
  },
  {
   "cell_type": "markdown",
   "id": "20ddb772",
   "metadata": {
    "id": "20ddb772"
   },
   "source": [
    "## Various parameters are calculated for analysing the predictions.\n",
    "\n",
    "1) Confusion Matrix\n",
    "2)Classification Report\n",
    "3)Accuracy Score\n",
    "4)Precision Score\n",
    "5)Recall Score\n",
    "6)F1 Score"
   ]
  },
  {
   "cell_type": "markdown",
   "id": "e42879cb",
   "metadata": {
    "id": "e42879cb"
   },
   "source": [
    "## Confusion Matrix\n",
    "\n",
    "A confusion matrix presents a table layout of the different outcomes of the prediction and results of a classification problem and helps visualize its outcomes. It plots a table of all the predicted and actual values of a classifier."
   ]
  },
  {
   "cell_type": "markdown",
   "id": "4c0058d4",
   "metadata": {
    "id": "4c0058d4"
   },
   "source": [
    "#### This diagram helps in understanding the concept of confusion matrix. "
   ]
  },
  {
   "cell_type": "code",
   "execution_count": 70,
   "id": "19f47b06",
   "metadata": {
    "id": "19f47b06"
   },
   "outputs": [],
   "source": [
    "# Constructing the confusion matrix.\n",
    "from sklearn.metrics import confusion_matrix"
   ]
  },
  {
   "cell_type": "code",
   "execution_count": 71,
   "id": "c6eab9f0",
   "metadata": {
    "id": "c6eab9f0"
   },
   "outputs": [],
   "source": [
    "#confusion matrix btw y_test and y_predicted\n",
    "cm = confusion_matrix(y_test,y_predicted)"
   ]
  },
  {
   "cell_type": "code",
   "execution_count": 72,
   "id": "90b85bd0",
   "metadata": {
    "id": "90b85bd0",
    "outputId": "c4653469-6492-40bc-aac6-90e299f1a8dd"
   },
   "outputs": [
    {
     "data": {
      "text/plain": [
       "<AxesSubplot:>"
      ]
     },
     "execution_count": 72,
     "metadata": {},
     "output_type": "execute_result"
    },
    {
     "data": {
      "image/png": "[encoded data removed]",
      "text/plain": [
       "<Figure size 360x360 with 1 Axes>"
      ]
     },
     "metadata": {},
     "output_type": "display_data"
    }
   ],
   "source": [
    "sns.set(rc = {'figure.figsize':(5,5)})\n",
    "sns.heatmap(cm/np.sum(cm), annot=True, \n",
    "            fmt='.2%', cmap='Blues', cbar = False)"
   ]
  },
  {
   "cell_type": "markdown",
   "id": "629a0eac",
   "metadata": {
    "id": "629a0eac"
   },
   "source": [
    "## Evaluating all kinds of evaluating parameters. "
   ]
  },
  {
   "cell_type": "markdown",
   "id": "7c47ad88",
   "metadata": {
    "id": "7c47ad88"
   },
   "source": [
    "#### Classification Report :\n",
    "A classification report is a performance evaluation metric in machine learning. It is used to show the precision, recall, F1 Score, and support of your trained classification model. \n",
    "\n",
    "#### F1_score :\n",
    "The F1 score is a machine learning metric that can be used in classification models. \n",
    "\n",
    "#### Precision_score :\n",
    "The precision is the ratio tp / (tp + fp) where tp is the number of true positives and fp the number of false positives. The precision is intuitively the ability of the classifier not to label as positive a sample that is negative. The best value is 1 and the worst value is 0.\n",
    "\n",
    "#### Recall_score :\n",
    "Recall score is used to measure the model performance in terms of measuring the count of true positives in a correct manner out of all the actual positive values. Precision-Recall score is a useful measure of success of prediction when the classes are very imbalanced."
   ]
  },
  {
   "cell_type": "code",
   "execution_count": 73,
   "id": "bdd25f97",
   "metadata": {
    "id": "bdd25f97",
    "outputId": "a2979870-9b4a-4482-e5c0-06d66618e805"
   },
   "outputs": [
    {
     "name": "stdout",
     "output_type": "stream",
     "text": [
      "The model used is Logistic Regression\n",
      "\n",
      "The accuracy is: 0.65\n",
      "The precision is: 0.0\n",
      "The recall is: 0.0\n",
      "The F1-Score is: 0.0\n",
      "Classification Report is:\n",
      "\n",
      "              precision    recall  f1-score   support\n",
      "\n",
      "           0       0.65      1.00      0.79        52\n",
      "           1       0.00      0.00      0.00        28\n",
      "\n",
      "    accuracy                           0.65        80\n",
      "   macro avg       0.33      0.50      0.39        80\n",
      "weighted avg       0.42      0.65      0.51        80\n",
      "\n"
     ]
    }
   ],
   "source": [
    "# Evaluating the classifier\n",
    "# printing every score of the classifier\n",
    "# scoring in anything\n",
    "from sklearn.metrics import classification_report \n",
    "from sklearn.metrics import f1_score, accuracy_score, precision_score,recall_score\n",
    "from sklearn.metrics import confusion_matrix\n",
    "  \n",
    "\n",
    "print(\"The model used is Logistic Regression\")\n",
    "  \n",
    "l_acc = accuracy_score(y_test, y_predicted)\n",
    "print(\"\\nThe accuracy is: {}\".format(l_acc))\n",
    "  \n",
    "prec = precision_score(y_test, y_predicted)\n",
    "print(\"The precision is: {}\".format(prec))\n",
    "  \n",
    "rec = recall_score(y_test, y_predicted)\n",
    "print(\"The recall is: {}\".format(rec))\n",
    "  \n",
    "f1 = f1_score(y_test, y_predicted)\n",
    "print(\"The F1-Score is: {}\".format(f1))\n",
    "  \n",
    "c1 = classification_report(y_test, y_predicted)\n",
    "print(\"Classification Report is:\")\n",
    "print()\n",
    "print(c1)"
   ]
  },
  {
   "cell_type": "markdown",
   "id": "a3b79937",
   "metadata": {
    "id": "a3b79937"
   },
   "source": [
    "# 2. K Nearest Neighbor"
   ]
  },
  {
   "cell_type": "markdown",
   "id": "0028008f",
   "metadata": {
    "id": "0028008f"
   },
   "source": [
    "K-Nearest Neighbour is one of the simplest Machine Learning algorithms based on Supervised Learning technique.\n",
    "K-NN algorithm assumes the similarity between the new case/data and available cases and put the new case into the category that is most similar to the available categories.\n",
    "K-NN algorithm stores all the available data and classifies a new data point based on the similarity. This means when new data appears then it can be easily classified into a well suite category by using K- NN algorithm"
   ]
  },
  {
   "cell_type": "code",
   "execution_count": 74,
   "id": "cde10428",
   "metadata": {
    "id": "cde10428",
    "outputId": "560d35f5-470e-48d4-eb86-89b7a50a92d7"
   },
   "outputs": [
    {
     "data": {
      "text/plain": [
       "KNeighborsClassifier()"
      ]
     },
     "execution_count": 74,
     "metadata": {},
     "output_type": "execute_result"
    }
   ],
   "source": [
    "#Using KNeighborsClassifier Method of neighbors class to use Nearest Neighbor algorithm\n",
    "from sklearn.neighbors import KNeighborsClassifier\n",
    "classifier = KNeighborsClassifier()\n",
    "classifier.fit(X_train, y_train)"
   ]
  },
  {
   "cell_type": "code",
   "execution_count": 75,
   "id": "e0e902a9",
   "metadata": {
    "id": "e0e902a9",
    "outputId": "487bb15b-8184-4a22-9ab2-ad9003657ac7"
   },
   "outputs": [
    {
     "data": {
      "text/plain": [
       "0.88125"
      ]
     },
     "execution_count": 75,
     "metadata": {},
     "output_type": "execute_result"
    }
   ],
   "source": [
    "#Accuracy check of trainig data\n",
    "#Get R2 score\n",
    "classifier.score(X_train, y_train)"
   ]
  },
  {
   "cell_type": "code",
   "execution_count": 76,
   "id": "da25a1fa",
   "metadata": {
    "id": "da25a1fa",
    "outputId": "5d6db635-402f-457b-d237-d855eabc3b1f"
   },
   "outputs": [
    {
     "data": {
      "text/plain": [
       "0.825"
      ]
     },
     "execution_count": 76,
     "metadata": {},
     "output_type": "execute_result"
    }
   ],
   "source": [
    "#Accuracy of test data\n",
    "classifier.score(X_test, y_test) "
   ]
  },
  {
   "cell_type": "code",
   "execution_count": 77,
   "id": "259798ad",
   "metadata": {
    "id": "259798ad",
    "outputId": "ceab4654-2372-42ac-d2ec-5cd3796434de"
   },
   "outputs": [
    {
     "data": {
      "text/plain": [
       "array([0.4330127 , 0.46770717, 0.35355339, 0.4330127 , 0.5       ,\n",
       "       0.30618622, 0.46770717, 0.4330127 , 0.46770717, 0.55901699])"
      ]
     },
     "execution_count": 77,
     "metadata": {},
     "output_type": "execute_result"
    }
   ],
   "source": [
    "#Get kfold values\n",
    "Nn_scores = -1 * cross_val_score(classifier, \n",
    "                                    X_train, \n",
    "                                    y_train, \n",
    "                                    cv=cv, \n",
    "                                    scoring='neg_root_mean_squared_error')\n",
    "Nn_scores\n"
   ]
  },
  {
   "cell_type": "code",
   "execution_count": 78,
   "id": "0b8ea4c0",
   "metadata": {
    "id": "0b8ea4c0",
    "outputId": "0195b8e8-08af-4588-b587-74ddc3b482d9"
   },
   "outputs": [
    {
     "data": {
      "text/plain": [
       "0.4420916228533004"
      ]
     },
     "execution_count": 78,
     "metadata": {},
     "output_type": "execute_result"
    }
   ],
   "source": [
    "# Mean of the train kfold scores\n",
    "Nn_score_train = np.mean(Nn_scores)\n",
    "Nn_score_train"
   ]
  },
  {
   "cell_type": "markdown",
   "id": "0afac9bf",
   "metadata": {
    "id": "0afac9bf"
   },
   "source": [
    "### Prediction"
   ]
  },
  {
   "cell_type": "code",
   "execution_count": 79,
   "id": "101d9595",
   "metadata": {
    "id": "101d9595"
   },
   "outputs": [],
   "source": [
    "# Predict the values on X_test_scaled dataset \n",
    "y_predicted = classifier.predict(X_test)"
   ]
  },
  {
   "cell_type": "code",
   "execution_count": 80,
   "id": "5b64e336",
   "metadata": {
    "id": "5b64e336"
   },
   "outputs": [],
   "source": [
    "# Constructing the confusion matrix.\n",
    "from sklearn.metrics import confusion_matrix"
   ]
  },
  {
   "cell_type": "code",
   "execution_count": 81,
   "id": "a89a389a",
   "metadata": {
    "id": "a89a389a"
   },
   "outputs": [],
   "source": [
    "#Confusion matrix btw y_test and y_predicted\n",
    "cm = confusion_matrix(y_test,y_predicted)"
   ]
  },
  {
   "cell_type": "code",
   "execution_count": 82,
   "id": "b6815684",
   "metadata": {
    "id": "b6815684",
    "outputId": "fc5b1782-2a5f-4a97-bc4c-33df1db422d9"
   },
   "outputs": [
    {
     "data": {
      "text/plain": [
       "<AxesSubplot:>"
      ]
     },
     "execution_count": 82,
     "metadata": {},
     "output_type": "execute_result"
    },
    {
     "data": {
      "image/png": "[encoded data removed]",
      "text/plain": [
       "<Figure size 360x360 with 1 Axes>"
      ]
     },
     "metadata": {},
     "output_type": "display_data"
    }
   ],
   "source": [
    "sns.heatmap(cm/np.sum(cm), annot=True, \n",
    "            fmt='.2%', cmap='Blues', cbar = False)"
   ]
  },
  {
   "cell_type": "markdown",
   "id": "280a69ed",
   "metadata": {
    "id": "280a69ed"
   },
   "source": [
    "### Evaluating all kinds of evaluating parameters. "
   ]
  },
  {
   "cell_type": "code",
   "execution_count": 83,
   "id": "6374a196",
   "metadata": {
    "id": "6374a196",
    "outputId": "9a8503df-9d13-454a-b275-70649bead479"
   },
   "outputs": [
    {
     "name": "stdout",
     "output_type": "stream",
     "text": [
      "The model used is KNeighbors Classifier\n",
      "\n",
      "The accuracy is: 0.825\n",
      "The precision is: 0.7692307692307693\n",
      "The recall is: 0.7142857142857143\n",
      "The F1-Score is: 0.7407407407407408\n",
      "Classification Report is:\n",
      "\n",
      "              precision    recall  f1-score   support\n",
      "\n",
      "           0       0.85      0.88      0.87        52\n",
      "           1       0.77      0.71      0.74        28\n",
      "\n",
      "    accuracy                           0.82        80\n",
      "   macro avg       0.81      0.80      0.80        80\n",
      "weighted avg       0.82      0.82      0.82        80\n",
      "\n"
     ]
    }
   ],
   "source": [
    "# Evaluating the classifier\n",
    "# printing every score of the classifier\n",
    "# scoring in anything\n",
    "from sklearn.metrics import classification_report \n",
    "from sklearn.metrics import f1_score, accuracy_score, precision_score,recall_score\n",
    "from sklearn.metrics import confusion_matrix\n",
    "  \n",
    "\n",
    "print(\"The model used is KNeighbors Classifier\")\n",
    "  \n",
    "k_acc = accuracy_score(y_test, y_predicted)\n",
    "print(\"\\nThe accuracy is: {}\".format(k_acc))\n",
    "  \n",
    "prec = precision_score(y_test, y_predicted)\n",
    "print(\"The precision is: {}\".format(prec))\n",
    "  \n",
    "rec = recall_score(y_test, y_predicted)\n",
    "print(\"The recall is: {}\".format(rec))\n",
    "  \n",
    "f1 = f1_score(y_test, y_predicted)\n",
    "print(\"The F1-Score is: {}\".format(f1))\n",
    "  \n",
    "c1 = classification_report(y_test, y_predicted)\n",
    "print(\"Classification Report is:\")\n",
    "print()\n",
    "print(c1)    "
   ]
  },
  {
   "cell_type": "markdown",
   "id": "4921cfa7",
   "metadata": {
    "id": "4921cfa7"
   },
   "source": [
    "# 3. Random Forest Classifier"
   ]
  },
  {
   "cell_type": "markdown",
   "id": "5fa3fdfd",
   "metadata": {
    "id": "5fa3fdfd"
   },
   "source": [
    "Random Forest is a powerful and versatile supervised machine learning algorithm that grows and combines multiple decision trees to create a “forest.” It can be used for both classification and regression problems in R and Python.\n",
    "\n",
    "Random Forest and Decision Tree Algorithm are considered best for the data that has outliers."
   ]
  },
  {
   "cell_type": "code",
   "execution_count": 84,
   "id": "afa830ae",
   "metadata": {
    "id": "afa830ae",
    "outputId": "2b12daf7-b7cc-44b4-b2f7-39c227ebffa7"
   },
   "outputs": [
    {
     "data": {
      "text/plain": [
       "RandomForestClassifier()"
      ]
     },
     "execution_count": 84,
     "metadata": {},
     "output_type": "execute_result"
    }
   ],
   "source": [
    "#Using RandomForestClassifier method of ensemble class to use Random Forest Classification algorithm\n",
    "\n",
    "from sklearn.ensemble import RandomForestClassifier\n",
    "#clas = RandomForestClassifier(n_estimators = 10, criterion = 'entropy', random_state = 0)\n",
    "clas = RandomForestClassifier()\n",
    "clas.fit(X_train, y_train)\n"
   ]
  },
  {
   "cell_type": "code",
   "execution_count": 85,
   "id": "ad7b1ba2",
   "metadata": {
    "id": "ad7b1ba2",
    "outputId": "0e6f9899-be14-4c20-cf83-ff5ff0cf424e"
   },
   "outputs": [
    {
     "data": {
      "text/plain": [
       "0.996875"
      ]
     },
     "execution_count": 85,
     "metadata": {},
     "output_type": "execute_result"
    }
   ],
   "source": [
    "#Accuracy check of trainig data\n",
    "#Get R2 score\n",
    "clas.score(X_train, y_train)"
   ]
  },
  {
   "cell_type": "code",
   "execution_count": 86,
   "id": "cc4e16bc",
   "metadata": {
    "id": "cc4e16bc",
    "outputId": "3f92acbe-9425-4d91-c849-1bf9130da335"
   },
   "outputs": [
    {
     "data": {
      "text/plain": [
       "0.9"
      ]
     },
     "execution_count": 86,
     "metadata": {},
     "output_type": "execute_result"
    }
   ],
   "source": [
    "#Accuracy of test data\n",
    "clas.score(X_test, y_test) "
   ]
  },
  {
   "cell_type": "code",
   "execution_count": 87,
   "id": "bbeee049",
   "metadata": {
    "id": "bbeee049",
    "outputId": "b11358fe-1a6e-44a7-97cb-05666a817c4e"
   },
   "outputs": [
    {
     "data": {
      "text/plain": [
       "array([0.35355339, 0.25      , 0.35355339, 0.39528471, 0.25      ,\n",
       "       0.35355339, 0.30618622, 0.30618622, 0.25      , 0.39528471])"
      ]
     },
     "execution_count": 87,
     "metadata": {},
     "output_type": "execute_result"
    }
   ],
   "source": [
    "# Get kfold values\n",
    "Dta_scores = -1 * cross_val_score(clas, \n",
    "                                    X_train, \n",
    "                                    y_train, \n",
    "                                    cv=cv, \n",
    "                                    scoring='neg_root_mean_squared_error')\n",
    "Dta_scores\n"
   ]
  },
  {
   "cell_type": "code",
   "execution_count": 88,
   "id": "c31be3e6",
   "metadata": {
    "id": "c31be3e6",
    "outputId": "95e19dfb-b8ab-4591-dda4-f88fa6180312"
   },
   "outputs": [
    {
     "data": {
      "text/plain": [
       "0.32136020225177103"
      ]
     },
     "execution_count": 88,
     "metadata": {},
     "output_type": "execute_result"
    }
   ],
   "source": [
    "# Mean of the train kfold scores\n",
    "Dta_score_train = np.mean(Dta_scores)\n",
    "Dta_score_train"
   ]
  },
  {
   "cell_type": "markdown",
   "id": "5f289821",
   "metadata": {
    "id": "5f289821"
   },
   "source": [
    "### Prediction "
   ]
  },
  {
   "cell_type": "code",
   "execution_count": 89,
   "id": "1b18c12d",
   "metadata": {
    "id": "1b18c12d"
   },
   "outputs": [],
   "source": [
    "# predict the values on X_test_scaled dataset \n",
    "y_predicted = clas.predict(X_test)"
   ]
  },
  {
   "cell_type": "code",
   "execution_count": 90,
   "id": "26adbb11",
   "metadata": {
    "id": "26adbb11"
   },
   "outputs": [],
   "source": [
    "# Constructing the confusion matrix.\n",
    "from sklearn.metrics import confusion_matrix"
   ]
  },
  {
   "cell_type": "code",
   "execution_count": 91,
   "id": "42dd1fb5",
   "metadata": {
    "id": "42dd1fb5"
   },
   "outputs": [],
   "source": [
    "#confusion matrix btw y_test and y_predicted\n",
    "cm = confusion_matrix(y_test,y_predicted)"
   ]
  },
  {
   "cell_type": "code",
   "execution_count": 92,
   "id": "a0212819",
   "metadata": {
    "id": "a0212819",
    "outputId": "e8cdd3eb-ff82-4d5c-8952-95797f939591"
   },
   "outputs": [
    {
     "data": {
      "text/plain": [
       "<AxesSubplot:>"
      ]
     },
     "execution_count": 92,
     "metadata": {},
     "output_type": "execute_result"
    },
    {
     "data": {
      "image/png": "[encoded data removed]",
      "text/plain": [
       "<Figure size 360x360 with 1 Axes>"
      ]
     },
     "metadata": {},
     "output_type": "display_data"
    }
   ],
   "source": [
    "sns.heatmap(cm/np.sum(cm), annot=True, \n",
    "            fmt='.2%', cmap='Blues', cbar = False)"
   ]
  },
  {
   "cell_type": "markdown",
   "id": "36655331",
   "metadata": {
    "id": "36655331"
   },
   "source": [
    "### Evaluating all kinds of evaluating parameters. "
   ]
  },
  {
   "cell_type": "code",
   "execution_count": 93,
   "id": "5a469815",
   "metadata": {
    "id": "5a469815",
    "outputId": "bc85c627-8270-4181-aeda-9853204952f0"
   },
   "outputs": [
    {
     "name": "stdout",
     "output_type": "stream",
     "text": [
      "The model used is Random Forest Classifier\n",
      "\n",
      "The accuracy is 0.9\n",
      "The precision is 0.8125\n",
      "The recall is 0.9285714285714286\n",
      "The F1-Score is 0.8666666666666666\n",
      "Classification Report is:\n",
      "\n",
      "              precision    recall  f1-score   support\n",
      "\n",
      "           0       0.96      0.88      0.92        52\n",
      "           1       0.81      0.93      0.87        28\n",
      "\n",
      "    accuracy                           0.90        80\n",
      "   macro avg       0.89      0.91      0.89        80\n",
      "weighted avg       0.91      0.90      0.90        80\n",
      "\n"
     ]
    }
   ],
   "source": [
    "# Evaluating the classifier\n",
    "# printing every score of the classifier\n",
    "# scoring in anything\n",
    "from sklearn.metrics import classification_report \n",
    "from sklearn.metrics import f1_score, accuracy_score, precision_score,recall_score\n",
    "from sklearn.metrics import confusion_matrix\n",
    "  \n",
    "\n",
    "print(\"The model used is Random Forest Classifier\")\n",
    "  \n",
    "r_acc = accuracy_score(y_test, y_predicted)\n",
    "print(\"\\nThe accuracy is {}\".format(r_acc))\n",
    "  \n",
    "prec = precision_score(y_test, y_predicted)\n",
    "print(\"The precision is {}\".format(prec))\n",
    "  \n",
    "rec = recall_score(y_test, y_predicted)\n",
    "print(\"The recall is {}\".format(rec))\n",
    "  \n",
    "f1 = f1_score(y_test, y_predicted)\n",
    "print(\"The F1-Score is {}\".format(f1))\n",
    " \n",
    "c1 = classification_report(y_test, y_predicted)\n",
    "print(\"Classification Report is:\")\n",
    "print()\n",
    "print(c1)  "
   ]
  },
  {
   "cell_type": "markdown",
   "id": "c56678be",
   "metadata": {
    "id": "c56678be"
   },
   "source": [
    "# Insight: -"
   ]
  },
  {
   "cell_type": "code",
   "execution_count": 94,
   "id": "605cc7b8",
   "metadata": {
    "id": "605cc7b8",
    "outputId": "128b12b9-7751-42f2-ee64-c3ee6342f018"
   },
   "outputs": [
    {
     "data": {
      "text/html": [
       "<div>\n",
       "<style scoped>\n",
       "    .dataframe tbody tr th:only-of-type {\n",
       "        vertical-align: middle;\n",
       "    }\n",
       "\n",
       "    .dataframe tbody tr th {\n",
       "        vertical-align: top;\n",
       "    }\n",
       "\n",
       "    .dataframe thead th {\n",
       "        text-align: right;\n",
       "    }\n",
       "</style>\n",
       "<table border=\"1\" class=\"dataframe\">\n",
       "  <thead>\n",
       "    <tr style=\"text-align: right;\">\n",
       "      <th></th>\n",
       "      <th>Score in percentage</th>\n",
       "    </tr>\n",
       "  </thead>\n",
       "  <tbody>\n",
       "    <tr>\n",
       "      <th>Logistic Regression</th>\n",
       "      <td>0.650</td>\n",
       "    </tr>\n",
       "    <tr>\n",
       "      <th>K-nearest Neighbors</th>\n",
       "      <td>0.825</td>\n",
       "    </tr>\n",
       "    <tr>\n",
       "      <th>Random Forest</th>\n",
       "      <td>0.900</td>\n",
       "    </tr>\n",
       "  </tbody>\n",
       "</table>\n",
       "</div>"
      ],
      "text/plain": [
       "                     Score in percentage\n",
       "Logistic Regression                0.650\n",
       "K-nearest Neighbors                0.825\n",
       "Random Forest                      0.900"
      ]
     },
     "execution_count": 94,
     "metadata": {},
     "output_type": "execute_result"
    }
   ],
   "source": [
    "cal_metric=pd.DataFrame([l_acc,k_acc,r_acc],columns=[\"Score in percentage\"])\n",
    "cal_metric.index=['Logistic Regression',\n",
    "                  'K-nearest Neighbors',\n",
    "                  'Random Forest']\n",
    "cal_metric"
   ]
  },
  {
   "cell_type": "markdown",
   "id": "dd1fc793",
   "metadata": {
    "id": "dd1fc793"
   },
   "source": [
    "\n",
    "- As you can see with our Random Forest Model(0.900 or 90.00%) we are getting a better result.\n",
    "- So we gonna save our model with Random Forest Algorithm"
   ]
  },
  {
   "cell_type": "markdown",
   "id": "15c53205",
   "metadata": {
    "id": "15c53205"
   },
   "source": [
    "# Step 4: Save Model\n",
    "**Goal:- In this step we are going to save our model in pickel format file.**"
   ]
  },
  {
   "cell_type": "code",
   "execution_count": 109,
   "id": "86b5ce82",
   "metadata": {
    "id": "86b5ce82"
   },
   "outputs": [],
   "source": [
    "import pickle\n",
    "pickle.dump(log_R , open('Social_Media _Ads_prediction_Logistic.pkl', 'wb'))\n",
    "pickle.dump(classifier , open('Social_Media _Ads_prediction_KNearest.pkl', 'wb'))\n",
    "pickle.dump(clas , open('Social_Media _Ads_prediction_RandomForest.pkl', 'wb'))"
   ]
  },
  {
   "cell_type": "code",
   "execution_count": 110,
   "id": "cd45e83c",
   "metadata": {
    "id": "cd45e83c"
   },
   "outputs": [],
   "source": [
    "import pickle\n",
    "\n",
    "def model_prediction(features):\n",
    "    \n",
    "    pickled_model = pickle.load(open('Social_Media _Ads_prediction_RandomForest.pkl', 'rb'))\n",
    "    Purchased = str(list(pickled_model.predict(features)))\n",
    "    \n",
    "    return str(f'He/She purcased = {Purchased}')"
   ]
  },
  {
   "cell_type": "markdown",
   "id": "291ec5e4",
   "metadata": {
    "id": "291ec5e4"
   },
   "source": [
    "#### We can test our model by giving our own parameters or features to predict. "
   ]
  },
  {
   "cell_type": "code",
   "execution_count": 114,
   "id": "cd84cca7",
   "metadata": {},
   "outputs": [],
   "source": [
    "Age = 19\n",
    "EstimatedSalary = 20000"
   ]
  },
  {
   "cell_type": "code",
   "execution_count": 115,
   "id": "380e138c",
   "metadata": {
    "id": "380e138c",
    "outputId": "b64abd67-fa23-4611-930a-ac90dbeaa529"
   },
   "outputs": [
    {
     "data": {
      "text/plain": [
       "'He/She purcased = [0]'"
      ]
     },
     "execution_count": 115,
     "metadata": {},
     "output_type": "execute_result"
    }
   ],
   "source": [
    "model_prediction([[Age,EstimatedSalary]])"
   ]
  },
  {
   "cell_type": "markdown",
   "id": "a906b246",
   "metadata": {
    "id": "a906b246"
   },
   "source": [
    "1 = Yes, 0 = No"
   ]
  },
  {
   "cell_type": "markdown",
   "id": "a46d931d",
   "metadata": {
    "id": "a46d931d"
   },
   "source": [
    "# Step 5: After making model and checking its accuracy, we are going to deploy it in API/ Web App. "
   ]
  },
  {
   "cell_type": "markdown",
   "id": "e1d76588",
   "metadata": {
    "id": "e1d76588"
   },
   "source": [
    "This step holds a great importance as in this step we make a Web API which integrates our model and let it interacts with user.\n",
    "The user simply put data he is asked to fill and our API will help in predicting."
   ]
  },
  {
   "cell_type": "markdown",
   "id": "d64a42a0",
   "metadata": {
    "id": "d64a42a0"
   },
   "source": [
    "### There are many methods to create Web Application like Flask, Streamlit, etc. We going to use streamlit to create API. Below is an API refrence. "
   ]
  },
  {
   "cell_type": "markdown",
   "id": "ceceb746",
   "metadata": {
    "id": "ceceb746"
   },
   "source": [
    "https://tinyurl.com/bdexnk6v"
   ]
  },
  {
   "cell_type": "markdown",
   "id": "5c1aae78",
   "metadata": {
    "id": "5c1aae78"
   },
   "source": [
    "# Conclusion"
   ]
  },
  {
   "cell_type": "markdown",
   "id": "1ab4e800",
   "metadata": {
    "id": "1ab4e800"
   },
   "source": [
    "Social media advertising is a form of digital advertising that serves paid ads to your target audience using social media platforms. After observing the problem statement we have build an efficient model to overcome it. The above model helps in predicting  whether a user purchased a particular product or not. It helps the advertising company in identifying the best customer for them. The accuracy for the prediction is 90%.  "
   ]
  }
 ],
 "metadata": {
  "colab": {
   "provenance": []
  },
  "kernelspec": {
   "display_name": "Python 3 (ipykernel)",
   "language": "python",
   "name": "python3"
  },
  "language_info": {
   "codemirror_mode": {
    "name": "ipython",
    "version": 3
   },
   "file_extension": ".py",
   "mimetype": "text/x-python",
   "name": "python",
   "nbconvert_exporter": "python",
   "pygments_lexer": "ipython3",
   "version": "3.9.12"
  }
 },
 "nbformat": 4,
 "nbformat_minor": 5
}
