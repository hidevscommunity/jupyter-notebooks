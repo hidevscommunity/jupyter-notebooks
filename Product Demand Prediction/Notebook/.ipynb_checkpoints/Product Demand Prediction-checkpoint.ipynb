{
 "cells": [
  {
   "cell_type": "markdown",
   "id": "ac4a9a46",
   "metadata": {
    "id": "ac4a9a46"
   },
   "source": [
    "# Build a model to predict the demand for a product which varies with the change in its price."
   ]
  },
  {
   "cell_type": "markdown",
   "id": "cf2442c0",
   "metadata": {
    "id": "cf2442c0"
   },
   "source": [
    "# Objective: -\n",
    "\n",
    "Demand forecasting is the process of using predictive analysis of historical data to estimate and predict customers’ future demand for a product or service. Demand forecasting helps the business make better-informed supply decisions that estimate the total sales and revenue for a future period of time. Demand forecasting allows businesses to optimize inventory by predicting future sales. By analyzing historical sales data, demand managers can make informed business decisions about everything from inventory planning and warehousing needs to running flash sales and meeting customer expectations.\n",
    "\n",
    "A product company plans to offer discounts on its product during the upcoming holiday season. The company wants to find the price at which its product can be a better deal compared to its competitors. For this task, we use a dataset of past changes in sales based on price changes.\n"
   ]
  },
  {
   "cell_type": "markdown",
   "id": "bb269461",
   "metadata": {
    "id": "bb269461"
   },
   "source": [
    "The goal of this challenge is to train a model that can predict the demand for the product in the market with different price segments."
   ]
  },
  {
   "cell_type": "markdown",
   "id": "e3b60038",
   "metadata": {
    "id": "e3b60038"
   },
   "source": [
    "# Step 1: Import all the required libraries\n",
    "\n",
    "- __Pandas__ : In computer programming, pandas is a software library written for the Python programming language for data manipulation and analysis and storing in a proper way. In particular, it offers data structures and operations for manipulating numerical tables and time series\n",
    "- __Sklearn__ : Scikit-learn (formerly scikits.learn) is a free software machine learning library for the Python programming language. It features various classification, regression and clustering algorithms including support vector machines, random forests, gradient boosting, k-means and DBSCAN, and is designed to interoperate with the Python numerical and scientific libraries NumPy and SciPy. The library is built upon the SciPy (Scientific Python) that must be installed before you can use scikit-learn.\n",
    "- __Pickle__ : Python pickle module is used for serializing and de-serializing a Python object structure. Pickling is a way to convert a python object (list, dict, etc.) into a character stream. The idea is that this character stream contains all the information necessary to reconstruct the object in another python script.\n",
    "- __Seaborn__ : Seaborn is a Python data visualization library based on matplotlib. It provides a high-level interface for drawing attractive and informative statistical graphics.\n",
    "- __Matplotlib__ : Matplotlib is a plotting library for the Python programming language and its numerical mathematics extension NumPy. It provides an object-oriented API for embedding plots into applications using general-purpose GUI toolkits like Tkinter, wxPython, Qt, or GTK."
   ]
  },
  {
   "cell_type": "code",
   "execution_count": null,
   "id": "fc957303",
   "metadata": {
    "id": "fc957303"
   },
   "outputs": [],
   "source": [
    "#Loading libraries \n",
    "import pandas as pd\n",
    "import seaborn as sns\n",
    "from sklearn.model_selection import train_test_split\n",
    "from sklearn import preprocessing\n",
    "import sklearn.linear_model \n",
    "import sklearn\n",
    "import pickle\n",
    "import numpy as np\n",
    "import matplotlib.pyplot as plt\n",
    "from sklearn.preprocessing import OneHotEncoder\n",
    "from matplotlib.pyplot import figure\n",
    "import matplotlib.pyplot as plt\n",
    "from sklearn.metrics import mean_absolute_percentage_error\n",
    "from sklearn.metrics import mean_squared_error\n",
    "from sklearn.metrics import r2_score\n",
    "from sklearn.preprocessing import scale \n",
    "from sklearn.linear_model import LinearRegression, Ridge, RidgeCV, Lasso, LassoCV\n",
    "from sklearn.model_selection import KFold, cross_val_score, train_test_split\n",
    "from sklearn.metrics import mean_squared_error\n",
    "from sklearn.decomposition import PCA\n",
    "import warnings\n",
    "\n",
    "warnings.filterwarnings('ignore')"
   ]
  },
  {
   "cell_type": "markdown",
   "id": "1d0d47d5",
   "metadata": {
    "id": "1d0d47d5"
   },
   "source": [
    "# Step 2 : Read dataset and basic details of dataset\n",
    "Goal:- In this step we are going to read the dataset, view the dataset and analysis the basic details like total number of rows and columns, what are the column data types and see to need to create new column or not.\n"
   ]
  },
  {
   "cell_type": "markdown",
   "id": "9d9e6568",
   "metadata": {
    "id": "9d9e6568"
   },
   "source": [
    "In this stage we are going to read our problem dataset and have a look on it."
   ]
  },
  {
   "cell_type": "code",
   "execution_count": null,
   "id": "da81da2c",
   "metadata": {
    "id": "da81da2c",
    "outputId": "26afa39a-ecf0-4f27-9328-b6c506059525"
   },
   "outputs": [],
   "source": [
    "#loading the dataset\n",
    "try:\n",
    "    df = pd.read_csv('../Data/demand.csv') #Path for the file\n",
    "    print('Data read done successfully...')\n",
    "except (FileNotFoundError, IOError):\n",
    "    print(\"Wrong file or file path\")   "
   ]
  },
  {
   "cell_type": "code",
   "execution_count": null,
   "id": "fdca2fc4",
   "metadata": {
    "id": "fdca2fc4",
    "outputId": "7b935e45-86da-4348-d1b7-b227e1f54241"
   },
   "outputs": [],
   "source": [
    "# To view the content inside the dataset we can use the head() method that returns a specified number of rows, string from the top. \n",
    "# The head() method returns the first 5 rows if a number is not specified.\n",
    "df.head()"
   ]
  },
  {
   "cell_type": "markdown",
   "id": "996ba73a",
   "metadata": {
    "id": "996ba73a"
   },
   "source": [
    "# Dataset: -"
   ]
  },
  {
   "cell_type": "markdown",
   "id": "300eda4c",
   "metadata": {
    "id": "300eda4c"
   },
   "source": [
    "Attribute Information:\n",
    "1. Units sold (quantity demanded)\n",
    "\n",
    "**Other features:**\n",
    "\n",
    "1. the product id\n",
    "2. store id\n",
    "3. total price at which product was sold\n",
    "4. base price at which product was sold"
   ]
  },
  {
   "cell_type": "markdown",
   "id": "1f5eef51",
   "metadata": {
    "id": "1f5eef51"
   },
   "source": [
    "# Step3: Data Preprocessing"
   ]
  },
  {
   "cell_type": "markdown",
   "id": "y_Dey6TlihNc",
   "metadata": {
    "id": "y_Dey6TlihNc"
   },
   "source": [
    "**Why need of Data Preprocessing?**"
   ]
  },
  {
   "cell_type": "markdown",
   "id": "784d8c07",
   "metadata": {
    "id": "784d8c07"
   },
   "source": [
    "Preprocessing data is an important step for data analysis. The following are some benefits of preprocessing data:\n",
    "\n",
    " - It improves accuracy and reliability. Preprocessing data removes missing or inconsistent data values resulting from human or computer error, which can improve the accuracy and quality of a dataset, making it more reliable.\n",
    " - It makes data consistent. When collecting data, it's possible to have data duplicates, and discarding them during preprocessing can ensure the data values for analysis are consistent, which helps produce accurate results.\n",
    " - It increases the data's algorithm readability. Preprocessing enhances the data's quality and makes it easier for machine learning algorithms to read, use, and interpret it."
   ]
  },
  {
   "cell_type": "markdown",
   "id": "530c0778",
   "metadata": {
    "id": "530c0778"
   },
   "source": [
    "After we read the data, we can look at the data using:"
   ]
  },
  {
   "cell_type": "code",
   "execution_count": null,
   "id": "1b66e1e0",
   "metadata": {
    "id": "1b66e1e0",
    "outputId": "8cacd3e4-8f8b-4548-e625-ac1912713e01"
   },
   "outputs": [],
   "source": [
    "# count the total number of rows and columns.\n",
    "print ('The train data has {0} rows and {1} columns'.format(df.shape[0],df.shape[1]))"
   ]
  },
  {
   "cell_type": "markdown",
   "id": "c9cda3b6",
   "metadata": {
    "id": "c9cda3b6"
   },
   "source": [
    "#### By analysing the problem statement and the dataset, we get to know that the target variable is \"Units Sold\" column which is continuous and shows the demand of the product."
   ]
  },
  {
   "cell_type": "code",
   "execution_count": null,
   "id": "62fa12ce",
   "metadata": {
    "id": "62fa12ce",
    "outputId": "7ca5e9c5-20ed-49fe-eaab-f9e30b6a81bf"
   },
   "outputs": [],
   "source": [
    "df['Units Sold'].value_counts()"
   ]
  },
  {
   "cell_type": "markdown",
   "id": "a12ae2c4",
   "metadata": {
    "id": "a12ae2c4"
   },
   "source": [
    "#### The df.value_counts() method counts the number of types of values a particular column contains. "
   ]
  },
  {
   "cell_type": "code",
   "execution_count": null,
   "id": "93672063",
   "metadata": {
    "id": "93672063",
    "outputId": "bff3b15b-a43e-4b42-dfa5-677557433a13"
   },
   "outputs": [],
   "source": [
    "df.shape"
   ]
  },
  {
   "cell_type": "markdown",
   "id": "2646b822",
   "metadata": {
    "id": "2646b822"
   },
   "source": [
    "#### The df.shape method shows the shape of the dataset. "
   ]
  },
  {
   "cell_type": "markdown",
   "id": "8a02797c",
   "metadata": {
    "id": "8a02797c"
   },
   "source": [
    "We can identify that out of the 150150 rows and 5 columns."
   ]
  },
  {
   "cell_type": "code",
   "execution_count": null,
   "id": "98f3c269",
   "metadata": {
    "id": "98f3c269",
    "outputId": "e8d59f3a-1028-4916-d917-913ca8398b50"
   },
   "outputs": [],
   "source": [
    "df.info()"
   ]
  },
  {
   "cell_type": "markdown",
   "id": "f4e190fe",
   "metadata": {
    "id": "f4e190fe"
   },
   "source": [
    "#### The df.info() method prints information about a DataFrame including the index dtype and columns, non-null values and memory usage. "
   ]
  },
  {
   "cell_type": "code",
   "execution_count": null,
   "id": "c821b2c9",
   "metadata": {
    "id": "c821b2c9",
    "outputId": "60411ed1-e59e-4781-9c9d-91b671fa9555"
   },
   "outputs": [],
   "source": [
    "df.iloc[1]"
   ]
  },
  {
   "cell_type": "markdown",
   "id": "a3bc946f",
   "metadata": {
    "id": "a3bc946f"
   },
   "source": [
    "####  df.iloc[ ] is primarily integer position based (from 0 to length-1 of the axis), but may also be used with a boolean array. The iloc property gets, or sets, the value(s) of the specified indexes."
   ]
  },
  {
   "cell_type": "markdown",
   "id": "950d90b8",
   "metadata": {
    "id": "950d90b8"
   },
   "source": [
    "### Data Type Check for every column"
   ]
  },
  {
   "cell_type": "markdown",
   "id": "QVXWeI2qjFGS",
   "metadata": {
    "id": "QVXWeI2qjFGS"
   },
   "source": [
    "**Why data type check is required?**"
   ]
  },
  {
   "cell_type": "markdown",
   "id": "abea9419",
   "metadata": {
    "id": "abea9419"
   },
   "source": [
    "Data type check helps us with understanding what type of variables our dataset contains. It helps us with identifying whether to keep that variable or not. If the dataset contains contiguous data, then only float and integer type variables will be beneficial and if we have to classify any value then categorical variables will be beneficial."
   ]
  },
  {
   "cell_type": "code",
   "execution_count": null,
   "id": "3d75e307",
   "metadata": {
    "id": "3d75e307"
   },
   "outputs": [],
   "source": [
    "int64_cols = ['int64']\n",
    "int64_lst = list(df.select_dtypes(include=int64_cols).columns)"
   ]
  },
  {
   "cell_type": "code",
   "execution_count": null,
   "id": "4ef4e489",
   "metadata": {
    "id": "4ef4e489",
    "outputId": "a889b76d-9b63-47ae-abfc-a0f77b7aa022"
   },
   "outputs": [],
   "source": [
    "print(\"Total number of numerical columns are \", len(int64_lst))\n",
    "print(\"There names are as follows: \", int64_lst)"
   ]
  },
  {
   "cell_type": "code",
   "execution_count": null,
   "id": "ed686600",
   "metadata": {
    "id": "ed686600"
   },
   "outputs": [],
   "source": [
    "float64_cols = ['float64']\n",
    "float64_lst = list(df.select_dtypes(include=float64_cols).columns)"
   ]
  },
  {
   "cell_type": "code",
   "execution_count": null,
   "id": "5cc8245d",
   "metadata": {
    "id": "5cc8245d",
    "outputId": "642d7e52-4e24-423d-de42-e18b06e34e13"
   },
   "outputs": [],
   "source": [
    "print(\"Total number of float64 columns are \", len(float64_lst))\n",
    "print(\"There name are as follow: \", float64_lst)"
   ]
  },
  {
   "cell_type": "markdown",
   "id": "1b36302a",
   "metadata": {
    "id": "1b36302a"
   },
   "source": [
    "#### In the dataset , the column named as \"id\", we will count the unique values of id column which is shown below and also the length of dataset."
   ]
  },
  {
   "cell_type": "code",
   "execution_count": null,
   "id": "b415699c",
   "metadata": {
    "id": "b415699c",
    "outputId": "a939213b-8cf8-4d58-9c12-c1290eb607d9"
   },
   "outputs": [],
   "source": [
    "len(df['ID'].unique()), df.shape[0]"
   ]
  },
  {
   "cell_type": "markdown",
   "id": "c19b2c83",
   "metadata": {
    "id": "c19b2c83"
   },
   "source": [
    " - The uniqueness of \"ID\" column and length of the dataset both are same that means there is no sense to keep id column so we have to drop that column:"
   ]
  },
  {
   "cell_type": "code",
   "execution_count": null,
   "id": "9c0fc203",
   "metadata": {
    "id": "9c0fc203"
   },
   "outputs": [],
   "source": [
    "df = df.drop(['ID'],axis=1)\n",
    "int64_lst.remove('ID')"
   ]
  },
  {
   "cell_type": "code",
   "execution_count": null,
   "id": "c22d8d2f",
   "metadata": {
    "id": "c22d8d2f",
    "outputId": "8585d965-504e-49c6-cebc-60e1d6e84973"
   },
   "outputs": [],
   "source": [
    "#count the total number of rows and columns.\n",
    "print ('The new dataset has {0} rows and {1} columns'.format(df.shape[0],df.shape[1]))"
   ]
  },
  {
   "cell_type": "markdown",
   "id": "4eefdf2b",
   "metadata": {
    "id": "4eefdf2b"
   },
   "source": [
    "## Step 2 Insights: -"
   ]
  },
  {
   "cell_type": "markdown",
   "id": "9b15507a",
   "metadata": {
    "id": "9b15507a"
   },
   "source": [
    "1) We have total 4 features where 2 of them is integer type while others are float type.\n",
    "\n",
    "2) Drop \"ID\" columns.\n",
    "\n",
    "After this step we have to calculate various evaluation parameters which will help us in cleaning and analysing the data more accurately."
   ]
  },
  {
   "cell_type": "markdown",
   "id": "d495f85e",
   "metadata": {
    "id": "d495f85e"
   },
   "source": [
    "# Step 3: Descriptive Analysis\n",
    "\n",
    "**Goal/Purpose:**  Finding the data distribution of the features. Visualization helps to understand data and also to explain the data to another person."
   ]
  },
  {
   "cell_type": "markdown",
   "id": "17705f6a",
   "metadata": {
    "id": "17705f6a"
   },
   "source": [
    "Things we are going to do in this step:\n",
    "\n",
    "1. Mean\n",
    "2. Median\n",
    "3. Mode\n",
    "4. Standard Deviation\n",
    "5. Variance\n",
    "6. Null Values\n",
    "7. NaN Values\n",
    "8. Min value\n",
    "9. Max value\n",
    "10. Count Value\n",
    "11. Quatilers\n",
    "12. Correlation\n",
    "13. Skewness"
   ]
  },
  {
   "cell_type": "code",
   "execution_count": null,
   "id": "fd7ca4cc",
   "metadata": {
    "id": "fd7ca4cc",
    "outputId": "9f285562-06e3-4981-a7d1-7dcf5bf7a531"
   },
   "outputs": [],
   "source": [
    "df.describe()"
   ]
  },
  {
   "cell_type": "markdown",
   "id": "b2978d60",
   "metadata": {
    "id": "b2978d60"
   },
   "source": [
    "#### The df.describe() method returns description of the data in the DataFrame. If the DataFrame contains numerical data, the description contains these information for each column: count - The number of not-empty values. mean - The average (mean) value. "
   ]
  },
  {
   "cell_type": "markdown",
   "id": "59b815d9",
   "metadata": {
    "id": "59b815d9"
   },
   "source": [
    "# Measure the variability of data of the dataset\n",
    "\n",
    "Variability describes how far apart data points lie from each other and from the center of a distribution."
   ]
  },
  {
   "cell_type": "markdown",
   "id": "65c9ccfb",
   "metadata": {
    "id": "65c9ccfb"
   },
   "source": [
    "# Measure central tendency\n",
    "\n",
    "A measure of central tendency is a single value that attempts to describe a set of data by identifying the central position within that set of data. As such, measures of central tendency are sometimes called measures of central location. They are also classed as summary statistics.\n",
    "\n"
   ]
  },
  {
   "cell_type": "markdown",
   "id": "2398c341",
   "metadata": {
    "id": "2398c341"
   },
   "source": [
    "Mean - The average value. Median - The mid point value. Mode - The most common value."
   ]
  },
  {
   "cell_type": "markdown",
   "id": "7715c75f",
   "metadata": {
    "id": "7715c75f"
   },
   "source": [
    "# 1. Mean\n",
    "\n",
    "![1_tjAEMZx_0uIYGUhxEnPXPw.png](attachment:1_tjAEMZx_0uIYGUhxEnPXPw.png)"
   ]
  },
  {
   "cell_type": "markdown",
   "id": "0892e6a7",
   "metadata": {
    "id": "0892e6a7"
   },
   "source": [
    "The mean is the arithmetic average, and it is probably the measure of central tendency that you are most familiar."
   ]
  },
  {
   "cell_type": "markdown",
   "id": "dd246120",
   "metadata": {
    "id": "dd246120"
   },
   "source": [
    "#### Why do we calculate mean?\n"
   ]
  },
  {
   "cell_type": "markdown",
   "id": "e8fbf457",
   "metadata": {
    "id": "e8fbf457"
   },
   "source": [
    "\n",
    "\n",
    "The mean is used to summarize a data set. It is a measure of the center of a data set.\n"
   ]
  },
  {
   "cell_type": "code",
   "execution_count": null,
   "id": "efecaf0c",
   "metadata": {
    "id": "efecaf0c",
    "outputId": "b2609cbb-39a8-4cd2-dda1-d9f9188704cb"
   },
   "outputs": [],
   "source": [
    "df.mean()"
   ]
  },
  {
   "cell_type": "markdown",
   "id": "1eed0b71",
   "metadata": {
    "id": "1eed0b71"
   },
   "source": [
    "**The average units sold of each product is approx 51 units.**"
   ]
  },
  {
   "cell_type": "markdown",
   "id": "f5026286",
   "metadata": {
    "id": "f5026286"
   },
   "source": [
    "#### We can also understand the mean using the below function. "
   ]
  },
  {
   "cell_type": "code",
   "execution_count": null,
   "id": "fee92512",
   "metadata": {
    "id": "fee92512"
   },
   "outputs": [],
   "source": [
    "def mean_cal(df,int64_lst):\n",
    "    \n",
    "    cols = ['normal_value', 'zero_value']\n",
    "    zero_value = 0\n",
    "    normal_value = 0\n",
    "    \n",
    "    for value in int64_lst:\n",
    "    \n",
    "        rs = round(df[value].mean(),6)\n",
    "\n",
    "        if rs > 0:\n",
    "            normal_value = normal_value + 1\n",
    "\n",
    "        elif rs == 0:\n",
    "            zero_value = zero_value + 1\n",
    "    \n",
    "    mean_total_df =  pd.DataFrame([[normal_value, zero_value]], columns=cols) \n",
    "    \n",
    "    return mean_total_df"
   ]
  },
  {
   "cell_type": "code",
   "execution_count": null,
   "id": "1bd00e4a",
   "metadata": {
    "id": "1bd00e4a",
    "outputId": "4b12987e-4405-4437-fc7e-b8441257baaa"
   },
   "outputs": [],
   "source": [
    "mean_cal(df, int64_lst)"
   ]
  },
  {
   "cell_type": "code",
   "execution_count": null,
   "id": "ea832ee5",
   "metadata": {
    "id": "ea832ee5",
    "outputId": "c9cbe565-ae52-47d3-ea88-61d9d131cf77"
   },
   "outputs": [],
   "source": [
    "mean_cal(df,float64_lst)"
   ]
  },
  {
   "cell_type": "markdown",
   "id": "85ac39fa",
   "metadata": {
    "id": "85ac39fa"
   },
   "source": [
    "zero_value -> that the mean of a paticular column is zero, which isn't usefull in anyway and need to be drop."
   ]
  },
  {
   "cell_type": "markdown",
   "id": "035edfea",
   "metadata": {
    "id": "035edfea"
   },
   "source": [
    "# Graphical representation of statistical analysis"
   ]
  },
  {
   "cell_type": "code",
   "execution_count": null,
   "id": "5c34a6be",
   "metadata": {
    "id": "5c34a6be",
    "outputId": "e59af8e8-43be-49a1-cf0d-d7d9ab14e380"
   },
   "outputs": [],
   "source": [
    "sns.set_style('darkgrid')\n",
    "color = 'royalblue'\n",
    "\n",
    "plt.figure(figsize = (12,55))\n",
    "i = 0\n",
    "for index, col in enumerate(list(df.columns.values)):\n",
    "    i += 1 ;\n",
    "    plt.subplot(21,2, index + i)\n",
    "    ax = sns.histplot(x = col, data = df, color = \"#326598\", stat = \"density\", common_norm=False)\n",
    "    sns.kdeplot(x = col, data = df, color = \"pink\", linewidth = 5)\n",
    "    plt.xlabel(col, size = 15)\n",
    "    plt.title('train')\n",
    "    # set text on axes\n",
    "    textstr_train = '\\n'.join((\n",
    "    r'$\\mu=%.2f$' %df[col].mean(),\n",
    "    r'$\\sigma=%.2f$' %df[col].std(),\n",
    "    r'$\\mathrm{median}=%0.2f$' %np.median(df[col]),\n",
    "    r'$\\mathrm{min}=%.2f$' %df[col].min(),\n",
    "    r'$\\mathrm{max}=%.2f$' %df[col].max()\n",
    "    ))\n",
    "    ax.text(0.7, 0.90, textstr_train, transform=ax.transAxes, fontsize=10, verticalalignment='top',\n",
    "                     bbox=dict(boxstyle='round',facecolor='pink', edgecolor='black', pad=0.5, alpha = 0.5))\n",
    "    \n",
    "    plt.subplot(21,2, index + (i+1))\n",
    "    ax = sns.histplot(x = col, data = df, color = \"#326598\", stat = \"density\", common_norm=False)\n",
    "    sns.kdeplot(x = col, data = df, color = \"pink\", linewidth = 5)\n",
    "    plt.xlabel(col, size = 15)\n",
    "    plt.title('test')\n",
    "    \n",
    "    textstr_test = '\\n'.join((\n",
    "    r'$\\mu=%.2f$' %df[col].mean(),\n",
    "    r'$\\sigma=%.2f$' %df[col].std(),\n",
    "    r'$\\mathrm{median}=%0.2f$' %np.median(df[col]),\n",
    "    r'$\\mathrm{min}=%.2f$' %df[col].min(),\n",
    "    r'$\\mathrm{max}=%.2f$' %df[col].max()\n",
    "    ))\n",
    "    ax.text(0.7, 0.90, textstr_test, transform=ax.transAxes, fontsize=10, verticalalignment='top',bbox=dict(boxstyle='round',facecolor='pink', edgecolor='black', pad=0.5, alpha = 0.5))\n",
    "    plt.grid()\n",
    "\n",
    "plt.suptitle(\"Disturbution Of Features\", y = 1, x = 0.55, size = 20,fontweight = \"bold\")\n",
    "plt.tight_layout()\n",
    "plt.show()"
   ]
  },
  {
   "cell_type": "markdown",
   "id": "b30ea342",
   "metadata": {
    "id": "b30ea342"
   },
   "source": [
    "# Null and Nan values"
   ]
  },
  {
   "cell_type": "markdown",
   "id": "9a54fc9b",
   "metadata": {
    "id": "9a54fc9b"
   },
   "source": [
    "1. **Null Values**\n"
   ]
  },
  {
   "cell_type": "markdown",
   "id": "47947360",
   "metadata": {
    "id": "47947360"
   },
   "source": [
    "![missing-values.png](attachment:missing-values.png)"
   ]
  },
  {
   "cell_type": "markdown",
   "id": "e4e42282",
   "metadata": {
    "id": "e4e42282"
   },
   "source": [
    "A null value in a relational database is used when the value in a column is unknown or missing. A null is neither an empty string (for character or datetime data types) nor a zero value (for numeric data types)."
   ]
  },
  {
   "cell_type": "code",
   "execution_count": null,
   "id": "44699c6b",
   "metadata": {
    "id": "44699c6b",
    "outputId": "4b8c8c89-aafa-49ba-8e6c-5cc90dbf01c2"
   },
   "outputs": [],
   "source": [
    "df.isnull().sum()"
   ]
  },
  {
   "cell_type": "markdown",
   "id": "ae58482d",
   "metadata": {
    "id": "ae58482d"
   },
   "source": [
    "As we notice that there are 1 null values in our dataset."
   ]
  },
  {
   "cell_type": "markdown",
   "id": "c6dd136e",
   "metadata": {
    "id": "c6dd136e"
   },
   "source": [
    "2. **Nan Values**"
   ]
  },
  {
   "cell_type": "markdown",
   "id": "9a2ac605",
   "metadata": {
    "id": "9a2ac605"
   },
   "source": [
    "![images.png](attachment:images.png)"
   ]
  },
  {
   "cell_type": "markdown",
   "id": "b069c2ac",
   "metadata": {
    "id": "b069c2ac"
   },
   "source": [
    "NaN, standing for Not a Number, is a member of a numeric data type that can be interpreted as a value that is undefined or unrepresentable, especially in floating-point arithmetic."
   ]
  },
  {
   "cell_type": "code",
   "execution_count": null,
   "id": "931bb432",
   "metadata": {
    "id": "931bb432",
    "outputId": "2b82f181-76b6-4c89-e10c-c348d809f374"
   },
   "outputs": [],
   "source": [
    "df.isna().sum()"
   ]
  },
  {
   "cell_type": "markdown",
   "id": "bdcf3aff",
   "metadata": {
    "id": "bdcf3aff"
   },
   "source": [
    "As we notice that there are 1 nan values in our dataset."
   ]
  },
  {
   "cell_type": "markdown",
   "id": "d8c22e57",
   "metadata": {
    "id": "d8c22e57"
   },
   "source": [
    "#### Another way to remove null and nan values is to use the method \"df.dropna(inplace=True)\". "
   ]
  },
  {
   "cell_type": "code",
   "execution_count": null,
   "id": "7dd840f9",
   "metadata": {
    "id": "7dd840f9"
   },
   "outputs": [],
   "source": [
    "df.dropna(inplace=True)"
   ]
  },
  {
   "cell_type": "markdown",
   "id": "1f0eadfc",
   "metadata": {
    "id": "1f0eadfc"
   },
   "source": [
    "# Count of unique occurences of every value in all categorical value\n",
    "\n"
   ]
  },
  {
   "cell_type": "code",
   "execution_count": null,
   "id": "bd9a4c17",
   "metadata": {
    "id": "bd9a4c17"
   },
   "outputs": [],
   "source": [
    "objects_cols = ['object']\n",
    "objects_lst = list(df.select_dtypes(include=objects_cols).columns)\n",
    "for value in objects_lst:\n",
    "    \n",
    "    print(f\"{value:{10}} {df[value].value_counts()}\")"
   ]
  },
  {
   "cell_type": "markdown",
   "id": "c57ac0cc",
   "metadata": {
    "id": "c57ac0cc"
   },
   "source": [
    "- Categorical data are variables that contain label values rather than numeric values.The number of possible values is often limited to a fixed set.\n",
    "- Use Label Encoder to label the categorical data. Label Encoder is the part of SciKit Learn library in Python and used to convert categorical data, or text data, into numbers, which our predictive models can better understand.\n",
    "\n"
   ]
  },
  {
   "cell_type": "markdown",
   "id": "b620367f",
   "metadata": {
    "id": "b620367f"
   },
   "source": [
    "# Skewness "
   ]
  },
  {
   "cell_type": "markdown",
   "id": "1da40d1b",
   "metadata": {
    "id": "1da40d1b"
   },
   "source": [
    "![Skewness_1.png.webp](attachment:Skewness_1.png.webp)"
   ]
  },
  {
   "cell_type": "markdown",
   "id": "2d9f56e3",
   "metadata": {
    "id": "2d9f56e3"
   },
   "source": [
    "Skewness is a measure of the asymmetry of a distribution. A distribution is asymmetrical when its left and right side are not mirror images. A distribution can have right (or positive), left (or negative), or zero skewness"
   ]
  },
  {
   "cell_type": "markdown",
   "id": "0ad9c82f",
   "metadata": {
    "id": "0ad9c82f"
   },
   "source": [
    "#### Why do we calculate Skewness ?"
   ]
  },
  {
   "cell_type": "markdown",
   "id": "6839ca87",
   "metadata": {
    "id": "6839ca87"
   },
   "source": [
    "Skewness gives the direction of the outliers if it is right-skewed, most of the outliers are present on the right side of the distribution while if it is left-skewed, most of the outliers will present on the left side of the distribution"
   ]
  },
  {
   "cell_type": "markdown",
   "id": "4bd5f5e2",
   "metadata": {
    "id": "4bd5f5e2"
   },
   "source": [
    "#### Below is the function to calculate skewness. "
   ]
  },
  {
   "cell_type": "code",
   "execution_count": null,
   "id": "cbdf0dc8",
   "metadata": {
    "id": "cbdf0dc8"
   },
   "outputs": [],
   "source": [
    "def right_nor_left(df, int64_lst):\n",
    "    \n",
    "    temp_skewness = ['column', 'skewness_value', 'skewness (+ve or -ve)']\n",
    "    temp_skewness_values  = []\n",
    "    \n",
    "    temp_total = [\"positive (+ve) skewed\", \"normal distrbution\" , \"negative (-ve) skewed\"]\n",
    "    positive = 0\n",
    "    negative = 0\n",
    "    normal = 0\n",
    "    \n",
    "    for value in int64_lst:\n",
    "    \n",
    "        rs = round(df[value].skew(),4)\n",
    "\n",
    "        if rs > 0:\n",
    "            temp_skewness_values.append([value,rs , \"positive (+ve) skewed\"])   \n",
    "            positive = positive + 1\n",
    "\n",
    "        elif rs == 0:\n",
    "            temp_skewness_values.append([value,rs,\"normal distrbution\"])\n",
    "            normal = normal + 1\n",
    "\n",
    "        elif rs < 0:\n",
    "            temp_skewness_values.append([value,rs, \"negative (-ve) skewed\"])\n",
    "            negative = negative + 1\n",
    "    \n",
    "    skewness_df =  pd.DataFrame(temp_skewness_values, columns=temp_skewness) \n",
    "    skewness_total_df =  pd.DataFrame([[positive, normal, negative]], columns=temp_total) \n",
    "    \n",
    "    return skewness_df, skewness_total_df"
   ]
  },
  {
   "cell_type": "code",
   "execution_count": null,
   "id": "640a739f",
   "metadata": {
    "id": "640a739f"
   },
   "outputs": [],
   "source": [
    "float64_cols = ['float64']\n",
    "float64_lst_col = list(df.select_dtypes(include=float64_cols).columns)\n",
    "\n",
    "skew_df,skew_total_df = right_nor_left(df, float64_lst_col)"
   ]
  },
  {
   "cell_type": "code",
   "execution_count": null,
   "id": "3eb3d772",
   "metadata": {
    "id": "3eb3d772",
    "outputId": "616b3280-fef1-4c20-ebe2-4f540d6a8a0e"
   },
   "outputs": [],
   "source": [
    "skew_df"
   ]
  },
  {
   "cell_type": "code",
   "execution_count": null,
   "id": "aa80a183",
   "metadata": {
    "id": "aa80a183",
    "outputId": "31417f27-503a-4830-d013-16ffd08bd0fc"
   },
   "outputs": [],
   "source": [
    "skew_total_df"
   ]
  },
  {
   "cell_type": "code",
   "execution_count": null,
   "id": "c871a58f",
   "metadata": {
    "id": "c871a58f"
   },
   "outputs": [],
   "source": [
    "int64_cols = ['int64']\n",
    "int64_lst_col = list(df.select_dtypes(include=int64_cols).columns)\n",
    "\n",
    "skew_df,skew_total_df = right_nor_left(df, int64_lst_col)"
   ]
  },
  {
   "cell_type": "code",
   "execution_count": null,
   "id": "2c344180",
   "metadata": {
    "id": "2c344180",
    "outputId": "187baa47-3332-47d4-e43e-bd5c6176f8e0"
   },
   "outputs": [],
   "source": [
    "skew_df"
   ]
  },
  {
   "cell_type": "code",
   "execution_count": null,
   "id": "7725d09b",
   "metadata": {
    "id": "7725d09b",
    "outputId": "23e9a515-8159-4124-fbd6-d4f87bbf3d20"
   },
   "outputs": [],
   "source": [
    "skew_total_df"
   ]
  },
  {
   "cell_type": "code",
   "execution_count": null,
   "id": "14939012",
   "metadata": {
    "id": "14939012"
   },
   "outputs": [],
   "source": [
    "df['Total Price']=np.power(df['Total Price'],1/3)"
   ]
  },
  {
   "cell_type": "code",
   "execution_count": null,
   "id": "c1661968",
   "metadata": {
    "id": "c1661968"
   },
   "outputs": [],
   "source": [
    "df['Base Price']=np.power(df['Base Price'],1/3)"
   ]
  },
  {
   "cell_type": "code",
   "execution_count": null,
   "id": "0557a08c",
   "metadata": {
    "id": "0557a08c"
   },
   "outputs": [],
   "source": [
    "df['Store ID']=np.power(df['Store ID'],3)"
   ]
  },
  {
   "cell_type": "code",
   "execution_count": null,
   "id": "d7a4a5ba",
   "metadata": {
    "id": "d7a4a5ba",
    "outputId": "4b7fdc2b-dcec-418b-d15d-deccffc3690f"
   },
   "outputs": [],
   "source": [
    "df.skew()"
   ]
  },
  {
   "cell_type": "markdown",
   "id": "f5f369a9",
   "metadata": {
    "id": "f5f369a9"
   },
   "source": [
    "We notice with the above results that we have following details:\n",
    "1. 3 columns are positive skewed\n",
    "2. 1 column is negative skewed\n",
    "\n"
   ]
  },
  {
   "cell_type": "markdown",
   "id": "8c23f537",
   "metadata": {
    "id": "8c23f537"
   },
   "source": [
    "### Step 3 Insights: - "
   ]
  },
  {
   "cell_type": "markdown",
   "id": "7dfcb915",
   "metadata": {
    "id": "7dfcb915"
   },
   "source": [
    "With the statistical analysis we have found that the data have a lot of skewness in them all the columns are positively skewed with mostly zero variance.\n",
    "\n",
    "Statistical analysis is little difficult to understand at one glance so to make it more understandable we will perform visulatization on the data which will help us to understand the process easily."
   ]
  },
  {
   "cell_type": "markdown",
   "id": "9196e45e",
   "metadata": {
    "id": "9196e45e"
   },
   "source": [
    "### Why we are calculating all these metrics? "
   ]
  },
  {
   "cell_type": "markdown",
   "id": "105d9049",
   "metadata": {
    "id": "105d9049"
   },
   "source": [
    "Mean / Median /Mode/ Variance /Standard Deviation are all very basic but very important concept of statistics used in data science. Almost all the machine learning algorithm uses these concepts in data preprocessing steps. These concepts are part of descriptive statistics where we basically used to describe and understand the data for features in Machine learning"
   ]
  },
  {
   "cell_type": "markdown",
   "id": "74093989",
   "metadata": {
    "id": "74093989"
   },
   "source": [
    "### Importance of demand forecasting for ecommerce"
   ]
  },
  {
   "cell_type": "markdown",
   "id": "df277c66",
   "metadata": {
    "id": "df277c66"
   },
   "source": [
    "Without demand, there is no business. And without a thorough understanding of demand, businesses aren’t capable of making the right decisions about marketing spend, production, staffing, and more. Demand forecast accuracy will never be 100%, but there are steps you can take to improve production lead times, increase operational efficiencies, save money, launch new products, and provide a better customer experience."
   ]
  },
  {
   "cell_type": "markdown",
   "id": "ec65483b",
   "metadata": {
    "id": "ec65483b"
   },
   "source": [
    "# Step 4: Data Exploration\n",
    "**Goal/Purpose:**\n",
    "\n",
    "Graphs we are going to develop in this step\n",
    "\n",
    "1. Histogram of all columns to check the distrubution of the columns\n",
    "2. Distplot or distribution plot of all columns to check the variation in the data distribution\n",
    "3. Heatmap to calculate correlation within feature variables\n",
    "4. Boxplot to find out outlier in the feature columns\n",
    "5. Scatter Plot to show the relation between variables\n",
    "6. Pair Plot"
   ]
  },
  {
   "cell_type": "markdown",
   "id": "83b9e3ca",
   "metadata": {
    "id": "83b9e3ca"
   },
   "source": [
    "# 1. Histogram"
   ]
  },
  {
   "cell_type": "markdown",
   "id": "359022cf",
   "metadata": {
    "id": "359022cf"
   },
   "source": [
    "A histogram is a bar graph-like representation of data that buckets a range of classes into columns along the horizontal x-axis.The vertical y-axis represents the number count or percentage of occurrences in the data for each column"
   ]
  },
  {
   "cell_type": "code",
   "execution_count": null,
   "id": "c97eef85",
   "metadata": {
    "id": "c97eef85",
    "outputId": "53bda633-001e-4c97-cf39-6dd7b362a748"
   },
   "outputs": [],
   "source": [
    "# Distribution in attributes\n",
    "%matplotlib inline\n",
    "import matplotlib.pyplot as plt\n",
    "df.hist(bins=50, figsize=(10,10))\n",
    "plt.show()"
   ]
  },
  {
   "cell_type": "markdown",
   "id": "06511b72",
   "metadata": {
    "id": "06511b72"
   },
   "source": [
    "\n",
    "### Histogram Insight: -"
   ]
  },
  {
   "cell_type": "markdown",
   "id": "546e95e1",
   "metadata": {
    "id": "546e95e1"
   },
   "source": [
    "Histogram helps in identifying the following:\n",
    "- View the shape of your data set’s distribution to look for outliers or other significant data points.\n",
    "\n",
    "- Determine whether something significant has boccurred from one time period to another."
   ]
  },
  {
   "cell_type": "markdown",
   "id": "53e66f80",
   "metadata": {
    "id": "53e66f80"
   },
   "source": [
    "### Why Histogram? "
   ]
  },
  {
   "cell_type": "markdown",
   "id": "c92c6e2a",
   "metadata": {
    "id": "c92c6e2a"
   },
   "source": [
    "It is used to illustrate the major features of the distribution of the data in a convenient form. It is also useful when dealing with large data sets (greater than 100 observations). It can help detect any unusual observations (outliers) or any gaps in the data.\n",
    "\n",
    "From the above graphical representation we can identify that the highest bar represents the outliers which is above the maximum range.\n",
    "\n",
    "We can also identify that the values are moving on the right side, which determines positive and the centered values determines normal skewness."
   ]
  },
  {
   "cell_type": "markdown",
   "id": "301cf45e",
   "metadata": {
    "id": "301cf45e"
   },
   "source": [
    "# 2. Distplot"
   ]
  },
  {
   "cell_type": "markdown",
   "id": "115cc5f4",
   "metadata": {
    "id": "115cc5f4"
   },
   "source": [
    "A Distplot or distribution plot, depicts the variation in the data distribution. Seaborn Distplot represents the overall distribution of continuous data variables. The Seaborn module along with the Matplotlib module is used to depict the distplot with different variations in it "
   ]
  },
  {
   "cell_type": "code",
   "execution_count": null,
   "id": "48e0718d",
   "metadata": {
    "id": "48e0718d",
    "outputId": "10e5db54-a51a-440a-94d4-9000d270636a"
   },
   "outputs": [],
   "source": [
    "num = [f for f in df.columns if df.dtypes[f] != 'object']\n",
    "nd = pd.melt(df, value_vars = num)\n",
    "n1 = sns.FacetGrid (nd, col='variable', col_wrap=2, sharex=False, sharey = False)\n",
    "n1 = n1.map(sns.distplot, 'value')\n",
    "n1"
   ]
  },
  {
   "cell_type": "markdown",
   "id": "481b5eab",
   "metadata": {
    "id": "481b5eab"
   },
   "source": [
    "### Distplot Insights: -\n",
    "\n",
    "Above is the distrution bar graphs to confirm about the statistics of the data about the skewness, the above results are:\n",
    "1. 3 columns are positive skewed and 1 column is negative skewed\n",
    "2. 1 column is added here i.e Units Sold which is our target variable ~ which is also +ve skewed. In that case we'll need to cube root transform this variable so that it becomes normally distributed. A normally distributed (or close to normal) target variable helps in better modeling the relationship between target and independent variables\n",
    "\n",
    "### Why Distplot?\n",
    "Skewness is demonstrated on a bell curve when data points are not distributed symmetrically to the left and right sides of the median on a bell curve. If the bell curve is shifted to the left or the right, it is said to be skewed.\n",
    "\n",
    "We can observe that the bell curve is shifted to left we indicates positive skewness.As all the column are positively skewed we don't need to do scaling."
   ]
  },
  {
   "cell_type": "markdown",
   "id": "c973af40",
   "metadata": {
    "id": "c973af40"
   },
   "source": [
    "Let's proceed and check the distribution of the target variable.\n"
   ]
  },
  {
   "cell_type": "code",
   "execution_count": null,
   "id": "971faec1",
   "metadata": {
    "id": "971faec1",
    "outputId": "1d807074-548a-42e9-94f4-558997ef90a4"
   },
   "outputs": [],
   "source": [
    "#+ve skewed \n",
    "df['Units Sold'].skew()"
   ]
  },
  {
   "cell_type": "markdown",
   "id": "54b4262f",
   "metadata": {
    "id": "54b4262f"
   },
   "source": [
    "#### The target variable is positively skewed.A normally distributed (or close to normal) target variable helps in better modeling the relationship between target and independent variables. "
   ]
  },
  {
   "cell_type": "markdown",
   "id": "73d498c8",
   "metadata": {
    "id": "73d498c8"
   },
   "source": [
    "# 3. Heatmap\n",
    "\n",
    "\n"
   ]
  },
  {
   "cell_type": "markdown",
   "id": "5ac58979",
   "metadata": {
    "id": "5ac58979"
   },
   "source": [
    "A heatmap (or heat map) is a graphical representation of data where values are depicted by color.Heatmaps make it easy to visualize complex data and understand it at a glance "
   ]
  },
  {
   "cell_type": "markdown",
   "id": "15197e30",
   "metadata": {
    "id": "15197e30"
   },
   "source": [
    "__Correlation__ - A positive correlation is a relationship between two variables in which both variables move in the same direction. Therefore, when one variable increases as the other variable increases, or one variable decreases while the other decreases."
   ]
  },
  {
   "cell_type": "markdown",
   "id": "4f7f26b9",
   "metadata": {
    "id": "4f7f26b9"
   },
   "source": [
    "Correlation can have a value:\n",
    "\n",
    "- 1 is a perfect positive correlation\n",
    "- 0 is no correlation (the values don't seem linked at all)\n",
    "- -1 is a perfect negative correlation\n",
    "\n"
   ]
  },
  {
   "cell_type": "code",
   "execution_count": null,
   "id": "5273132b",
   "metadata": {
    "id": "5273132b",
    "outputId": "1bfd17fc-e1a0-43ba-f9f1-a9deb1bfef17"
   },
   "outputs": [],
   "source": [
    "#correlation plot\n",
    "def correlation_heatmap(df):\n",
    "    _ , ax = plt.subplots(figsize =(14, 12))\n",
    "    colormap = sns.diverging_palette(220, 10, as_cmap = True)\n",
    "    \n",
    "    _ = sns.heatmap(\n",
    "        df.corr(), \n",
    "        cmap = \"YlGn\",\n",
    "        square=True, \n",
    "        cbar_kws={'shrink':.9 }, \n",
    "        ax=ax,\n",
    "        annot=True, \n",
    "        linewidths=0.1,vmax=1.0, linecolor='white',\n",
    "        annot_kws={'fontsize':12 }\n",
    "    )\n",
    "    \n",
    "    plt.title('Pearson Correlation of Features', y=1.05, size=15)\n",
    "\n",
    "correlation_heatmap(df)"
   ]
  },
  {
   "cell_type": "markdown",
   "id": "ecb21289",
   "metadata": {
    "id": "ecb21289"
   },
   "source": [
    "### Notice the last column from right side of this map. We can see the correlation of all variables against Units Sold . As you can see, some variables seem to be strongly correlated with the target variable. Here, a numeric correlation score will help us understand the graph better."
   ]
  },
  {
   "cell_type": "code",
   "execution_count": null,
   "id": "734ddce6",
   "metadata": {
    "id": "734ddce6",
    "outputId": "308e3ecf-0dac-4a74-9ea8-4663d9890bf3"
   },
   "outputs": [],
   "source": [
    "print (corr['Units Sold'].sort_values(ascending=False)[:15], '\\n') "
   ]
  },
  {
   "cell_type": "markdown",
   "id": "0bf6315e",
   "metadata": {
    "id": "0bf6315e"
   },
   "source": [
    "Here we see that the Total Price feature is 23% correlated with the target variable."
   ]
  },
  {
   "cell_type": "code",
   "execution_count": null,
   "id": "ad4ce17e",
   "metadata": {
    "id": "ad4ce17e",
    "outputId": "719bd34f-9c34-4006-d93c-eed8853b99e7"
   },
   "outputs": [],
   "source": [
    "corr"
   ]
  },
  {
   "cell_type": "markdown",
   "id": "7ae977de",
   "metadata": {
    "id": "7ae977de"
   },
   "source": [
    "### Heatmap insights: -\n",
    "\n",
    "As we know, it is recommended to avoid correlated features in your dataset. Indeed, a group of highly correlated features will not bring additional information (or just very few), but will increase the complexity of the algorithm, hence increasing the risk of errors.\n",
    "\n",
    "\n"
   ]
  },
  {
   "cell_type": "markdown",
   "id": "31e88953",
   "metadata": {
    "id": "31e88953"
   },
   "source": [
    "### Why Heatmap?"
   ]
  },
  {
   "cell_type": "markdown",
   "id": "d6253490",
   "metadata": {
    "id": "d6253490"
   },
   "source": [
    "Heatmaps are used to show relationships between two variables, one plotted on each axis. By observing how cell colors change across each axis, you can observe if there are any patterns in value for one or both variables."
   ]
  },
  {
   "cell_type": "markdown",
   "id": "a5efc649",
   "metadata": {
    "id": "a5efc649"
   },
   "source": [
    "# 4. Boxplot"
   ]
  },
  {
   "cell_type": "markdown",
   "id": "ea7effe1",
   "metadata": {
    "id": "ea7effe1"
   },
   "source": [
    "![211626365402575-b88c4d0fdacd5abb4c3dc2de3bc004bb.png](attachment:211626365402575-b88c4d0fdacd5abb4c3dc2de3bc004bb.png)"
   ]
  },
  {
   "cell_type": "markdown",
   "id": "72609d18",
   "metadata": {
    "id": "72609d18"
   },
   "source": [
    "A boxplot is a standardized way of displaying the distribution of data based on a five number summary (“minimum”, first quartile [Q1], median, third quartile [Q3] and “maximum”)."
   ]
  },
  {
   "cell_type": "markdown",
   "id": "a8b41d0f",
   "metadata": {
    "id": "a8b41d0f"
   },
   "source": [
    "Basically, to find the outlier in a dataset/column."
   ]
  },
  {
   "cell_type": "code",
   "execution_count": null,
   "id": "a9a73eb5",
   "metadata": {
    "id": "a9a73eb5"
   },
   "outputs": [],
   "source": [
    "features = ['Store ID', 'Total Price', 'Base Price']"
   ]
  },
  {
   "cell_type": "code",
   "execution_count": null,
   "id": "9fda4fe0",
   "metadata": {
    "id": "9fda4fe0",
    "outputId": "b6af65b2-fc56-4a2e-8a61-268cb7c75d1f"
   },
   "outputs": [],
   "source": [
    "for value in features:\n",
    "    sns.catplot(data=df, x=value,  kind=\"box\")"
   ]
  },
  {
   "cell_type": "code",
   "execution_count": null,
   "id": "4503cb94",
   "metadata": {
    "id": "4503cb94",
    "outputId": "19318b6f-214a-4c3e-c57f-d47b3bf82dac"
   },
   "outputs": [],
   "source": [
    "#for target variable\n",
    "sns.catplot(data=df, x='Units Sold', kind='box')"
   ]
  },
  {
   "cell_type": "markdown",
   "id": "6d419fb3",
   "metadata": {
    "id": "6d419fb3"
   },
   "source": [
    "#### The dark points are known as Outliers. Outliers are those data points that are significantly different from the rest of the dataset. They are often abnormal observations that skew the data distribution, and arise due to inconsistent data entry, or erroneous observations."
   ]
  },
  {
   "cell_type": "markdown",
   "id": "368b3dee",
   "metadata": {
    "id": "368b3dee"
   },
   "source": [
    "### Boxplot Insights: - \n",
    "- Sometimes outliers may be an error in the data and should be removed. In this case these points are correct readings yet they are different from the other points that they appear to be incorrect.\n",
    "\n",
    "- The best way to decide wether to remove them or not is to train models with and without these data points and compare their validation accuracy.\n",
    "\n",
    "- So we will keep it unchanged as it won't affect our model.\n",
    "\n",
    "Here, we can see that most of the variables possess outlier values. It would take us days if we start treating these outlier values one by one. Hence, for now we'll leave them as is and let our algorithm deal with them. As we know, tree-based algorithms are usually robust to outliers.\n",
    "\n",
    "### Why Boxplot?\n",
    "Box plots are used to show distributions of numeric data values, especially when you want to compare them between multiple groups. They are built to provide high-level information at a glance, offering general information about a group of data's symmetry, skew, variance, and outliers.\n",
    "\n"
   ]
  },
  {
   "cell_type": "markdown",
   "id": "8d13db53",
   "metadata": {
    "id": "8d13db53"
   },
   "source": [
    "In the next step we will divide our cleaned data into training data and testing data."
   ]
  },
  {
   "cell_type": "markdown",
   "id": "a5d33785",
   "metadata": {
    "id": "a5d33785"
   },
   "source": [
    "# 5. Scatter Plot"
   ]
  },
  {
   "cell_type": "markdown",
   "id": "d50cac00",
   "metadata": {
    "id": "d50cac00"
   },
   "source": [
    "Scatter plots are the graphs that present the relationship between two variables in a data-set. It represents data points on a two-dimensional plane or on a Cartesian system. The independent variable or attribute is plotted on the X-axis, while the dependent variable is plotted on the Y-axis. These plots are often called scatter graphs or scatter diagrams."
   ]
  },
  {
   "cell_type": "code",
   "execution_count": null,
   "id": "984f1f30",
   "metadata": {
    "id": "984f1f30",
    "outputId": "55da9032-729f-4655-ec62-543289eb4463"
   },
   "outputs": [],
   "source": [
    "import plotly.express as px\n",
    "for value in features:\n",
    "    figure = px.scatter(data_frame= df,x = value,y = 'Units Sold',trendline = 'ols')\n",
    "    \n",
    "    figure.show()"
   ]
  },
  {
   "cell_type": "markdown",
   "id": "bfa629d5",
   "metadata": {
    "id": "bfa629d5"
   },
   "source": [
    "The line between both th variables is called Best Fir Line.The least Sum of Squares of Errors is used as the cost function for Linear Regression. For all possible lines, calculate the sum of squares of errors. The line which has the least sum of squares of errors is the best fit line.The line drawn in a scatter plot, which is near to almost all the points in the plot is known as “line of best fit” or “trend line“."
   ]
  },
  {
   "cell_type": "markdown",
   "id": "eb78036f",
   "metadata": {
    "id": "eb78036f"
   },
   "source": [
    "### Scatter Plot insight:"
   ]
  },
  {
   "cell_type": "markdown",
   "id": "7a09baf2",
   "metadata": {
    "id": "7a09baf2"
   },
   "source": [
    "We can observe that various variables like carwidth,curbweight,etc shows continous increase in price. Which relates that these variables are highly correlated with the target variables."
   ]
  },
  {
   "cell_type": "markdown",
   "id": "c1afb417",
   "metadata": {
    "id": "c1afb417"
   },
   "source": [
    "### Why use Scatter plot?"
   ]
  },
  {
   "cell_type": "markdown",
   "id": "4f6acbf4",
   "metadata": {
    "id": "4f6acbf4"
   },
   "source": [
    "Scatter plots are used in either of the following situations.\n",
    "\n",
    "When we have paired numerical data\n",
    "When there are multiple values of the dependent variable for a unique value of an independent variable\n",
    "In determining the relationship between variables in some scenarios, such as identifying potential root causes of problems, checking whether two products that appear to be related both occur with the exact cause and so on."
   ]
  },
  {
   "cell_type": "markdown",
   "id": "f92e08ca",
   "metadata": {
    "id": "f92e08ca"
   },
   "source": [
    "In the next step we will divide our cleaned data into training data and testing data."
   ]
  },
  {
   "cell_type": "markdown",
   "id": "34c87fa7",
   "metadata": {
    "id": "34c87fa7"
   },
   "source": [
    "# 6. Pair Plot"
   ]
  },
  {
   "cell_type": "code",
   "execution_count": null,
   "id": "0fda9c13",
   "metadata": {
    "id": "0fda9c13",
    "outputId": "457e7ffe-9eb7-43bf-8bf7-016c21f22132"
   },
   "outputs": [],
   "source": [
    "#pair plots of entire dataset\n",
    "pp = sns.pairplot(df, hue = 'Units Sold', \n",
    "                  size=3, diag_kind = 'kde', diag_kws=dict(shade=True), plot_kws=dict(s=20) )\n",
    "pp.set(xticklabels=[])"
   ]
  },
  {
   "cell_type": "markdown",
   "id": "b7c4810b",
   "metadata": {
    "id": "b7c4810b"
   },
   "source": [
    "### What is pair plot?"
   ]
  },
  {
   "cell_type": "markdown",
   "id": "b29cb969",
   "metadata": {
    "id": "b29cb969"
   },
   "source": [
    "Pair plot is used to understand the best set of features to explain a relationship between two variables or to form the most separated clusters. It also helps to form some simple classification models by drawing some simple lines or make linear separation in our data-set."
   ]
  },
  {
   "cell_type": "markdown",
   "id": "e7844542",
   "metadata": {
    "id": "e7844542"
   },
   "source": [
    "# Step 2: Data Preparation\n",
    "**Goal:-**"
   ]
  },
  {
   "cell_type": "markdown",
   "id": "c78aba38",
   "metadata": {
    "id": "c78aba38"
   },
   "source": [
    "Tasks we are going to in this step:"
   ]
  },
  {
   "cell_type": "markdown",
   "id": "3b4f8b7b",
   "metadata": {
    "id": "3b4f8b7b"
   },
   "source": [
    "1. Now we will spearate the target variable and feature columns in two different dataframe and will check the shape of the dataset for validation purpose.\n",
    "2. Split dataset into train and test dataset.\n",
    "3. Scaling on train dataset."
   ]
  },
  {
   "cell_type": "markdown",
   "id": "655dd38c",
   "metadata": {
    "id": "655dd38c"
   },
   "source": [
    "**1. Now we spearate the target variable and feature columns in two different dataframe and will check the shape of the dataset for validation purpose.**"
   ]
  },
  {
   "cell_type": "code",
   "execution_count": null,
   "id": "7c63d22b",
   "metadata": {
    "id": "7c63d22b"
   },
   "outputs": [],
   "source": [
    "# Separate target and feature column in X and y variable\n",
    "\n",
    "target = 'Units Sold'\n",
    "\n",
    "# X will be the features\n",
    "X = df.drop(target,axis=1) \n",
    "#y will be the target variable\n",
    "y = df[target]"
   ]
  },
  {
   "cell_type": "markdown",
   "id": "45e84d2f",
   "metadata": {
    "id": "45e84d2f"
   },
   "source": [
    "y have target variable and X have all other variable.\n",
    "\n",
    "#### Here in product demand prediction, units sold is the target variable."
   ]
  },
  {
   "cell_type": "code",
   "execution_count": null,
   "id": "8f923034",
   "metadata": {
    "id": "8f923034",
    "outputId": "907b44e1-bbaa-4849-cc4f-dbb3b40e28be"
   },
   "outputs": [],
   "source": [
    "X.info()"
   ]
  },
  {
   "cell_type": "code",
   "execution_count": null,
   "id": "04510e17",
   "metadata": {
    "id": "04510e17",
    "outputId": "390ad9e4-1608-4c33-8b61-90213c8ab123"
   },
   "outputs": [],
   "source": [
    "y"
   ]
  },
  {
   "cell_type": "code",
   "execution_count": null,
   "id": "f27caefb",
   "metadata": {
    "id": "f27caefb",
    "outputId": "967e3420-0b07-4d0b-ce2f-a32132c0ec86"
   },
   "outputs": [],
   "source": [
    "# Check the shape of X and y variable\n",
    "X.shape, y.shape"
   ]
  },
  {
   "cell_type": "code",
   "execution_count": null,
   "id": "4152bf02",
   "metadata": {
    "id": "4152bf02"
   },
   "outputs": [],
   "source": [
    "# Reshape the y variable \n",
    "y = y.values.reshape(-1,1)"
   ]
  },
  {
   "cell_type": "code",
   "execution_count": null,
   "id": "57c983bf",
   "metadata": {
    "id": "57c983bf",
    "outputId": "b97383cc-67cb-4f87-f633-cb044016c87b"
   },
   "outputs": [],
   "source": [
    "# Again check the shape of X and y variable\n",
    "X.shape, y.shape"
   ]
  },
  {
   "cell_type": "markdown",
   "id": "da8e35a9",
   "metadata": {
    "id": "da8e35a9"
   },
   "source": [
    "#### 2. Spliting the dataset in training and testing data. "
   ]
  },
  {
   "cell_type": "markdown",
   "id": "a7d06793",
   "metadata": {
    "id": "a7d06793"
   },
   "source": [
    "*Here we are spliting our dataset into 80/20 percentage where 80% dataset goes into the training part and 20% goes into testing  part.*"
   ]
  },
  {
   "cell_type": "code",
   "execution_count": null,
   "id": "c7227946",
   "metadata": {
    "id": "c7227946"
   },
   "outputs": [],
   "source": [
    "# Split the X and y into X_train, X_test, y_train, y_test variables with 80-20% split.\n",
    "X_train, X_test, y_train, y_test = train_test_split(X, y, test_size=0.2, random_state=42)"
   ]
  },
  {
   "cell_type": "code",
   "execution_count": null,
   "id": "cdf4bb69",
   "metadata": {
    "id": "cdf4bb69",
    "outputId": "90135a0a-5ebf-4594-feaa-bf7665cdcd0e"
   },
   "outputs": [],
   "source": [
    "# Check shape of the splitted variables\n",
    "X_train.shape, X_test.shape, y_train.shape, y_test.shape"
   ]
  },
  {
   "cell_type": "markdown",
   "id": "9f842d96",
   "metadata": {
    "id": "9f842d96"
   },
   "source": [
    "### Insights: -\n",
    "\n",
    "Train test split technique is used to estimate the performance of machine learning algorithms which are used to make predictions on data not used to train the model.It is a fast and easy procedure to perform, the results of which allow you to compare the performance of machine learning algorithms for your predictive modeling problem. Although simple to use and interpret, there are times when the procedure should not be used, such as when you have a small dataset and situations where additional configuration is required, such as when it is used for classification and the dataset is not balanced.\n",
    "\n",
    "In the next step we will train our model on the basis of our training and testing data."
   ]
  },
  {
   "cell_type": "markdown",
   "id": "4bea705d",
   "metadata": {
    "id": "4bea705d"
   },
   "source": [
    "# Step 3: Model Training"
   ]
  },
  {
   "cell_type": "markdown",
   "id": "b302c8f6",
   "metadata": {
    "id": "b302c8f6"
   },
   "source": [
    "#### Goal:\n",
    "In this step we are going to train our dataset on different regression algorithms. As we know that our target variable is not discrete format so we have to apply regression algorithm. In our dataset we have the outcome variable or Dependent variable i.e Y having non discrete values. So we will use Regression algorithm.\n",
    "\n",
    "__Algorithms we are going to use in this step__\n",
    "\n",
    "1. Linear Regression\n",
    "2. Lasso Regression\n",
    "3. Decision Tree Regressor"
   ]
  },
  {
   "cell_type": "markdown",
   "id": "bb77ac56",
   "metadata": {
    "id": "bb77ac56"
   },
   "source": [
    "K-fold cross validation is a procedure used to estimate the skill of the model on new data. There are common tactics that you can use to select the value of k for your dataset. There are commonly used variations on cross-validation, such as stratified and repeated, that are available in scikit-learn"
   ]
  },
  {
   "cell_type": "code",
   "execution_count": null,
   "id": "59d55dc9",
   "metadata": {
    "id": "59d55dc9"
   },
   "outputs": [],
   "source": [
    "# Define kfold with 10 split\n",
    "cv = KFold(n_splits=10, shuffle=True, random_state=42)"
   ]
  },
  {
   "cell_type": "markdown",
   "id": "f33779e3",
   "metadata": {
    "id": "f33779e3"
   },
   "source": [
    "The goal of cross-validation is to test the model's ability to predict new data that was not used in estimating it, in order to flag problems like overfitting or selection bias and to give an insight on how the model will generalize to an independent dataset (i.e., an unknown dataset, for instance from a real problem)."
   ]
  },
  {
   "cell_type": "markdown",
   "id": "29fd0b08",
   "metadata": {
    "id": "29fd0b08"
   },
   "source": [
    "# 1. Linear Regression"
   ]
  },
  {
   "cell_type": "markdown",
   "id": "eea03568",
   "metadata": {
    "id": "eea03568"
   },
   "source": [
    "Linear regression is one of the easiest and most popular Machine Learning algorithms. It is a statistical method that is used for predictive analysis. Linear regression makes predictions for continuous/real or numeric variables."
   ]
  },
  {
   "cell_type": "markdown",
   "id": "08b7c59e",
   "metadata": {
    "id": "08b7c59e"
   },
   "source": [
    "#### Train set cross-validation "
   ]
  },
  {
   "cell_type": "code",
   "execution_count": null,
   "id": "4111e09b",
   "metadata": {
    "id": "4111e09b",
    "outputId": "3219c3a2-512a-4855-fb48-e8a17f88b770"
   },
   "outputs": [],
   "source": [
    "#Using Linear Regression Algorithm to the Training Set\n",
    "from sklearn.linear_model import LinearRegression\n",
    "\n",
    "li_R = LinearRegression() #Object Creation\n",
    "\n",
    "li_R.fit(X_train, y_train)"
   ]
  },
  {
   "cell_type": "code",
   "execution_count": null,
   "id": "92485565",
   "metadata": {
    "id": "92485565",
    "outputId": "a384df51-a3e4-4cf5-8f1c-c2f6361fce77"
   },
   "outputs": [],
   "source": [
    "#Accuracy check of trainig data\n",
    "\n",
    "#Get R2 score\n",
    "li_R.score(X_train, y_train)\n"
   ]
  },
  {
   "cell_type": "code",
   "execution_count": null,
   "id": "e1c4454c",
   "metadata": {
    "id": "e1c4454c",
    "outputId": "a7a73b5b-d092-43c3-fbeb-10011a0844ad"
   },
   "outputs": [],
   "source": [
    "#Accuracy of test data\n",
    "li_R.score(X_test, y_test) "
   ]
  },
  {
   "cell_type": "code",
   "execution_count": null,
   "id": "5dd77229",
   "metadata": {
    "id": "5dd77229",
    "outputId": "dfd49892-602d-4012-f409-18d06fc110a8"
   },
   "outputs": [],
   "source": [
    "# Getting kfold values\n",
    "li_scores = -1 * cross_val_score(li_R, \n",
    "                                 X_train, \n",
    "                                 y_train, \n",
    "                                 cv=cv, \n",
    "                                 scoring='neg_root_mean_squared_error')\n",
    "li_scores"
   ]
  },
  {
   "cell_type": "code",
   "execution_count": null,
   "id": "b0ce79ff",
   "metadata": {
    "id": "b0ce79ff",
    "outputId": "949c4ee7-77d1-4bbb-85b4-eee089e5225a"
   },
   "outputs": [],
   "source": [
    "# Mean of the train kfold scores\n",
    "li_score_train = np.mean(li_scores)\n",
    "li_score_train"
   ]
  },
  {
   "cell_type": "markdown",
   "id": "a5f98328",
   "metadata": {
    "id": "a5f98328"
   },
   "source": [
    "### Prediction "
   ]
  },
  {
   "cell_type": "markdown",
   "id": "e1430b99",
   "metadata": {
    "id": "e1430b99"
   },
   "source": [
    "Now we will perform prediction on the dataset using Linear Regression."
   ]
  },
  {
   "cell_type": "code",
   "execution_count": null,
   "id": "cc4d8981",
   "metadata": {
    "id": "cc4d8981"
   },
   "outputs": [],
   "source": [
    "# Predict the values on X_test_scaled dataset \n",
    "y_predicted = li_R.predict(X_test)"
   ]
  },
  {
   "cell_type": "markdown",
   "id": "20ddb772",
   "metadata": {
    "id": "20ddb772"
   },
   "source": [
    "## Various parameters are calculated for analysing the predictions.\n",
    "\n",
    "1) Confusion Matrix\n",
    "2)Classification Report\n",
    "3)Accuracy Score\n",
    "4)Precision Score\n",
    "5)Recall Score\n",
    "6)F1 Score"
   ]
  },
  {
   "cell_type": "markdown",
   "id": "e42879cb",
   "metadata": {
    "id": "e42879cb"
   },
   "source": [
    "## Confusion Matrix\n",
    "\n",
    "A confusion matrix presents a table layout of the different outcomes of the prediction and results of a classification problem and helps visualize its outcomes. It plots a table of all the predicted and actual values of a classifier."
   ]
  },
  {
   "cell_type": "markdown",
   "id": "ffd6cc33",
   "metadata": {
    "id": "ffd6cc33",
    "outputId": "80719d42-ab43-4746-b85f-9681925e0815"
   },
   "source": [
    "![confusion-matrix.jpeg](attachment:confusion-matrix.jpeg)"
   ]
  },
  {
   "cell_type": "markdown",
   "id": "4c0058d4",
   "metadata": {
    "id": "4c0058d4"
   },
   "source": [
    "#### This diagram helps in understanding the concept of confusion matrix. "
   ]
  },
  {
   "cell_type": "markdown",
   "id": "629a0eac",
   "metadata": {
    "id": "629a0eac"
   },
   "source": [
    "## Evaluating all kinds of evaluating parameters. "
   ]
  },
  {
   "cell_type": "markdown",
   "id": "7c47ad88",
   "metadata": {
    "id": "7c47ad88"
   },
   "source": [
    "#### Classification Report :\n",
    "A classification report is a performance evaluation metric in machine learning. It is used to show the precision, recall, F1 Score, and support of your trained classification model. \n",
    "\n",
    "#### F1_score :\n",
    "The F1 score is a machine learning metric that can be used in classification models. \n",
    "\n",
    "#### Precision_score :\n",
    "The precision is the ratio tp / (tp + fp) where tp is the number of true positives and fp the number of false positives. The precision is intuitively the ability of the classifier not to label as positive a sample that is negative. The best value is 1 and the worst value is 0.\n",
    "\n",
    "#### Recall_score :\n",
    "Recall score is used to measure the model performance in terms of measuring the count of true positives in a correct manner out of all the actual positive values. Precision-Recall score is a useful measure of success of prediction when the classes are very imbalanced."
   ]
  },
  {
   "cell_type": "code",
   "execution_count": null,
   "id": "bdd25f97",
   "metadata": {
    "id": "bdd25f97",
    "outputId": "a2979870-9b4a-4482-e5c0-06d66618e805"
   },
   "outputs": [],
   "source": [
    "# Evaluating the classifier\n",
    "# printing every score of the classifier\n",
    "# scoring in anything\n",
    "from sklearn.metrics import r2_score  \n",
    "\n",
    "li_acc = r2_score(y_test, y_predicted)*100\n",
    "print(\"The model used is Linear Regression\")\n",
    "print(\"R2 Score is: -\")\n",
    "print()\n",
    "print(li_acc)"
   ]
  },
  {
   "cell_type": "markdown",
   "id": "a3b79937",
   "metadata": {
    "id": "a3b79937"
   },
   "source": [
    "# 2. Lasso Regression"
   ]
  },
  {
   "cell_type": "markdown",
   "id": "0028008f",
   "metadata": {
    "id": "0028008f"
   },
   "source": [
    "Lasso regression is also called Penalized regression method. This method is usually used in machine learning for the selection of the subset of variables. It provides greater prediction accuracy as compared to other regression models. Lasso Regularization helps to increase model interpretation."
   ]
  },
  {
   "cell_type": "code",
   "execution_count": null,
   "id": "cde10428",
   "metadata": {
    "id": "cde10428"
   },
   "outputs": [],
   "source": [
    "#Using Lasso Regression\n",
    "from sklearn import linear_model\n",
    "la_R = linear_model.Lasso(alpha=0.1)"
   ]
  },
  {
   "cell_type": "code",
   "execution_count": null,
   "id": "5ec36e65",
   "metadata": {
    "id": "5ec36e65",
    "outputId": "d402dd02-5210-43c0-af9b-88811ead8790"
   },
   "outputs": [],
   "source": [
    "#looking for training data\n",
    "la_R.fit(X_train,y_train)"
   ]
  },
  {
   "cell_type": "code",
   "execution_count": null,
   "id": "e0e902a9",
   "metadata": {
    "id": "e0e902a9",
    "outputId": "487bb15b-8184-4a22-9ab2-ad9003657ac7"
   },
   "outputs": [],
   "source": [
    "#Accuracy check of trainig data\n",
    "la_R.score(X_train, y_train)"
   ]
  },
  {
   "cell_type": "markdown",
   "id": "0afac9bf",
   "metadata": {
    "id": "0afac9bf"
   },
   "source": [
    "### Prediction"
   ]
  },
  {
   "cell_type": "markdown",
   "id": "487227a4",
   "metadata": {
    "id": "487227a4"
   },
   "source": [
    "Now we will perform prediction on the dataset using Lasso Regression."
   ]
  },
  {
   "cell_type": "code",
   "execution_count": null,
   "id": "101d9595",
   "metadata": {
    "id": "101d9595"
   },
   "outputs": [],
   "source": [
    "# Predict the values on X_test_scaled dataset \n",
    "y_predicted=la_R.predict(X_test)"
   ]
  },
  {
   "cell_type": "markdown",
   "id": "280a69ed",
   "metadata": {
    "id": "280a69ed"
   },
   "source": [
    "### Evaluating all kinds of evaluating parameters. "
   ]
  },
  {
   "cell_type": "code",
   "execution_count": null,
   "id": "6374a196",
   "metadata": {
    "id": "6374a196",
    "outputId": "9a8503df-9d13-454a-b275-70649bead479"
   },
   "outputs": [],
   "source": [
    "#Accuracy check of test data\n",
    "la_acc = r2_score(y_test,y_predicted)*100\n",
    "print(\"The model used is Lasso Regression\")\n",
    "print(\"R2 Score is: -\")\n",
    "print()\n",
    "print(la_acc)"
   ]
  },
  {
   "cell_type": "markdown",
   "id": "1c9f569e",
   "metadata": {
    "id": "1c9f569e"
   },
   "source": [
    "# 3. Decision Tree Regressor"
   ]
  },
  {
   "cell_type": "markdown",
   "id": "41024d94",
   "metadata": {
    "id": "41024d94"
   },
   "source": [
    "Decision Tree is a decision-making tool that uses a flowchart-like tree structure or is a model of decisions and all of their possible results, including outcomes, input costs, and utility. Decision-tree algorithm falls under the category of supervised learning algorithms. It works for both continuous as well as categorical output variables."
   ]
  },
  {
   "cell_type": "code",
   "execution_count": null,
   "id": "e26670ba",
   "metadata": {
    "id": "e26670ba"
   },
   "outputs": [],
   "source": [
    "#Using DecisionTreeRegressor\n",
    "from sklearn.tree import DecisionTreeRegressor\n",
    "dt_R = DecisionTreeRegressor()"
   ]
  },
  {
   "cell_type": "code",
   "execution_count": null,
   "id": "c4643412",
   "metadata": {
    "id": "c4643412",
    "outputId": "b0b0f719-e6b0-4ee7-d2cb-762f0d363653"
   },
   "outputs": [],
   "source": [
    "#looking for training data\n",
    "dt_R.fit(X_train,y_train)"
   ]
  },
  {
   "cell_type": "code",
   "execution_count": null,
   "id": "df6b42a6",
   "metadata": {
    "id": "df6b42a6",
    "outputId": "487bb15b-8184-4a22-9ab2-ad9003657ac7"
   },
   "outputs": [],
   "source": [
    "#Accuracy check of trainig data\n",
    "dt_R.score(X_train, y_train)"
   ]
  },
  {
   "cell_type": "markdown",
   "id": "1db18648",
   "metadata": {
    "id": "1db18648"
   },
   "source": [
    "### Prediction"
   ]
  },
  {
   "cell_type": "markdown",
   "id": "ec291856",
   "metadata": {
    "id": "ec291856"
   },
   "source": [
    "Now we will perform prediction on the dataset using DecisionTreeRegressor."
   ]
  },
  {
   "cell_type": "code",
   "execution_count": null,
   "id": "28ccac38",
   "metadata": {
    "id": "28ccac38"
   },
   "outputs": [],
   "source": [
    "# Predict the values on X_test_scaled dataset \n",
    "\n",
    "y_predicted=dt_R.predict(X_test)"
   ]
  },
  {
   "cell_type": "markdown",
   "id": "5617ea58",
   "metadata": {
    "id": "5617ea58"
   },
   "source": [
    "### Evaluating all kinds of evaluating parameters. "
   ]
  },
  {
   "cell_type": "code",
   "execution_count": null,
   "id": "34318c20",
   "metadata": {
    "id": "34318c20",
    "outputId": "9a8503df-9d13-454a-b275-70649bead479"
   },
   "outputs": [],
   "source": [
    "#Accuracy check of test data\n",
    "dt_acc = r2_score(y_test,y_predicted)*100\n",
    "print(\"The model used is DecisionTreeRegressor\")\n",
    "print(\"R2 Score is: -\")\n",
    "print()\n",
    "print(dt_acc)"
   ]
  },
  {
   "cell_type": "markdown",
   "id": "c56678be",
   "metadata": {
    "id": "c56678be"
   },
   "source": [
    "# Insight: -"
   ]
  },
  {
   "cell_type": "code",
   "execution_count": null,
   "id": "605cc7b8",
   "metadata": {
    "id": "605cc7b8",
    "outputId": "128b12b9-7751-42f2-ee64-c3ee6342f018",
    "scrolled": true
   },
   "outputs": [],
   "source": [
    "cal_metric=pd.DataFrame([li_acc,la_acc,dt_acc],columns=[\"Score in percentage\"])\n",
    "cal_metric.index=['Linear Regression',\n",
    "                  'Lasso Regression',\n",
    "                  'Decision Tree Regressor']\n",
    "cal_metric"
   ]
  },
  {
   "cell_type": "markdown",
   "id": "dd1fc793",
   "metadata": {
    "id": "dd1fc793"
   },
   "source": [
    "- As you can see with our Decision Tree Regressor(0.4617 or 46.17%) we are getting a better result.\n",
    "- So we gonna save our model with Decision Tree Regressor Algorithm."
   ]
  },
  {
   "cell_type": "markdown",
   "id": "15c53205",
   "metadata": {
    "id": "15c53205"
   },
   "source": [
    "# Step 4: Save Model\n",
    "**Goal:- In this step we are going to save our model in pickel format file.**"
   ]
  },
  {
   "cell_type": "code",
   "execution_count": null,
   "id": "86b5ce82",
   "metadata": {
    "id": "86b5ce82"
   },
   "outputs": [],
   "source": [
    "import pickle\n",
    "pickle.dump(li_R , open('Product_Demand_li.pkl', 'wb'))\n",
    "pickle.dump(la_R , open('Product_Demand_la.pkl', 'wb'))\n",
    "pickle.dump(dt_R , open('Product_Demand_dt.pkl', 'wb'))"
   ]
  },
  {
   "cell_type": "code",
   "execution_count": null,
   "id": "cd45e83c",
   "metadata": {
    "id": "cd45e83c"
   },
   "outputs": [],
   "source": [
    "import pickle\n",
    "\n",
    "def model_prediction(features):\n",
    "    \n",
    "    pickled_model = pickle.load(open('Product_Demand_dt.pkl', 'rb'))\n",
    "    units = str(pickled_model.predict(features)[0])\n",
    "    \n",
    "    return str(f'The number of units solds is {units}')"
   ]
  },
  {
   "cell_type": "markdown",
   "id": "291ec5e4",
   "metadata": {
    "id": "291ec5e4"
   },
   "source": [
    "#### We can test our model by giving our own parameters or features to predict. "
   ]
  },
  {
   "cell_type": "code",
   "execution_count": null,
   "id": "0d468f6b",
   "metadata": {
    "id": "0d468f6b"
   },
   "outputs": [],
   "source": [
    "Store_ID = 529671497571\n",
    "Total_Price = 4.626649\n",
    "Base_Price = 4.818311"
   ]
  },
  {
   "cell_type": "code",
   "execution_count": null,
   "id": "380e138c",
   "metadata": {
    "id": "380e138c",
    "outputId": "b64abd67-fa23-4611-930a-ac90dbeaa529",
    "scrolled": true
   },
   "outputs": [],
   "source": [
    "model_prediction([[Store_ID, Total_Price, Base_Price]])"
   ]
  },
  {
   "cell_type": "markdown",
   "id": "a46d931d",
   "metadata": {
    "id": "a46d931d"
   },
   "source": [
    "# Step 5: After making model and checking its accuracy, we are going to deploy it in API/ Web App. "
   ]
  },
  {
   "cell_type": "markdown",
   "id": "e1d76588",
   "metadata": {
    "id": "e1d76588"
   },
   "source": [
    "This step holds a great importance as in this step we make a Web API which integrates our model and let it interacts with user.\n",
    "The user simply put data he is asked to fill and our API will help in predicting."
   ]
  },
  {
   "cell_type": "markdown",
   "id": "d64a42a0",
   "metadata": {
    "id": "d64a42a0"
   },
   "source": [
    "### There are many methods to create Web Application like Flask, Streamlit, etc. We going to use streamlit to create API. Below is an API refrence. "
   ]
  },
  {
   "cell_type": "markdown",
   "id": "ceceb746",
   "metadata": {
    "id": "ceceb746"
   },
   "source": [
    "https://tinyurl.com/bdexnk6v"
   ]
  },
  {
   "cell_type": "markdown",
   "id": "5c1aae78",
   "metadata": {
    "id": "5c1aae78"
   },
   "source": [
    "# Conclusion"
   ]
  },
  {
   "cell_type": "markdown",
   "id": "1ab4e800",
   "metadata": {
    "id": "1ab4e800"
   },
   "source": [
    "After observing the problem statement we have build an efficient model to overcome it. The above model helps in predicting the demand for a product varies with the change in its price. Price is one of the major factors that affect the demand for the product. If a product is not a necessity, only a few people buy the product even if the price increases. The accuracy for the prediction is 46.17%."
   ]
  }
 ],
 "metadata": {
  "colab": {
   "provenance": []
  },
  "kernelspec": {
   "display_name": "Python 3 (ipykernel)",
   "language": "python",
   "name": "python3"
  },
  "language_info": {
   "codemirror_mode": {
    "name": "ipython",
    "version": 3
   },
   "file_extension": ".py",
   "mimetype": "text/x-python",
   "name": "python",
   "nbconvert_exporter": "python",
   "pygments_lexer": "ipython3",
   "version": "3.11.5"
  }
 },
 "nbformat": 4,
 "nbformat_minor": 5
}
