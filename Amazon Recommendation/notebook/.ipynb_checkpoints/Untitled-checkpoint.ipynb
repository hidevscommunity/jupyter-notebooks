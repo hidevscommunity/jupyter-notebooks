{
 "cells": [
  {
   "cell_type": "code",
   "execution_count": 1,
   "id": "92598d90",
   "metadata": {},
   "outputs": [
    {
     "name": "stdout",
     "output_type": "stream",
     "text": [
      "    AKM1MP6P0OYPR  0132793040  5.0  1365811200\n",
      "0  A2CX7LUOHB2NDG  0321732944  5.0  1341100800\n",
      "1  A2NWSAGRHCP8N5  0439886341  1.0  1367193600\n",
      "2  A2WNBOD3WNDNKT  0439886341  3.0  1374451200\n",
      "3  A1GI0U4ZRJA8WN  0439886341  1.0  1334707200\n",
      "4  A1QGNMC6O1VW39  0511189877  5.0  1397433600\n"
     ]
    }
   ],
   "source": [
    "import numpy as np\n",
    "import pandas as pd\n",
    "\n",
    "data = pd.read_csv(\"amazon.csv\")\n",
    "print(data.head())"
   ]
  },
  {
   "cell_type": "code",
   "execution_count": 2,
   "id": "47a65fc2",
   "metadata": {},
   "outputs": [],
   "source": [
    "data.columns = ['user_id', 'product_id','ratings','timestamp']"
   ]
  },
  {
   "cell_type": "code",
   "execution_count": 5,
   "id": "8c342aa4",
   "metadata": {},
   "outputs": [],
   "source": [
    "df = data[:int(len(data) * .1)]"
   ]
  },
  {
   "cell_type": "code",
   "execution_count": 9,
   "id": "d29ead9a",
   "metadata": {},
   "outputs": [
    {
     "data": {
      "text/plain": [
       "(782448, 4)"
      ]
     },
     "execution_count": 9,
     "metadata": {},
     "output_type": "execute_result"
    }
   ],
   "source": [
    "counts = df['user_id'].value_counts()\n",
    "df.shape"
   ]
  },
  {
   "cell_type": "code",
   "execution_count": 10,
   "id": "042ca91b",
   "metadata": {},
   "outputs": [],
   "source": [
    "data = df[df['user_id'].isin(counts[counts >= 50].index)]\n",
    "data.groupby('product_id')['ratings'].mean().sort_values(ascending=False) \n",
    "final_ratings = data.pivot(index = 'user_id', columns ='product_id', values = 'ratings').fillna(0)\n",
    "\n",
    "num_of_ratings = np.count_nonzero(final_ratings)\n",
    "possible_ratings = final_ratings.shape[0] * final_ratings.shape[1]\n",
    "density = (num_of_ratings/possible_ratings)\n",
    "density *= 100\n",
    "final_ratings_T = final_ratings.transpose()\n",
    "\n",
    "grouped = data.groupby('product_id').agg({'user_id': 'count'}).reset_index()\n",
    "grouped.rename(columns = {'user_id': 'score'},inplace=True)\n",
    "training_data = grouped.sort_values(['score', 'product_id'], ascending = [0,1]) \n",
    "training_data['Rank'] = training_data['score'].rank(ascending=0, method='first') \n",
    "recommendations = training_data.head()"
   ]
  },
  {
   "cell_type": "code",
   "execution_count": 11,
   "id": "f8d0f811",
   "metadata": {},
   "outputs": [
    {
     "name": "stdout",
     "output_type": "stream",
     "text": [
      "      user_id  product_id  score  Rank\n",
      "113        11  B00004SB92      6   1.0\n",
      "1099       11  B00008OE6I      5   2.0\n",
      "368        11  B00005AW1H      4   3.0\n",
      "612        11  B0000645C9      4   4.0\n",
      "976        11  B00007KDVI      4   5.0\n"
     ]
    },
    {
     "name": "stderr",
     "output_type": "stream",
     "text": [
      "C:\\Users\\nuyap\\AppData\\Local\\Temp\\ipykernel_9136\\2016546976.py:3: SettingWithCopyWarning: \n",
      "A value is trying to be set on a copy of a slice from a DataFrame.\n",
      "Try using .loc[row_indexer,col_indexer] = value instead\n",
      "\n",
      "See the caveats in the documentation: https://pandas.pydata.org/pandas-docs/stable/user_guide/indexing.html#returning-a-view-versus-a-copy\n",
      "  recommend_products['user_id'] = id\n"
     ]
    }
   ],
   "source": [
    "\n",
    "def recommend(id):     \n",
    "    recommend_products = recommendations \n",
    "    recommend_products['user_id'] = id \n",
    "    column = recommend_products.columns.tolist() \n",
    "    column = column[-1:] + column[:-1] \n",
    "    recommend_products = recommend_products[column] \n",
    "    return recommend_products \n",
    "\n",
    "print(recommend(11))"
   ]
  },
  {
   "cell_type": "code",
   "execution_count": 12,
   "id": "e150332c",
   "metadata": {},
   "outputs": [
    {
     "data": {
      "text/html": [
       "<div>\n",
       "<style scoped>\n",
       "    .dataframe tbody tr th:only-of-type {\n",
       "        vertical-align: middle;\n",
       "    }\n",
       "\n",
       "    .dataframe tbody tr th {\n",
       "        vertical-align: top;\n",
       "    }\n",
       "\n",
       "    .dataframe thead th {\n",
       "        text-align: right;\n",
       "    }\n",
       "</style>\n",
       "<table border=\"1\" class=\"dataframe\">\n",
       "  <thead>\n",
       "    <tr style=\"text-align: right;\">\n",
       "      <th></th>\n",
       "      <th>user_id</th>\n",
       "      <th>product_id</th>\n",
       "      <th>ratings</th>\n",
       "      <th>timestamp</th>\n",
       "    </tr>\n",
       "  </thead>\n",
       "  <tbody>\n",
       "    <tr>\n",
       "      <th>2161</th>\n",
       "      <td>A5JLAU2ARJ0BO</td>\n",
       "      <td>1400532655</td>\n",
       "      <td>1.0</td>\n",
       "      <td>1291334400</td>\n",
       "    </tr>\n",
       "    <tr>\n",
       "      <th>7380</th>\n",
       "      <td>A2AEZQ3DGBBLPR</td>\n",
       "      <td>B000000O48</td>\n",
       "      <td>5.0</td>\n",
       "      <td>1038873600</td>\n",
       "    </tr>\n",
       "    <tr>\n",
       "      <th>7447</th>\n",
       "      <td>A2R6RA8FRBS608</td>\n",
       "      <td>B000001OL6</td>\n",
       "      <td>4.0</td>\n",
       "      <td>1209513600</td>\n",
       "    </tr>\n",
       "    <tr>\n",
       "      <th>7788</th>\n",
       "      <td>A11D1KHM7DVOQK</td>\n",
       "      <td>B000001OMN</td>\n",
       "      <td>2.0</td>\n",
       "      <td>1167350400</td>\n",
       "    </tr>\n",
       "    <tr>\n",
       "      <th>8731</th>\n",
       "      <td>A6FIAB28IS79</td>\n",
       "      <td>B00000J05A</td>\n",
       "      <td>3.0</td>\n",
       "      <td>985564800</td>\n",
       "    </tr>\n",
       "  </tbody>\n",
       "</table>\n",
       "</div>"
      ],
      "text/plain": [
       "             user_id  product_id  ratings   timestamp\n",
       "2161   A5JLAU2ARJ0BO  1400532655      1.0  1291334400\n",
       "7380  A2AEZQ3DGBBLPR  B000000O48      5.0  1038873600\n",
       "7447  A2R6RA8FRBS608  B000001OL6      4.0  1209513600\n",
       "7788  A11D1KHM7DVOQK  B000001OMN      2.0  1167350400\n",
       "8731    A6FIAB28IS79  B00000J05A      3.0   985564800"
      ]
     },
     "execution_count": 12,
     "metadata": {},
     "output_type": "execute_result"
    }
   ],
   "source": [
    "data.head()"
   ]
  },
  {
   "cell_type": "code",
   "execution_count": null,
   "id": "3598236f",
   "metadata": {},
   "outputs": [],
   "source": []
  }
 ],
 "metadata": {
  "kernelspec": {
   "display_name": "Python 3 (ipykernel)",
   "language": "python",
   "name": "python3"
  },
  "language_info": {
   "codemirror_mode": {
    "name": "ipython",
    "version": 3
   },
   "file_extension": ".py",
   "mimetype": "text/x-python",
   "name": "python",
   "nbconvert_exporter": "python",
   "pygments_lexer": "ipython3",
   "version": "3.11.1"
  }
 },
 "nbformat": 4,
 "nbformat_minor": 5
}
