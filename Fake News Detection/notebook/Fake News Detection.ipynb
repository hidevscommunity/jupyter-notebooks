{
 "cells": [
  {
   "cell_type": "markdown",
   "id": "ac4a9a46",
   "metadata": {
    "id": "ac4a9a46"
   },
   "source": [
    "# Build a model to classify whether the news is fake or real.\n",
    "\n",
    "\n",
    "\n"
   ]
  },
  {
   "cell_type": "markdown",
   "id": "cf2442c0",
   "metadata": {
    "id": "cf2442c0"
   },
   "source": [
    "# Objective: -\n",
    "Fake news is one of the biggest problems because it leads to a lot of misinformation in a particular region. Most of the time, spreading false news about a community’s political and religious beliefs can lead to riots and violence as you must have seen in the country where you live. So, to detect fake news, we can find relationships between the fake news headlines so that we can train a machine learning model that can tell us whether a particular piece of information is fake or real by simply observing the headline in the news."
   ]
  },
  {
   "cell_type": "markdown",
   "id": "bb269461",
   "metadata": {
    "id": "bb269461"
   },
   "source": [
    "The goal of this challenge is to build a machine learning model that classify whether the news is fake or real. \n",
    "Further accurate classification of news can help in identifying the rumor.  "
   ]
  },
  {
   "cell_type": "markdown",
   "id": "996ba73a",
   "metadata": {
    "id": "996ba73a"
   },
   "source": [
    "# Dataset: -\n",
    "\n",
    "The dataset is openly available at Kaggle."
   ]
  },
  {
   "cell_type": "markdown",
   "id": "300eda4c",
   "metadata": {
    "id": "300eda4c"
   },
   "source": [
    "**Three real-valued features are computed for each cell nucleus:**\n",
    "\n",
    "1. Text - Full description of the news.\n",
    "2. Label - Whether the news is FAKE or REAL.\n",
    "3. Title - Title of the news."
   ]
  },
  {
   "cell_type": "markdown",
   "id": "e3b60038",
   "metadata": {
    "id": "e3b60038"
   },
   "source": [
    "# Step 1: Import all the required libraries\n",
    "\n",
    "- __Pandas__ : In computer programming, pandas is a software library written for the Python programming language for data manipulation and analysis and storing in a proper way. In particular, it offers data structures and operations for manipulating numerical tables and time series\n",
    "- __Sklearn__ : Scikit-learn (formerly scikits.learn) is a free software machine learning library for the Python programming language. It features various classification, regression and clustering algorithms including support vector machines, random forests, gradient boosting, k-means and DBSCAN, and is designed to interoperate with the Python numerical and scientific libraries NumPy and SciPy. The library is built upon the SciPy (Scientific Python) that must be installed before you can use scikit-learn.\n",
    "- __Pickle__ : Python pickle module is used for serializing and de-serializing a Python object structure. Pickling is a way to convert a python object (list, dict, etc.) into a character stream. The idea is that this character stream contains all the information necessary to reconstruct the object in another python script.\n",
    "- __Seaborn__ : Seaborn is a Python data visualization library based on matplotlib. It provides a high-level interface for drawing attractive and informative statistical graphics.\n",
    "- __Matplotlib__ : Matplotlib is a plotting library for the Python programming language and its numerical mathematics extension NumPy. It provides an object-oriented API for embedding plots into applications using general-purpose GUI toolkits like Tkinter, wxPython, Qt, or GTK."
   ]
  },
  {
   "cell_type": "code",
   "execution_count": 1,
   "id": "fc957303",
   "metadata": {
    "id": "fc957303"
   },
   "outputs": [],
   "source": [
    "#Loading libraries \n",
    "import pandas as pd\n",
    "import seaborn as sns\n",
    "import pickle\n",
    "from sklearn.naive_bayes import BernoulliNB\n",
    "import warnings\n",
    "\n",
    "warnings.filterwarnings('ignore')"
   ]
  },
  {
   "cell_type": "markdown",
   "id": "1d0d47d5",
   "metadata": {
    "id": "1d0d47d5"
   },
   "source": [
    "# Step 2 : Read dataset and basic details of dataset\n",
    "Goal:- In this step we are going to read the dataset, view the dataset and analysis the basic details like total number of rows and columns, what are the column data types and see to need to create new column or not.\n"
   ]
  },
  {
   "cell_type": "markdown",
   "id": "9d9e6568",
   "metadata": {
    "id": "9d9e6568"
   },
   "source": [
    "In this stage we are going to read our problem dataset and have a look on it."
   ]
  },
  {
   "cell_type": "code",
   "execution_count": 2,
   "id": "da81da2c",
   "metadata": {
    "id": "da81da2c",
    "outputId": "26afa39a-ecf0-4f27-9328-b6c506059525"
   },
   "outputs": [
    {
     "name": "stdout",
     "output_type": "stream",
     "text": [
      "Data read done successfully...\n"
     ]
    }
   ],
   "source": [
    "#loading the dataset\n",
    "try:\n",
    "    df = pd.read_csv('C:/My Sample Notebook/Notebook Template/Fake News Detection/data/fake_or_real_news.csv',encoding= 'latin-1') #Path for the file\n",
    "    print('Data read done successfully...')\n",
    "except (FileNotFoundError, IOError):\n",
    "    print(\"Wrong file or file path\")   "
   ]
  },
  {
   "cell_type": "code",
   "execution_count": 3,
   "id": "fdca2fc4",
   "metadata": {
    "id": "fdca2fc4",
    "outputId": "7b935e45-86da-4348-d1b7-b227e1f54241"
   },
   "outputs": [
    {
     "data": {
      "text/html": [
       "<div>\n",
       "<style scoped>\n",
       "    .dataframe tbody tr th:only-of-type {\n",
       "        vertical-align: middle;\n",
       "    }\n",
       "\n",
       "    .dataframe tbody tr th {\n",
       "        vertical-align: top;\n",
       "    }\n",
       "\n",
       "    .dataframe thead th {\n",
       "        text-align: right;\n",
       "    }\n",
       "</style>\n",
       "<table border=\"1\" class=\"dataframe\">\n",
       "  <thead>\n",
       "    <tr style=\"text-align: right;\">\n",
       "      <th></th>\n",
       "      <th>Unnamed: 0</th>\n",
       "      <th>title</th>\n",
       "      <th>text</th>\n",
       "      <th>label</th>\n",
       "    </tr>\n",
       "  </thead>\n",
       "  <tbody>\n",
       "    <tr>\n",
       "      <th>0</th>\n",
       "      <td>8476</td>\n",
       "      <td>You Can Smell Hillaryâs Fear</td>\n",
       "      <td>Daniel Greenfield, a Shillman Journalism Fello...</td>\n",
       "      <td>FAKE</td>\n",
       "    </tr>\n",
       "    <tr>\n",
       "      <th>1</th>\n",
       "      <td>10294</td>\n",
       "      <td>Watch The Exact Moment Paul Ryan Committed Pol...</td>\n",
       "      <td>Google Pinterest Digg Linkedin Reddit Stumbleu...</td>\n",
       "      <td>FAKE</td>\n",
       "    </tr>\n",
       "    <tr>\n",
       "      <th>2</th>\n",
       "      <td>3608</td>\n",
       "      <td>Kerry to go to Paris in gesture of sympathy</td>\n",
       "      <td>U.S. Secretary of State John F. Kerry said Mon...</td>\n",
       "      <td>REAL</td>\n",
       "    </tr>\n",
       "    <tr>\n",
       "      <th>3</th>\n",
       "      <td>10142</td>\n",
       "      <td>Bernie supporters on Twitter erupt in anger ag...</td>\n",
       "      <td>â Kaydee King (@KaydeeKing) November 9, 2016...</td>\n",
       "      <td>FAKE</td>\n",
       "    </tr>\n",
       "    <tr>\n",
       "      <th>4</th>\n",
       "      <td>875</td>\n",
       "      <td>The Battle of New York: Why This Primary Matters</td>\n",
       "      <td>It's primary day in New York and front-runners...</td>\n",
       "      <td>REAL</td>\n",
       "    </tr>\n",
       "  </tbody>\n",
       "</table>\n",
       "</div>"
      ],
      "text/plain": [
       "   Unnamed: 0                                              title  \\\n",
       "0        8476                     You Can Smell Hillaryâs Fear   \n",
       "1       10294  Watch The Exact Moment Paul Ryan Committed Pol...   \n",
       "2        3608        Kerry to go to Paris in gesture of sympathy   \n",
       "3       10142  Bernie supporters on Twitter erupt in anger ag...   \n",
       "4         875   The Battle of New York: Why This Primary Matters   \n",
       "\n",
       "                                                text label  \n",
       "0  Daniel Greenfield, a Shillman Journalism Fello...  FAKE  \n",
       "1  Google Pinterest Digg Linkedin Reddit Stumbleu...  FAKE  \n",
       "2  U.S. Secretary of State John F. Kerry said Mon...  REAL  \n",
       "3  â Kaydee King (@KaydeeKing) November 9, 2016...  FAKE  \n",
       "4  It's primary day in New York and front-runners...  REAL  "
      ]
     },
     "execution_count": 3,
     "metadata": {},
     "output_type": "execute_result"
    }
   ],
   "source": [
    "# To view the content inside the dataset we can use the head() method that returns a specified number of rows, string from the top. \n",
    "# The head() method returns the first 5 rows if a number is not specified.\n",
    "df.head()"
   ]
  },
  {
   "cell_type": "markdown",
   "id": "1f5eef51",
   "metadata": {
    "id": "1f5eef51"
   },
   "source": [
    "# Step3: Data Preprocessing"
   ]
  },
  {
   "cell_type": "markdown",
   "id": "y_Dey6TlihNc",
   "metadata": {
    "id": "y_Dey6TlihNc"
   },
   "source": [
    "**Why need of Data Preprocessing?**"
   ]
  },
  {
   "cell_type": "markdown",
   "id": "784d8c07",
   "metadata": {},
   "source": [
    "Preprocessing data is an important step for data analysis. The following are some benefits of preprocessing data:\n",
    "\n",
    " - It improves accuracy and reliability. Preprocessing data removes missing or inconsistent data values resulting from human or computer error, which can improve the accuracy and quality of a dataset, making it more reliable.\n",
    " - It makes data consistent. When collecting data, it's possible to have data duplicates, and discarding them during preprocessing can ensure the data values for analysis are consistent, which helps produce accurate results.\n",
    " - It increases the data's algorithm readability. Preprocessing enhances the data's quality and makes it easier for machine learning algorithms to read, use, and interpret it."
   ]
  },
  {
   "cell_type": "markdown",
   "id": "3fcee9db",
   "metadata": {},
   "source": [
    "**Why we drop column?**"
   ]
  },
  {
   "cell_type": "markdown",
   "id": "bf1fa92a",
   "metadata": {
    "id": "bf1fa92a"
   },
   "source": [
    "By analysing the first five rows we found that there is a column named ['Unnamed: 0'], it contains unuseful information which isn't good for our model, se we gonna drop it using the below method:"
   ]
  },
  {
   "cell_type": "code",
   "execution_count": 4,
   "id": "2d208e79",
   "metadata": {
    "id": "2d208e79"
   },
   "outputs": [],
   "source": [
    "df = df.drop(['Unnamed: 0'], axis =1)"
   ]
  },
  {
   "cell_type": "markdown",
   "id": "4230c163",
   "metadata": {
    "id": "4230c163"
   },
   "source": [
    "Axis are defined for arrays with more than one dimension. A 2-dimensional array has two corresponding axes: the first running vertically downwards across rows (axis 0) \n",
    "and the second running horizontally across columns (axis 1)."
   ]
  },
  {
   "cell_type": "markdown",
   "id": "530c0778",
   "metadata": {
    "id": "530c0778"
   },
   "source": [
    "After we read the data, we can look at the data using:"
   ]
  },
  {
   "cell_type": "code",
   "execution_count": 5,
   "id": "1b66e1e0",
   "metadata": {
    "id": "1b66e1e0",
    "outputId": "8cacd3e4-8f8b-4548-e625-ac1912713e01"
   },
   "outputs": [
    {
     "name": "stdout",
     "output_type": "stream",
     "text": [
      "The train data has 6335 rows and 3 columns\n"
     ]
    }
   ],
   "source": [
    "# count the total number of rows and columns.\n",
    "print ('The train data has {0} rows and {1} columns'.format(df.shape[0],df.shape[1]))"
   ]
  },
  {
   "cell_type": "markdown",
   "id": "dd5dcadd",
   "metadata": {
    "id": "dd5dcadd"
   },
   "source": [
    "#### By analysing the problem statement and the dataset, we get to know that the target variable is \"CLASS\" column."
   ]
  },
  {
   "cell_type": "code",
   "execution_count": 6,
   "id": "62fa12ce",
   "metadata": {
    "id": "62fa12ce",
    "outputId": "7ca5e9c5-20ed-49fe-eaab-f9e30b6a81bf"
   },
   "outputs": [
    {
     "data": {
      "text/plain": [
       "REAL    3171\n",
       "FAKE    3164\n",
       "Name: label, dtype: int64"
      ]
     },
     "execution_count": 6,
     "metadata": {},
     "output_type": "execute_result"
    }
   ],
   "source": [
    "df['label'].value_counts()"
   ]
  },
  {
   "cell_type": "markdown",
   "id": "a12ae2c4",
   "metadata": {
    "id": "a12ae2c4"
   },
   "source": [
    "#### The df.value_counts() method counts the number of types of values a particular column contains. "
   ]
  },
  {
   "cell_type": "code",
   "execution_count": 7,
   "id": "93672063",
   "metadata": {
    "id": "93672063",
    "outputId": "bff3b15b-a43e-4b42-dfa5-677557433a13"
   },
   "outputs": [
    {
     "data": {
      "text/plain": [
       "(6335, 3)"
      ]
     },
     "execution_count": 7,
     "metadata": {},
     "output_type": "execute_result"
    }
   ],
   "source": [
    "df.shape"
   ]
  },
  {
   "cell_type": "markdown",
   "id": "2646b822",
   "metadata": {
    "id": "2646b822"
   },
   "source": [
    "#### The df.shape method shows the shape of the dataset. "
   ]
  },
  {
   "cell_type": "code",
   "execution_count": 8,
   "id": "98f3c269",
   "metadata": {
    "id": "98f3c269",
    "outputId": "e8d59f3a-1028-4916-d917-913ca8398b50"
   },
   "outputs": [
    {
     "name": "stdout",
     "output_type": "stream",
     "text": [
      "<class 'pandas.core.frame.DataFrame'>\n",
      "RangeIndex: 6335 entries, 0 to 6334\n",
      "Data columns (total 3 columns):\n",
      " #   Column  Non-Null Count  Dtype \n",
      "---  ------  --------------  ----- \n",
      " 0   title   6335 non-null   object\n",
      " 1   text    6335 non-null   object\n",
      " 2   label   6335 non-null   object\n",
      "dtypes: object(3)\n",
      "memory usage: 148.6+ KB\n"
     ]
    }
   ],
   "source": [
    "df.info()"
   ]
  },
  {
   "cell_type": "markdown",
   "id": "f4e190fe",
   "metadata": {
    "id": "f4e190fe"
   },
   "source": [
    "#### The df.info() method prints information about a DataFrame including the index dtype and columns, non-null values and memory usage. "
   ]
  },
  {
   "cell_type": "code",
   "execution_count": 9,
   "id": "c821b2c9",
   "metadata": {
    "id": "c821b2c9",
    "outputId": "60411ed1-e59e-4781-9c9d-91b671fa9555"
   },
   "outputs": [
    {
     "data": {
      "text/plain": [
       "title    Watch The Exact Moment Paul Ryan Committed Pol...\n",
       "text     Google Pinterest Digg Linkedin Reddit Stumbleu...\n",
       "label                                                 FAKE\n",
       "Name: 1, dtype: object"
      ]
     },
     "execution_count": 9,
     "metadata": {},
     "output_type": "execute_result"
    }
   ],
   "source": [
    "df.iloc[1]"
   ]
  },
  {
   "cell_type": "markdown",
   "id": "a3bc946f",
   "metadata": {
    "id": "a3bc946f"
   },
   "source": [
    "####  df.iloc[ ] is primarily integer position based (from 0 to length-1 of the axis), but may also be used with a boolean array. The iloc property gets, or sets, the value(s) of the specified indexes."
   ]
  },
  {
   "cell_type": "markdown",
   "id": "950d90b8",
   "metadata": {
    "id": "950d90b8"
   },
   "source": [
    "### Data Type Check for every column"
   ]
  },
  {
   "cell_type": "markdown",
   "id": "QVXWeI2qjFGS",
   "metadata": {
    "id": "QVXWeI2qjFGS"
   },
   "source": [
    "**Why data type check is required?**"
   ]
  },
  {
   "cell_type": "markdown",
   "id": "abea9419",
   "metadata": {},
   "source": [
    "Data type check helps us with understanding what type of variables our dataset contains. It helps us with identifying whether to keep that variable or not. If the dataset contains contiguous data, then only float and integer type variables will be beneficial and if we have to classify any value then categorical variables will be beneficial."
   ]
  },
  {
   "cell_type": "code",
   "execution_count": 10,
   "id": "b0687ddf",
   "metadata": {
    "id": "b0687ddf"
   },
   "outputs": [],
   "source": [
    "objects_cols = ['object']\n",
    "objects_lst = list(df.select_dtypes(include=objects_cols).columns)"
   ]
  },
  {
   "cell_type": "code",
   "execution_count": 11,
   "id": "15f53da9",
   "metadata": {
    "id": "15f53da9",
    "outputId": "c027554e-14b5-491d-8fa5-7532146ef6f6"
   },
   "outputs": [
    {
     "name": "stdout",
     "output_type": "stream",
     "text": [
      "Total number of categorical columns are  3\n",
      "There names are as follows:  ['title', 'text', 'label']\n"
     ]
    }
   ],
   "source": [
    "print(\"Total number of categorical columns are \", len(objects_lst))\n",
    "print(\"There names are as follows: \", objects_lst)"
   ]
  },
  {
   "cell_type": "code",
   "execution_count": 12,
   "id": "3d75e307",
   "metadata": {
    "id": "3d75e307"
   },
   "outputs": [],
   "source": [
    "int64_cols = ['int64']\n",
    "int64_lst = list(df.select_dtypes(include=int64_cols).columns)"
   ]
  },
  {
   "cell_type": "code",
   "execution_count": 13,
   "id": "4ef4e489",
   "metadata": {
    "id": "4ef4e489",
    "outputId": "a889b76d-9b63-47ae-abfc-a0f77b7aa022"
   },
   "outputs": [
    {
     "name": "stdout",
     "output_type": "stream",
     "text": [
      "Total number of numerical columns are  0\n",
      "There names are as follows:  []\n"
     ]
    }
   ],
   "source": [
    "print(\"Total number of numerical columns are \", len(int64_lst))\n",
    "print(\"There names are as follows: \", int64_lst)"
   ]
  },
  {
   "cell_type": "code",
   "execution_count": 14,
   "id": "ed686600",
   "metadata": {
    "id": "ed686600"
   },
   "outputs": [],
   "source": [
    "float64_cols = ['float64']\n",
    "float64_lst = list(df.select_dtypes(include=float64_cols).columns)"
   ]
  },
  {
   "cell_type": "code",
   "execution_count": 15,
   "id": "5cc8245d",
   "metadata": {
    "id": "5cc8245d",
    "outputId": "642d7e52-4e24-423d-de42-e18b06e34e13"
   },
   "outputs": [
    {
     "name": "stdout",
     "output_type": "stream",
     "text": [
      "Total number of float64 columns are  0\n",
      "There name are as follow:  []\n"
     ]
    }
   ],
   "source": [
    "print(\"Total number of float64 columns are \", len(float64_lst))\n",
    "print(\"There name are as follow: \", float64_lst)"
   ]
  },
  {
   "cell_type": "markdown",
   "id": "4eefdf2b",
   "metadata": {
    "id": "4eefdf2b"
   },
   "source": [
    "## Step 2 Insights: -"
   ]
  },
  {
   "cell_type": "markdown",
   "id": "9b15507a",
   "metadata": {
    "id": "9b15507a"
   },
   "source": [
    "1) We have total 3 features where all are categorical type.\n",
    "2) Drop Unnamed 0.\n",
    "\n",
    "After this step we have to calculate various evaluation parameters which will help us in cleaning and analysing the data more accurately."
   ]
  },
  {
   "cell_type": "markdown",
   "id": "d495f85e",
   "metadata": {
    "id": "d495f85e"
   },
   "source": [
    "# Step 3: Descriptive Analysis\n",
    "\n",
    "**Goal/Purpose:**  Finding the data distribution of the features. Visualization helps to understand data and also to explain the data to another person."
   ]
  },
  {
   "cell_type": "markdown",
   "id": "17705f6a",
   "metadata": {
    "id": "17705f6a"
   },
   "source": [
    "Things we are going to do in this step:\n",
    "\n",
    "1. Mean\n",
    "2. Median\n",
    "3. Mode\n",
    "4. Standard Deviation\n",
    "5. Variance\n",
    "6. Null Values\n",
    "7. NaN Values\n",
    "8. Min value\n",
    "9. Max value\n",
    "10. Count Value\n",
    "11. Quatilers\n",
    "12. Correlation\n",
    "13. Skewness"
   ]
  },
  {
   "cell_type": "code",
   "execution_count": 16,
   "id": "fd7ca4cc",
   "metadata": {
    "id": "fd7ca4cc",
    "outputId": "9f285562-06e3-4981-a7d1-7dcf5bf7a531"
   },
   "outputs": [
    {
     "data": {
      "text/html": [
       "<div>\n",
       "<style scoped>\n",
       "    .dataframe tbody tr th:only-of-type {\n",
       "        vertical-align: middle;\n",
       "    }\n",
       "\n",
       "    .dataframe tbody tr th {\n",
       "        vertical-align: top;\n",
       "    }\n",
       "\n",
       "    .dataframe thead th {\n",
       "        text-align: right;\n",
       "    }\n",
       "</style>\n",
       "<table border=\"1\" class=\"dataframe\">\n",
       "  <thead>\n",
       "    <tr style=\"text-align: right;\">\n",
       "      <th></th>\n",
       "      <th>title</th>\n",
       "      <th>text</th>\n",
       "      <th>label</th>\n",
       "    </tr>\n",
       "  </thead>\n",
       "  <tbody>\n",
       "    <tr>\n",
       "      <th>count</th>\n",
       "      <td>6335</td>\n",
       "      <td>6335</td>\n",
       "      <td>6335</td>\n",
       "    </tr>\n",
       "    <tr>\n",
       "      <th>unique</th>\n",
       "      <td>6256</td>\n",
       "      <td>6060</td>\n",
       "      <td>2</td>\n",
       "    </tr>\n",
       "    <tr>\n",
       "      <th>top</th>\n",
       "      <td>OnPolitics | 's politics blog</td>\n",
       "      <td>Killing Obama administration rules, dismantlin...</td>\n",
       "      <td>REAL</td>\n",
       "    </tr>\n",
       "    <tr>\n",
       "      <th>freq</th>\n",
       "      <td>5</td>\n",
       "      <td>58</td>\n",
       "      <td>3171</td>\n",
       "    </tr>\n",
       "  </tbody>\n",
       "</table>\n",
       "</div>"
      ],
      "text/plain": [
       "                                title  \\\n",
       "count                            6335   \n",
       "unique                           6256   \n",
       "top     OnPolitics | 's politics blog   \n",
       "freq                                5   \n",
       "\n",
       "                                                     text label  \n",
       "count                                                6335  6335  \n",
       "unique                                               6060     2  \n",
       "top     Killing Obama administration rules, dismantlin...  REAL  \n",
       "freq                                                   58  3171  "
      ]
     },
     "execution_count": 16,
     "metadata": {},
     "output_type": "execute_result"
    }
   ],
   "source": [
    "df.describe()"
   ]
  },
  {
   "cell_type": "markdown",
   "id": "b2978d60",
   "metadata": {
    "id": "b2978d60"
   },
   "source": [
    "#### The df.describe() method returns description of the data in the DataFrame. If the DataFrame contains numerical data, the description contains these information for each column: count - The number of not-empty values. mean - The average (mean) value. "
   ]
  },
  {
   "cell_type": "markdown",
   "id": "59b815d9",
   "metadata": {
    "id": "59b815d9"
   },
   "source": [
    "# Measure the variability of data of the dataset\n",
    "\n",
    "Variability describes how far apart data points lie from each other and from the center of a distribution."
   ]
  },
  {
   "cell_type": "markdown",
   "id": "b30ea342",
   "metadata": {
    "id": "b30ea342"
   },
   "source": [
    "# Null and Nan values"
   ]
  },
  {
   "cell_type": "markdown",
   "id": "9a54fc9b",
   "metadata": {
    "id": "9a54fc9b"
   },
   "source": [
    "1. **Null Values**\n"
   ]
  },
  {
   "attachments": {
    "missing-values.png": {
     "image/png": "[encoded data removed]"
    }
   },
   "cell_type": "markdown",
   "id": "47947360",
   "metadata": {},
   "source": [
    "![missing-values.png](attachment:missing-values.png)"
   ]
  },
  {
   "cell_type": "markdown",
   "id": "e4e42282",
   "metadata": {
    "id": "e4e42282"
   },
   "source": [
    "A null value in a relational database is used when the value in a column is unknown or missing. A null is neither an empty string (for character or datetime data types) nor a zero value (for numeric data types)."
   ]
  },
  {
   "cell_type": "code",
   "execution_count": 17,
   "id": "44699c6b",
   "metadata": {
    "id": "44699c6b",
    "outputId": "4b8c8c89-aafa-49ba-8e6c-5cc90dbf01c2"
   },
   "outputs": [
    {
     "data": {
      "text/plain": [
       "title    0\n",
       "text     0\n",
       "label    0\n",
       "dtype: int64"
      ]
     },
     "execution_count": 17,
     "metadata": {},
     "output_type": "execute_result"
    }
   ],
   "source": [
    "df.isnull().sum()"
   ]
  },
  {
   "cell_type": "markdown",
   "id": "ae58482d",
   "metadata": {
    "id": "ae58482d"
   },
   "source": [
    "As we notice that there are no null values in our dataset."
   ]
  },
  {
   "cell_type": "markdown",
   "id": "c6dd136e",
   "metadata": {
    "id": "c6dd136e"
   },
   "source": [
    "2. **Nan Values**"
   ]
  },
  {
   "attachments": {
    "images.png": {
     "image/png": "[encoded data removed]"
    }
   },
   "cell_type": "markdown",
   "id": "9a2ac605",
   "metadata": {},
   "source": [
    "![images.png](attachment:images.png)"
   ]
  },
  {
   "cell_type": "markdown",
   "id": "b069c2ac",
   "metadata": {
    "id": "b069c2ac"
   },
   "source": [
    "NaN, standing for Not a Number, is a member of a numeric data type that can be interpreted as a value that is undefined or unrepresentable, especially in floating-point arithmetic."
   ]
  },
  {
   "cell_type": "code",
   "execution_count": 18,
   "id": "931bb432",
   "metadata": {
    "id": "931bb432",
    "outputId": "2b82f181-76b6-4c89-e10c-c348d809f374"
   },
   "outputs": [
    {
     "data": {
      "text/plain": [
       "title    0\n",
       "text     0\n",
       "label    0\n",
       "dtype: int64"
      ]
     },
     "execution_count": 18,
     "metadata": {},
     "output_type": "execute_result"
    }
   ],
   "source": [
    "df.isna().sum()"
   ]
  },
  {
   "cell_type": "markdown",
   "id": "bdcf3aff",
   "metadata": {
    "id": "bdcf3aff"
   },
   "source": [
    "As we notice that there are no nan values in our dataset."
   ]
  },
  {
   "cell_type": "markdown",
   "id": "d8c22e57",
   "metadata": {
    "id": "d8c22e57"
   },
   "source": [
    "#### Another way to remove null and nan values is to use the method \"df.dropna(inplace=True)\". "
   ]
  },
  {
   "cell_type": "code",
   "execution_count": 19,
   "id": "ba478ebd",
   "metadata": {
    "id": "ba478ebd",
    "outputId": "9aae7536-c097-4e25-c714-1785c88f7a66"
   },
   "outputs": [
    {
     "data": {
      "text/plain": [
       "0       FAKE\n",
       "1       FAKE\n",
       "2       REAL\n",
       "3       FAKE\n",
       "4       REAL\n",
       "        ... \n",
       "6330    REAL\n",
       "6331    FAKE\n",
       "6332    FAKE\n",
       "6333    REAL\n",
       "6334    REAL\n",
       "Name: label, Length: 6335, dtype: object"
      ]
     },
     "execution_count": 19,
     "metadata": {},
     "output_type": "execute_result"
    }
   ],
   "source": [
    "df['label']"
   ]
  },
  {
   "cell_type": "markdown",
   "id": "8c23f537",
   "metadata": {
    "id": "8c23f537"
   },
   "source": [
    "### Step 3 Insights: - "
   ]
  },
  {
   "cell_type": "markdown",
   "id": "7dfcb915",
   "metadata": {
    "id": "7dfcb915"
   },
   "source": [
    "With the statistical analysis we have found that the data have a lot of skewness in them all the columns are positively skewed with mostly zero variance.\n",
    "\n",
    "Statistical analysis is little difficult to understand at one glance so to make it more understandable we will perform visulatization on the data which will help us to understand the process easily."
   ]
  },
  {
   "cell_type": "markdown",
   "id": "9196e45e",
   "metadata": {
    "id": "9196e45e"
   },
   "source": [
    "### Why we are calculating all these metrics? "
   ]
  },
  {
   "cell_type": "markdown",
   "id": "105d9049",
   "metadata": {
    "id": "105d9049"
   },
   "source": [
    "Mean / Median /Mode/ Variance /Standard Deviation are all very basic but very important concept of statistics used in data science. Almost all the machine learning algorithm uses these concepts in data preprocessing steps. These concepts are part of descriptive statistics where we basically used to describe and understand the data for features in Machine learning"
   ]
  },
  {
   "cell_type": "markdown",
   "id": "386f0f6b",
   "metadata": {},
   "source": [
    "## The dataset is based on Text so there is no need for calculating valuation metrics as it is calculated for only numeric data types."
   ]
  },
  {
   "cell_type": "markdown",
   "id": "ec65483b",
   "metadata": {
    "id": "ec65483b"
   },
   "source": [
    "# Step 4: Data Exploration\n",
    "**Goal/Purpose:**\n",
    "\n",
    "Graphs we are going to develop in this step\n",
    "\n",
    "1. Histogram of all columns to check the distrubution of the columns\n",
    "2. Distplot or distribution plot of all columns to check the variation in the data distribution\n",
    "3. Heatmap to calculate correlation within feature variables\n",
    "4. Boxplot to find out outlier in the feature columns"
   ]
  },
  {
   "cell_type": "markdown",
   "id": "83b9e3ca",
   "metadata": {
    "id": "83b9e3ca"
   },
   "source": [
    "# 1. Histogram"
   ]
  },
  {
   "cell_type": "markdown",
   "id": "359022cf",
   "metadata": {
    "id": "359022cf"
   },
   "source": [
    "A histogram is a bar graph-like representation of data that buckets a range of classes into columns along the horizontal x-axis.The vertical y-axis represents the number count or percentage of occurrences in the data for each column"
   ]
  },
  {
   "cell_type": "markdown",
   "id": "06511b72",
   "metadata": {
    "id": "06511b72"
   },
   "source": [
    "\n",
    "### Histogram Insight: -"
   ]
  },
  {
   "cell_type": "markdown",
   "id": "546e95e1",
   "metadata": {
    "id": "546e95e1"
   },
   "source": [
    "Histogram helps in identifying the following:\n",
    "- View the shape of your data set’s distribution to look for outliers or other significant data points.\n",
    "\n",
    "- Determine whether something significant has boccurred from one time period to another."
   ]
  },
  {
   "cell_type": "markdown",
   "id": "53e66f80",
   "metadata": {
    "id": "53e66f80"
   },
   "source": [
    "### Why Histogram? "
   ]
  },
  {
   "cell_type": "markdown",
   "id": "c92c6e2a",
   "metadata": {
    "id": "c92c6e2a"
   },
   "source": [
    "It is used to illustrate the major features of the distribution of the data in a convenient form. It is also useful when dealing with large data sets (greater than 100 observations). It can help detect any unusual observations (outliers) or any gaps in the data.\n",
    "\n",
    "From the above graphical representation we can identify that the highest bar represents the outliers which is above the maximum range.\n",
    "\n",
    "We can also identify that the values are moving on the right side, which determines positive and the centered values determines normal skewness."
   ]
  },
  {
   "cell_type": "markdown",
   "id": "dc193ec0",
   "metadata": {},
   "source": [
    "# All categorical column so can't plot Histogram."
   ]
  },
  {
   "cell_type": "markdown",
   "id": "301cf45e",
   "metadata": {
    "id": "301cf45e"
   },
   "source": [
    "# 2. Distplot"
   ]
  },
  {
   "cell_type": "markdown",
   "id": "115cc5f4",
   "metadata": {
    "id": "115cc5f4"
   },
   "source": [
    "A Distplot or distribution plot, depicts the variation in the data distribution. Seaborn Distplot represents the overall distribution of continuous data variables. The Seaborn module along with the Matplotlib module is used to depict the distplot with different variations in it "
   ]
  },
  {
   "cell_type": "markdown",
   "id": "481b5eab",
   "metadata": {
    "id": "481b5eab"
   },
   "source": [
    "### Distplot Insights: -\n",
    "\n",
    "Above is the distrution bar graphs to confirm about the statistics of the data about the skewness, the above results are:\n",
    "\n",
    "2. 1 column i.e label which is our target variable ~ which is also +ve skewed. In that case we'll need to log transform this variable so that it becomes normally distributed. A normally distributed (or close to normal) target variable helps in better modeling the relationship between target and independent variables\n",
    "\n",
    "### Why Distplot?\n",
    "Skewness is demonstrated on a bell curve when data points are not distributed symmetrically to the left and right sides of the median on a bell curve. If the bell curve is shifted to the left or the right, it is said to be skewed.\n",
    "\n",
    "We can observe that the bell curve is shifted to left we indicates positive skewness.As all the column are positively skewed we don't need to do scaling."
   ]
  },
  {
   "cell_type": "markdown",
   "id": "c973af40",
   "metadata": {
    "id": "c973af40"
   },
   "source": [
    "Let's proceed and check the distribution of the target variable.\n"
   ]
  },
  {
   "cell_type": "markdown",
   "id": "3b942b94",
   "metadata": {},
   "source": [
    "# All categorical column so can't plot Distplot."
   ]
  },
  {
   "cell_type": "markdown",
   "id": "73d498c8",
   "metadata": {
    "id": "73d498c8"
   },
   "source": [
    "# 3. Heatmap\n",
    "\n",
    "\n"
   ]
  },
  {
   "cell_type": "markdown",
   "id": "5ac58979",
   "metadata": {
    "id": "5ac58979"
   },
   "source": [
    "A heatmap (or heat map) is a graphical representation of data where values are depicted by color.Heatmaps make it easy to visualize complex data and understand it at a glance "
   ]
  },
  {
   "cell_type": "markdown",
   "id": "15197e30",
   "metadata": {
    "id": "15197e30"
   },
   "source": [
    "__Correlation__ - A positive correlation is a relationship between two variables in which both variables move in the same direction. Therefore, when one variable increases as the other variable increases, or one variable decreases while the other decreases."
   ]
  },
  {
   "cell_type": "markdown",
   "id": "4f7f26b9",
   "metadata": {
    "id": "4f7f26b9"
   },
   "source": [
    "Correlation can have a value:\n",
    "\n",
    "- 1 is a perfect positive correlation\n",
    "- 0 is no correlation (the values don't seem linked at all)\n",
    "- -1 is a perfect negative correlation\n",
    "\n"
   ]
  },
  {
   "cell_type": "markdown",
   "id": "7ae977de",
   "metadata": {
    "id": "7ae977de"
   },
   "source": [
    "### Heatmap insights: -\n",
    "\n",
    "As we know, it is recommended to avoid correlated features in your dataset. Indeed, a group of highly correlated features will not bring additional information (or just very few), but will increase the complexity of the algorithm, hence increasing the risk of errors.\n",
    "\n",
    "\n"
   ]
  },
  {
   "cell_type": "markdown",
   "id": "31e88953",
   "metadata": {
    "id": "31e88953"
   },
   "source": [
    "### Why Heatmap?"
   ]
  },
  {
   "cell_type": "markdown",
   "id": "d6253490",
   "metadata": {
    "id": "d6253490"
   },
   "source": [
    "Heatmaps are used to show relationships between two variables, one plotted on each axis. By observing how cell colors change across each axis, you can observe if there are any patterns in value for one or both variables."
   ]
  },
  {
   "cell_type": "markdown",
   "id": "f34318e1",
   "metadata": {},
   "source": [
    "# All categorical column so can't plot Heatmap."
   ]
  },
  {
   "cell_type": "markdown",
   "id": "a5efc649",
   "metadata": {
    "id": "a5efc649"
   },
   "source": [
    "# 4. Boxplot"
   ]
  },
  {
   "attachments": {
    "211626365402575-b88c4d0fdacd5abb4c3dc2de3bc004bb.png": {
     "image/png": "[encoded data removed]"
    }
   },
   "cell_type": "markdown",
   "id": "ea7effe1",
   "metadata": {},
   "source": [
    "![211626365402575-b88c4d0fdacd5abb4c3dc2de3bc004bb.png](attachment:211626365402575-b88c4d0fdacd5abb4c3dc2de3bc004bb.png)"
   ]
  },
  {
   "cell_type": "markdown",
   "id": "72609d18",
   "metadata": {
    "id": "72609d18"
   },
   "source": [
    "A boxplot is a standardized way of displaying the distribution of data based on a five number summary (“minimum”, first quartile [Q1], median, third quartile [Q3] and “maximum”)."
   ]
  },
  {
   "cell_type": "markdown",
   "id": "a8b41d0f",
   "metadata": {
    "id": "a8b41d0f"
   },
   "source": [
    "Basically, to find the outlier in a dataset/column."
   ]
  },
  {
   "cell_type": "markdown",
   "id": "6d419fb3",
   "metadata": {
    "id": "6d419fb3"
   },
   "source": [
    "#### The dark points are known as Outliers. Outliers are those data points that are significantly different from the rest of the dataset. They are often abnormal observations that skew the data distribution, and arise due to inconsistent data entry, or erroneous observations."
   ]
  },
  {
   "cell_type": "markdown",
   "id": "368b3dee",
   "metadata": {
    "id": "368b3dee"
   },
   "source": [
    "### Boxplot Insights: - \n",
    "- Sometimes outliers may be an error in the data and should be removed. In this case these points are correct readings yet they are different from the other points that they appear to be incorrect.\n",
    "\n",
    "- The best way to decide wether to remove them or not is to train models with and without these data points and compare their validation accuracy.\n",
    "\n",
    "- So we will keep it unchanged as it won't affect our model.\n",
    "\n",
    "Here, we can see that most of the variables possess outlier values. It would take us days if we start treating these outlier values one by one. Hence, for now we'll leave them as is and let our algorithm deal with them. As we know, tree-based algorithms are usually robust to outliers.\n",
    "\n",
    "### Why Boxplot?\n",
    "Box plots are used to show distributions of numeric data values, especially when you want to compare them between multiple groups. They are built to provide high-level information at a glance, offering general information about a group of data's symmetry, skew, variance, and outliers.\n",
    "\n"
   ]
  },
  {
   "cell_type": "markdown",
   "id": "8d13db53",
   "metadata": {
    "id": "8d13db53"
   },
   "source": [
    "In the next step we will divide our cleaned data into training data and testing data."
   ]
  },
  {
   "cell_type": "markdown",
   "id": "d958b954",
   "metadata": {},
   "source": [
    "### As the problem is based on Natural Language Processing so data visualization isn't needed because majority columns are categorical."
   ]
  },
  {
   "cell_type": "markdown",
   "id": "ebdace23",
   "metadata": {},
   "source": [
    "We only need the content and class column from the dataset for the rest of the task. So let’s select both the columns and move further:"
   ]
  },
  {
   "cell_type": "code",
   "execution_count": 20,
   "id": "23169c35",
   "metadata": {},
   "outputs": [
    {
     "data": {
      "text/plain": [
       "<AxesSubplot: xlabel='label', ylabel='count'>"
      ]
     },
     "execution_count": 20,
     "metadata": {},
     "output_type": "execute_result"
    },
    {
     "data": {
      "image/png": "[encoded data removed]",
      "text/plain": [
       "<Figure size 640x480 with 1 Axes>"
      ]
     },
     "metadata": {},
     "output_type": "display_data"
    }
   ],
   "source": [
    "sns.countplot(x = df['label'])"
   ]
  },
  {
   "cell_type": "markdown",
   "id": "de240507",
   "metadata": {},
   "source": [
    "#### The ratio of both type of news is same."
   ]
  },
  {
   "cell_type": "markdown",
   "id": "e7844542",
   "metadata": {
    "id": "e7844542"
   },
   "source": [
    "# Step 2: Data Preparation\n",
    "**Goal:-**"
   ]
  },
  {
   "cell_type": "markdown",
   "id": "c78aba38",
   "metadata": {
    "id": "c78aba38"
   },
   "source": [
    "Tasks we are going to in this step:"
   ]
  },
  {
   "cell_type": "markdown",
   "id": "3b4f8b7b",
   "metadata": {
    "id": "3b4f8b7b"
   },
   "source": [
    "1. Now we will spearate the target variable and feature columns in two different dataframe and will check the shape of the dataset for validation purpose.\n",
    "2. Split dataset into train and test dataset.\n",
    "3. Scaling on train dataset."
   ]
  },
  {
   "cell_type": "markdown",
   "id": "b03d098b",
   "metadata": {},
   "source": [
    "## Cleaning of the text removing the unwanted characters from the text."
   ]
  },
  {
   "cell_type": "code",
   "execution_count": 22,
   "id": "81e92c9e",
   "metadata": {},
   "outputs": [
    {
     "name": "stderr",
     "output_type": "stream",
     "text": [
      "[nltk_data] Downloading package stopwords to\n",
      "[nltk_data]     C:\\Users\\nuyap\\AppData\\Roaming\\nltk_data...\n",
      "[nltk_data]   Package stopwords is already up-to-date!\n"
     ]
    }
   ],
   "source": [
    "import re\n",
    "from nltk.stem.porter import PorterStemmer\n",
    "from nltk.corpus import stopwords\n",
    "import nltk\n",
    "\n",
    "nltk.download('stopwords')\n",
    "port_stem = PorterStemmer()\n",
    "\n",
    "\n",
    "def stemming(content):b\n",
    "    review = re.sub('[^a-zA-Z]',' ',content)\n",
    "    review = review.lower()\n",
    "    review = review.split()\n",
    "    review = list(map(port_stem.stem, review))\n",
    "    review = ' '.join(review)\n",
    "    return review\n",
    "\n",
    "df['text'] = df['text'].apply(stemming)"
   ]
  },
  {
   "cell_type": "code",
   "execution_count": 23,
   "id": "930b8da5",
   "metadata": {},
   "outputs": [
    {
     "data": {
      "text/plain": [
       "0       daniel greenfield a shillman journal fellow at...\n",
       "1       googl pinterest digg linkedin reddit stumbleup...\n",
       "2       u s secretari of state john f kerri said monda...\n",
       "3       kayde king kaydeek novemb the lesson from toni...\n",
       "4       it s primari day in new york and front runner ...\n",
       "                              ...                        \n",
       "6330    the state depart told the republican nation co...\n",
       "6331    the p in pb should stand for plutocrat or pent...\n",
       "6332    anti trump protest are tool of the oligarchi r...\n",
       "6333    addi ababa ethiopia presid obama conven a meet...\n",
       "6334    jeb bush is suddenli attack trump here s whi t...\n",
       "Name: text, Length: 6335, dtype: object"
      ]
     },
     "execution_count": 23,
     "metadata": {},
     "output_type": "execute_result"
    }
   ],
   "source": [
    "df['text']"
   ]
  },
  {
   "cell_type": "markdown",
   "id": "7916cc60",
   "metadata": {},
   "source": [
    "#### Stemming is the process of reducing a word to its stem that affixes to suffixes and prefixes or to the roots of words known as \"lemmas\". Stemming is important in natural language understanding (NLU) and natural language processing (NLP)."
   ]
  },
  {
   "cell_type": "markdown",
   "id": "e5a05c0e",
   "metadata": {},
   "source": [
    "The above code will clean our text column and make the News in easily readable format."
   ]
  },
  {
   "cell_type": "markdown",
   "id": "655dd38c",
   "metadata": {
    "id": "655dd38c"
   },
   "source": [
    "**1. Now we spearate the target variable and feature columns in two different dataframe and will check the shape of the dataset for validation purpose.**"
   ]
  },
  {
   "cell_type": "code",
   "execution_count": 72,
   "id": "7c63d22b",
   "metadata": {
    "id": "7c63d22b"
   },
   "outputs": [],
   "source": [
    "# Separate target and feature column in X and y variable\n",
    "# X will be the features\n",
    "import numpy as np\n",
    "X = np.array(df[\"title\"]) \n",
    "#y will be the target variable\n",
    "y = np.array(df[\"label\"])"
   ]
  },
  {
   "cell_type": "code",
   "execution_count": 73,
   "id": "42c0fb85",
   "metadata": {},
   "outputs": [
    {
     "data": {
      "text/plain": [
       "array(['You Can Smell Hillaryâ\\x80\\x99s Fear',\n",
       "       'Watch The Exact Moment Paul Ryan Committed Political Suicide At A Trump Rally (VIDEO)',\n",
       "       'Kerry to go to Paris in gesture of sympathy', ...,\n",
       "       'Anti-Trump Protesters Are Tools of the Oligarchy     : Information',\n",
       "       'In Ethiopia, Obama seeks progress on peace, security in East Africa',\n",
       "       \"Jeb Bush Is Suddenly Attacking Trump. Here's Why That Matters\"],\n",
       "      dtype=object)"
      ]
     },
     "execution_count": 73,
     "metadata": {},
     "output_type": "execute_result"
    }
   ],
   "source": [
    "X"
   ]
  },
  {
   "cell_type": "code",
   "execution_count": 74,
   "id": "04510e17",
   "metadata": {
    "id": "04510e17",
    "outputId": "390ad9e4-1608-4c33-8b61-90213c8ab123"
   },
   "outputs": [
    {
     "data": {
      "text/plain": [
       "array(['FAKE', 'FAKE', 'REAL', ..., 'FAKE', 'REAL', 'REAL'], dtype=object)"
      ]
     },
     "execution_count": 74,
     "metadata": {},
     "output_type": "execute_result"
    }
   ],
   "source": [
    "y"
   ]
  },
  {
   "cell_type": "code",
   "execution_count": 75,
   "id": "f27caefb",
   "metadata": {
    "id": "f27caefb",
    "outputId": "967e3420-0b07-4d0b-ce2f-a32132c0ec86"
   },
   "outputs": [
    {
     "data": {
      "text/plain": [
       "((6335,), (6335,))"
      ]
     },
     "execution_count": 75,
     "metadata": {},
     "output_type": "execute_result"
    }
   ],
   "source": [
    "# Check the shape of X and y variable\n",
    "X.shape, y.shape"
   ]
  },
  {
   "cell_type": "markdown",
   "id": "0b58ef2d",
   "metadata": {},
   "source": [
    "#### Machines cannot understand characters and words. So when dealing with text data we need to represent it in numbers to be understood by the machine. Countvectorizer is a method to convert text to numerical data. To show you how it works let’s take an example:"
   ]
  },
  {
   "cell_type": "markdown",
   "id": "d1b3836b",
   "metadata": {},
   "source": [
    "text = [‘Hello my name is james, this is my python notebook’]\n",
    "\n",
    "The text is transformed to a sparse matrix as shown below.\n",
    "\n",
    "- Hello is james my name notebook python this\n",
    "\n",
    "- 1      2  1    2  1     1       1      1"
   ]
  },
  {
   "cell_type": "code",
   "execution_count": 76,
   "id": "130a6f52",
   "metadata": {},
   "outputs": [],
   "source": [
    "from sklearn.feature_extraction.text import CountVectorizer\n",
    "count_vec = CountVectorizer()\n",
    "X = count_vec.fit_transform(X)"
   ]
  },
  {
   "cell_type": "markdown",
   "id": "da8e35a9",
   "metadata": {
    "id": "da8e35a9"
   },
   "source": [
    "#### 2. Spliting the dataset in training and testing data. "
   ]
  },
  {
   "cell_type": "markdown",
   "id": "a7d06793",
   "metadata": {
    "id": "a7d06793"
   },
   "source": [
    "*Here we are spliting our dataset into 80/20 percentage where 80% dataset goes into the training part and 20% goes into testing  part.*"
   ]
  },
  {
   "cell_type": "code",
   "execution_count": 77,
   "id": "c7227946",
   "metadata": {
    "id": "c7227946"
   },
   "outputs": [],
   "source": [
    "from sklearn.model_selection import train_test_split\n",
    "# Split the X and y into X_train, X_test, y_train, y_test variables with 80-20% split.\n",
    "X_train, X_test, y_train, y_test = train_test_split(X, y, test_size=0.2, random_state=42)"
   ]
  },
  {
   "cell_type": "code",
   "execution_count": 78,
   "id": "cdf4bb69",
   "metadata": {
    "id": "cdf4bb69",
    "outputId": "90135a0a-5ebf-4594-feaa-bf7665cdcd0e"
   },
   "outputs": [
    {
     "data": {
      "text/plain": [
       "((5068, 10685), (1267, 10685), (5068,), (1267,))"
      ]
     },
     "execution_count": 78,
     "metadata": {},
     "output_type": "execute_result"
    }
   ],
   "source": [
    "# Check shape of the splitted variables\n",
    "X_train.shape, X_test.shape, y_train.shape, y_test.shape"
   ]
  },
  {
   "cell_type": "markdown",
   "id": "9f842d96",
   "metadata": {
    "id": "9f842d96"
   },
   "source": [
    "### Insights: -\n",
    "\n",
    "Train test split technique is used to estimate the performance of machine learning algorithms which are used to make predictions on data not used to train the model.It is a fast and easy procedure to perform, the results of which allow you to compare the performance of machine learning algorithms for your predictive modeling problem. Although simple to use and interpret, there are times when the procedure should not be used, such as when you have a small dataset and situations where additional configuration is required, such as when it is used for classification and the dataset is not balanced.\n",
    "\n",
    "In the next step we will train our model on the basis of our training and testing data."
   ]
  },
  {
   "cell_type": "markdown",
   "id": "4bea705d",
   "metadata": {
    "id": "4bea705d"
   },
   "source": [
    "# Step 3: Model Training"
   ]
  },
  {
   "cell_type": "markdown",
   "id": "b302c8f6",
   "metadata": {
    "id": "b302c8f6"
   },
   "source": [
    "#### Goal:\n",
    "In this step we are going to train our dataset on different classification algorithms. As we know that our target variable is in discrete format so we have to apply classification algorithm. Target variable is a category like filtering.In our dataset we have the outcome variable or Dependent variable i.e Y having only two set of values, either 1 (Spam) or 0(Not Spam). So we will use Classification algorithm**\n",
    "\n",
    "__Algorithms we are going to use in this step__\n",
    "\n",
    "1. Bernoulli Naive Bayes\n",
    "2. Linear SVC\n",
    "3. Multinomial Naive Bayes"
   ]
  },
  {
   "cell_type": "markdown",
   "id": "bb77ac56",
   "metadata": {
    "id": "bb77ac56"
   },
   "source": [
    "K-fold cross validation is a procedure used to estimate the skill of the model on new data. There are common tactics that you can use to select the value of k for your dataset. There are commonly used variations on cross-validation, such as stratified and repeated, that are available in scikit-learn"
   ]
  },
  {
   "cell_type": "code",
   "execution_count": 79,
   "id": "59d55dc9",
   "metadata": {
    "id": "59d55dc9"
   },
   "outputs": [],
   "source": [
    "from sklearn.model_selection import KFold\n",
    "# Define kfold with 10 split\n",
    "cv1 = KFold(n_splits=10, shuffle=True, random_state=42)"
   ]
  },
  {
   "cell_type": "markdown",
   "id": "f33779e3",
   "metadata": {
    "id": "f33779e3"
   },
   "source": [
    "The goal of cross-validation is to test the model's ability to predict new data that was not used in estimating it, in order to flag problems like overfitting or selection bias and to give an insight on how the model will generalize to an independent dataset (i.e., an unknown dataset, for instance from a real problem)."
   ]
  },
  {
   "cell_type": "markdown",
   "id": "29fd0b08",
   "metadata": {
    "id": "29fd0b08"
   },
   "source": [
    "# 1. Bernoulli Naive Bayes"
   ]
  },
  {
   "cell_type": "markdown",
   "id": "eea03568",
   "metadata": {
    "id": "eea03568"
   },
   "source": [
    "Naive Bayes is a supervised machine learning algorithm to predict the probability of different classes based on numerous attributes. It indicates the likelihood of occurrence of an event. Naive Bayes is also known as conditional probability."
   ]
  },
  {
   "cell_type": "markdown",
   "id": "5b590115",
   "metadata": {
    "id": "5b590115"
   },
   "source": [
    "Bernoulli Naive Bayes is a part of the Naive Bayes family. It is based on the Bernoulli Distribution and accepts only binary values, i.e., 0 or 1. If the features of the dataset are binary, then we can assume that Bernoulli Naive Bayes is the algorithm to be used."
   ]
  },
  {
   "cell_type": "markdown",
   "id": "08b7c59e",
   "metadata": {
    "id": "08b7c59e"
   },
   "source": [
    "#### Train set cross-validation "
   ]
  },
  {
   "cell_type": "code",
   "execution_count": 80,
   "id": "4111e09b",
   "metadata": {
    "id": "4111e09b",
    "outputId": "3219c3a2-512a-4855-fb48-e8a17f88b770"
   },
   "outputs": [
    {
     "data": {
      "text/html": [
       "<style>#sk-container-id-4 {color: black;background-color: white;}#sk-container-id-4 pre{padding: 0;}#sk-container-id-4 div.sk-toggleable {background-color: white;}#sk-container-id-4 label.sk-toggleable__label {cursor: pointer;display: block;width: 100%;margin-bottom: 0;padding: 0.3em;box-sizing: border-box;text-align: center;}#sk-container-id-4 label.sk-toggleable__label-arrow:before {content: \"▸\";float: left;margin-right: 0.25em;color: #696969;}#sk-container-id-4 label.sk-toggleable__label-arrow:hover:before {color: black;}#sk-container-id-4 div.sk-estimator:hover label.sk-toggleable__label-arrow:before {color: black;}#sk-container-id-4 div.sk-toggleable__content {max-height: 0;max-width: 0;overflow: hidden;text-align: left;background-color: #f0f8ff;}#sk-container-id-4 div.sk-toggleable__content pre {margin: 0.2em;color: black;border-radius: 0.25em;background-color: #f0f8ff;}#sk-container-id-4 input.sk-toggleable__control:checked~div.sk-toggleable__content {max-height: 200px;max-width: 100%;overflow: auto;}#sk-container-id-4 input.sk-toggleable__control:checked~label.sk-toggleable__label-arrow:before {content: \"▾\";}#sk-container-id-4 div.sk-estimator input.sk-toggleable__control:checked~label.sk-toggleable__label {background-color: #d4ebff;}#sk-container-id-4 div.sk-label input.sk-toggleable__control:checked~label.sk-toggleable__label {background-color: #d4ebff;}#sk-container-id-4 input.sk-hidden--visually {border: 0;clip: rect(1px 1px 1px 1px);clip: rect(1px, 1px, 1px, 1px);height: 1px;margin: -1px;overflow: hidden;padding: 0;position: absolute;width: 1px;}#sk-container-id-4 div.sk-estimator {font-family: monospace;background-color: #f0f8ff;border: 1px dotted black;border-radius: 0.25em;box-sizing: border-box;margin-bottom: 0.5em;}#sk-container-id-4 div.sk-estimator:hover {background-color: #d4ebff;}#sk-container-id-4 div.sk-parallel-item::after {content: \"\";width: 100%;border-bottom: 1px solid gray;flex-grow: 1;}#sk-container-id-4 div.sk-label:hover label.sk-toggleable__label {background-color: #d4ebff;}#sk-container-id-4 div.sk-serial::before {content: \"\";position: absolute;border-left: 1px solid gray;box-sizing: border-box;top: 0;bottom: 0;left: 50%;z-index: 0;}#sk-container-id-4 div.sk-serial {display: flex;flex-direction: column;align-items: center;background-color: white;padding-right: 0.2em;padding-left: 0.2em;position: relative;}#sk-container-id-4 div.sk-item {position: relative;z-index: 1;}#sk-container-id-4 div.sk-parallel {display: flex;align-items: stretch;justify-content: center;background-color: white;position: relative;}#sk-container-id-4 div.sk-item::before, #sk-container-id-4 div.sk-parallel-item::before {content: \"\";position: absolute;border-left: 1px solid gray;box-sizing: border-box;top: 0;bottom: 0;left: 50%;z-index: -1;}#sk-container-id-4 div.sk-parallel-item {display: flex;flex-direction: column;z-index: 1;position: relative;background-color: white;}#sk-container-id-4 div.sk-parallel-item:first-child::after {align-self: flex-end;width: 50%;}#sk-container-id-4 div.sk-parallel-item:last-child::after {align-self: flex-start;width: 50%;}#sk-container-id-4 div.sk-parallel-item:only-child::after {width: 0;}#sk-container-id-4 div.sk-dashed-wrapped {border: 1px dashed gray;margin: 0 0.4em 0.5em 0.4em;box-sizing: border-box;padding-bottom: 0.4em;background-color: white;}#sk-container-id-4 div.sk-label label {font-family: monospace;font-weight: bold;display: inline-block;line-height: 1.2em;}#sk-container-id-4 div.sk-label-container {text-align: center;}#sk-container-id-4 div.sk-container {/* jupyter's `normalize.less` sets `[hidden] { display: none; }` but bootstrap.min.css set `[hidden] { display: none !important; }` so we also need the `!important` here to be able to override the default hidden behavior on the sphinx rendered scikit-learn.org. See: https://github.com/scikit-learn/scikit-learn/issues/21755 */display: inline-block !important;position: relative;}#sk-container-id-4 div.sk-text-repr-fallback {display: none;}</style><div id=\"sk-container-id-4\" class=\"sk-top-container\"><div class=\"sk-text-repr-fallback\"><pre>BernoulliNB()</pre><b>In a Jupyter environment, please rerun this cell to show the HTML representation or trust the notebook. <br />On GitHub, the HTML representation is unable to render, please try loading this page with nbviewer.org.</b></div><div class=\"sk-container\" hidden><div class=\"sk-item\"><div class=\"sk-estimator sk-toggleable\"><input class=\"sk-toggleable__control sk-hidden--visually\" id=\"sk-estimator-id-4\" type=\"checkbox\" checked><label for=\"sk-estimator-id-4\" class=\"sk-toggleable__label sk-toggleable__label-arrow\">BernoulliNB</label><div class=\"sk-toggleable__content\"><pre>BernoulliNB()</pre></div></div></div></div></div>"
      ],
      "text/plain": [
       "BernoulliNB()"
      ]
     },
     "execution_count": 80,
     "metadata": {},
     "output_type": "execute_result"
    }
   ],
   "source": [
    "#Using Bernoulli Naive Bayes algorithm to the Training Set\n",
    "from sklearn.naive_bayes import BernoulliNB\n",
    "model = BernoulliNB()\n",
    "model.fit(X_train, y_train)\n"
   ]
  },
  {
   "cell_type": "code",
   "execution_count": 81,
   "id": "92485565",
   "metadata": {
    "id": "92485565",
    "outputId": "a384df51-a3e4-4cf5-8f1c-c2f6361fce77"
   },
   "outputs": [
    {
     "data": {
      "text/plain": [
       "0.9386345698500395"
      ]
     },
     "execution_count": 81,
     "metadata": {},
     "output_type": "execute_result"
    }
   ],
   "source": [
    "#Accuracy check of trainig data\n",
    "\n",
    "#Get R2 score\n",
    "model.score(X_train, y_train)\n"
   ]
  },
  {
   "cell_type": "code",
   "execution_count": 82,
   "id": "e1c4454c",
   "metadata": {
    "id": "e1c4454c",
    "outputId": "a7a73b5b-d092-43c3-fbeb-10011a0844ad"
   },
   "outputs": [
    {
     "data": {
      "text/plain": [
       "0.7868981846882399"
      ]
     },
     "execution_count": 82,
     "metadata": {},
     "output_type": "execute_result"
    }
   ],
   "source": [
    "#Accuracy of test data\n",
    "model.score(X_test, y_test) "
   ]
  },
  {
   "cell_type": "markdown",
   "id": "a5f98328",
   "metadata": {
    "id": "a5f98328"
   },
   "source": [
    "### Prediction "
   ]
  },
  {
   "cell_type": "markdown",
   "id": "e1430b99",
   "metadata": {
    "id": "e1430b99"
   },
   "source": [
    "Now we will perform prediction on the dataset using Logistic Regression."
   ]
  },
  {
   "cell_type": "code",
   "execution_count": 83,
   "id": "cc4d8981",
   "metadata": {
    "id": "cc4d8981"
   },
   "outputs": [],
   "source": [
    "# Predict the values on X_test_scaled dataset \n",
    "y_predicted = model.predict(X_test)"
   ]
  },
  {
   "cell_type": "markdown",
   "id": "20ddb772",
   "metadata": {
    "id": "20ddb772"
   },
   "source": [
    "## Various parameters are calculated for analysing the predictions.\n",
    "\n",
    "1) Confusion Matrix\n",
    "2)Classification Report\n",
    "3)Accuracy Score\n",
    "4)Precision Score\n",
    "5)Recall Score\n",
    "6)F1 Score"
   ]
  },
  {
   "cell_type": "markdown",
   "id": "e42879cb",
   "metadata": {
    "id": "e42879cb"
   },
   "source": [
    "## Confusion Matrix\n",
    "\n",
    "A confusion matrix presents a table layout of the different outcomes of the prediction and results of a classification problem and helps visualize its outcomes. It plots a table of all the predicted and actual values of a classifier."
   ]
  },
  {
   "attachments": {
    "confusion-matrix.jpeg": {
     "image/jpeg": "[encoded data removed]"
    }
   },
   "cell_type": "markdown",
   "id": "ffd6cc33",
   "metadata": {
    "id": "2c935adb",
    "outputId": "80719d42-ab43-4746-b85f-9681925e0815"
   },
   "source": [
    "![confusion-matrix.jpeg](attachment:confusion-matrix.jpeg)"
   ]
  },
  {
   "cell_type": "markdown",
   "id": "4c0058d4",
   "metadata": {
    "id": "4c0058d4"
   },
   "source": [
    "#### This diagram helps in understanding the concept of confusion matrix. "
   ]
  },
  {
   "cell_type": "code",
   "execution_count": 84,
   "id": "19f47b06",
   "metadata": {
    "id": "19f47b06"
   },
   "outputs": [],
   "source": [
    "import matplotlib.pyplot as plt\n",
    "# Constructing the confusion matrix.\n",
    "from sklearn.metrics import confusion_matrix"
   ]
  },
  {
   "cell_type": "code",
   "execution_count": 85,
   "id": "c6eab9f0",
   "metadata": {
    "id": "c6eab9f0"
   },
   "outputs": [],
   "source": [
    "#confusion matrix btw y_test and y_predicted\n",
    "cm = confusion_matrix(y_test,y_predicted)"
   ]
  },
  {
   "cell_type": "code",
   "execution_count": 86,
   "id": "9e206771",
   "metadata": {
    "id": "9e206771",
    "outputId": "e71d26ee-29f5-44ff-a0df-a0385672d0ee"
   },
   "outputs": [
    {
     "data": {
      "text/plain": [
       "Text(29.75, 0.5, 'True Class')"
      ]
     },
     "execution_count": 86,
     "metadata": {},
     "output_type": "execute_result"
    },
    {
     "data": {
      "image/png": "[encoded data removed]",
      "text/plain": [
       "<Figure size 500x500 with 1 Axes>"
      ]
     },
     "metadata": {},
     "output_type": "display_data"
    }
   ],
   "source": [
    "#We are creating Confusion Matrix on heatmap to have better understanding \n",
    "# sns.heatmap(cm,cmap = 'Red') ~ to check for available colors\n",
    "sns.set(rc = {'figure.figsize':(5,5)})\n",
    "sns.heatmap(cm,cmap = 'icefire_r', annot = True, cbar=False, linecolor='Black', linewidth = 2)\n",
    "\n",
    "plt.title(\"Confusion matrix\")\n",
    "\n",
    "plt.xlabel('Predicted CLass')\n",
    "plt.ylabel('True Class')\n"
   ]
  },
  {
   "cell_type": "code",
   "execution_count": 87,
   "id": "68f6ac5a",
   "metadata": {
    "id": "68f6ac5a",
    "outputId": "46797dbc-9791-41a5-f502-5f0523234942"
   },
   "outputs": [
    {
     "data": {
      "text/plain": [
       "<AxesSubplot: >"
      ]
     },
     "execution_count": 87,
     "metadata": {},
     "output_type": "execute_result"
    },
    {
     "data": {
      "image/png": "[encoded data removed]",
      "text/plain": [
       "<Figure size 500x500 with 1 Axes>"
      ]
     },
     "metadata": {},
     "output_type": "display_data"
    }
   ],
   "source": [
    "sns.heatmap(cm/np.sum(cm), annot=True, \n",
    "            fmt='.2%', cmap='Blues', cbar = False)"
   ]
  },
  {
   "cell_type": "markdown",
   "id": "629a0eac",
   "metadata": {
    "id": "629a0eac"
   },
   "source": [
    "## Evaluating all kinds of evaluating parameters. "
   ]
  },
  {
   "cell_type": "markdown",
   "id": "7c47ad88",
   "metadata": {
    "id": "7c47ad88"
   },
   "source": [
    "#### Classification Report :\n",
    "A classification report is a performance evaluation metric in machine learning. It is used to show the precision, recall, F1 Score, and support of your trained classification model. \n",
    "\n",
    "#### F1_score :\n",
    "The F1 score is a machine learning metric that can be used in classification models. \n",
    "\n",
    "#### Precision_score :\n",
    "The precision is the ratio tp / (tp + fp) where tp is the number of true positives and fp the number of false positives. The precision is intuitively the ability of the classifier not to label as positive a sample that is negative. The best value is 1 and the worst value is 0.\n",
    "\n",
    "#### Recall_score :\n",
    "Recall score is used to measure the model performance in terms of measuring the count of true positives in a correct manner out of all the actual positive values. Precision-Recall score is a useful measure of success of prediction when the classes are very imbalanced."
   ]
  },
  {
   "cell_type": "code",
   "execution_count": 88,
   "id": "bdd25f97",
   "metadata": {
    "id": "bdd25f97",
    "outputId": "a2979870-9b4a-4482-e5c0-06d66618e805"
   },
   "outputs": [
    {
     "name": "stdout",
     "output_type": "stream",
     "text": [
      "The model used is  Bernoulli Naive Bayes\n",
      "\n",
      "The accuracy is: 0.7868981846882399\n",
      "The precision is: 0.7476510067114094\n",
      "The recall is: 0.8716744913928013\n",
      "The F1-Score is: 0.8049132947976879\n",
      "Classification Report is:\n",
      "\n",
      "              precision    recall  f1-score   support\n",
      "\n",
      "        FAKE       0.84      0.70      0.77       628\n",
      "        REAL       0.75      0.87      0.80       639\n",
      "\n",
      "    accuracy                           0.79      1267\n",
      "   macro avg       0.80      0.79      0.79      1267\n",
      "weighted avg       0.79      0.79      0.79      1267\n",
      "\n"
     ]
    }
   ],
   "source": [
    "# Evaluating the classifier\n",
    "# printing every score of the classifier\n",
    "# scoring in anything\n",
    "from sklearn.metrics import classification_report \n",
    "from sklearn.metrics import f1_score, accuracy_score, precision_score,recall_score\n",
    "from sklearn.metrics import confusion_matrix\n",
    "  \n",
    "\n",
    "print(\"The model used is  Bernoulli Naive Bayes\")\n",
    "  \n",
    "l_acc = accuracy_score(y_test, y_predicted)\n",
    "print(\"\\nThe accuracy is: {}\".format(l_acc))\n",
    "  \n",
    "prec = precision_score(y_test, y_predicted,average=\"binary\", pos_label=\"REAL\")\n",
    "print(\"The precision is: {}\".format(prec))\n",
    "  \n",
    "rec = recall_score(y_test, y_predicted,average=\"binary\", pos_label=\"REAL\")\n",
    "print(\"The recall is: {}\".format(rec))\n",
    "  \n",
    "f1 = f1_score(y_test, y_predicted,average=\"binary\", pos_label=\"REAL\")\n",
    "print(\"The F1-Score is: {}\".format(f1))\n",
    "  \n",
    "c1 = classification_report(y_test, y_predicted)\n",
    "print(\"Classification Report is:\")\n",
    "print()\n",
    "print(c1)"
   ]
  },
  {
   "cell_type": "markdown",
   "id": "a3b79937",
   "metadata": {
    "id": "a3b79937"
   },
   "source": [
    "# 2. Linear SVC"
   ]
  },
  {
   "cell_type": "markdown",
   "id": "0028008f",
   "metadata": {
    "id": "0028008f"
   },
   "source": [
    "The objective of a Linear SVC (Support Vector Classifier) is to fit to the data you provide, returning a \"best fit\" hyperplane that divides, or categorizes, your data. From there, after getting the hyperplane, you can then feed some features to your classifier to see what the \"predicted\" class is. This makes this specific algorithm rather suitable for our uses, though you can use this for many situations."
   ]
  },
  {
   "cell_type": "code",
   "execution_count": 89,
   "id": "cde10428",
   "metadata": {
    "id": "cde10428",
    "outputId": "560d35f5-470e-48d4-eb86-89b7a50a92d7"
   },
   "outputs": [
    {
     "data": {
      "text/html": [
       "<style>#sk-container-id-5 {color: black;background-color: white;}#sk-container-id-5 pre{padding: 0;}#sk-container-id-5 div.sk-toggleable {background-color: white;}#sk-container-id-5 label.sk-toggleable__label {cursor: pointer;display: block;width: 100%;margin-bottom: 0;padding: 0.3em;box-sizing: border-box;text-align: center;}#sk-container-id-5 label.sk-toggleable__label-arrow:before {content: \"▸\";float: left;margin-right: 0.25em;color: #696969;}#sk-container-id-5 label.sk-toggleable__label-arrow:hover:before {color: black;}#sk-container-id-5 div.sk-estimator:hover label.sk-toggleable__label-arrow:before {color: black;}#sk-container-id-5 div.sk-toggleable__content {max-height: 0;max-width: 0;overflow: hidden;text-align: left;background-color: #f0f8ff;}#sk-container-id-5 div.sk-toggleable__content pre {margin: 0.2em;color: black;border-radius: 0.25em;background-color: #f0f8ff;}#sk-container-id-5 input.sk-toggleable__control:checked~div.sk-toggleable__content {max-height: 200px;max-width: 100%;overflow: auto;}#sk-container-id-5 input.sk-toggleable__control:checked~label.sk-toggleable__label-arrow:before {content: \"▾\";}#sk-container-id-5 div.sk-estimator input.sk-toggleable__control:checked~label.sk-toggleable__label {background-color: #d4ebff;}#sk-container-id-5 div.sk-label input.sk-toggleable__control:checked~label.sk-toggleable__label {background-color: #d4ebff;}#sk-container-id-5 input.sk-hidden--visually {border: 0;clip: rect(1px 1px 1px 1px);clip: rect(1px, 1px, 1px, 1px);height: 1px;margin: -1px;overflow: hidden;padding: 0;position: absolute;width: 1px;}#sk-container-id-5 div.sk-estimator {font-family: monospace;background-color: #f0f8ff;border: 1px dotted black;border-radius: 0.25em;box-sizing: border-box;margin-bottom: 0.5em;}#sk-container-id-5 div.sk-estimator:hover {background-color: #d4ebff;}#sk-container-id-5 div.sk-parallel-item::after {content: \"\";width: 100%;border-bottom: 1px solid gray;flex-grow: 1;}#sk-container-id-5 div.sk-label:hover label.sk-toggleable__label {background-color: #d4ebff;}#sk-container-id-5 div.sk-serial::before {content: \"\";position: absolute;border-left: 1px solid gray;box-sizing: border-box;top: 0;bottom: 0;left: 50%;z-index: 0;}#sk-container-id-5 div.sk-serial {display: flex;flex-direction: column;align-items: center;background-color: white;padding-right: 0.2em;padding-left: 0.2em;position: relative;}#sk-container-id-5 div.sk-item {position: relative;z-index: 1;}#sk-container-id-5 div.sk-parallel {display: flex;align-items: stretch;justify-content: center;background-color: white;position: relative;}#sk-container-id-5 div.sk-item::before, #sk-container-id-5 div.sk-parallel-item::before {content: \"\";position: absolute;border-left: 1px solid gray;box-sizing: border-box;top: 0;bottom: 0;left: 50%;z-index: -1;}#sk-container-id-5 div.sk-parallel-item {display: flex;flex-direction: column;z-index: 1;position: relative;background-color: white;}#sk-container-id-5 div.sk-parallel-item:first-child::after {align-self: flex-end;width: 50%;}#sk-container-id-5 div.sk-parallel-item:last-child::after {align-self: flex-start;width: 50%;}#sk-container-id-5 div.sk-parallel-item:only-child::after {width: 0;}#sk-container-id-5 div.sk-dashed-wrapped {border: 1px dashed gray;margin: 0 0.4em 0.5em 0.4em;box-sizing: border-box;padding-bottom: 0.4em;background-color: white;}#sk-container-id-5 div.sk-label label {font-family: monospace;font-weight: bold;display: inline-block;line-height: 1.2em;}#sk-container-id-5 div.sk-label-container {text-align: center;}#sk-container-id-5 div.sk-container {/* jupyter's `normalize.less` sets `[hidden] { display: none; }` but bootstrap.min.css set `[hidden] { display: none !important; }` so we also need the `!important` here to be able to override the default hidden behavior on the sphinx rendered scikit-learn.org. See: https://github.com/scikit-learn/scikit-learn/issues/21755 */display: inline-block !important;position: relative;}#sk-container-id-5 div.sk-text-repr-fallback {display: none;}</style><div id=\"sk-container-id-5\" class=\"sk-top-container\"><div class=\"sk-text-repr-fallback\"><pre>LinearSVC()</pre><b>In a Jupyter environment, please rerun this cell to show the HTML representation or trust the notebook. <br />On GitHub, the HTML representation is unable to render, please try loading this page with nbviewer.org.</b></div><div class=\"sk-container\" hidden><div class=\"sk-item\"><div class=\"sk-estimator sk-toggleable\"><input class=\"sk-toggleable__control sk-hidden--visually\" id=\"sk-estimator-id-5\" type=\"checkbox\" checked><label for=\"sk-estimator-id-5\" class=\"sk-toggleable__label sk-toggleable__label-arrow\">LinearSVC</label><div class=\"sk-toggleable__content\"><pre>LinearSVC()</pre></div></div></div></div></div>"
      ],
      "text/plain": [
       "LinearSVC()"
      ]
     },
     "execution_count": 89,
     "metadata": {},
     "output_type": "execute_result"
    }
   ],
   "source": [
    "#Using LinearSVC\n",
    "from sklearn.svm import LinearSVC\n",
    "classifier = LinearSVC()\n",
    "classifier.fit(X_train, y_train)"
   ]
  },
  {
   "cell_type": "code",
   "execution_count": 90,
   "id": "e0e902a9",
   "metadata": {
    "id": "e0e902a9",
    "outputId": "487bb15b-8184-4a22-9ab2-ad9003657ac7"
   },
   "outputs": [
    {
     "data": {
      "text/plain": [
       "0.9990134175217048"
      ]
     },
     "execution_count": 90,
     "metadata": {},
     "output_type": "execute_result"
    }
   ],
   "source": [
    "#Accuracy check of trainig data\n",
    "#Get R2 score\n",
    "classifier.score(X_train, y_train)"
   ]
  },
  {
   "cell_type": "code",
   "execution_count": 91,
   "id": "da25a1fa",
   "metadata": {
    "id": "da25a1fa",
    "outputId": "5d6db635-402f-457b-d237-d855eabc3b1f"
   },
   "outputs": [
    {
     "data": {
      "text/plain": [
       "0.7900552486187845"
      ]
     },
     "execution_count": 91,
     "metadata": {},
     "output_type": "execute_result"
    }
   ],
   "source": [
    "#Accuracy of test data\n",
    "classifier.score(X_test, y_test) "
   ]
  },
  {
   "cell_type": "markdown",
   "id": "0afac9bf",
   "metadata": {
    "id": "0afac9bf"
   },
   "source": [
    "### Prediction"
   ]
  },
  {
   "cell_type": "code",
   "execution_count": 92,
   "id": "101d9595",
   "metadata": {
    "id": "101d9595"
   },
   "outputs": [],
   "source": [
    "# Predict the values on X_test_scaled dataset \n",
    "y_predicted = classifier.predict(X_test)"
   ]
  },
  {
   "cell_type": "code",
   "execution_count": 93,
   "id": "5b64e336",
   "metadata": {
    "id": "5b64e336"
   },
   "outputs": [],
   "source": [
    "# Constructing the confusion matrix.\n",
    "from sklearn.metrics import confusion_matrix"
   ]
  },
  {
   "cell_type": "code",
   "execution_count": 94,
   "id": "a89a389a",
   "metadata": {
    "id": "a89a389a"
   },
   "outputs": [],
   "source": [
    "#Confusion matrix btw y_test and y_predicted\n",
    "cm = confusion_matrix(y_test,y_predicted)"
   ]
  },
  {
   "cell_type": "code",
   "execution_count": 95,
   "id": "6fc8ebd2",
   "metadata": {
    "id": "6fc8ebd2",
    "outputId": "2c5eed0d-e70b-4c63-b2d0-d3e3dc0a005a"
   },
   "outputs": [
    {
     "data": {
      "text/plain": [
       "Text(29.75, 0.5, 'True Class')"
      ]
     },
     "execution_count": 95,
     "metadata": {},
     "output_type": "execute_result"
    },
    {
     "data": {
      "image/png": "[encoded data removed]",
      "text/plain": [
       "<Figure size 500x500 with 1 Axes>"
      ]
     },
     "metadata": {},
     "output_type": "display_data"
    }
   ],
   "source": [
    "#We are drawing cm on heatmap to have better understanding \n",
    "# sns.heatmap(cm,cmap = 'Red') ~ to check for available colors\n",
    "sns.heatmap(cm,cmap = 'icefire_r', annot = True, fmt= 'd', cbar=False, linecolor='Black', linewidth = 2)\n",
    "plt.title(\"Confusion matrix\")\n",
    "\n",
    "plt.xlabel('Predicted CLass')\n",
    "plt.ylabel('True Class')"
   ]
  },
  {
   "cell_type": "code",
   "execution_count": 96,
   "id": "b6815684",
   "metadata": {
    "id": "b6815684",
    "outputId": "fc5b1782-2a5f-4a97-bc4c-33df1db422d9"
   },
   "outputs": [
    {
     "data": {
      "text/plain": [
       "<AxesSubplot: >"
      ]
     },
     "execution_count": 96,
     "metadata": {},
     "output_type": "execute_result"
    },
    {
     "data": {
      "image/png": "[encoded data removed]",
      "text/plain": [
       "<Figure size 500x500 with 1 Axes>"
      ]
     },
     "metadata": {},
     "output_type": "display_data"
    }
   ],
   "source": [
    "sns.heatmap(cm/np.sum(cm), annot=True, \n",
    "            fmt='.2%', cmap='Blues', cbar = False)"
   ]
  },
  {
   "cell_type": "markdown",
   "id": "280a69ed",
   "metadata": {
    "id": "280a69ed"
   },
   "source": [
    "### Evaluating all kinds of evaluating parameters. "
   ]
  },
  {
   "cell_type": "code",
   "execution_count": 97,
   "id": "6374a196",
   "metadata": {
    "id": "6374a196",
    "outputId": "9a8503df-9d13-454a-b275-70649bead479"
   },
   "outputs": [
    {
     "name": "stdout",
     "output_type": "stream",
     "text": [
      "The model used is LinearSVC\n",
      "\n",
      "The accuracy is: 0.7900552486187845\n",
      "The precision is: 0.7900466562986003\n",
      "The recall is: 0.7949921752738655\n",
      "The F1-Score is: 0.7925117004680187\n",
      "Classification Report is:\n",
      "\n",
      "              precision    recall  f1-score   support\n",
      "\n",
      "        FAKE       0.79      0.79      0.79       628\n",
      "        REAL       0.79      0.79      0.79       639\n",
      "\n",
      "    accuracy                           0.79      1267\n",
      "   macro avg       0.79      0.79      0.79      1267\n",
      "weighted avg       0.79      0.79      0.79      1267\n",
      "\n"
     ]
    }
   ],
   "source": [
    "# Evaluating the classifier\n",
    "# printing every score of the classifier\n",
    "# scoring in anything\n",
    "from sklearn.metrics import classification_report \n",
    "from sklearn.metrics import f1_score, accuracy_score, precision_score,recall_score\n",
    "from sklearn.metrics import confusion_matrix\n",
    "  \n",
    "\n",
    "print(\"The model used is LinearSVC\")\n",
    "  \n",
    "k_acc = accuracy_score(y_test, y_predicted)\n",
    "print(\"\\nThe accuracy is: {}\".format(k_acc))\n",
    "  \n",
    "prec = precision_score(y_test, y_predicted,average=\"binary\", pos_label=\"REAL\")\n",
    "print(\"The precision is: {}\".format(prec))\n",
    "  \n",
    "rec = recall_score(y_test, y_predicted,average=\"binary\", pos_label=\"REAL\")\n",
    "print(\"The recall is: {}\".format(rec))\n",
    "  \n",
    "f1 = f1_score(y_test, y_predicted,average=\"binary\", pos_label=\"REAL\")\n",
    "print(\"The F1-Score is: {}\".format(f1))\n",
    "  \n",
    "c1 = classification_report(y_test, y_predicted)\n",
    "print(\"Classification Report is:\")\n",
    "print()\n",
    "print(c1)    "
   ]
  },
  {
   "cell_type": "markdown",
   "id": "4921cfa7",
   "metadata": {
    "id": "4921cfa7"
   },
   "source": [
    "# 3. Multinomial Naive Bayes"
   ]
  },
  {
   "cell_type": "markdown",
   "id": "5fa3fdfd",
   "metadata": {
    "id": "5fa3fdfd"
   },
   "source": [
    "The Multinomial Naive Bayes algorithm is a Bayesian learning approach popular in Natural Language Processing (NLP). The program guesses the tag of a text, such as an email or a newspaper story, using the Bayes theorem. It calculates each tag's likelihood for a given sample and outputs the tag with the greatest chance"
   ]
  },
  {
   "cell_type": "code",
   "execution_count": 98,
   "id": "afa830ae",
   "metadata": {
    "id": "afa830ae",
    "outputId": "2b12daf7-b7cc-44b4-b2f7-39c227ebffa7"
   },
   "outputs": [
    {
     "data": {
      "text/html": [
       "<style>#sk-container-id-6 {color: black;background-color: white;}#sk-container-id-6 pre{padding: 0;}#sk-container-id-6 div.sk-toggleable {background-color: white;}#sk-container-id-6 label.sk-toggleable__label {cursor: pointer;display: block;width: 100%;margin-bottom: 0;padding: 0.3em;box-sizing: border-box;text-align: center;}#sk-container-id-6 label.sk-toggleable__label-arrow:before {content: \"▸\";float: left;margin-right: 0.25em;color: #696969;}#sk-container-id-6 label.sk-toggleable__label-arrow:hover:before {color: black;}#sk-container-id-6 div.sk-estimator:hover label.sk-toggleable__label-arrow:before {color: black;}#sk-container-id-6 div.sk-toggleable__content {max-height: 0;max-width: 0;overflow: hidden;text-align: left;background-color: #f0f8ff;}#sk-container-id-6 div.sk-toggleable__content pre {margin: 0.2em;color: black;border-radius: 0.25em;background-color: #f0f8ff;}#sk-container-id-6 input.sk-toggleable__control:checked~div.sk-toggleable__content {max-height: 200px;max-width: 100%;overflow: auto;}#sk-container-id-6 input.sk-toggleable__control:checked~label.sk-toggleable__label-arrow:before {content: \"▾\";}#sk-container-id-6 div.sk-estimator input.sk-toggleable__control:checked~label.sk-toggleable__label {background-color: #d4ebff;}#sk-container-id-6 div.sk-label input.sk-toggleable__control:checked~label.sk-toggleable__label {background-color: #d4ebff;}#sk-container-id-6 input.sk-hidden--visually {border: 0;clip: rect(1px 1px 1px 1px);clip: rect(1px, 1px, 1px, 1px);height: 1px;margin: -1px;overflow: hidden;padding: 0;position: absolute;width: 1px;}#sk-container-id-6 div.sk-estimator {font-family: monospace;background-color: #f0f8ff;border: 1px dotted black;border-radius: 0.25em;box-sizing: border-box;margin-bottom: 0.5em;}#sk-container-id-6 div.sk-estimator:hover {background-color: #d4ebff;}#sk-container-id-6 div.sk-parallel-item::after {content: \"\";width: 100%;border-bottom: 1px solid gray;flex-grow: 1;}#sk-container-id-6 div.sk-label:hover label.sk-toggleable__label {background-color: #d4ebff;}#sk-container-id-6 div.sk-serial::before {content: \"\";position: absolute;border-left: 1px solid gray;box-sizing: border-box;top: 0;bottom: 0;left: 50%;z-index: 0;}#sk-container-id-6 div.sk-serial {display: flex;flex-direction: column;align-items: center;background-color: white;padding-right: 0.2em;padding-left: 0.2em;position: relative;}#sk-container-id-6 div.sk-item {position: relative;z-index: 1;}#sk-container-id-6 div.sk-parallel {display: flex;align-items: stretch;justify-content: center;background-color: white;position: relative;}#sk-container-id-6 div.sk-item::before, #sk-container-id-6 div.sk-parallel-item::before {content: \"\";position: absolute;border-left: 1px solid gray;box-sizing: border-box;top: 0;bottom: 0;left: 50%;z-index: -1;}#sk-container-id-6 div.sk-parallel-item {display: flex;flex-direction: column;z-index: 1;position: relative;background-color: white;}#sk-container-id-6 div.sk-parallel-item:first-child::after {align-self: flex-end;width: 50%;}#sk-container-id-6 div.sk-parallel-item:last-child::after {align-self: flex-start;width: 50%;}#sk-container-id-6 div.sk-parallel-item:only-child::after {width: 0;}#sk-container-id-6 div.sk-dashed-wrapped {border: 1px dashed gray;margin: 0 0.4em 0.5em 0.4em;box-sizing: border-box;padding-bottom: 0.4em;background-color: white;}#sk-container-id-6 div.sk-label label {font-family: monospace;font-weight: bold;display: inline-block;line-height: 1.2em;}#sk-container-id-6 div.sk-label-container {text-align: center;}#sk-container-id-6 div.sk-container {/* jupyter's `normalize.less` sets `[hidden] { display: none; }` but bootstrap.min.css set `[hidden] { display: none !important; }` so we also need the `!important` here to be able to override the default hidden behavior on the sphinx rendered scikit-learn.org. See: https://github.com/scikit-learn/scikit-learn/issues/21755 */display: inline-block !important;position: relative;}#sk-container-id-6 div.sk-text-repr-fallback {display: none;}</style><div id=\"sk-container-id-6\" class=\"sk-top-container\"><div class=\"sk-text-repr-fallback\"><pre>MultinomialNB()</pre><b>In a Jupyter environment, please rerun this cell to show the HTML representation or trust the notebook. <br />On GitHub, the HTML representation is unable to render, please try loading this page with nbviewer.org.</b></div><div class=\"sk-container\" hidden><div class=\"sk-item\"><div class=\"sk-estimator sk-toggleable\"><input class=\"sk-toggleable__control sk-hidden--visually\" id=\"sk-estimator-id-6\" type=\"checkbox\" checked><label for=\"sk-estimator-id-6\" class=\"sk-toggleable__label sk-toggleable__label-arrow\">MultinomialNB</label><div class=\"sk-toggleable__content\"><pre>MultinomialNB()</pre></div></div></div></div></div>"
      ],
      "text/plain": [
       "MultinomialNB()"
      ]
     },
     "execution_count": 98,
     "metadata": {},
     "output_type": "execute_result"
    }
   ],
   "source": [
    "#Using  Multinomial Naive Bayes\n",
    "\n",
    "from sklearn.naive_bayes import MultinomialNB\n",
    "\n",
    "clas = MultinomialNB()\n",
    "clas.fit(X_train, y_train)\n"
   ]
  },
  {
   "cell_type": "code",
   "execution_count": 99,
   "id": "ad7b1ba2",
   "metadata": {
    "id": "ad7b1ba2",
    "outputId": "0e6f9899-be14-4c20-cf83-ff5ff0cf424e"
   },
   "outputs": [
    {
     "data": {
      "text/plain": [
       "0.9459352801894239"
      ]
     },
     "execution_count": 99,
     "metadata": {},
     "output_type": "execute_result"
    }
   ],
   "source": [
    "#Accuracy check of trainig data\n",
    "#Get R2 score\n",
    "clas.score(X_train, y_train)"
   ]
  },
  {
   "cell_type": "code",
   "execution_count": 100,
   "id": "cc4e16bc",
   "metadata": {
    "id": "cc4e16bc",
    "outputId": "3f92acbe-9425-4d91-c849-1bf9130da335"
   },
   "outputs": [
    {
     "data": {
      "text/plain": [
       "0.7971586424625099"
      ]
     },
     "execution_count": 100,
     "metadata": {},
     "output_type": "execute_result"
    }
   ],
   "source": [
    "#Accuracy of test data\n",
    "clas.score(X_test, y_test) "
   ]
  },
  {
   "cell_type": "markdown",
   "id": "5f289821",
   "metadata": {
    "id": "5f289821"
   },
   "source": [
    "### Prediction "
   ]
  },
  {
   "cell_type": "code",
   "execution_count": 101,
   "id": "1b18c12d",
   "metadata": {
    "id": "1b18c12d"
   },
   "outputs": [],
   "source": [
    "# predict the values on X_test_scaled dataset \n",
    "y_predicted = clas.predict(X_test)"
   ]
  },
  {
   "cell_type": "code",
   "execution_count": 102,
   "id": "26adbb11",
   "metadata": {
    "id": "26adbb11"
   },
   "outputs": [],
   "source": [
    "# Constructing the confusion matrix.\n",
    "from sklearn.metrics import confusion_matrix"
   ]
  },
  {
   "cell_type": "code",
   "execution_count": 103,
   "id": "42dd1fb5",
   "metadata": {
    "id": "42dd1fb5"
   },
   "outputs": [],
   "source": [
    "#confusion matrix btw y_test and y_predicted\n",
    "cm = confusion_matrix(y_test,y_predicted)"
   ]
  },
  {
   "cell_type": "code",
   "execution_count": 104,
   "id": "4bfc9aa0",
   "metadata": {
    "id": "4bfc9aa0",
    "outputId": "e8e7f92e-bdf7-4fe6-c183-e682001d5be0"
   },
   "outputs": [
    {
     "data": {
      "text/plain": [
       "Text(29.75, 0.5, 'True Class')"
      ]
     },
     "execution_count": 104,
     "metadata": {},
     "output_type": "execute_result"
    },
    {
     "data": {
      "image/png": "[encoded data removed]",
      "text/plain": [
       "<Figure size 500x500 with 1 Axes>"
      ]
     },
     "metadata": {},
     "output_type": "display_data"
    }
   ],
   "source": [
    "#We are drawing cm on heatmap to have better understanding \n",
    "# sns.heatmap(cm,cmap = 'Red') ~ to check for available colors\n",
    "sns.heatmap(cm,cmap = 'icefire_r', annot = True, fmt= 'd', cbar=False, linecolor='Black', linewidth = 2)\n",
    "plt.title(\"Confusion matrix\")\n",
    "\n",
    "plt.xlabel('Predicted CLass')\n",
    "plt.ylabel('True Class')"
   ]
  },
  {
   "cell_type": "code",
   "execution_count": 105,
   "id": "a0212819",
   "metadata": {
    "id": "a0212819",
    "outputId": "e8cdd3eb-ff82-4d5c-8952-95797f939591"
   },
   "outputs": [
    {
     "data": {
      "text/plain": [
       "<AxesSubplot: >"
      ]
     },
     "execution_count": 105,
     "metadata": {},
     "output_type": "execute_result"
    },
    {
     "data": {
      "image/png": "[encoded data removed]",
      "text/plain": [
       "<Figure size 500x500 with 1 Axes>"
      ]
     },
     "metadata": {},
     "output_type": "display_data"
    }
   ],
   "source": [
    "sns.heatmap(cm/np.sum(cm), annot=True, \n",
    "            fmt='.2%', cmap='Blues', cbar = False)"
   ]
  },
  {
   "cell_type": "markdown",
   "id": "36655331",
   "metadata": {
    "id": "36655331"
   },
   "source": [
    "### Evaluating all kinds of evaluating parameters. "
   ]
  },
  {
   "cell_type": "code",
   "execution_count": 106,
   "id": "5a469815",
   "metadata": {
    "id": "5a469815",
    "outputId": "bc85c627-8270-4181-aeda-9853204952f0"
   },
   "outputs": [
    {
     "name": "stdout",
     "output_type": "stream",
     "text": [
      "The model used is MultiNomial Naive Bayes\n",
      "\n",
      "The accuracy is 0.7971586424625099\n",
      "The precision is 0.7652777777777777\n",
      "The recall is 0.8622848200312989\n",
      "The F1-Score is 0.8108903605592347\n",
      "Classification Report is:\n",
      "\n",
      "              precision    recall  f1-score   support\n",
      "\n",
      "        FAKE       0.84      0.73      0.78       628\n",
      "        REAL       0.77      0.86      0.81       639\n",
      "\n",
      "    accuracy                           0.80      1267\n",
      "   macro avg       0.80      0.80      0.80      1267\n",
      "weighted avg       0.80      0.80      0.80      1267\n",
      "\n"
     ]
    }
   ],
   "source": [
    "# Evaluating the classifier\n",
    "# printing every score of the classifier\n",
    "# scoring in anything\n",
    "from sklearn.metrics import classification_report \n",
    "from sklearn.metrics import f1_score, accuracy_score, precision_score,recall_score\n",
    "from sklearn.metrics import confusion_matrix\n",
    "  \n",
    "\n",
    "print(\"The model used is MultiNomial Naive Bayes\")\n",
    "  \n",
    "r_acc = accuracy_score(y_test, y_predicted)\n",
    "print(\"\\nThe accuracy is {}\".format(r_acc))\n",
    "  \n",
    "prec = precision_score(y_test, y_predicted,average=\"binary\", pos_label=\"REAL\")\n",
    "print(\"The precision is {}\".format(prec))\n",
    "  \n",
    "rec = recall_score(y_test, y_predicted,average=\"binary\", pos_label=\"REAL\")\n",
    "print(\"The recall is {}\".format(rec))\n",
    "  \n",
    "f1 = f1_score(y_test, y_predicted,average=\"binary\", pos_label=\"REAL\")\n",
    "print(\"The F1-Score is {}\".format(f1))\n",
    " \n",
    "c1 = classification_report(y_test, y_predicted)\n",
    "print(\"Classification Report is:\")\n",
    "print()\n",
    "print(c1)  "
   ]
  },
  {
   "cell_type": "markdown",
   "id": "c56678be",
   "metadata": {
    "id": "c56678be"
   },
   "source": [
    "# Insight: -"
   ]
  },
  {
   "cell_type": "code",
   "execution_count": 107,
   "id": "605cc7b8",
   "metadata": {
    "id": "605cc7b8",
    "outputId": "128b12b9-7751-42f2-ee64-c3ee6342f018"
   },
   "outputs": [
    {
     "data": {
      "text/html": [
       "<div>\n",
       "<style scoped>\n",
       "    .dataframe tbody tr th:only-of-type {\n",
       "        vertical-align: middle;\n",
       "    }\n",
       "\n",
       "    .dataframe tbody tr th {\n",
       "        vertical-align: top;\n",
       "    }\n",
       "\n",
       "    .dataframe thead th {\n",
       "        text-align: right;\n",
       "    }\n",
       "</style>\n",
       "<table border=\"1\" class=\"dataframe\">\n",
       "  <thead>\n",
       "    <tr style=\"text-align: right;\">\n",
       "      <th></th>\n",
       "      <th>Score in percentage</th>\n",
       "    </tr>\n",
       "  </thead>\n",
       "  <tbody>\n",
       "    <tr>\n",
       "      <th>Bernoulli Naive Bayes</th>\n",
       "      <td>0.786898</td>\n",
       "    </tr>\n",
       "    <tr>\n",
       "      <th>LinearSVC</th>\n",
       "      <td>0.790055</td>\n",
       "    </tr>\n",
       "    <tr>\n",
       "      <th>Multinomial Naive Bayes</th>\n",
       "      <td>0.797159</td>\n",
       "    </tr>\n",
       "  </tbody>\n",
       "</table>\n",
       "</div>"
      ],
      "text/plain": [
       "                         Score in percentage\n",
       "Bernoulli Naive Bayes               0.786898\n",
       "LinearSVC                           0.790055\n",
       "Multinomial Naive Bayes             0.797159"
      ]
     },
     "execution_count": 107,
     "metadata": {},
     "output_type": "execute_result"
    }
   ],
   "source": [
    "cal_metric=pd.DataFrame([l_acc,k_acc,r_acc],columns=[\"Score in percentage\"])\n",
    "cal_metric.index=['Bernoulli Naive Bayes',\n",
    "                  'LinearSVC',\n",
    "                  'Multinomial Naive Bayes']\n",
    "cal_metric"
   ]
  },
  {
   "cell_type": "markdown",
   "id": "dd1fc793",
   "metadata": {
    "id": "dd1fc793"
   },
   "source": [
    "\n",
    "- As you can see with our Multinomial Naive Bayes Model(79.71%) we are getting a better result even for the recall (0.86 or 86%) which is the most tricky part.\n",
    "- So we gonna save our model with Multinomial Naive Bayes Model"
   ]
  },
  {
   "cell_type": "markdown",
   "id": "15c53205",
   "metadata": {
    "id": "15c53205"
   },
   "source": [
    "# Step 4: Save Model\n",
    "**Goal:- In this step we are going to save our model in pickel format file.**"
   ]
  },
  {
   "cell_type": "code",
   "execution_count": 108,
   "id": "86b5ce82",
   "metadata": {
    "id": "86b5ce82"
   },
   "outputs": [],
   "source": [
    "import pickle\n",
    "pickle.dump(model , open('FakeNews_Detection_BernoulliNB.pkl', 'wb'))\n",
    "pickle.dump(classifier , open('FakeNews_Detection_LinearSVC.pkl', 'wb'))\n",
    "pickle.dump(clas , open('FakeNews_Detection_MultinomialNB.pkl', 'wb'))"
   ]
  },
  {
   "cell_type": "code",
   "execution_count": 109,
   "id": "cd45e83c",
   "metadata": {
    "id": "cd45e83c"
   },
   "outputs": [],
   "source": [
    "import pickle\n",
    "\n",
    "def model_prediction(features):\n",
    "    features = count_vec.transform([features]).toarray()\n",
    "    pickled_model = pickle.load(open('C:/My Sample Notebook/Notebook Template/Fake News Detection/model/FakeNews_Detection_BernoulliNB.pkl', 'rb'))\n",
    "    News = str(list(pickled_model.predict(features)))\n",
    "    \n",
    "    return str(f'The News is {News}')\n",
    "\n"
   ]
  },
  {
   "cell_type": "markdown",
   "id": "291ec5e4",
   "metadata": {
    "id": "291ec5e4"
   },
   "source": [
    "#### We can test our model by giving our own parameters or features to predict. "
   ]
  },
  {
   "cell_type": "code",
   "execution_count": 110,
   "id": "b3edfe1c",
   "metadata": {},
   "outputs": [
    {
     "data": {
      "text/plain": [
       "'You Can Smell Hillaryâ\\x80\\x99s Fear'"
      ]
     },
     "execution_count": 110,
     "metadata": {},
     "output_type": "execute_result"
    }
   ],
   "source": [
    "df['title'][0]"
   ]
  },
  {
   "cell_type": "code",
   "execution_count": 111,
   "id": "0d468f6b",
   "metadata": {
    "id": "0d468f6b"
   },
   "outputs": [],
   "source": [
    "message = \"You Can Smell Hillaryâ\\x80\\x99s Fear\""
   ]
  },
  {
   "cell_type": "code",
   "execution_count": 112,
   "id": "380e138c",
   "metadata": {
    "id": "380e138c",
    "outputId": "b64abd67-fa23-4611-930a-ac90dbeaa529"
   },
   "outputs": [
    {
     "data": {
      "text/plain": [
       "\"The News is ['FAKE']\""
      ]
     },
     "execution_count": 112,
     "metadata": {},
     "output_type": "execute_result"
    }
   ],
   "source": [
    "model_prediction(message)"
   ]
  },
  {
   "cell_type": "markdown",
   "id": "a46d931d",
   "metadata": {
    "id": "a46d931d"
   },
   "source": [
    "# Step 5: After making model and checking its accuracy, we are going to deploy it in API/ Web App. "
   ]
  },
  {
   "cell_type": "markdown",
   "id": "e1d76588",
   "metadata": {
    "id": "e1d76588"
   },
   "source": [
    "This step holds a great importance as in this step we make a Web API which integrates our model and let it interacts with user.\n",
    "The user simply put data he is asked to fill and our API will help in predicting."
   ]
  },
  {
   "cell_type": "markdown",
   "id": "d64a42a0",
   "metadata": {
    "id": "d64a42a0"
   },
   "source": [
    "### There are many methods to create Web Application like Flask, Streamlit, etc. We going to use streamlit to create API. Below is an API refrence. "
   ]
  },
  {
   "cell_type": "markdown",
   "id": "ceceb746",
   "metadata": {
    "id": "ceceb746"
   },
   "source": [
    "https://tinyurl.com/bdexnk6v"
   ]
  },
  {
   "cell_type": "markdown",
   "id": "5c1aae78",
   "metadata": {
    "id": "5c1aae78"
   },
   "source": [
    "# Conclusion"
   ]
  },
  {
   "cell_type": "markdown",
   "id": "1ab4e800",
   "metadata": {
    "id": "1ab4e800"
   },
   "source": [
    "After observing the problem statement we have build an efficient model to overcome it. The above model helps in classifying the whether the news is Fake or Real. The accuracy for the prediction is 98.20%  and it signifies the accurate classification of the news.  "
   ]
  }
 ],
 "metadata": {
  "colab": {
   "provenance": []
  },
  "kernelspec": {
   "display_name": "Python 3 (ipykernel)",
   "language": "python",
   "name": "python3"
  },
  "language_info": {
   "codemirror_mode": {
    "name": "ipython",
    "version": 3
   },
   "file_extension": ".py",
   "mimetype": "text/x-python",
   "name": "python",
   "nbconvert_exporter": "python",
   "pygments_lexer": "ipython3",
   "version": "3.11.1"
  }
 },
 "nbformat": 4,
 "nbformat_minor": 5
}
